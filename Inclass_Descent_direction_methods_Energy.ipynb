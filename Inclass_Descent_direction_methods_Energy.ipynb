{
 "cells": [
  {
   "cell_type": "markdown",
   "metadata": {
    "pycharm": {
     "name": "#%% md\n"
    }
   },
   "source": [
    "## An application of optimization methods to least-squares regression models\n",
    "\n",
    "\\begin{align*}\n",
    "  \\text{minimize}\\quad & ||y-X\\beta||_2^2\n",
    "\\end{align*}\n",
    "\n",
    "### Based on electricity market data from esios https://www.esios.ree.es/es\n",
    "\n",
    "Data contents of the .csv files:\n",
    "- price: hourly spot price\n",
    "- coal: hourly total production coal plants\n",
    "- gas: hourly total production combined cycle plants\n",
    "- wind: hourly total production wind plants\n",
    "- hidro: hourly total production hidro plants\n",
    "- nuclear: hourly total production nuclear plants\n",
    "- solar: hourly total production solar plants\n",
    "- cogen: hourly total production cogeneration plants\n",
    "- demand: hourly total demand in the market\n",
    "\n",
    "We want to explain the spot price as a function of the other variables."
   ]
  },
  {
   "cell_type": "code",
   "execution_count": null,
   "metadata": {
    "pycharm": {
     "name": "#%%\n"
    }
   },
   "outputs": [],
   "source": [
    "# Import all the required libraries, as well as the data in the .csv files\n",
    "\n",
    "## Libraries\n",
    "\n",
    "%matplotlib inline\n",
    "import numpy as np\n",
    "import time\n",
    "import pandas as pd\n",
    "import matplotlib.pyplot as plt\n",
    "plt.style.use('ggplot')\n",
    "\n",
    "## Read .csv files\n",
    "\n",
    "price = pd.read_csv('price.csv',delimiter=';',usecols=['value'])\n",
    "coal = pd.read_csv('coal.csv',delimiter=';',usecols=['value'])\n",
    "gas = pd.read_csv('gas.csv',delimiter=';',usecols=['value'])\n",
    "wind = pd.read_csv('wind.csv',delimiter=';',usecols=['value'])\n",
    "hydro = pd.read_csv('hidro.csv',delimiter=';',usecols=['value'])\n",
    "nuclear = pd.read_csv('nuclear.csv',delimiter=';',usecols=['value'])\n",
    "solar = pd.read_csv('solar.csv',delimiter=';',usecols=['value'])\n",
    "cogen = pd.read_csv('cogen.csv',delimiter=';',usecols=['value'])\n",
    "demand = pd.read_csv('demand.csv',delimiter=';',usecols=['value'])\n",
    "\n",
    "## Create data frame from all the preceding information\n",
    "\n",
    "df = pd.concat([price, coal, gas, wind, hydro, nuclear, solar, cogen, demand],axis=1)\n",
    "df.columns = ['price', 'coal', 'gas', 'wind', 'hydro', 'nuclear', 'solar', 'cogen', 'demand']\n",
    "\n",
    "## Generate a standardized version of the data frame\n",
    "\n",
    "normalized_df = (df - df.mean())/df.std()\n",
    "#normalized_df = df\n",
    "\n",
    "## An illustration for these data from different plots\n",
    "\n",
    "plt.figure(figsize=(8, 8))\n",
    "\n",
    "plt.subplot(2, 2, 1)\n",
    "plt.plot(df['nuclear'],df['price'],'bo'),plt.xlabel('Nuclear'),plt.ylabel('Price')\n",
    "\n",
    "plt.subplot(2, 2, 2)\n",
    "plt.plot(df['coal'],df['price'],'bo'),plt.xlabel('Coal'),plt.ylabel('Price')\n",
    "\n",
    "plt.subplot(2, 2, 3)\n",
    "plt.plot(df['hydro'],df['price'],'bo'),plt.xlabel('Hydro'),plt.ylabel('Price')\n",
    "\n",
    "plt.subplot(2, 2, 4)\n",
    "plt.plot(df['wind'],df['price'],'bo'),plt.xlabel('Wind'),plt.ylabel('Price')\n",
    "\n",
    "plt.subplots_adjust(left=0.1, bottom=0.1, right=0.9, top=0.9, wspace = 0.4, hspace = 0.4)\n",
    "\n",
    "plt.show()\n"
   ]
  },
  {
   "cell_type": "code",
   "execution_count": null,
   "metadata": {
    "pycharm": {
     "name": "#%%\n"
    }
   },
   "outputs": [],
   "source": [
    "# Prepare the data as matrices X and Y for the linear regression model\n",
    "\n",
    "## Define the size of the testing set\n",
    "\n",
    "ntest = 100\n",
    "\n",
    "## Split the data into training and testing sets\n",
    "\n",
    "[a,b] = df.shape\n",
    "\n",
    "df_train = normalized_df.iloc[:(a-ntest), :]\n",
    "df_test = normalized_df.iloc[(a-ntest):, :]\n",
    "\n",
    "## Extract the data for the training data set (X,Y)\n",
    "\n",
    "Y = np.array(df_train['price'])\n",
    "Y = np.expand_dims(Y, axis=1)\n",
    "\n",
    "X0 = np.ones([a-ntest,1])\n",
    "X1 = np.array(df_train[df_train.columns[df_train.columns!='price']])\n",
    "X = np.concatenate([X0, X1],axis=1)\n",
    "\n",
    "## And the data for the testing data set (X_test,Y_test)\n",
    "\n",
    "Y_test = np.array(df_test['price'])\n",
    "Y_test = np.expand_dims(Y_test, axis=1)\n",
    "\n",
    "X0_test = np.ones([ntest,1])\n",
    "X1_test= np.array(df_test[df_test.columns[df_test.columns!='price']])\n",
    "X_test = np.concatenate([X0_test, X1_test],axis=1)\n"
   ]
  },
  {
   "cell_type": "markdown",
   "metadata": {
    "pycharm": {
     "name": "#%% md\n"
    }
   },
   "source": [
    "## Solution with Sklearn"
   ]
  },
  {
   "cell_type": "code",
   "execution_count": null,
   "metadata": {
    "collapsed": false,
    "jupyter": {
     "outputs_hidden": false
    },
    "pycharm": {
     "name": "#%%\n"
    }
   },
   "outputs": [],
   "source": [
    "# Find the coefficients using Sklearn\n",
    "\n",
    "## Get libraries\n",
    "\n",
    "from sklearn import linear_model\n",
    "import matplotlib.pyplot as plt\n",
    "\n",
    "## Find coefficients\n",
    "\n",
    "regr = linear_model.LinearRegression(fit_intercept=False)\n",
    "regr.fit(X,Y)\n",
    "\n",
    "## Print results\n",
    "\n",
    "print('Values of the (exact) least squares coefficients - Sklearn:')\n",
    "print('beta %-9s %7.3f' %('intercept',regr.coef_[0,0]))\n",
    "for i in np.arange(1,b):\n",
    "    print('beta %-9s %7.3f' %(df.columns[i],regr.coef_[0,i]))\n",
    "\n",
    "print('\\nR^2 coefficient = %7.3f' %regr.score(X, Y))\n",
    "\n",
    "## Compare predicted and observed values\n",
    "\n",
    "Y_pred = regr.predict(X_test)\n",
    "\n",
    "plt.figure(figsize=(6,3),dpi=150)\n",
    "plt.plot(Y_pred,'r',label='Prediction')\n",
    "plt.plot(Y_test,'b',label='Real price')\n",
    "plt.legend()\n",
    "plt.xlabel('Hours')\n",
    "plt.ylabel('Standarized price')\n",
    "plt.show()\n",
    "\n",
    "## Print the mean absolute prediction error\n",
    "\n",
    "MAPE = np.mean(np.abs((Y_test - Y_pred) / Y_test)) * 100\n",
    "print('MAPE = %8.3f %%' %MAPE)\n"
   ]
  },
  {
   "cell_type": "code",
   "execution_count": null,
   "metadata": {
    "collapsed": false,
    "jupyter": {
     "outputs_hidden": false
    },
    "pycharm": {
     "name": "#%%\n"
    }
   },
   "outputs": [],
   "source": [
    "# Another plot of a particularly unusual subset (nuclear generation)\n",
    "\n",
    "plt.scatter(X[:,5], Y),plt.xlabel('nuclear'),plt.ylabel('price')\n",
    "\n",
    "plt.show()\n"
   ]
  },
  {
   "cell_type": "markdown",
   "metadata": {
    "pycharm": {
     "name": "#%% md\n"
    }
   },
   "source": [
    "We now compare different solution methods:\n",
    "\n",
    "$\\rightarrow$ Exact solution: $\\beta_{ls}=(X^T X)^{-1}X^T y$"
   ]
  },
  {
   "cell_type": "code",
   "execution_count": null,
   "metadata": {
    "collapsed": false,
    "jupyter": {
     "outputs_hidden": false
    },
    "pycharm": {
     "name": "#%%\n"
    }
   },
   "outputs": [],
   "source": [
    "# Solve the system of linear equations (the normal equations)\n",
    "\n",
    "time_start = time.process_time()\n",
    "\n",
    "beta_ls_exact=np.dot(np.dot(np.linalg.inv(np.dot(np.transpose(X),X)),np.transpose(X)),Y)\n",
    "\n",
    "time_elapsed = (time.process_time() - time_start)\n",
    "\n",
    "## Print the results\n",
    "\n",
    "print('Values of the (exact) least squares coefficients - Normal equations:')\n",
    "print('beta %-9s %7.3f' %('intercept',beta_ls_exact[0]))\n",
    "for i in np.arange(1,b):\n",
    "    print('beta %-9s %7.3f' %(df.columns[i],beta_ls_exact[i]))\n",
    "\n",
    "print('\\nElapsed time = %9.5f' %(time_elapsed))\n"
   ]
  },
  {
   "cell_type": "markdown",
   "metadata": {
    "pycharm": {
     "name": "#%% md\n"
    }
   },
   "source": [
    "$\\rightarrow$ Definition of the objective function, gradient and Hessian"
   ]
  },
  {
   "cell_type": "code",
   "execution_count": null,
   "metadata": {
    "pycharm": {
     "name": "#%%\n"
    }
   },
   "outputs": [],
   "source": [
    "# Definition of the OF\n",
    "\n",
    "def least_sq_reg(beta_ls, X, Y):\n",
    "    beta_ls = np.matrix(beta_ls)\n",
    "    z = Y - X*(beta_ls.T)\n",
    "    return np.dot(z.T,z)\n",
    "\n",
    "# Definition of the gradient\n",
    "\n",
    "def least_sq_reg_der(beta_ls,X,Y):\n",
    "    beta_ls = np.matrix(beta_ls)\n",
    "    pp = -2*np.dot((Y - np.dot(X,(beta_ls).T)).T,X)\n",
    "    aa = np.squeeze(np.asarray(pp))\n",
    "    return aa\n",
    "\n",
    "# Definition of the hessian matrix\n",
    "\n",
    "def least_sq_reg_hess(beta_ls,X,Y):\n",
    "    ss = 2*np.dot(np.transpose(X),X)\n",
    "    return ss\n"
   ]
  },
  {
   "cell_type": "markdown",
   "metadata": {
    "pycharm": {
     "name": "#%% md\n"
    }
   },
   "source": [
    "## Gradient method\n",
    "\n",
    " $\\rightarrow$ From an initial iterate $x_0$\n",
    "\n",
    "$\\rightarrow$ Compute search (descent) directions $p_k=-\\nabla f(x_k)$\n",
    "\n",
    "$\\rightarrow$ Far from the solution, compute a steplength $\\alpha_k>0$\n",
    "\n",
    "$\\rightarrow$ Movement:\n",
    "$$x_{k+1} = x_k + \\alpha_k\\ p_k$$\n",
    "Until convergence to a local solution"
   ]
  },
  {
   "cell_type": "code",
   "execution_count": null,
   "metadata": {
    "collapsed": false,
    "jupyter": {
     "outputs_hidden": false
    },
    "pycharm": {
     "name": "#%%\n"
    }
   },
   "outputs": [],
   "source": [
    "# Implementation of the gradient method\n",
    "\n",
    "(a,b) = X.shape\n",
    "\n",
    "## Parameters for the algorithm\n",
    "sigma = 0.1\n",
    "alpha = ###############\n",
    "delta = 0.1\n",
    "n_iter = 2000 # Maximum number of iterations\n",
    "epsilon = 1e-5\n",
    "tol = 10000\n",
    "\n",
    "## Initial values for the variables and data containers\n",
    "\n",
    "beta_lsg = np.zeros(b) # initial value for beta\n",
    "\n",
    "OF_iter = np.zeros(n_iter)\n",
    "tol_iter = np.zeros(n_iter)\n",
    "alpha_iter = np.zeros(n_iter)\n",
    "\n",
    "# Implement the gradient method\n",
    "\n",
    "time_start = time.process_time()\n",
    "\n",
    "i = 0\n",
    "\n",
    "while (i <= n_iter-2) and (tol > epsilon):\n",
    "    i = i + 1\n",
    "    grad = least_sq_reg_der(beta_lsg,X,Y) # Gradient vector\n",
    "    ddirect =  # Descent direction\n",
    "##### Armijo rule to adjust alpha ######\n",
    "#########################################\n",
    "    beta_lsg = #########################\n",
    "    \n",
    "    OF_iter[i] = least_sq_reg(beta_lsg, X, Y)\n",
    "    tol = np.linalg.norm(grad,ord=2)\n",
    "    tol_iter[i] = tol\n",
    "    alpha_iter[i] = alpha\n",
    "    \n",
    "time_elapsed = (time.process_time() - time_start)\n",
    "\n",
    "## Print the results\n",
    "\n",
    "print('Elapsed time = %8.5f' %(time_elapsed))\n",
    "print('\\nNumber of iterations = %5.0f' %i)\n",
    "print('Objective function   = %11.5f' %OF_iter[i])\n",
    "print('Optimality tolerance = %11.5f' %tol)\n",
    "\n",
    "print('\\nValues of the least squares coefficients - gradient method:')\n",
    "print('beta %-9s %7.3f' %('intercept',beta_lsg[0]))\n",
    "for ii in np.arange(1,b):\n",
    "    print('beta %-9s %7.3f' %(df.columns[ii],beta_lsg[ii]))\n",
    "\n",
    "beta_err = np.linalg.norm(np.transpose(beta_ls_exact)-beta_lsg,ord=2)/np.linalg.norm(beta_lsg,ord=2)\n",
    "print('\\nBeta coefficient error = %10.5f' %beta_err)\n"
   ]
  },
  {
   "cell_type": "code",
   "execution_count": null,
   "metadata": {
    "collapsed": false,
    "jupyter": {
     "outputs_hidden": false
    },
    "pycharm": {
     "name": "#%%\n"
    }
   },
   "outputs": [],
   "source": [
    "# Plot results showing the evolution of the algorithm\n",
    "\n",
    "plt.plot(OF_iter[1:i]),plt.ylabel('Objective function'),plt.xlabel('Iterations')\n",
    "plt.show()\n",
    "\n",
    "plt.plot(np.log(tol_iter[1:i])),plt.ylabel('Log opt error'),plt.xlabel('Iterations')\n",
    "plt.show()\n",
    "\n",
    "plt.plot(alpha_iter[1:200]),plt.ylabel('Alpha'),plt.xlabel('Iterations')\n",
    "plt.show()\n"
   ]
  },
  {
   "cell_type": "markdown",
   "metadata": {
    "pycharm": {
     "name": "#%% md\n"
    }
   },
   "source": [
    "## Newton's method\n",
    "\n",
    " $\\rightarrow$ From an initial iterate $x_0$\n",
    "\n",
    "$\\rightarrow$ Compute a search (descent) direction $p_k=-(\\nabla^2 f(x_k))^{-1} \\nabla f(x_k)$, whenever $\\nabla^2 f(x_k)$ is nonsingular. \n",
    "\n",
    "$\\rightarrow$ Far from the solution, compute a steplength $\\alpha_k>0$\n",
    "\n",
    "$\\rightarrow$ Movement:\n",
    "$$x_{k+1} = x_k + \\alpha_k\\ p_k$$\n",
    "Until convergence to a local solution.\n"
   ]
  },
  {
   "cell_type": "code",
   "execution_count": null,
   "metadata": {
    "collapsed": false,
    "jupyter": {
     "outputs_hidden": false
    },
    "pycharm": {
     "name": "#%%\n"
    }
   },
   "outputs": [],
   "source": [
    "# Implementation of Newton's method\n",
    "\n",
    "(a,b) = X.shape\n",
    "\n",
    "## Parameters for the algorithm\n",
    "\n",
    "alpha = 1e-4\n",
    "n_iter = 200 # Maximum number of iterations\n",
    "epsilon = 1e-5\n",
    "tol = 10000\n",
    "sigma = 0.1\n",
    "delta = 0.1\n",
    "\n",
    "## Initial values for the variables and data containers\n",
    "\n",
    "beta_lsn = np.zeros(b) # initial value for beta\n",
    "\n",
    "OF_iter = np.zeros(n_iter)\n",
    "tol_iter = np.zeros(n_iter)\n",
    "alpha_iter = np.zeros(n_iter)\n",
    "\n",
    "# Implement Newton's method\n",
    "\n",
    "time_start = time.process_time()\n",
    "\n",
    "i = 0\n",
    "\n",
    "while (i <= n_iter-2) and (tol > epsilon):\n",
    "    i = i + 1\n",
    "    grad = least_sq_reg_der(beta_lsn,X,Y)\n",
    "    hess = least_sq_reg_hess(beta_lsn,X,Y)\n",
    "    ddirect = # Descent direction\n",
    "##### Armijo rule to adjust alpha ######\n",
    "#########################################\n",
    "    beta_lsn = beta_lsn + alpha*ddirect\n",
    "    OF_iter[i] = least_sq_reg(beta_lsn, X, Y)\n",
    "    tol = np.linalg.norm(grad,ord=2)\n",
    "    tol_iter[i] = tol\n",
    "    alpha_iter[i] = alpha\n",
    "\n",
    "time_elapsed = (time.process_time() - time_start)\n",
    "\n",
    "## Print the results\n",
    "\n",
    "print('Elapsed time = %8.5f' %(time_elapsed))\n",
    "print('\\nNumber of iterations = %5.0f' %i)\n",
    "print('Objective function   = %11.5f' %OF_iter[i])\n",
    "print('Optimality tolerance = %11.5f' %tol)\n",
    "\n",
    "print('\\nValues of the least squares coefficients - gradient method:')\n",
    "print('beta %-9s %7.3f' %('intercept',beta_lsn[0]))\n",
    "for ii in np.arange(1,b):\n",
    "    print('beta %-9s %7.3f' %(df.columns[ii],beta_lsn[ii]))\n",
    "\n",
    "beta_err = np.linalg.norm(np.transpose(beta_ls_exact)-beta_lsn,ord=2)/np.linalg.norm(beta_lsn,ord=2)\n",
    "print('\\nBeta coefficient error = %10.5f' %beta_err)\n"
   ]
  },
  {
   "cell_type": "code",
   "execution_count": null,
   "metadata": {
    "pycharm": {
     "name": "#%%\n"
    }
   },
   "outputs": [],
   "source": [
    "# Plot results showing the evolution of the algorithm\n",
    "\n",
    "plt.plot(OF_iter[1:i]),plt.ylabel('Objective function'),plt.xlabel('Iterations')\n",
    "plt.show()\n",
    "\n",
    "plt.plot(np.log(tol_iter[1:i])),plt.ylabel('Log opt error'),plt.xlabel('Iterations')\n",
    "plt.show()\n",
    "\n",
    "plt.plot(alpha_iter[1:i]),plt.ylabel('Alpha'),plt.xlabel('Iterations')\n",
    "plt.show()\n"
   ]
  },
  {
   "cell_type": "code",
   "execution_count": null,
   "metadata": {
    "pycharm": {
     "name": "#%%\n"
    }
   },
   "outputs": [],
   "source": []
  }
 ],
 "metadata": {
  "kernelspec": {
   "display_name": "Python 3",
   "language": "python",
   "name": "python3"
  },
  "language_info": {
   "codemirror_mode": {
    "name": "ipython",
    "version": 3
   },
   "file_extension": ".py",
   "mimetype": "text/x-python",
   "name": "python",
   "nbconvert_exporter": "python",
   "pygments_lexer": "ipython3",
   "version": "3.8.5"
  }
 },
 "nbformat": 4,
 "nbformat_minor": 4
}