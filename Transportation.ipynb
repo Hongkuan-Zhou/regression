{
 "cells": [
  {
   "cell_type": "markdown",
   "metadata": {
    "pycharm": {
     "name": "#%% md\n"
    }
   },
   "source": [
    "# Transportation Problem\n",
    "\n",
    "\n",
    "\n",
    "Optimal transportation scheme between the factories and the markets?\n",
    "\n",
    "Minimize total transportation costs\n",
    "\n",
    "  Distance      | M1 | M2 | M3 | Max capacity\n",
    "  --------------|-----|---|----|--\n",
    "  F1  | 2.5 | 1.7 | 1.8 | 350\n",
    "  F2  | 2.5 | 1.7 | 1.8 | 600\n",
    "  demand  | 325 | 300 | 275 |\n",
    "\n",
    "\\begin{align*}\n",
    "\\underset{x_{11},x_{12},\\ldots,x_{23}}{\\rm{\\min}} & \\quad 90\\times 2.5\\times \\ x_{11}+90\\times 1.7\\times \\\n",
    "x_{12}+ \\cdots + 90\\times 1.4\\times \\ x_{23}\\\\\n",
    "\\rm{s.t.}&\\\\\n",
    "  &x_{11}+x_{21}\\geq 325 \\\\\n",
    "  &x_{12}+x_{22}\\geq 300 \\\\\n",
    "  &x_{13}+x_{23}\\geq 275\\\\\n",
    "  &x_{11}+x_{12}+x_{13}\\leq 350 \\\\\n",
    "  &x_{21}+x_{22}+x_{23}\\leq 600\\\\\n",
    "  &x_{11},x_{12},\\ldots,x_{23} \\quad \\geq 0\n",
    "\\end{align*}\n"
   ]
  },
  {
   "cell_type": "code",
   "execution_count": 4,
   "outputs": [
    {
     "data": {
      "text/plain": "'D:\\\\Users\\\\h50022848.CHINA\\\\Github\\\\regression'"
     },
     "execution_count": 4,
     "metadata": {},
     "output_type": "execute_result"
    }
   ],
   "source": [
    "import os\n",
    "os.getcwd()"
   ],
   "metadata": {
    "collapsed": false,
    "pycharm": {
     "name": "#%%\n"
    }
   }
  },
  {
   "cell_type": "code",
   "execution_count": 6,
   "metadata": {
    "pycharm": {
     "name": "#%%\n"
    }
   },
   "outputs": [
    {
     "name": "stdout",
     "output_type": "stream",
     "text": [
      "Overwriting transportation.py\n"
     ]
    }
   ],
   "source": [
    "%%writefile transportation.py\n",
    "\n",
    "from pyomo.environ import *\n",
    "\n",
    "model = ConcreteModel()\n",
    "\n",
    "#variable\n",
    "model.x = Var([1,2],[1,2,3], domain=NonNegativeReals)\n",
    "\n",
    "#definition of the objective function\n",
    "\n",
    "model.OBJ = Objective(expr = 90*(2.5*model.x[1,1]+1.7*model.x[1,2]+1.8*model.x[1,3]+2.5*model.x[2,1]+1.8*model.x[2,2]+1.4*model.x[2,3]))\n",
    "\n",
    "model.cons1 = Constraint(expr = model.x[1,1]+model.x[2,1]>=325)\n",
    "model.cons2 = Constraint(expr = model.x[1,2]+model.x[2,2]>=300)\n",
    "model.cons3 = Constraint(expr = model.x[1,3]+model.x[2,3]>=275)\n",
    "\n",
    "model.cons4 = Constraint(expr = model.x[1,1]+model.x[1,2]+model.x[1,3]<=350)\n",
    "model.cons5 = Constraint(expr = model.x[2,1]+model.x[2,2]+model.x[2,3]<=600)"
   ]
  },
  {
   "cell_type": "code",
   "execution_count": 7,
   "metadata": {
    "pycharm": {
     "name": "#%%\n"
    }
   },
   "outputs": [
    {
     "name": "stdout",
     "output_type": "stream",
     "text": [
      "[    0.00] Setting up Pyomo environment\n",
      "[    0.00] Applying Pyomo preprocessing actions\n",
      "[    0.01] Creating model\n",
      "[    0.01] Applying solver\n",
      "WARNING: Could not locate the 'glpsol' executable, which is required for\n",
      "    solver 'glpk'\n",
      "[    0.01] Pyomo Finished\n",
      "ERROR: Unexpected exception while running model:\n",
      "        No executable found for solver 'glpk'\n"
     ]
    }
   ],
   "source": [
    "!pyomo solve transportation.py --solver=glpk --summary"
   ]
  },
  {
   "cell_type": "code",
   "execution_count": 3,
   "metadata": {
    "pycharm": {
     "name": "#%%\n"
    }
   },
   "outputs": [
    {
     "name": "stderr",
     "output_type": "stream",
     "text": [
      "The system cannot find the file specified.\n"
     ]
    }
   ],
   "source": [
    "!type results.json"
   ]
  },
  {
   "cell_type": "code",
   "execution_count": null,
   "metadata": {
    "pycharm": {
     "name": "#%%\n"
    }
   },
   "outputs": [],
   "source": []
  }
 ],
 "metadata": {
  "kernelspec": {
   "name": "regression",
   "language": "python",
   "display_name": "regression"
  },
  "language_info": {
   "codemirror_mode": {
    "name": "ipython",
    "version": 3
   },
   "file_extension": ".py",
   "mimetype": "text/x-python",
   "name": "python",
   "nbconvert_exporter": "python",
   "pygments_lexer": "ipython3",
   "version": "3.8.5"
  }
 },
 "nbformat": 4,
 "nbformat_minor": 4
}