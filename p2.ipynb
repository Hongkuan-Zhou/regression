{
 "cells": [
  {
   "cell_type": "markdown",
   "source": [
    "# a)\n",
    "Formulate mathematically the problem as a linear optimization model (based on\n",
    "the general formulation of an LP). Identify the model sets, parameters, variables, objective\n",
    "function and constraints"
   ],
   "metadata": {
    "collapsed": false,
    "pycharm": {
     "name": "#%% md\n"
    }
   }
  },
  {
   "cell_type": "markdown",
   "source": [
    "## Background\n",
    "Shanghai is currently experiencing an extremely strict lockdown. All the citizens should stay at home and outdoor activities are no longer possible. One big issue is that some citizens can not have enough supplies for living because the supply chain has been affected by the epidemic.\n",
    "\n",
    "In this homework, I propose a model to optimize the supply chain in order to ease the difficult situations like shanghai."
   ],
   "metadata": {
    "collapsed": false,
    "pycharm": {
     "name": "#%% md\n"
    }
   }
  },
  {
   "cell_type": "markdown",
   "source": [
    "## Proposed Model\n",
    "In this section, we will describe our proposed model in detail.  Assume we have **200** communities which currently under quarantine and all the supply can only be transported by health and anti-epidemic personal. Each community $i$ needs at least $CB_i$ amount of basic supplies like staple food and nutrition, and also entertainment supplies (Entertainment supplies are not rigid demand while should be as high as possible). There are **10** fangcang hospitals (the definition of fangcang can be found [here](https://en.wikipedia.org/wiki/Fangcang_hospital) ) have already built and the fangcang hospital $i$ requires $FB_i$ basic supplies and $FM_i$ medical supplies. There exist **100** markets in the city and market $i$ is capable of providing $MB_i$ basic supplies and $ME_i$ entertainment supplies. The medical resources can be provided by the city's anti-epidemic center with total amount of $MR$ and external medical resources from other cities which is unlimited but with higher price and the minimum amount for transportation can not be less than 5 units because of long distance. The transportation costs of basic supplies and entertainment supplies between markets and communities are $MCB_{ij}$ and $MCE_{ij}$ per unit respectively. The transportation costs of basic supplies between markets and fangcang hospitals are $MFB_{ij}$ per unit. The transportation cost of local medicines to fangcang hospitals are $FL_i$. The transportation cost of over city medicines to fangcang hospitals are $FE_i$."
   ],
   "metadata": {
    "collapsed": false,
    "pycharm": {
     "name": "#%% md\n"
    }
   }
  },
  {
   "cell_type": "markdown",
   "source": [
    "**Decision Variables:**\n",
    "1. The shipment of basic supplies from markets to communities: $x_{ij}$\n",
    "2. The shipment of entertainment supplies from markets to communities: $y_{ij}$\n",
    "3. The shipment of basic supplies from markets to fangcang hospitals: $z_{ij}$\n",
    "4. The shipment of local medical supplies to fangcang hospitals: $t_i$\n",
    "5. The shipment of external medical supplied to fangcang hospitals: $p_i$\n",
    "\n",
    "**Objective Function**\n",
    "$$F = \\sum_{1 \\le i \\le 100, 1 \\le j \\le 200} x_{ij} \\times MCB_{ij} + \\sum_{1 \\le i \\le 100, 1 \\le j \\le 200} y_{ij} \\times MCE_{ij} + \\sum_{1 \\le i \\le 100, 1 \\le j \\le 10} y_{ij} \\times MFB_{ij} + \\sum_{1 \\le i \\le 10} t_i \\times FL_i + \\sum_{1 \\le i \\le 10} p_i \\times FE_i -  \\sum_{1 \\le i \\le 200} \\lambda_i \\times \\sum_{1 \\le i \\le 100} MCE_{ij}$$\n",
    "where $\\lambda_i$ is call satisfaction coefficients of communities.\n",
    "\n",
    "**Constraints**\n",
    "Each community should have enough basic supply:\n",
    "$$\\forall 1 \\le i \\le 200, \\sum_{1 \\le j \\le 100} x_{ij} \\ge CB_i$$\n",
    "Each fangcang hospital should have enough basic supply"
   ],
   "metadata": {
    "collapsed": false,
    "pycharm": {
     "name": "#%% md\n"
    }
   }
  },
  {
   "cell_type": "code",
   "execution_count": null,
   "outputs": [],
   "source": [
    "import numpy as np\n",
    "np.random.seed(1234)\n"
   ],
   "metadata": {
    "collapsed": false,
    "pycharm": {
     "name": "#%%\n"
    }
   }
  }
 ],
 "metadata": {
  "kernelspec": {
   "display_name": "Python 3",
   "language": "python",
   "name": "python3"
  },
  "language_info": {
   "codemirror_mode": {
    "name": "ipython",
    "version": 2
   },
   "file_extension": ".py",
   "mimetype": "text/x-python",
   "name": "python",
   "nbconvert_exporter": "python",
   "pygments_lexer": "ipython2",
   "version": "2.7.6"
  }
 },
 "nbformat": 4,
 "nbformat_minor": 0
}