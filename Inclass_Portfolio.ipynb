{
 "cells": [
  {
   "cell_type": "markdown",
   "metadata": {
    "deletable": true,
    "editable": true,
    "pycharm": {
     "name": "#%% md\n"
    }
   },
   "source": [
    "# Portfolio optimization"
   ]
  },
  {
   "cell_type": "markdown",
   "metadata": {
    "deletable": true,
    "editable": true,
    "pycharm": {
     "name": "#%% md\n"
    }
   },
   "source": [
    "Download csv data from:\n",
    "\n",
    "http://www.google.com/finance/historical?output=csv&q= [COMPANY KEY]"
   ]
  },
  {
   "cell_type": "code",
   "execution_count": null,
   "metadata": {
    "deletable": true,
    "editable": true,
    "pycharm": {
     "name": "#%%\n"
    }
   },
   "outputs": [],
   "source": [
    "import csv\n",
    "from __future__ import division \n",
    "import numpy as np\n",
    "import pandas as pd"
   ]
  },
  {
   "cell_type": "markdown",
   "metadata": {
    "deletable": true,
    "editable": true,
    "pycharm": {
     "name": "#%% md\n"
    }
   },
   "source": [
    "Now we compute the weekly returns for each stock value"
   ]
  },
  {
   "cell_type": "code",
   "execution_count": null,
   "metadata": {
    "collapsed": false,
    "deletable": true,
    "editable": true,
    "jupyter": {
     "outputs_hidden": false
    },
    "pycharm": {
     "name": "#%%\n"
    }
   },
   "outputs": [],
   "source": [
    "import numpy as np\n",
    "\n",
    "\n",
    "data_apple_open=np.array(pd.read_csv('aapl.csv',delimiter=',',usecols=['Open']))\n",
    "data_apple_close=np.array(pd.read_csv('aapl.csv',delimiter=',',usecols=['Close']))\n",
    "\n",
    "data_ebay_open=np.array(pd.read_csv('ebay.csv',delimiter=',',usecols=['Open']))\n",
    "data_ebay_close=np.array(pd.read_csv('ebay.csv',delimiter=',',usecols=['Close']))\n",
    "\n",
    "data_amazon_open=np.array(pd.read_csv('amzn.csv',delimiter=',',usecols=['Open']))\n",
    "data_amazon_close=np.array(pd.read_csv('amzn.csv',delimiter=',',usecols=['Close']))\n",
    "\n",
    "data_microsoft_open=np.array(pd.read_csv('msft.csv',delimiter=',',usecols=['Open']))\n",
    "data_microsoft_close=np.array(pd.read_csv('msft.csv',delimiter=',',usecols=['Close']))\n",
    "\n",
    "\n",
    "cont=-1;\n",
    "n=5;\n",
    "size=len(data_apple_open)\n",
    "data_apple=np.zeros(size//n)\n",
    "data_ebay=np.zeros(size//n)\n",
    "data_amazon=np.zeros(size//n)\n",
    "data_microsoft=np.zeros(size//n)\n",
    "for i in np.linspace(n+1,n*(size//n),size//n):\n",
    "    i=int(i)\n",
    "    if i >n:\n",
    "        cont=cont+1\n",
    "        data_apple[cont]=np.subtract(data_apple_close[i],data_apple_open[i-n])/data_apple_open[i-n]\n",
    "        data_ebay[cont]=(data_ebay_close[i]-data_ebay_open[i-n])/data_ebay_open[i-n]\n",
    "        data_amazon[cont]=(data_amazon_close[i]-data_amazon_open[i-n])/data_amazon_open[i-n]\n",
    "        data_microsoft[cont]=(data_microsoft_close[i]-data_microsoft_open[i-n])/data_microsoft_open[i-n]\n",
    "data_apple"
   ]
  },
  {
   "cell_type": "markdown",
   "metadata": {
    "deletable": true,
    "editable": true,
    "pycharm": {
     "name": "#%% md\n"
    }
   },
   "source": [
    "Compute the mean return vector $\\mu$ and the covariance matrix $\\Sigma$"
   ]
  },
  {
   "cell_type": "code",
   "execution_count": null,
   "metadata": {
    "collapsed": false,
    "deletable": true,
    "editable": true,
    "jupyter": {
     "outputs_hidden": false
    },
    "pycharm": {
     "name": "#%%\n"
    }
   },
   "outputs": [],
   "source": [
    "import numpy as np\n",
    "#compute mean value vector\n",
    "mu=np.mean([data_apple,data_ebay,data_amazon,data_microsoft],axis=1)\n",
    "print(mu)\n",
    "#compute covarianze matrix\n",
    "covar=np.matrix(np.cov([data_apple,data_ebay,data_amazon,data_microsoft]))\n",
    "print(covar)"
   ]
  },
  {
   "cell_type": "markdown",
   "metadata": {
    "deletable": true,
    "editable": true,
    "pycharm": {
     "name": "#%% md\n"
    }
   },
   "source": [
    "We solve the portfolio optimization problem \n",
    "\n",
    "\\begin{align*}\n",
    "\\text{maximize}_x\\quad & \\mu^T x - \\frac{1}{2}\\ \\gamma\\ x^T \\Sigma x \\\\\n",
    "\\text{subject to}\\quad  & \\sum x_i = 1,\n",
    "\\end{align*}\n"
   ]
  },
  {
   "cell_type": "code",
   "execution_count": null,
   "metadata": {
    "deletable": true,
    "editable": true,
    "scrolled": true,
    "pycharm": {
     "name": "#%%\n"
    }
   },
   "outputs": [],
   "source": [
    "from scipy.optimize import minimize\n",
    "\n",
    "def portfolio(x, mu, covar, gamma):\n",
    "    z=-np.dot(x,mu)+0.5*gamma*np.dot(np.dot(x,covar),x)\n",
    "    return z.item()\n",
    "\n",
    "cons = ({'type': 'eq','fun' : lambda x: sum(x)-1})\n",
    "bnds = ((0, 1), (0, 1), (0, 1), (0, 1))\n",
    "gamma=3\n",
    "x0 = np.array([0, 0, 0, 0])\n",
    "\n",
    "res = minimize(portfolio, x0, args=(mu, covar, gamma), method='SLSQP', constraints=cons, options={'disp': True,'ftol': 1e-10})\n",
    "#res = minimize(portfolio, x0, args=(mu, covar, gamma), method='SLSQP', constraints=cons, bounds=bnds, options={'disp': True,'ftol': 1e-10})\n",
    "print (res.x) "
   ]
  },
  {
   "cell_type": "markdown",
   "metadata": {
    "deletable": true,
    "editable": true,
    "pycharm": {
     "name": "#%% md\n"
    }
   },
   "source": [
    "From KKT conditions, the solution is:\n",
    "$$\n",
    "    x^* = \\frac{1}{\\gamma}\\Sigma^{-1}\\mu - \\frac{\\lambda_{\\gamma}}{\\gamma}\\Sigma^{-1} e,\n",
    "$$\n",
    "where $\\lambda_{\\gamma} = \\frac{\\mu^T \\Sigma^{-1} e - \\gamma}{e^T \\Sigma^{-1} e}$\n"
   ]
  },
  {
   "cell_type": "code",
   "execution_count": null,
   "metadata": {
    "collapsed": false,
    "deletable": true,
    "editable": true,
    "jupyter": {
     "outputs_hidden": false
    },
    "pycharm": {
     "name": "#%%\n"
    }
   },
   "outputs": [],
   "source": [
    "lambda_opt=(np.dot(np.dot(mu,np.linalg.inv(covar)),np.ones(mu.shape))-gamma)/np.dot(np.dot(np.ones(mu.shape),np.linalg.inv(covar)),np.ones(mu.shape))\n",
    "x_opt=(1/gamma)*np.dot(np.linalg.inv(covar),mu)-(1/gamma)*np.dot(lambda_opt,np.dot(np.linalg.inv(covar),np.ones(mu.shape)))\n",
    "print(lambda_opt)\n",
    "print(x_opt)"
   ]
  },
  {
   "cell_type": "markdown",
   "metadata": {
    "deletable": true,
    "editable": true,
    "pycharm": {
     "name": "#%% md\n"
    }
   },
   "source": [
    "We  can plot the efficient frontier:"
   ]
  },
  {
   "cell_type": "code",
   "execution_count": null,
   "metadata": {
    "deletable": true,
    "editable": true,
    "pycharm": {
     "name": "#%%\n"
    }
   },
   "outputs": [],
   "source": [
    "nmax=1000;\n",
    "expec_vector=np.zeros(nmax)\n",
    "risk_vector=np.zeros(nmax)\n",
    "cont=-1\n",
    "cons = ({'type': 'eq','fun' : lambda x: sum(x)-1})\n",
    "bnds = ((0, 1), (0, 1), (0, 1), (0, 1)) #incluyo reestricciones\n",
    "for gamma in np.linspace(1,100,nmax):\n",
    "    cont=cont+1\n",
    "    x0 = np.array([0, 0, 0, 0])\n",
    "    res = minimize(portfolio, x0, args=(mu, covar, gamma), method='SLSQP', constraints=cons,bounds=bnds, options={'disp': False,'ftol': 1e-15})  \n",
    "    x_opt=np.array(res.x)\n",
    "    mu=np.array(mu)\n",
    "    expec_vector[cont]=np.dot(mu,x_opt.T)\n",
    "    risk_vector[cont]=np.dot(np.dot(x_opt,covar),x_opt.T)\n"
   ]
  },
  {
   "cell_type": "code",
   "execution_count": null,
   "metadata": {
    "collapsed": false,
    "deletable": true,
    "editable": true,
    "jupyter": {
     "outputs_hidden": false
    },
    "pycharm": {
     "name": "#%%\n"
    }
   },
   "outputs": [],
   "source": [
    "import matplotlib.pyplot as plt\n",
    "plt.style.use('ggplot')\n",
    "%matplotlib inline\n",
    "plt.scatter(risk_vector,expec_vector),plt.ylabel('Expected value'),plt.xlabel('Risk')"
   ]
  },
  {
   "cell_type": "markdown",
   "metadata": {
    "deletable": true,
    "editable": true,
    "pycharm": {
     "name": "#%% md\n"
    }
   },
   "source": [
    "Lest solve it by applying a barrier method:\n",
    "$$\n",
    "\\min_x\\quad  -\\mu^T x + \\frac{1}{2}\\ \\gamma\\ x^T \\Sigma x  + \\frac{\\rho}{2}(x^Te - 1)^2\n",
    "$$\n",
    "\n",
    "$\\rightarrow$ Step 1: initial point $x^{(0)}$, penalization parameter $\\rho_1>0$ and $t=1$. Let $\\epsilon>0$ be the tolerance parameter and $\\eta >1$ a fixed parameter. \n",
    "\n",
    "$\\rightarrow$ Step 2: solve  $\\min_x\\quad  -\\mu^T x + \\frac{1}{2}\\ \\gamma\\ x^T \\Sigma x  + \\frac{\\rho_t}{2}(x^Te - 1)^2$, by a descent direction method (ex. gradient). Use $x^{(t-1)}$ as initial point. Solution$=x^{(t)}$. \n",
    "\n",
    "$\\rightarrow$ Step 3: if $\\| x^{(t)}-x^{(t-1)}\\|<\\epsilon$ stop. Otherwise go to step 4.\n",
    "\n",
    "$\\rightarrow$ Step 4: $\\rho_{t+1}=\\eta\\rho_{t}$, $t=t+1$, go to step 2.\n",
    "\n",
    "For the gradient method we need the gradient:\n",
    "\n",
    "$$\\nabla f(x)=-\\mu+\\gamma x^T\\Sigma+\\rho(x^Te-1)e$$"
   ]
  },
  {
   "cell_type": "markdown",
   "metadata": {
    "deletable": true,
    "editable": true,
    "pycharm": {
     "name": "#%% md\n"
    }
   },
   "source": [
    "Definition of the functions:"
   ]
  },
  {
   "cell_type": "code",
   "execution_count": null,
   "metadata": {
    "deletable": true,
    "editable": true,
    "pycharm": {
     "name": "#%%\n"
    }
   },
   "outputs": [],
   "source": [
    "def portfolio_barrier(x, mu, covar, gamma, rho):\n",
    "    return -np.dot(x,mu)+0.5*gamma*np.dot(np.dot(x,covar),x.T)+(rho/2)*((np.sum(x)-1)**2)\n",
    "\n",
    "def portfolio_barrier_grad(x, mu, covar, gamma, rho):\n",
    "    return -mu+gamma*np.dot(x,covar)+rho*(np.sum(x)-1)*np.ones(mu.shape)"
   ]
  },
  {
   "cell_type": "markdown",
   "metadata": {
    "deletable": true,
    "editable": true,
    "pycharm": {
     "name": "#%% md\n"
    }
   },
   "source": [
    "Algorithm:"
   ]
  },
  {
   "cell_type": "code",
   "execution_count": null,
   "metadata": {
    "collapsed": false,
    "deletable": true,
    "editable": true,
    "jupyter": {
     "outputs_hidden": false
    },
    "pycharm": {
     "name": "#%%\n"
    }
   },
   "outputs": [],
   "source": [
    "import time\n",
    "b=len(mu)\n",
    "x_ini=np.zeros(b) #initial value for x\n",
    "alpha=0.0001\n",
    "n_iter=1000 #maximum number iteration gradient method\n",
    "n_iter_barr=1000 #maximum number iterations barrier algorithm\n",
    "x_iter=np.zeros((b,n_iter_barr))\n",
    "OF_iter=np.zeros(n_iter)\n",
    "tol_iter=np.zeros(n_iter)\n",
    "tol=1000;\n",
    "tol_barr=1000;\n",
    "epsilon=1e-8;#tolerance gradient method\n",
    "epsilon_barr=1e-8;#tolerance barrier method\n",
    "t=1\n",
    "eta=1.5;\n",
    "rho=#######################*******\n",
    "gamma=3;\n",
    "\n",
    "time_start = time.process_time()\n",
    "while (t <= n_iter_barr-2) and (tol_barr>epsilon_barr):   \n",
    "    if t==1:\n",
    "        x=x_ini\n",
    "    else:\n",
    "        x=x_iter[:,t-1]\n",
    "    i=0\n",
    "    ################      GRADIENT METHOD    #################################\n",
    "    while (i <= n_iter-2) and (tol>epsilon):\n",
    "        i=i+1\n",
    "        grad=portfolio_barrier_grad(x, mu, covar, gamma, rho)#gradient vector\n",
    "        ddirect=###############descent direction*******\n",
    "        ######Armijo rule to adjust alpha########\n",
    "        sigma = 0.1\n",
    "        beta= 0.5\n",
    "        alpha=1\n",
    "        while (portfolio_barrier(x+alpha*ddirect, mu, covar, gamma, rho) > portfolio_barrier(x, mu, covar, gamma, rho)+alpha*sigma*np.dot(grad,ddirect.T)):\n",
    "            alpha=alpha*beta\n",
    "        #########################################\n",
    "        x=#######################*******\n",
    "        tol=#########################*******\n",
    "    ###########################################################################\n",
    "    x_iter[:,t]=x\n",
    "    rho=###################*******\n",
    "    if t>1:\n",
    "        tol_barr=######################*******\n",
    "    t=t+1\n",
    "time_elapsed = (time.process_time() - time_start) \n",
    "print('time elapsed=',time_elapsed)\n",
    "print('iterations',t)\n",
    "print(x_iter[:,t-1])\n",
    "print(tol_barr)"
   ]
  },
  {
   "cell_type": "code",
   "execution_count": null,
   "metadata": {
    "pycharm": {
     "name": "#%%\n"
    }
   },
   "outputs": [],
   "source": [
    "plt.plot(x_iter[:,0:t].T);"
   ]
  },
  {
   "cell_type": "code",
   "execution_count": null,
   "metadata": {
    "pycharm": {
     "name": "#%%\n"
    }
   },
   "outputs": [],
   "source": [
    "plt.plot(np.log(np.sum(x_iter,axis=0)[0:t]))"
   ]
  },
  {
   "cell_type": "code",
   "execution_count": null,
   "metadata": {
    "pycharm": {
     "name": "#%%\n"
    }
   },
   "outputs": [],
   "source": []
  }
 ],
 "metadata": {
  "kernelspec": {
   "display_name": "Python 3",
   "language": "python",
   "name": "python3"
  },
  "language_info": {
   "codemirror_mode": {
    "name": "ipython",
    "version": 3
   },
   "file_extension": ".py",
   "mimetype": "text/x-python",
   "name": "python",
   "nbconvert_exporter": "python",
   "pygments_lexer": "ipython3",
   "version": "3.8.5"
  }
 },
 "nbformat": 4,
 "nbformat_minor": 4
}