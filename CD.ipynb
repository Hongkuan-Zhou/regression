{
 "cells": [
  {
   "cell_type": "markdown",
   "metadata": {
    "deletable": true,
    "editable": true,
    "pycharm": {
     "name": "#%% md\n"
    }
   },
   "source": [
    "## Least Squared Linear Regression\n",
    "## Coordinate Descent"
   ]
  },
  {
   "cell_type": "markdown",
   "metadata": {
    "deletable": true,
    "editable": true,
    "pycharm": {
     "name": "#%% md\n"
    }
   },
   "source": [
    "Generate random data for the model:\n",
    "$$y=\\beta_{0}+\\beta_{1}x_1+\\dots+\\beta_{n}x_n+e$$\n",
    "where $e\\sim N(0,\\sigma^{2})$"
   ]
  },
  {
   "cell_type": "code",
   "execution_count": 1,
   "metadata": {
    "collapsed": false,
    "deletable": true,
    "editable": true,
    "jupyter": {
     "outputs_hidden": false
    },
    "scrolled": true,
    "pycharm": {
     "name": "#%%\n"
    }
   },
   "outputs": [],
   "source": [
    "%matplotlib notebook\n",
    "import numpy as np\n",
    "import time\n",
    "import random\n",
    "\n",
    "nsample = 1000\n",
    "nvariables=10\n",
    "X0 = np.ones([nsample,1]) #the firt column are ones for the beta_0\n",
    "X1 = np.random.uniform(0.5,1.5,([nsample,nvariables]))\n",
    "X = np.concatenate([X0, X1],axis=1)\n",
    "beta=np.random.randint(-5,5,size=([nvariables+1,1]));beta\n",
    "error=np.random.normal(0,1,(nsample,1))#normal random error\n",
    "Y=np.dot(X,beta)+error\n",
    "#print(beta)\n",
    "#error=np.random.normal(0,1,(nsample,1))#normal random error\n",
    "#Y=X*beta+error"
   ]
  },
  {
   "cell_type": "markdown",
   "metadata": {
    "deletable": true,
    "editable": true,
    "pycharm": {
     "name": "#%% md\n"
    }
   },
   "source": [
    "We can plot with respect to any of the variables:"
   ]
  },
  {
   "cell_type": "code",
   "execution_count": 2,
   "metadata": {
    "collapsed": false,
    "deletable": true,
    "editable": true,
    "jupyter": {
     "outputs_hidden": false
    },
    "pycharm": {
     "name": "#%%\n"
    }
   },
   "outputs": [
    {
     "data": {
      "text/plain": [
       "(<matplotlib.collections.PathCollection at 0x1b4fe5ece50>,\n",
       " Text(0.5, 0, 'X'),\n",
       " Text(0, 0.5, 'Y_p'))"
      ]
     },
     "execution_count": 2,
     "metadata": {},
     "output_type": "execute_result"
    },
    {
     "data": {
      "image/png": "[encoded data removed]",
      "text/plain": [
       "<Figure size 432x288 with 1 Axes>"
      ]
     },
     "metadata": {
      "needs_background": "light"
     },
     "output_type": "display_data"
    }
   ],
   "source": [
    "import matplotlib.pyplot as plt\n",
    "%matplotlib inline\n",
    "Y_p=np.array(Y)#convert to array for ploting\n",
    "plt.scatter(X[:,1], Y_p),plt.xlabel('X'),plt.ylabel('Y_p')\n",
    "#plt.scatter(X2, Y_p),plt.xlabel('X2'),plt.ylabel('Y_p')\n",
    "#plt.scatter(X3, Y_p),plt.xlabel('X3'),plt.ylabel('Y_p')"
   ]
  },
  {
   "cell_type": "markdown",
   "metadata": {
    "deletable": true,
    "editable": true,
    "pycharm": {
     "name": "#%% md\n"
    }
   },
   "source": [
    "Fit a linear relation between a set of variables ($X$) with respect to a response variable ($y$)\n",
    "\n",
    "Model: $y = X\\beta + u$\n",
    "\n",
    "Classical estimation: least squares\n",
    "\n",
    "  \\begin{align*}\n",
    "\\text{minimize}\\quad & ||y-X\\beta||_2^2\n",
    "\\end{align*}"
   ]
  },
  {
   "cell_type": "markdown",
   "metadata": {
    "deletable": true,
    "editable": true,
    "pycharm": {
     "name": "#%% md\n"
    }
   },
   "source": [
    "The exact solution is: $\\beta_{ls}=(X^T X)^{-1}X^T y$"
   ]
  },
  {
   "cell_type": "code",
   "execution_count": 3,
   "metadata": {
    "collapsed": false,
    "deletable": true,
    "editable": true,
    "jupyter": {
     "outputs_hidden": false
    },
    "scrolled": true,
    "pycharm": {
     "name": "#%%\n"
    }
   },
   "outputs": [
    {
     "name": "stdout",
     "output_type": "stream",
     "text": [
      "time elapsed= 0.0\n",
      "[[-3.36658734]\n",
      " [-0.92082053]\n",
      " [ 2.02954826]\n",
      " [ 1.03316413]\n",
      " [-0.994283  ]\n",
      " [-1.01341232]\n",
      " [-1.96564423]\n",
      " [ 1.98869464]\n",
      " [ 0.08196519]\n",
      " [-0.92504425]\n",
      " [ 0.10963372]]\n"
     ]
    }
   ],
   "source": [
    "time_start = time.time()\n",
    "beta_ls_exact=np.dot(np.dot(np.linalg.inv(np.dot(np.transpose(X),X)),np.transpose(X)),Y)\n",
    "time_elapsed = (time.time() - time_start)\n",
    "print('time elapsed=',time_elapsed)\n",
    "print(beta_ls_exact)"
   ]
  },
  {
   "cell_type": "markdown",
   "metadata": {
    "deletable": true,
    "editable": true,
    "pycharm": {
     "name": "#%% md\n"
    }
   },
   "source": [
    "We now compute the least squares problem:"
   ]
  },
  {
   "cell_type": "code",
   "execution_count": 4,
   "metadata": {
    "collapsed": false,
    "deletable": true,
    "editable": true,
    "jupyter": {
     "outputs_hidden": false
    },
    "pycharm": {
     "name": "#%%\n"
    }
   },
   "outputs": [
    {
     "name": "stdout",
     "output_type": "stream",
     "text": [
      "Warning: Maximum number of function evaluations has been exceeded.\n",
      "time elapsed= 0.30555176734924316\n",
      "[-2.39163796 -0.99629323  0.84793023  1.03129613 -0.95346047 -1.47533324\n",
      " -1.56328959  1.96171366 -1.38595073  0.64239916  0.38818622]\n",
      "error= 0.5140523510613321\n"
     ]
    }
   ],
   "source": [
    "from scipy.optimize import minimize\n",
    "\n",
    "\n",
    "def least_sq_reg(beta_ls, X, Y):\n",
    "    beta_ls=np.matrix(beta_ls)\n",
    "    #z=Y-np.dot(X,np.transpose(beta_ls))\n",
    "    z=Y-X*np.transpose(beta_ls)\n",
    "    return np.dot(np.transpose(z),z)\n",
    "\n",
    "#beta_ls0 = np.matrix([0, 0, 0, 0])\n",
    "beta_ls0 = np.zeros(nvariables+1)\n",
    "time_start = time.time()\n",
    "res = minimize(least_sq_reg, beta_ls0, args=(X, Y), method='Nelder-Mead', options={'disp': True,'xtol': 1e-10})\n",
    "time_elapsed = (time.time() - time_start)\n",
    "print('time elapsed=',time_elapsed)\n",
    "print (res.x) \n",
    "print('error=',np.linalg.norm(np.transpose(beta_ls_exact)-res.x,ord=2)/np.linalg.norm(np.transpose(beta_ls_exact),ord=2))"
   ]
  },
  {
   "cell_type": "markdown",
   "metadata": {
    "deletable": true,
    "editable": true,
    "pycharm": {
     "name": "#%% md\n"
    }
   },
   "source": [
    "Or introduce ourselves the gradient and hessian information:"
   ]
  },
  {
   "cell_type": "code",
   "execution_count": 5,
   "metadata": {
    "collapsed": false,
    "deletable": true,
    "editable": true,
    "jupyter": {
     "outputs_hidden": false
    },
    "pycharm": {
     "name": "#%%\n"
    }
   },
   "outputs": [
    {
     "name": "stdout",
     "output_type": "stream",
     "text": [
      "Optimization terminated successfully.\n",
      "         Current function value: 992.181701\n",
      "         Iterations: 7\n",
      "         Function evaluations: 8\n",
      "         Gradient evaluations: 8\n",
      "         Hessian evaluations: 7\n",
      "time elapsed= 0.0\n",
      "[-3.3665863  -0.92082064  2.02954819  1.033164   -0.99428314 -1.01341242\n",
      " -1.96564434  1.98869454  0.0819651  -0.92504434  0.10963361]\n",
      "error= 2.06694432080338e-07\n"
     ]
    }
   ],
   "source": [
    "def least_sq_reg_der(beta_ls,X,Y):\n",
    "    beta_ls=np.matrix(beta_ls)\n",
    "    pp=-2*np.dot(np.transpose(Y-np.dot(X,np.transpose(beta_ls))),X)\n",
    "    aa= np.squeeze(np.asarray(pp))\n",
    "    return aa\n",
    "\n",
    "def least_sq_reg_hess(beta_ls,X,Y):\n",
    "    ss=2*np.dot(np.transpose(X),X)\n",
    "    return ss\n",
    "\n",
    "\n",
    "\n",
    "time_start = time.time()\n",
    "#run your code\n",
    "                   \n",
    "res = minimize(least_sq_reg, beta_ls0, args=(X, Y), method='Newton-CG', jac=least_sq_reg_der, hess=least_sq_reg_hess, options={'disp': True})\n",
    "time_elapsed = (time.time() - time_start) \n",
    "print('time elapsed=',time_elapsed)\n",
    "print(res.x)\n",
    "np.linalg.inv(least_sq_reg_hess(res.x,X,Y))\n",
    "print('error=',np.linalg.norm(np.transpose(beta_ls_exact)-res.x,ord=2)/np.linalg.norm(np.transpose(beta_ls_exact),ord=2))\n",
    "   "
   ]
  },
  {
   "cell_type": "markdown",
   "metadata": {
    "deletable": true,
    "editable": true,
    "pycharm": {
     "name": "#%% md\n"
    }
   },
   "source": [
    "### Coordinate descent\n",
    "\n",
    "Start with $x_0$, then choose index $i_k\\in\\{1,2,\\dots,b\\}$ and \n",
    "\\begin{equation*}\n",
    "x_{k+1}=x_k-\\alpha_k\\nabla_{i_k}f(x_k)e_{i_k},\n",
    "\\end{equation*}\n",
    "where $\\alpha_k$ is the step size, $e_i$ is the $i$-th canonici vector and $\\nabla_if(x)$ the $i$-coordinate of the gradient vector.\n",
    "\n",
    "We will select $i_k$ ramdonly."
   ]
  },
  {
   "cell_type": "code",
   "execution_count": 6,
   "metadata": {
    "collapsed": false,
    "deletable": true,
    "editable": true,
    "jupyter": {
     "outputs_hidden": false
    },
    "pycharm": {
     "name": "#%%\n"
    }
   },
   "outputs": [
    {
     "name": "stdout",
     "output_type": "stream",
     "text": [
      "time elapsed = 30.063782930374146\n",
      "betas coord = [[-2.57080885]\n",
      " [-0.99958278]\n",
      " [ 1.94833615]\n",
      " [ 0.95856798]\n",
      " [-1.0907289 ]\n",
      " [-1.08778837]\n",
      " [-2.04279661]\n",
      " [ 1.9122116 ]\n",
      " [ 0.00470273]\n",
      " [-1.00596196]\n",
      " [ 0.039872  ]]\n",
      "betas exact = [[-3.36658734 -0.92082053  2.02954826  1.03316413 -0.994283   -1.01341232\n",
      "  -1.96564423  1.98869464  0.08196519 -0.92504425  0.10963372]]\n",
      "number iterations = 100000\n",
      "tolerance= 1.4690988153868076\n",
      "error 0.15740508224021532\n"
     ]
    }
   ],
   "source": [
    "#Descenso por coordenadas\n",
    "(a, b) = X.shape\n",
    "\n",
    "def least_sq_reg_der_coord(beta_ls,index,X,Y):\n",
    "    pp=np.array(-2*np.dot((Y-np.dot(X,beta_ls)).T,X[:,index]))\n",
    "    aa=np.zeros([b,1])\n",
    "    aa[index]=pp\n",
    "    return aa.T\n",
    "\n",
    "\n",
    "niter = 100000\n",
    "epsilon = 1e-9\n",
    "i = 0\n",
    "alpha = 1e-5\n",
    "OF_iter = np.zeros(niter)\n",
    "tol_iter = np.zeros(niter)\n",
    "error_coord_iter = []\n",
    "tol = 10\n",
    "beta_coord = np.zeros([b,1])\n",
    "\n",
    "time_start = time.time()\n",
    "\n",
    "while (i < niter) and (tol > epsilon):\n",
    "    k = np.random.randint(b)\n",
    "    gradk = least_sq_reg_der_coord(beta_coord,k,X,Y).T\n",
    "    beta_coord = beta_coord - alpha*gradk\n",
    "    tol = np.linalg.norm(gradk, ord = 2)\n",
    "    OF_iter[i]  = least_sq_reg(beta_coord.T, X, Y)\n",
    "    tol_iter[i] = tol\n",
    "    error_coord_iter.append(np.linalg.norm(np.transpose(beta_ls_exact) - beta_coord.T, ord = 2)/np.linalg.norm(beta_ls_exact, ord = 2))\n",
    "    i +=1\n",
    "    \n",
    "    \n",
    "time_elapsed = (time.time() - time_start)\n",
    "print('time elapsed =',time_elapsed)\n",
    "print('betas coord =',beta_coord)\n",
    "print('betas exact =', beta_ls_exact.T)\n",
    "print('number iterations =',i)\n",
    "print('tolerance=',tol) \n",
    "print('error', np.linalg.norm(np.transpose(beta_ls_exact) - beta_coord.T, ord = 2)/np.linalg.norm(beta_ls_exact, ord = 2)) "
   ]
  },
  {
   "cell_type": "code",
   "execution_count": 7,
   "metadata": {
    "pycharm": {
     "name": "#%%\n"
    }
   },
   "outputs": [
    {
     "data": {
      "text/plain": [
       "Text(0, 0.5, 'error')"
      ]
     },
     "execution_count": 7,
     "metadata": {},
     "output_type": "execute_result"
    },
    {
     "data": {
      "image/png": "[encoded data removed]",
      "text/plain": [
       "<Figure size 576x288 with 1 Axes>"
      ]
     },
     "metadata": {
      "needs_background": "light"
     },
     "output_type": "display_data"
    }
   ],
   "source": [
    "plt.fig = plt.figure(figsize=(8,4))\n",
    "plt.plot(error_coord_iter)\n",
    "plt.xlabel('iteration')\n",
    "plt.ylabel('error')"
   ]
  },
  {
   "cell_type": "code",
   "execution_count": 8,
   "metadata": {
    "pycharm": {
     "name": "#%%\n"
    }
   },
   "outputs": [
    {
     "data": {
      "text/plain": [
       "Text(0, 0.5, 'error')"
      ]
     },
     "execution_count": 8,
     "metadata": {},
     "output_type": "execute_result"
    },
    {
     "data": {
      "image/png": "[encoded data removed]",
      "text/plain": [
       "<Figure size 576x288 with 1 Axes>"
      ]
     },
     "metadata": {
      "needs_background": "light"
     },
     "output_type": "display_data"
    }
   ],
   "source": [
    "n_last=200\n",
    "plt.fig = plt.figure(figsize=(8,4))\n",
    "plt.plot(error_coord_iter[-n_last:])\n",
    "plt.xlabel('iteration')\n",
    "plt.ylabel('error')"
   ]
  },
  {
   "cell_type": "markdown",
   "metadata": {
    "pycharm": {
     "name": "#%% md\n"
    }
   },
   "source": [
    "### Comparison with SG"
   ]
  },
  {
   "cell_type": "code",
   "execution_count": 9,
   "metadata": {
    "pycharm": {
     "name": "#%%\n"
    }
   },
   "outputs": [
    {
     "name": "stdout",
     "output_type": "stream",
     "text": [
      "time elapsed = 33.09663963317871\n",
      "betas grad = [-3.36658081 -0.92082118  2.02954759  1.03316352 -0.99428379 -1.01341293\n",
      " -1.96564487  1.98869402  0.08196456 -0.92504491  0.10963315]\n",
      "betas exact = [[-3.36658734 -0.92082053  2.02954826  1.03316413 -0.994283   -1.01341232\n",
      "  -1.96564423  1.98869464  0.08196519 -0.92504425  0.10963372]]\n",
      "number iterations = 89201\n",
      "tolerance= 9.999898417173299e-05\n",
      "final error = 1.2913122982398867e-06\n"
     ]
    }
   ],
   "source": [
    "(a, b) = X.shape\n",
    "niter = 100000\n",
    "epsilon = 1e-4\n",
    "i = 0\n",
    "alpha = 1e-5 #need to be reescaled, the OF is nsample times higher\n",
    "OF_iter = np.zeros(niter)\n",
    "tol_iter = np.zeros(niter)\n",
    "error_grad_iter = np.zeros(niter)\n",
    "tol = 10\n",
    "beta_grad = np.zeros(b)\n",
    "\n",
    "\n",
    "time_start = time.time()\n",
    "\n",
    "while (i < niter) and (tol > epsilon): \n",
    "    grad = least_sq_reg_der(beta_grad.T, X, Y)\n",
    "    beta_grad=beta_grad-alpha*grad\n",
    "    tol = np.linalg.norm(grad, ord = 2)\n",
    "    OF_iter[i]  = least_sq_reg(beta_grad, X, Y)\n",
    "    tol_iter[i] = tol\n",
    "    error_grad_iter[i] = np.linalg.norm(np.transpose(beta_ls_exact) - beta_grad, ord = 2)/np.linalg.norm(beta_ls_exact, ord = 2)\n",
    "    i +=1     \n",
    "time_elapsed = (time.time() - time_start)\n",
    "print('time elapsed =',time_elapsed)\n",
    "print('betas grad =',beta_grad)\n",
    "print('betas exact =', beta_ls_exact.T)\n",
    "print('number iterations =',i)\n",
    "print('tolerance=',tol) \n",
    "print('final error =', np.linalg.norm(np.transpose(beta_ls_exact) - beta_grad, ord = 2)/np.linalg.norm(beta_ls_exact, ord = 2)) "
   ]
  },
  {
   "cell_type": "code",
   "execution_count": 10,
   "metadata": {
    "pycharm": {
     "name": "#%%\n"
    }
   },
   "outputs": [
    {
     "name": "stderr",
     "output_type": "stream",
     "text": [
      "<ipython-input-10-410347dbf0eb>:9: RuntimeWarning: divide by zero encountered in log\n",
      "  plt.plot(np.log(error_grad_iter))\n"
     ]
    },
    {
     "data": {
      "text/plain": [
       "Text(0, 0.5, 'log(error)')"
      ]
     },
     "execution_count": 10,
     "metadata": {},
     "output_type": "execute_result"
    },
    {
     "data": {
      "image/png": "[encoded data removed]",
      "text/plain": [
       "<Figure size 576x288 with 1 Axes>"
      ]
     },
     "metadata": {
      "needs_background": "light"
     },
     "output_type": "display_data"
    },
    {
     "data": {
      "image/png": "[encoded data removed]",
      "text/plain": [
       "<Figure size 576x288 with 1 Axes>"
      ]
     },
     "metadata": {
      "needs_background": "light"
     },
     "output_type": "display_data"
    }
   ],
   "source": [
    "plt.fig = plt.figure(figsize=(8,4))\n",
    "plt.plot(error_coord_iter)\n",
    "plt.plot(error_grad_iter)\n",
    "plt.xlabel('#iterations')\n",
    "plt.ylabel('error')\n",
    "\n",
    "plt.fig = plt.figure(figsize=(8,4))\n",
    "plt.plot(np.log(error_coord_iter))\n",
    "plt.plot(np.log(error_grad_iter))\n",
    "plt.xlabel('#iterations')\n",
    "plt.ylabel('log(error)')"
   ]
  }
 ],
 "metadata": {
  "kernelspec": {
   "display_name": "Python 3",
   "language": "python",
   "name": "python3"
  },
  "language_info": {
   "codemirror_mode": {
    "name": "ipython",
    "version": 3
   },
   "file_extension": ".py",
   "mimetype": "text/x-python",
   "name": "python",
   "nbconvert_exporter": "python",
   "pygments_lexer": "ipython3",
   "version": "3.8.5"
  }
 },
 "nbformat": 4,
 "nbformat_minor": 4
}