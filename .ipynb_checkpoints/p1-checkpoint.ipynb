{
 "cells": [
  {
   "cell_type": "code",
   "execution_count": 1,
   "metadata": {
    "pycharm": {
     "name": "#%%\n"
    },
    "scrolled": false
   },
   "outputs": [
    {
     "name": "stdout",
     "output_type": "stream",
     "text": [
      "Requirement already satisfied: numpy in ./venv/lib/python3.8/site-packages (1.22.3)\n",
      "\u001b[33mWARNING: You are using pip version 21.3.1; however, version 22.0.4 is available.\n",
      "You should consider upgrading via the '/Users/Garen/pythonProject1/venv/bin/python -m pip install --upgrade pip' command.\u001b[0m\n",
      "Requirement already satisfied: latex in ./venv/lib/python3.8/site-packages (0.7.0)\n",
      "Requirement already satisfied: data in ./venv/lib/python3.8/site-packages (from latex) (0.4)\n",
      "Requirement already satisfied: future in ./venv/lib/python3.8/site-packages (from latex) (0.18.2)\n",
      "Requirement already satisfied: tempdir in ./venv/lib/python3.8/site-packages (from latex) (0.7.1)\n",
      "Requirement already satisfied: shutilwhich in ./venv/lib/python3.8/site-packages (from latex) (1.1.0)\n",
      "Requirement already satisfied: funcsigs in ./venv/lib/python3.8/site-packages (from data->latex) (1.0.2)\n",
      "Requirement already satisfied: decorator in ./venv/lib/python3.8/site-packages (from data->latex) (5.1.1)\n",
      "Requirement already satisfied: six in ./venv/lib/python3.8/site-packages (from data->latex) (1.16.0)\n",
      "\u001b[33mWARNING: You are using pip version 21.3.1; however, version 22.0.4 is available.\n",
      "You should consider upgrading via the '/Users/Garen/pythonProject1/venv/bin/python -m pip install --upgrade pip' command.\u001b[0m\n"
     ]
    }
   ],
   "source": [
    "# installation\n",
    "!pip install numpy\n",
    "!pip install latex"
   ]
  },
  {
   "cell_type": "markdown",
   "metadata": {
    "pycharm": {
     "name": "#%% md\n"
    }
   },
   "source": [
    "$\\frac{2}{2}$\n",
    "\n"
   ]
  },
  {
   "cell_type": "markdown",
   "metadata": {},
   "source": []
  },
  {
   "cell_type": "code",
   "execution_count": null,
   "metadata": {
    "pycharm": {
     "name": "#%%\n"
    }
   },
   "outputs": [],
   "source": []
  },
  {
   "cell_type": "code",
   "execution_count": null,
   "metadata": {
    "pycharm": {
     "name": "#%%\n"
    }
   },
   "outputs": [],
   "source": [
    "# const\n",
    "K = 1000 # the dimension of X\n",
    "N = 10000 # the size of dataset\n",
    "\n"
   ]
  },
  {
   "cell_type": "markdown",
   "metadata": {
    "pycharm": {
     "name": "#%% md\n"
    }
   },
   "source": [
    "a) Estimate the value of the regression coefficients by implementing the analytical solution. Use this solution as a benchmark for the following sections"
   ]
  },
  {
   "cell_type": "markdown",
   "metadata": {
    "pycharm": {
     "name": "#%% md\n"
    }
   },
   "source": [
    "Since the above optimization is constrained we should use barrier methods.\n",
    "\n"
   ]
  },
  {
   "cell_type": "code",
   "execution_count": null,
   "metadata": {
    "pycharm": {
     "name": "#%%\n"
    }
   },
   "outputs": [],
   "source": [
    "\n"
   ]
  }
 ],
 "metadata": {
  "kernelspec": {
   "display_name": "Python 3",
   "language": "python",
   "name": "python3"
  },
  "language_info": {
   "codemirror_mode": {
    "name": "ipython",
    "version": 3
   },
   "file_extension": ".py",
   "mimetype": "text/x-python",
   "name": "python",
   "nbconvert_exporter": "python",
   "pygments_lexer": "ipython3",
   "version": "3.8.12"
  }
 },
 "nbformat": 4,
 "nbformat_minor": 1
}
