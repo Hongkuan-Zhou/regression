{
 "cells": [
  {
   "cell_type": "markdown",
   "metadata": {
    "pycharm": {
     "name": "#%% md\n"
    }
   },
   "source": [
    "## An SVM fitting and testing code\n",
    "\n",
    "<p>&nbsp;</p>\n",
    "\n",
    "In this example we will:\n",
    "- Generate random multivariate data from a mixture of two normal distributions\n",
    "- Split the data into training and testing subsets\n",
    "- Fit a linear SVM to the data\n",
    "- Test the resulting classification model on the testing subset\n"
   ]
  },
  {
   "cell_type": "code",
   "execution_count": null,
   "metadata": {
    "scrolled": true,
    "pycharm": {
     "name": "#%%\n"
    }
   },
   "outputs": [],
   "source": [
    "# Initial block to define basic parameters, generate the data and plot it\n",
    "\n",
    "from __future__ import division\n",
    "import numpy as np\n",
    "import matplotlib.pyplot as plt\n",
    "%matplotlib inline\n",
    "\n",
    "#np.random.seed(1)\n",
    "\n",
    "## Define numbers of observations and variables\n",
    "\n",
    "V = 25    # number of variables (add one to account for the independent term)\n",
    "N = 500  # number of observations\n",
    "\n",
    "## Other parameters\n",
    "\n",
    "mu = 4       # distance between centers of observations\n",
    "s_min = 0.5  # min scaling parameter\n",
    "s_max = 2    # max scaling parameter\n",
    "\n",
    "C_SVM = 2    # SVM parameter\n",
    "\n",
    "### Assign sizes of the two groups\n",
    "\n",
    "N0 = np.random.randint(0.1*N,0.9*N)\n",
    "N1 = N - N0\n",
    "\n",
    "## Generate a matrix of normal random values\n",
    "\n",
    "X = np.random.normal(0,1,size=([N,V]))\n",
    "\n",
    "Y = np.ones((N,1))\n",
    "Y[ 0:N0 ] = -1\n",
    "\n",
    "### For one of the groups, separate centers by mu*u_0 (approximately) and scale by v_0\n",
    "\n",
    "u_0 = np.random.normal(0,1,size=(V,1))\n",
    "u_0 = u_0/np.linalg.norm(u_0,ord=2)\n",
    "\n",
    "v_0 = np.random.uniform(s_min,s_max,size=(1,V))\n",
    "\n",
    "X[ N0:N , :] = X[ N0:N , :] * v_0[ : , None ]\n",
    "X[ N0:N , :] = X[ N0:N , :] + mu*u_0.T[ : , None]\n",
    "\n",
    "## Plot observations along u_0 and an orthogonal direction u_1\n",
    "\n",
    "e_vec = np.ones((1,V))\n",
    "u_1 = e_vec.T - np.dot(e_vec,u_0)*u_0\n",
    "u_1 = u_1/np.linalg.norm(u_1,ord=2)\n",
    "\n",
    "plt.figure(figsize=(6, 6))\n",
    "plt.plot(np.dot(X[ 0:N0 , : ],u_0),np.dot(X[ 0:N0 , : ],u_1),'ro')\n",
    "plt.plot(np.dot(X[ N0:N , : ],u_0),np.dot(X[ N0:N , : ],u_1),'bo')\n",
    "\n",
    "## Show plot\n",
    "\n",
    "plt.show()\n"
   ]
  },
  {
   "cell_type": "code",
   "execution_count": null,
   "metadata": {
    "pycharm": {
     "name": "#%%\n"
    }
   },
   "outputs": [],
   "source": [
    "# Create two subsets of observations, to be used as training and testing sets\n",
    "\n",
    "N_tr = np.rint(N*0.8).astype(int)\n",
    "N_ts = N - N_tr\n",
    "\n",
    "## Random permutation to assign observations and indices for both subsets\n",
    "\n",
    "ix_0 = np.random.permutation(np.arange(N))\n",
    "\n",
    "ix_tr = ix_0[0:N_tr]\n",
    "ix_ts = ix_0[N_tr:N]\n",
    "\n",
    "## Matrices with data for each subset\n",
    "\n",
    "X_tr = X[ix_tr,:]\n",
    "X_ts = X[ix_ts,:]\n",
    "\n",
    "Y_tr = Y[ix_tr]\n",
    "Y_ts = Y[ix_ts]\n"
   ]
  },
  {
   "cell_type": "markdown",
   "metadata": {
    "pycharm": {
     "name": "#%% md\n"
    }
   },
   "source": [
    "Define and solve the dual SVM problem,\n",
    "\n",
    "$$\n",
    "  \\begin{array}{lc}\n",
    "    \\max_{\\alpha} & \\sum_i \\alpha_i - \\frac{1}{2} \\sum_i \\sum_j \\alpha_i \\alpha_j y_i y_j x_i^T x_j \\\\\n",
    "    \\mbox{s.t.} & \\sum_i y_i \\alpha_i = 0 \\\\\n",
    "    & 0 \\leq \\alpha_i \\leq C\n",
    "  \\end{array}\n",
    "$$\n",
    "\n",
    "Note that we have to minimize the objective function in order to use the *minimize* library\n"
   ]
  },
  {
   "cell_type": "code",
   "execution_count": null,
   "metadata": {
    "scrolled": true,
    "pycharm": {
     "name": "#%%\n"
    }
   },
   "outputs": [],
   "source": [
    "# Define objective function and its first derivatives for the SVM model\n",
    "\n",
    "def svm_obj(alpha,X,Y):\n",
    "    alpha = np.matrix(alpha).T\n",
    "    alpha_y = np.multiply(alpha,Y)\n",
    "    quad_tr = np.dot(X.T,alpha_y)\n",
    "    quad_t = np.dot(quad_tr.T,quad_tr)\n",
    "    lin_t = np.sum(alpha)\n",
    "    ff = 0.5*quad_t - lin_t\n",
    "    ff = ff.item(0)\n",
    "    return ff\n",
    "\n",
    "def svm_grad(alpha,X,Y):\n",
    "    alpha = np.matrix(alpha).T\n",
    "    alpha_y = np.multiply(alpha,Y)\n",
    "    quad_tr0 = np.dot(X.T,alpha_y)\n",
    "    quad_tr1 = np.dot(X,quad_tr0)\n",
    "    quad_t = np.multiply(Y,quad_tr1)\n",
    "    gg = quad_t - 1\n",
    "    gg = np.squeeze(np.asarray(gg))\n",
    "    return gg\n"
   ]
  },
  {
   "cell_type": "code",
   "execution_count": null,
   "metadata": {
    "pycharm": {
     "name": "#%%\n"
    }
   },
   "outputs": [],
   "source": [
    "# Check that the derivative routine for the objective function is computing correct values\n",
    "\n",
    "## Initial values for  alpha, u and delta\n",
    "\n",
    "alpha_0 = np.ones(N_tr)\n",
    "delta_v = 1.0e-4\n",
    "u_p = np.random.normal(0,1,size=N_tr)\n",
    "u_p = u_p/np.linalg.norm(u_p,ord=2)\n",
    "\n",
    "## Values of the objective function at  alpha  and  alpha + delta*u\n",
    "\n",
    "alpha_1 = alpha_0 + delta_v*u_p\n",
    "\n",
    "v_1 = svm_obj(alpha_1,X_tr,Y_tr)\n",
    "v_0 = svm_obj(alpha_0,X_tr,Y_tr)\n",
    "\n",
    "## Compute the gradient at  alpha\n",
    "\n",
    "grad_0 = svm_grad(alpha_0,X_tr,Y_tr)\n",
    "\n",
    "## Compare the value of the directional derivative  g'u  with the \n",
    "## finite difference approximation  (f_1 - f_0)/delta\n",
    "\n",
    "fd_appr = (v_1 - v_0)/delta_v\n",
    "dir_der = np.dot(grad_0.T,u_p)\n",
    "print('Finite difference approx: %12.6f' %fd_appr)\n",
    "print('Directional derivative:   %12.6f' %dir_der)\n"
   ]
  },
  {
   "cell_type": "code",
   "execution_count": null,
   "metadata": {
    "scrolled": true,
    "pycharm": {
     "name": "#%%\n"
    }
   },
   "outputs": [],
   "source": [
    "# Define constraint and bounds for the SVM model\n",
    "\n",
    "from scipy.optimize import minimize\n",
    "from scipy.optimize import Bounds\n",
    "\n",
    "## Define the constraint\n",
    "\n",
    "eq_cns = { 'type': 'eq',\n",
    "           'fun' : lambda alpha,X,Y : alpha.dot(Y) ,\n",
    "           'args': (X_tr,Y_tr) }\n",
    "\n",
    "## Two auxiliary vectors, a vector of ones and a vector of zeros\n",
    "\n",
    "vct_e = np.ones(N_tr)\n",
    "vct_0 = np.zeros(N_tr)\n",
    "\n",
    "# Define bounds\n",
    "\n",
    "bnds = Bounds(vct_0, C_SVM*vct_e)\n"
   ]
  },
  {
   "cell_type": "code",
   "execution_count": null,
   "metadata": {
    "scrolled": true,
    "pycharm": {
     "name": "#%%\n"
    }
   },
   "outputs": [],
   "source": [
    "# Use constrained optimization procedure (SLSQP,trust-constr,etc) to optimize the SVM model\n",
    "# Use training data subset\n",
    "\n",
    "import time\n",
    "\n",
    "## Initial values for the dual variables, alpha\n",
    "\n",
    "alpha0 = np.ones(N_tr)\n",
    "\n",
    "## Call the optimization routine\n",
    "\n",
    "time_start = time.process_time()\n",
    "\n",
    "res = minimize(svm_obj,alpha0,args=(X_tr,Y_tr),jac=svm_grad,bounds=bnds,constraints=eq_cns,options={'disp': True})\n",
    "\n",
    "time_elapsed = (time.process_time() - time_start) \n",
    "\n",
    "## Print results\n",
    "\n",
    "print('Elapsed time = %8.5f' %(time_elapsed))\n"
   ]
  },
  {
   "cell_type": "markdown",
   "metadata": {
    "pycharm": {
     "name": "#%% md\n"
    }
   },
   "source": [
    "From the solution of the optimization problem, we define a separating hyperplane such that\n",
    "\n",
    "$$\n",
    "  \\begin{array}{cl}\n",
    "    \\mbox{if}\\quad w^T x + b \\geq 0 & \\mbox{ then } x \\in A \\\\\n",
    "    \\mbox{if}\\quad w^T x + b < 0 & \\mbox{ then } x \\in B\n",
    "  \\end{array}\n",
    "$$\n",
    "\n",
    "The value of $w$ can be obtained from the primal-dual relationships as\n",
    "\n",
    "$$\n",
    "   w = \\sum_i \\alpha_i y_i x_i\n",
    "$$\n",
    "\n",
    "The value of $b$ can be obtained from a support vector $x_j$ (a vector with $j$ satisfying $C > \\alpha_j > 0$) as\n",
    "\n",
    "$$\n",
    "   b = y_j - w^T x_j\n",
    "$$\n",
    "\n",
    "or as the average of the values $b$ for all support vectors.\n"
   ]
  },
  {
   "cell_type": "code",
   "execution_count": null,
   "metadata": {
    "pycharm": {
     "name": "#%%\n"
    }
   },
   "outputs": [],
   "source": [
    "# Extract values defining the separating hyperplane, w and b\n",
    "\n",
    "alpha_sv = res.x\n",
    "\n",
    "## Value of w from its formula\n",
    "\n",
    "w_val = np.dot(np.multiply(alpha_sv,Y_tr.T),X_tr)\n",
    "\n",
    "## Value of b (b_val) as the mean of the computed values for all support vectors\n",
    "\n",
    "l_sv = (alpha_sv > 1.0e-4) & (alpha_sv < C_SVM - 1.0e-4)\n",
    "i_sv = np.array(range(len(alpha_sv)))\n",
    "i_sv = i_sv[l_sv]\n",
    "\n",
    "b_val = np.mean(Y_tr[i_sv] - np.dot(X_tr[i_sv,:],w_val.T))\n"
   ]
  },
  {
   "cell_type": "code",
   "execution_count": null,
   "metadata": {
    "pycharm": {
     "name": "#%%\n"
    }
   },
   "outputs": [],
   "source": [
    "# Represent the separating hyperplane on a 2-dimensional subspace\n",
    "\n",
    "## Plot the observations\n",
    "\n",
    "plt.figure(figsize=(6, 6))\n",
    "\n",
    "x_u0 = np.dot(X,u_0)\n",
    "x_u1 = np.dot(X,u_1)\n",
    "x_a_u0 = x_u0[0:N0]\n",
    "x_a_u1 = x_u1[0:N0]\n",
    "x_b_u0 = x_u0[N0:N]\n",
    "x_b_u1 = x_u1[N0:N]\n",
    "\n",
    "plt.plot(x_a_u0,x_a_u1,'ro')\n",
    "plt.plot(x_b_u0,x_b_u1,'bo')\n",
    "\n",
    "## Plot the separating hyperplane\n",
    "\n",
    "x_mn = np.min(x_u0)\n",
    "x_mx = np.max(x_u0)\n",
    "y_mn = np.min(x_u1)\n",
    "y_mx = np.max(x_u1)\n",
    "\n",
    "x_plt = np.arange(x_mn,x_mx,(x_mx-x_mn)/100)\n",
    "\n",
    "a_0 = np.dot(w_val,u_0).item(0)\n",
    "a_1 = np.dot(w_val,u_1).item(0)\n",
    "y_plt = -(b_val + a_0*x_plt)/a_1\n",
    "\n",
    "l_plt = (y_plt < y_mx) & (y_plt > y_mn)\n",
    "\n",
    "plt.plot(x_plt[l_plt],y_plt[l_plt],'g')\n",
    "\n",
    "## Show plot\n",
    "\n",
    "plt.show()\n"
   ]
  },
  {
   "cell_type": "code",
   "execution_count": null,
   "metadata": {
    "pycharm": {
     "name": "#%%\n"
    }
   },
   "outputs": [],
   "source": [
    "# Check the quality of the results on the testing subset\n",
    "\n",
    "## Compute the scores from the SVM\n",
    "\n",
    "cls_sv_ts = np.dot(X_ts,w_val.T) + b_val\n",
    "\n",
    "## Compare the positive scores with the values of Y_ts\n",
    "\n",
    "l_pos = (cls_sv_ts >= 0)\n",
    "Y_pos = Y_ts[l_pos]\n",
    "n_a = len(Y_pos)\n",
    "l_pos_a = (Y_pos == 1)\n",
    "\n",
    "cnt_aa = len(Y_pos[l_pos_a]) \n",
    "cnt_ab = n_a - cnt_aa\n",
    "\n",
    "## Compare the negative scores with the values of Y_ts\n",
    "\n",
    "l_neg = (cls_sv_ts < 0)\n",
    "Y_neg = Y_ts[l_neg]\n",
    "n_b = len(Y_neg)\n",
    "l_neg_a = (Y_neg == -1)\n",
    "\n",
    "cnt_bb = len(Y_neg[l_neg_a])\n",
    "cnt_ba = n_b - cnt_bb\n",
    "\n",
    "## Print the results for the numbers of correct and incorrect idenfications\n",
    "\n",
    "print('                Generated (correct) labels')\n",
    "print('                          A       B ')\n",
    "print(' Identified label A: %6d  %6d' %(cnt_aa,cnt_ab))\n",
    "print(' Identified label B: %6d  %6d' %(cnt_ba,cnt_bb))\n"
   ]
  },
  {
   "cell_type": "code",
   "execution_count": null,
   "metadata": {
    "pycharm": {
     "name": "#%%\n"
    }
   },
   "outputs": [],
   "source": []
  }
 ],
 "metadata": {
  "kernelspec": {
   "display_name": "Python 3",
   "language": "python",
   "name": "python3"
  },
  "language_info": {
   "codemirror_mode": {
    "name": "ipython",
    "version": 3
   },
   "file_extension": ".py",
   "mimetype": "text/x-python",
   "name": "python",
   "nbconvert_exporter": "python",
   "pygments_lexer": "ipython3",
   "version": "3.8.5"
  }
 },
 "nbformat": 4,
 "nbformat_minor": 4
}