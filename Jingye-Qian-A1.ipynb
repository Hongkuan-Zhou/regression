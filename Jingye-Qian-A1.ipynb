{
 "cells": [
  {
   "cell_type": "markdown",
   "metadata": {
    "pycharm": {
     "name": "#%% md\n"
    }
   },
   "source": [
    "# Advanced Numerical Methods for Data Science\n",
    "\n",
    "### 1st Assignment (2021-2022)\n",
    "\n",
    "### Jingye Qian (100384773)"
   ]
  },
  {
   "cell_type": "markdown",
   "metadata": {
    "pycharm": {
     "name": "#%% md\n"
    }
   },
   "source": [
    "Generate random data from a predefined linear regression model. In particular, consider that $0 \\leq \\beta_i \\leq 5$ $i = 0, \\dots, K$ are integer with at least $K = 1000$ independent variables $X = (X_1, X_3,\\ldots,X_K)$ and $n = 5000$ observations. We seek to adjust a multiple linear regression model to explain variable $Y$ as a function of the other variables $X$,i.e., $(Y = \\beta^{'}X + \\epsilon)$ by using “Ridge Regression” under a least-squares approach:\n",
    "\n",
    "$$\\min_{\\beta} \\quad \\left \\| y-X\\beta \\right\\|_2^2 + \\rho \\left \\|\\beta \\right\\|_2^2$$\n",
    "\n",
    "where $\\rho$ is a parameter of your election (for instance consider $\\rho= 5$).\n"
   ]
  },
  {
   "cell_type": "code",
   "execution_count": 2,
   "metadata": {
    "pycharm": {
     "name": "#%%\n"
    },
    "scrolled": false
   },
   "outputs": [
    {
     "name": "stdout",
     "output_type": "stream",
     "text": [
      "Requirement already satisfied: numpy in /Library/Frameworks/Python.framework/Versions/3.7/lib/python3.7/site-packages (1.20.3)\r\n",
      "\u001B[33mWARNING: You are using pip version 21.3.1; however, version 22.0.4 is available.\r\n",
      "You should consider upgrading via the '/usr/local/bin/python3 -m pip install --upgrade pip' command.\u001B[0m\r\n",
      "Requirement already satisfied: scipy in /Library/Frameworks/Python.framework/Versions/3.7/lib/python3.7/site-packages (1.2.3)\r\n",
      "Requirement already satisfied: numpy>=1.8.2 in /Library/Frameworks/Python.framework/Versions/3.7/lib/python3.7/site-packages (from scipy) (1.20.3)\r\n",
      "\u001B[33mWARNING: You are using pip version 21.3.1; however, version 22.0.4 is available.\r\n",
      "You should consider upgrading via the '/usr/local/bin/python3 -m pip install --upgrade pip' command.\u001B[0m\r\n"
     ]
    }
   ],
   "source": [
    "# installation\n",
    "!pip install numpy\n",
    "!pip install scipy"
   ]
  },
  {
   "cell_type": "markdown",
   "metadata": {
    "pycharm": {
     "name": "#%% md\n"
    }
   },
   "source": []
  },
  {
   "cell_type": "code",
   "execution_count": 7,
   "metadata": {
    "pycharm": {
     "name": "#%%\n"
    }
   },
   "outputs": [],
   "source": [
    "# importing\n",
    "import matplotlib.pyplot as plt\n",
    "import numpy as np"
   ]
  },
  {
   "cell_type": "code",
   "execution_count": 8,
   "metadata": {
    "pycharm": {
     "name": "#%%\n"
    }
   },
   "outputs": [],
   "source": [
    "np.random.seed(1234)\n",
    "# const\n",
    "K = 1000 # the dimension of X\n",
    "N = 50000 # the size of dataset\n",
    "# create random dataset\n",
    "X0_s = np.ones([N,1]) # the first column has all values equal to one for the coefficients of beta_0\n",
    "X1_s = np.random.uniform(0,1,([N,K]))\n",
    "X = np.concatenate([X0_s, X1_s],axis=1)\n",
    "beta = np.random.randint(0,5,size=K+1)\n",
    "## Values for the normal errors\n",
    "\n",
    "error_s = np.random.normal(0,1,N)\n",
    "\n",
    "## Values for the y's\n",
    "\n",
    "Y = np.dot(X,beta) + error_s\n",
    "rho = 5"
   ]
  },
  {
   "cell_type": "markdown",
   "metadata": {
    "pycharm": {
     "name": "#%% md\n"
    }
   },
   "source": [
    "# a) \n",
    "\n",
    "Estimate the value of the regression coefficients by implementing the analytical solution. Use this solution as a benchmark for the following sections."
   ]
  },
  {
   "cell_type": "markdown",
   "metadata": {
    "pycharm": {
     "name": "#%% md\n"
    }
   },
   "source": [
    "In order to solve the following objective function:\n",
    "$$\n",
    "\\begin{align*}\n",
    "  \\text{minimize}_\\beta \\quad & \\|y-X\\beta\\|_2^2 + \\rho \\| \\beta \\|_2^2\n",
    "\\end{align*}\n",
    "$$\n",
    "\n",
    "we can derive its explicit solution $\\beta_{ls}=(X^T X + \\rho)^{-1}X^T y$\n"
   ]
  },
  {
   "cell_type": "code",
   "execution_count": 9,
   "metadata": {
    "pycharm": {
     "name": "#%%\n"
    }
   },
   "outputs": [],
   "source": [
    "from numpy.linalg import inv\n",
    "beta_ridge_exact = inv(X.T @ X + rho * np.identity(K+1)) @ X.T @ Y"
   ]
  },
  {
   "cell_type": "markdown",
   "metadata": {
    "pycharm": {
     "name": "#%% md\n"
    }
   },
   "source": [
    "# b)\n",
    "Estimate the value of the regression coefficients by using the function minimize from the Python module **Scipy.optimize**. Try at least four available solvers and compare their performance in terms of number of iterations, number of function, gradient and hessian evaluations as well as total computational time."
   ]
  },
  {
   "cell_type": "code",
   "execution_count": 10,
   "metadata": {
    "pycharm": {
     "name": "#%%\n"
    }
   },
   "outputs": [],
   "source": [
    "from scipy.optimize import minimize\n",
    "from scipy.optimize import Bounds\n",
    "import time\n",
    "\n",
    "def rigid_reg(beta_ls, X, Y, rho):\n",
    "    z = Y - X @ beta_ls\n",
    "    return np.dot(z,z) + rho * np.dot(beta_ls, beta_ls)"
   ]
  },
  {
   "cell_type": "markdown",
   "metadata": {
    "pycharm": {
     "name": "#%% md\n"
    }
   },
   "source": [
    "### i. L-BFGS-B Method"
   ]
  },
  {
   "cell_type": "code",
   "execution_count": 16,
   "metadata": {
    "pycharm": {
     "name": "#%%\n"
    }
   },
   "outputs": [
    {
     "name": "stdout",
     "output_type": "stream",
     "text": [
      "Training time: 1829.734375 s\n",
      "      fun: 224518.10416348706\n",
      " hess_inv: <1001x1001 LbfgsInvHessProduct with dtype=float64>\n",
      "      jac: array([ 934.39594479,  161.55245246,   64.80841005, ...,  757.84337229,\n",
      "       1446.87365689,  666.43988653])\n",
      "  message: 'STOP: TOTAL NO. of f AND g EVALUATIONS EXCEEDS LIMIT'\n",
      "     nfev: 15030\n",
      "      nit: 11\n",
      "     njev: 15\n",
      "   status: 1\n",
      "  success: False\n",
      "        x: array([ 4.04683662, -0.01735821,  1.97087143, ...,  0.02721431,\n",
      "        3.1254334 ,  3.97610364])\n",
      "\n",
      "Error in values of coefficients =   0.0777\n"
     ]
    }
   ],
   "source": [
    "beta0 = np.zeros(K+1)\n",
    "start_time = time.process_time()\n",
    "res = minimize(rigid_reg, beta0, args=(X, Y, rho),  method='L-BFGS-B', options={'disp': True, 'maxiter': 200})\n",
    "end_time = time.process_time()\n",
    "print('Training time: %f s' %(end_time - start_time))\n",
    "print(res)\n",
    "err_val_1 = np.linalg.norm(beta_ridge_exact.T-res.x,ord=2)/np.linalg.norm(beta_ridge_exact.T,ord=2)\n",
    "print('\\nError in values of coefficients = %8.4f' %err_val_1)"
   ]
  },
  {
   "cell_type": "markdown",
   "metadata": {
    "collapsed": false,
    "pycharm": {
     "name": "#%% md\n"
    }
   },
   "source": [
    "##### Outputs\n",
    "Current function value: 79579.8979\n",
    "\n",
    "Iterations: 11\n",
    "\n",
    "Function evaluations: 15030\n",
    "\n",
    "Gradient evaluations: 15\n",
    "\n",
    "Hessian evaluations: 0\n",
    "\n",
    "Training time: 1829.734375 s\n",
    "\n",
    "Error in values of coefficients =   0.0777"
   ]
  },
  {
   "cell_type": "markdown",
   "metadata": {
    "pycharm": {
     "name": "#%% md\n"
    }
   },
   "source": [
    "### ii. Scalar function of one or more variables using Sequential Least Squares Programming (SLSQP)"
   ]
  },
  {
   "cell_type": "code",
   "execution_count": 16,
   "metadata": {
    "pycharm": {
     "name": "#%%\n"
    }
   },
   "outputs": [
    {
     "name": "stdout",
     "output_type": "stream",
     "text": [
      "Optimization terminated successfully    (Exit mode 0)\n",
      "            Current function value: 79579.89790269443\n",
      "            Iterations: 19\n",
      "            Function evaluations: 19115\n",
      "            Gradient evaluations: 19\n",
      "Training time: 763.696749 s\n",
      "(This is a processing time which can be larger than actually wall time when using multiple cores)\n",
      "     fun: 79579.89790269443\n",
      "     jac: array([0.07324219, 0.02148438, 0.04101562, ..., 0.0078125 , 0.04003906,\n",
      "       0.05078125])\n",
      " message: 'Optimization terminated successfully'\n",
      "    nfev: 19115\n",
      "     nit: 19\n",
      "    njev: 19\n",
      "  status: 0\n",
      " success: True\n",
      "       x: array([ 3.36452838, -0.0134765 ,  1.9753466 , ...,  0.00517557,\n",
      "        3.00802566,  3.99427977])\n",
      "\n",
      "Error in values of coefficients =   0.0000\n"
     ]
    }
   ],
   "source": [
    "beta0 = np.zeros(K+1)\n",
    "start_time = time.process_time()\n",
    "res = minimize(rigid_reg, beta0, args=(X, Y, rho),  method='SLSQP', options={'disp': True, 'maxiter': 200})\n",
    "end_time = time.process_time()\n",
    "print('Training time: %f s' %(end_time - start_time))\n",
    "print('(This is a processing time which can be larger than actually wall time when using multiple cores)')\n",
    "print(res)\n",
    "err_val_1 = np.linalg.norm(beta_ridge_exact.T-res.x,ord=2)/np.linalg.norm(beta_ridge_exact.T,ord=2)\n",
    "print('\\nError in values of coefficients = %8.4f' %err_val_1)"
   ]
  },
  {
   "cell_type": "markdown",
   "metadata": {
    "pycharm": {
     "name": "#%% md\n"
    }
   },
   "source": [
    "##### Outputs\n",
    "Current function value: 79579.8979\n",
    "\n",
    "Iterations: 19\n",
    "\n",
    "Function evaluations: 19115\n",
    "\n",
    "Gradient evaluations: 19\n",
    "\n",
    "Hessian evaluations: 0\n",
    "\n",
    "Training time: 763.696749 s\n",
    "\n",
    "Error in values of coefficients =   0.0000"
   ]
  },
  {
   "cell_type": "markdown",
   "metadata": {
    "pycharm": {
     "name": "#%% md\n"
    }
   },
   "source": [
    "### iii. trust-constr algorithm"
   ]
  },
  {
   "cell_type": "code",
   "execution_count": 12,
   "metadata": {
    "pycharm": {
     "name": "#%%\n"
    }
   },
   "outputs": [
    {
     "name": "stdout",
     "output_type": "stream",
     "text": [
      "The maximum number of function evaluations is exceeded.\n",
      "Number of iterations: 30, function evaluations: 30060, CG iterations: 118, optimality: 8.47e+02, constraint violation: 0.00e+00, execution time: 6.3e+02 s.\n",
      "Training time: 3811.734375 s\n",
      "(This is a processing time which can be larger than actually wall time when using multiple cores)\n",
      "\n",
      "Error in values of coefficients =   0.0089\n",
      "         cg_niter: 118\n",
      "     cg_stop_cond: 4\n",
      "           constr: []\n",
      "      constr_nfev: []\n",
      "      constr_nhev: []\n",
      "      constr_njev: []\n",
      "   constr_penalty: 1.0\n",
      " constr_violation: 0\n",
      "   execution_time: 628.1108419895172\n",
      "              fun: 79710.78893295207\n",
      "             grad: array([-847.03004503, -458.18164062, -428.14804378, ..., -426.11914062,\n",
      "       -410.95822029, -475.22103822])\n",
      "              jac: []\n",
      "  lagrangian_grad: array([-847.03004503, -458.18164062, -428.14804378, ..., -426.11914062,\n",
      "       -410.95822029, -475.22103822])\n",
      "          message: 'The maximum number of function evaluations is exceeded.'\n",
      "           method: 'equality_constrained_sqp'\n",
      "             nfev: 30060\n",
      "             nhev: 0\n",
      "              nit: 30\n",
      "            niter: 30\n",
      "             njev: 30\n",
      "       optimality: 847.0300450291211\n",
      "           status: 0\n",
      "          success: False\n",
      "        tr_radius: 343.0000000000001\n",
      "                v: []\n",
      "                x: array([ 4.03646351, -0.01599781,  1.9777608 , ...,  0.00406816,\n",
      "        3.00997418,  3.98811947])\n"
     ]
    }
   ],
   "source": [
    "beta0 = np.zeros(K+1)\n",
    "start_time = time.process_time()\n",
    "res = minimize(rigid_reg, beta0, args=(X, Y, rho),  method='trust-constr', options={'disp': True,'maxiter': 30})\n",
    "end_time = time.process_time()\n",
    "print('Training time: %f s' %(end_time - start_time))\n",
    "print('(This is a processing time which can be larger than actually wall time when using multiple cores)')\n",
    "err_val_1 = np.linalg.norm(beta_ridge_exact.T-res.x,ord=2)/np.linalg.norm(beta_ridge_exact.T,ord=2)\n",
    "print('\\nError in values of coefficients = %8.4f' %err_val_1)\n",
    "print(res)"
   ]
  },
  {
   "cell_type": "markdown",
   "metadata": {
    "collapsed": false,
    "pycharm": {
     "name": "#%% md\n"
    }
   },
   "source": [
    "##### Outputs\n",
    "Current function value: 79710.78893295207\n",
    "\n",
    "Iterations: 30\n",
    "\n",
    "Function evaluations: 30060\n",
    "\n",
    "Gradient evaluations: 30\n",
    "\n",
    "Hessian evaluations: 0\n",
    "\n",
    "Training time: 3811.734375 s\n",
    "\n",
    "Error in values of coefficients =   0.0089"
   ]
  },
  {
   "cell_type": "markdown",
   "metadata": {
    "pycharm": {
     "name": "#%% md\n"
    }
   },
   "source": []
  },
  {
   "cell_type": "code",
   "execution_count": 13,
   "metadata": {
    "pycharm": {
     "name": "#%%\n"
    }
   },
   "outputs": [
    {
     "name": "stdout",
     "output_type": "stream",
     "text": [
      "Training time: 3736.140625 s\n",
      "(This is a processing time which can be larger than actually wall time when using multiple cores)\n",
      "\n",
      "Error in values of coefficients =   0.5187\n",
      "     fun: 6962741.506908231\n",
      "   maxcv: 0.0\n",
      " message: 'Maximum number of function evaluations has been exceeded.'\n",
      "    nfev: 3000\n",
      "  status: 2\n",
      " success: False\n",
      "       x: array([2.19162562, 0.69796924, 2.11244685, ..., 2.04277469, 1.68818102,\n",
      "       2.3889282 ])\n"
     ]
    }
   ],
   "source": [
    "beta0 = np.zeros(K+1)\n",
    "start_time = time.process_time()\n",
    "res = minimize(rigid_reg, beta0, args=(X, Y, rho),  method='COBYLA', options={'disp': True, 'maxiter': 3000})\n",
    "end_time = time.process_time()\n",
    "print('Training time: %f s' %(end_time - start_time))\n",
    "print('(This is a processing time which can be larger than actually wall time when using multiple cores)')\n",
    "err_val_1 = np.linalg.norm(beta_ridge_exact.T-res.x,ord=2)/np.linalg.norm(beta_ridge_exact.T,ord=2)\n",
    "print('\\nError in values of coefficients = %8.4f' %err_val_1)\n",
    "print(res)"
   ]
  },
  {
   "cell_type": "markdown",
   "metadata": {
    "collapsed": false,
    "pycharm": {
     "name": "#%% md\n"
    }
   },
   "source": [
    "##### Outputs\n",
    "Current function value: 6962741.506908231\n",
    "\n",
    "Iterations: 3000\n",
    "\n",
    "Function evaluations: 3000\n",
    "\n",
    "Gradient evaluations: -\n",
    "\n",
    "Hessian evaluations: -\n",
    "\n",
    "Training time: 3736.140625 s\n",
    "\n",
    "Error in values of coefficients =   0.5187"
   ]
  },
  {
   "cell_type": "markdown",
   "metadata": {
    "collapsed": false,
    "pycharm": {
     "name": "#%% md\n"
    }
   },
   "source": [
    "| Algorithm    | Iteration | Function eval | Gradient eval | Hessian evaluation | Training time | Beta error |\n",
    "|--------------|-----------|---------------|---------------|--------------------|---------------|------------|\n",
    "| L-BFGS-B     | 11        | 15030         | 15            | 0                  | 1829.734375 s | 0.0777     |\n",
    "| SLSQP        | 19        | 19155         | 19            | 0                  | 763.696749 s  | 0.0000     |\n",
    "| trust-constr | 30        | 30060         | 30            | 0                  | 3811.734375 s | 0.0089     |\n",
    "| COBYLA       | 3000      | 3000          | -             | -                  | 3736.140625 s | 0.5187     |"
   ]
  },
  {
   "cell_type": "markdown",
   "metadata": {
    "collapsed": false,
    "pycharm": {
     "name": "#%% md\n"
    }
   },
   "source": []
  },
  {
   "cell_type": "markdown",
   "metadata": {
    "pycharm": {
     "name": "#%% md\n"
    }
   },
   "source": [
    "As we can see from the result, the method SLSQP has the best performance. It converges in 19 iterations and the beta error is almost 0.\n",
    "\n",
    "The results of L-BFGS-B and trust-constr also demonstrate a good performance. Under 30 iterations, the Beta error converges to a very low value. However, trust-constr algorithm need more training time than L-BFGS-B.\n",
    "\n",
    "The algorithm COBYLA does not perform well under this optimization task. After 3000 iterations, the beta error is still large (0.5187)."
   ]
  },
  {
   "cell_type": "markdown",
   "metadata": {
    "pycharm": {
     "name": "#%% md\n"
    }
   },
   "source": [
    "# c)\n",
    "Modify the preceding optimization model by adding (lower and upper) bounds on the values of the $\\beta$ coefficients. Solve it again with the module **Scipy.optimize** a by using at least two different solvers, which should accpet the introduction of bounds on the variabels. Compare these methods and briefly comments on possible interpretations of the values of the coefficients."
   ]
  },
  {
   "cell_type": "markdown",
   "metadata": {
    "pycharm": {
     "name": "#%% md\n"
    }
   },
   "source": [
    "### L-BFGS-B with bounds"
   ]
  },
  {
   "cell_type": "code",
   "execution_count": 14,
   "metadata": {
    "pycharm": {
     "name": "#%%\n"
    }
   },
   "outputs": [
    {
     "name": "stdout",
     "output_type": "stream",
     "text": [
      "Elapsed time: 1681.09375\n",
      "(This is a processing time which can be larger than actually wall time when using multiple cores)\n",
      "\n",
      "Error in values of coefficients =   0.0208\n",
      "\n",
      "      fun: 88173.75803931925\n",
      " hess_inv: <1001x1001 LbfgsInvHessProduct with dtype=float64>\n",
      "      jac: array([32466.13361348, 16446.4712726 , 16558.15295694, ...,\n",
      "       16254.72359593, 16506.7454057 , 16258.84043155])\n",
      "  message: 'STOP: TOTAL NO. of f AND g EVALUATIONS EXCEEDS LIMIT'\n",
      "     nfev: 15030\n",
      "      nit: 8\n",
      "     njev: 15\n",
      "   status: 1\n",
      "  success: False\n",
      "        x: array([2.03229737e+00, 4.12317824e-03, 2.01298627e+00, ...,\n",
      "       1.30240866e-04, 3.04086530e+00, 4.00051506e+00])\n"
     ]
    }
   ],
   "source": [
    "# with bounds\n",
    "beta0 = np.zeros(K+1)\n",
    "start_time = time.process_time()\n",
    "res = minimize(rigid_reg, beta0, args=(X, Y, rho),  method='L-BFGS-B', bounds = Bounds(lb = 0.0, ub= 5.0 ), options={'disp': True})\n",
    "end_time = time.process_time()\n",
    "print('Elapsed time: %8.5f' %(end_time - start_time))\n",
    "print('(This is a processing time which can be larger than actually wall time when using multiple cores)')\n",
    "\n",
    "err_val_1 = np.linalg.norm(beta_ridge_exact.T-res.x,ord=2)/np.linalg.norm(beta_ridge_exact.T,ord=2)\n",
    "print('\\nError in values of coefficients = %8.4f\\n' %err_val_1)\n",
    "print(res)"
   ]
  },
  {
   "cell_type": "markdown",
   "metadata": {
    "collapsed": false,
    "pycharm": {
     "name": "#%% md\n"
    }
   },
   "source": [
    "##### Outputs\n",
    "Current function value: 88173.75803931925\n",
    "\n",
    "Iterations: 8\n",
    "\n",
    "Function evaluations: 15030\n",
    "\n",
    "Gradient evaluations: 15\n",
    "\n",
    "Hessian evaluations: -\n",
    "\n",
    "Training time: 1681.09375 s\n",
    "\n",
    "Error in values of coefficients =   0.0208"
   ]
  },
  {
   "cell_type": "markdown",
   "metadata": {
    "collapsed": false,
    "pycharm": {
     "name": "#%% md\n"
    }
   },
   "source": [
    "### trust-constr with bounds"
   ]
  },
  {
   "cell_type": "code",
   "execution_count": 15,
   "metadata": {
    "collapsed": false,
    "pycharm": {
     "name": "#%%\n"
    }
   },
   "outputs": [
    {
     "name": "stdout",
     "output_type": "stream",
     "text": [
      "The maximum number of function evaluations is exceeded.\n",
      "Number of iterations: 30, function evaluations: 30060, CG iterations: 3793, optimality: 3.38e+03, constraint violation: 0.00e+00, execution time: 6.5e+02 s.\n",
      "Elapsed time: 3338.59375\n",
      "(This is a processing time which can be larger than actually wall time when using multiple cores)\n",
      "\n",
      "Error in values of coefficients =   0.0891\n",
      "\n",
      " barrier_parameter: 0.1\n",
      " barrier_tolerance: 0.1\n",
      "          cg_niter: 3793\n",
      "      cg_stop_cond: 2\n",
      "            constr: [array([4.11617691, 0.1306057 , 1.97238529, ..., 0.16142369, 3.04766014,\n",
      "       3.8423087 ])]\n",
      "       constr_nfev: [0]\n",
      "       constr_nhev: [0]\n",
      "       constr_njev: [0]\n",
      "    constr_penalty: 1156021.351167873\n",
      "  constr_violation: 0.0\n",
      "    execution_time: 652.5825281143188\n",
      "               fun: 254974.14980995498\n",
      "              grad: array([ 440.0060106 , 1226.26953125, -143.29493042, ..., 1666.44140625,\n",
      "        460.89213121, -774.15258255])\n",
      "               jac: [<1001x1001 sparse matrix of type '<class 'numpy.float64'>'\n",
      "\twith 1001 stored elements in Compressed Sparse Row format>]\n",
      "   lagrangian_grad: array([ 188.13931772,   20.53967191, -104.90308886, ...,   42.25965212,\n",
      "        336.42663095, -426.76390119])\n",
      "           message: 'The maximum number of function evaluations is exceeded.'\n",
      "            method: 'tr_interior_point'\n",
      "              nfev: 30060\n",
      "              nhev: 0\n",
      "               nit: 30\n",
      "             niter: 30\n",
      "              njev: 30\n",
      "        optimality: 3375.533131455652\n",
      "            status: 0\n",
      "           success: False\n",
      "         tr_radius: 1.515374704235378\n",
      "                 v: [array([ -251.86669288, -1205.72985934,    38.39184156, ...,\n",
      "       -1624.18175413,  -124.46550025,   347.38868136])]\n",
      "                 x: array([4.11617691, 0.1306057 , 1.97238529, ..., 0.16142369, 3.04766014,\n",
      "       3.8423087 ])\n"
     ]
    }
   ],
   "source": [
    "# with bounds\n",
    "beta0 = np.zeros(K+1)\n",
    "start_time = time.process_time()\n",
    "res = minimize(rigid_reg, beta0, args=(X, Y, rho),  method='trust-constr', bounds = Bounds(lb = 0.0, ub= 5.0), options={'disp': True, 'maxiter': 30})\n",
    "end_time = time.process_time()\n",
    "print('Elapsed time: %8.5f' %(end_time - start_time))\n",
    "print('(This is a processing time which can be larger than actually wall time when using multiple cores)')\n",
    "err_val_1 = np.linalg.norm(beta_ridge_exact.T-res.x,ord=2)/np.linalg.norm(beta_ridge_exact.T,ord=2)\n",
    "print('\\nError in values of coefficients = %8.4f\\n' %err_val_1)\n",
    "print(res)"
   ]
  },
  {
   "cell_type": "markdown",
   "metadata": {
    "collapsed": false,
    "pycharm": {
     "name": "#%% md\n"
    }
   },
   "source": [
    "##### Outputs\n",
    "Current function value: 254974.14980995498\n",
    "\n",
    "Iterations: 30\n",
    "\n",
    "Function evaluations: 30060\n",
    "\n",
    "Gradient evaluations: 30\n",
    "\n",
    "Hessian evaluations: -\n",
    "\n",
    "Training time: 3338.59375 s\n",
    "\n",
    "Error in values of coefficients =   0.0891"
   ]
  },
  {
   "cell_type": "markdown",
   "metadata": {
    "collapsed": false,
    "pycharm": {
     "name": "#%% md\n"
    }
   },
   "source": [
    "| Algorithm    | Iteration | Function eval | Gradient eval | Hessian evaluation | Training time   | Beta error |\n",
    "|--------------|-----------|---------------|---------------|--------------------|-----------------|------------|\n",
    "| L-BFGS-B     | 8         | 15030         | 15            | 0                  | 1681.09375 s    | 0.0208     |\n",
    "| trust-constr | 30        | 30060         | 30            | 0                  | 3338.59375 s    | 0.0891     |"
   ]
  },
  {
   "cell_type": "markdown",
   "metadata": {
    "collapsed": false,
    "pycharm": {
     "name": "#%% md\n"
    }
   },
   "source": [
    "Both of the algorithms converge under 30 iterations. The Beta errors are 0.0208 and 0.0891 respectively. L-BFGS-B has better performance that it needs less training time and has lower beta error."
   ]
  },
  {
   "cell_type": "markdown",
   "metadata": {
    "pycharm": {
     "name": "#%% md\n"
    }
   },
   "source": [
    "# d)\n",
    "Estimate the value of the regression coefficients of (1) by implementing the: *\n",
    "\n",
    "1. **Gradient** Method \n",
    "2. **Newton** method \n",
    "3. **Quasi-Newton** method\n",
    "\n",
    "Consider a line search technique to improve the algorithm convergence, e.x., Armijo rule. Compare the performance of these algorithms (number of iterations, function, gradient and hessian evaluations, and total computational time).\n"
   ]
  },
  {
   "cell_type": "markdown",
   "metadata": {
    "pycharm": {
     "name": "#%% md\n"
    }
   },
   "source": [
    "## i. Gradient Decent Method\n",
    "\n",
    "From an initial iterate $x_0$. When at iteration $k$, the gradient descent can be considered as\n",
    "$$x_{k+1} = x_k + \\alpha_k\\ p_k$$\n",
    "\n",
    "where descent directions $p_k=-\\nabla f(x_k)$. Until convergence to a local solution.\n"
   ]
  },
  {
   "cell_type": "code",
   "execution_count": 32,
   "metadata": {
    "pycharm": {
     "name": "#%%\n"
    }
   },
   "outputs": [],
   "source": [
    "# Definition of the OF\n",
    "def ridge_reg(beta_ridge, X, Y):\n",
    "    # beta_ridge has the dimension of (K+1,)\n",
    "    # X has the dimension of (N, K+1)\n",
    "    # Y has the dimenstion of (N, )\n",
    "    z = Y - X @ beta_ridge\n",
    "    return np.dot(z.T,z) + rho * np.dot(beta_ridge.T, beta_ridge)\n",
    "\n",
    "# Definition of the gradient\n",
    "\n",
    "def ridge_reg_der(beta_ridge,X,Y):\n",
    "    # beta_ridge has the dimension of (K+1,)\n",
    "    # X has the dimension of (N, K+1)\n",
    "    # Y has the dimenstion of (N, )\n",
    "    pp = -2*np.dot((Y - X @ beta_ridge).T,X)\n",
    "    aa = pp.squeeze() + 2 * rho * beta_ridge\n",
    "    return aa\n",
    "\n",
    "# Definition of the hessian matrix\n",
    "\n",
    "def ridge_reg_hess(beta_ls,X,Y):\n",
    "    # beta_ridge has the dimension of (K+1,)\n",
    "    # X has the dimension of (N, K+1)\n",
    "    # Y has the dimenstion of (N, )\n",
    "    ss = 2*np.dot(X.T,X) + 2 * rho\n",
    "    return ss"
   ]
  },
  {
   "cell_type": "code",
   "execution_count": 34,
   "metadata": {
    "pycharm": {
     "name": "#%%\n"
    }
   },
   "outputs": [
    {
     "name": "stdout",
     "output_type": "stream",
     "text": [
      "Elapsed time = 1796.92188\n",
      "(This is a processing time which can be larger than actually wall time when using multiple cores)\n",
      "\n",
      "Number of iterations =   999\n",
      "Objective function   = 79588.27579\n",
      "Optimality tolerance =    27.77532\n",
      "\n",
      "Beta coefficient error =    0.00806\n",
      "Number of the objective function evaluations:  11311\n",
      "Number of the objective function gradient evaluations:  999\n",
      "Number of the objective function Hessian evaluations:  0\n"
     ]
    }
   ],
   "source": [
    "# Implementation of the gradient method\n",
    "(a,b) = X.shape\n",
    "\n",
    "## Parameters for the algorithm\n",
    "sigma = 0.3\n",
    "alpha = 1e-6\n",
    "delta = 0.5\n",
    "n_iter = 1000 # Maximum number of iterations\n",
    "epsilon = 1e-5\n",
    "tol = 10000\n",
    "\n",
    "beta_ridge = np.zeros(b) # initial value for beta\n",
    "\n",
    "OF_iter = np.zeros(n_iter)\n",
    "tol_iter = np.zeros(n_iter)\n",
    "alpha_iter = np.zeros(n_iter)\n",
    "\n",
    "nfev = 0\n",
    "njev = 0\n",
    "nhev = 0\n",
    "# Implement the gradient method\n",
    "\n",
    "time_start = time.process_time()\n",
    "\n",
    "i = 0\n",
    "\n",
    "while (i <= n_iter-2) and (tol > epsilon):\n",
    "    i = i + 1\n",
    "    grad = ridge_reg_der(beta_ridge,X,Y); njev += 1 # Gradient vector\n",
    "    ddirect = -grad # Descent direction\n",
    "##### Armijo rule to adjust alpha ######\n",
    "    alpha=1e-5\n",
    "    while rigid_reg(beta_ridge + alpha * ddirect, X, Y, rho) > rigid_reg(beta_ridge, X, Y, rho)+alpha*sigma*np.dot(ddirect, grad):\n",
    "        alpha = alpha*delta\n",
    "        nfev += 2\n",
    "#########################################\n",
    "    beta_ridge = beta_ridge + alpha*ddirect\n",
    "\n",
    "    OF_iter[i] = rigid_reg(beta_ridge, X, Y, rho); nfev += 1\n",
    "    tol = np.linalg.norm(grad,ord=2)\n",
    "    tol_iter[i] = tol\n",
    "    alpha_iter[i] = alpha\n",
    "\n",
    "time_elapsed = (time.process_time() - time_start)\n",
    "\n",
    "## Print the results\n",
    "\n",
    "print('Elapsed time = %8.5f' %(time_elapsed))\n",
    "print('(This is a processing time which can be larger than actually wall time when using multiple cores)')\n",
    "print('\\nNumber of iterations = %5.0f' %i)\n",
    "print('Objective function   = %11.5f' %OF_iter[i])\n",
    "print('Optimality tolerance = %11.5f' %tol)\n",
    "\n",
    "beta_err = np.linalg.norm(np.transpose(beta_ridge_exact)-beta_ridge,ord=2)/np.linalg.norm(beta_ridge,ord=2)\n",
    "print('\\nBeta coefficient error = %10.5f' %beta_err)\n",
    "print('Number of the objective function evaluations: ', nfev)\n",
    "print('Number of the objective function gradient evaluations: ', njev)\n",
    "print('Number of the objective function Hessian evaluations: ', nhev)"
   ]
  },
  {
   "cell_type": "markdown",
   "metadata": {
    "pycharm": {
     "name": "#%% md\n"
    }
   },
   "source": [
    "##### Output\n",
    "Elapsed time = 1796.92188 (This is a processing time which can be larger than actually wall time when using multiple cores)\n",
    "\n",
    "Number of iterations =   999\n",
    "\n",
    "Objective function   = 79588.27579\n",
    "\n",
    "Optimality tolerance =    27.77532\n",
    "\n",
    "Beta coefficient error =    0.00806\n",
    "\n",
    "Function Evaluations = 11311\n",
    "\n",
    "Gradient Evaluations = 999\n",
    "\n",
    "Hessian Evaluations = 0"
   ]
  },
  {
   "cell_type": "code",
   "execution_count": 19,
   "metadata": {
    "pycharm": {
     "name": "#%%\n"
    }
   },
   "outputs": [
    {
     "data": {
      "image/png": "[encoded data removed]",
      "text/plain": [
       "<Figure size 432x288 with 1 Axes>"
      ]
     },
     "metadata": {
      "needs_background": "light"
     },
     "output_type": "display_data"
    },
    {
     "data": {
      "image/png": "[encoded data removed]",
      "text/plain": [
       "<Figure size 432x288 with 1 Axes>"
      ]
     },
     "metadata": {
      "needs_background": "light"
     },
     "output_type": "display_data"
    },
    {
     "data": {
      "image/png": "[encoded data removed]",
      "text/plain": [
       "<Figure size 432x288 with 1 Axes>"
      ]
     },
     "metadata": {
      "needs_background": "light"
     },
     "output_type": "display_data"
    }
   ],
   "source": [
    "# Plot results showing the evolution of the algorithm\n",
    "\n",
    "%matplotlib inline\n",
    "plt.plot(OF_iter[1:i]),plt.ylabel('Objective function'),plt.xlabel('Iterations')\n",
    "plt.show()\n",
    "\n",
    "plt.plot(np.log(tol_iter[1:i])),plt.ylabel('Log opt error'),plt.xlabel('Iterations')\n",
    "plt.show()\n",
    "\n",
    "plt.plot(alpha_iter[1:200]),plt.ylabel('Alpha'),plt.xlabel('Iterations')\n",
    "plt.show()"
   ]
  },
  {
   "cell_type": "markdown",
   "metadata": {
    "pycharm": {
     "name": "#%% md\n"
    }
   },
   "source": [
    "## ii. Newton's method\n",
    "\n",
    "The iteration is given by:\n",
    "$$x_{k+1} = x_k + \\alpha_k\\ p_k$$\n",
    "where the positive scalar $\\alpha_k)$ is called the step length $(\\alpha_k>0)$. The success of a line search method depends on effective choices of both the direction $p_k$ and the step length $\\alpha_k$. And compute a descent direction $p_k=-(\\nabla^2 f(x_k))^{-1} \\nabla f(x_k)$, whenever $\\nabla^2 f(x_k)$ is a nonsingular matrix. "
   ]
  },
  {
   "cell_type": "code",
   "execution_count": 35,
   "metadata": {
    "pycharm": {
     "name": "#%%\n"
    }
   },
   "outputs": [
    {
     "name": "stdout",
     "output_type": "stream",
     "text": [
      "Elapsed time = 31.67188\n",
      "(This is a processing time which can be larger than actually wall time when using multiple cores)\n",
      "\n",
      "Number of iterations =     8\n",
      "Objective function   = 79579.89788\n",
      "Optimality tolerance =     0.00000\n",
      "\n",
      "Beta coefficient error =    0.00000\n",
      "Number of the objective function evaluations:  8\n",
      "Number of the objective function gradient evaluations:  8\n",
      "Number of the objective function Hessian evaluations:  8\n"
     ]
    }
   ],
   "source": [
    "# Implementation of Newton's method\n",
    "\n",
    "(a,b) = X.shape\n",
    "\n",
    "## Parameters for the algorithm\n",
    "\n",
    "alpha = 1e-4\n",
    "n_iter = 200 # Maximum number of iterations\n",
    "epsilon = 1e-5\n",
    "tol = 10000\n",
    "sigma = 0.1\n",
    "delta = 0.1\n",
    "\n",
    "## Initial values for the variables and data containers\n",
    "\n",
    "beta_lsn = np.zeros(b) # initial value for beta\n",
    "\n",
    "OF_iter = np.zeros(n_iter)\n",
    "tol_iter = np.zeros(n_iter)\n",
    "alpha_iter = np.zeros(n_iter)\n",
    "\n",
    "## Function, Gradient, Hessian evaluation number\n",
    "nfev = 0\n",
    "njev = 0\n",
    "nhev = 0\n",
    "\n",
    "# Implement Newton's method\n",
    "\n",
    "time_start = time.process_time()\n",
    "\n",
    "i = 0\n",
    "\n",
    "while (i <= n_iter-2) and (tol > epsilon):\n",
    "    i = i + 1\n",
    "    grad = ridge_reg_der(beta_lsn,X,Y); njev += 1\n",
    "    hess = ridge_reg_hess(beta_lsn,X,Y); nhev += 1\n",
    "    ddirect = -np.dot(np.linalg.inv(hess),grad) # Descent direction\n",
    "    beta_lsn = beta_lsn + ddirect\n",
    "    OF_iter[i] = rigid_reg(beta_lsn, X, Y, rho); nfev += 1\n",
    "    tol = np.linalg.norm(grad,ord=2)\n",
    "    tol_iter[i] = tol\n",
    "    alpha_iter[i] = alpha\n",
    "\n",
    "time_elapsed = (time.process_time() - time_start)\n",
    "\n",
    "## Print the results\n",
    "\n",
    "print('Elapsed time = %8.5f' %(time_elapsed))\n",
    "print('(This is a processing time which can be larger than actually wall time when using multiple cores)')\n",
    "print('\\nNumber of iterations = %5.0f' %i)\n",
    "print('Objective function   = %11.5f' %OF_iter[i])\n",
    "print('Optimality tolerance = %11.5f' %tol)\n",
    "\n",
    "beta_err = np.linalg.norm(np.transpose(beta_ridge_exact)-beta_lsn,ord=2)/np.linalg.norm(beta_lsn,ord=2)\n",
    "print('\\nBeta coefficient error = %10.5f' %beta_err)\n",
    "\n",
    "print('Number of the objective function evaluations: ', nfev)\n",
    "print('Number of the objective function gradient evaluations: ', njev)\n",
    "print('Number of the objective function Hessian evaluations: ', nhev)"
   ]
  },
  {
   "cell_type": "markdown",
   "metadata": {
    "pycharm": {
     "name": "#%% md\n"
    }
   },
   "source": [
    "##### Output\n",
    "Elapsed time = 31.67188\n",
    "\n",
    "Number of iterations = 8\n",
    "\n",
    "Objective function  = 79579.89788\n",
    "\n",
    "Optimality tolerance = 0.00\n",
    "\n",
    "Beta coefficient error = 0.00\n",
    "\n",
    "Function evaluation = 8\n",
    "\n",
    "Gradient evaluation = 8\n",
    "\n",
    "Hessian evaluation = 8"
   ]
  },
  {
   "cell_type": "code",
   "execution_count": 36,
   "metadata": {
    "pycharm": {
     "name": "#%%\n"
    }
   },
   "outputs": [
    {
     "data": {
      "image/png": "[encoded data removed]",
      "text/plain": [
       "<Figure size 432x288 with 1 Axes>"
      ]
     },
     "metadata": {
      "needs_background": "light"
     },
     "output_type": "display_data"
    },
    {
     "data": {
      "image/png": "[encoded data removed]",
      "text/plain": [
       "<Figure size 432x288 with 1 Axes>"
      ]
     },
     "metadata": {
      "needs_background": "light"
     },
     "output_type": "display_data"
    }
   ],
   "source": [
    "# Plot results showing the evolution of the algorithm\n",
    "\n",
    "plt.plot(OF_iter[1:i]),plt.ylabel('Objective function'),plt.xlabel('Iterations')\n",
    "plt.show()\n",
    "\n",
    "plt.plot(np.log(tol_iter[1:i])),plt.ylabel('Log opt error'),plt.xlabel('Iterations')\n",
    "plt.show()"
   ]
  },
  {
   "cell_type": "markdown",
   "metadata": {
    "pycharm": {
     "name": "#%% md\n"
    }
   },
   "source": [
    "## iii. Quasi-Newton Method\n",
    "\n",
    "$$x_{k+1} = x_k + \\alpha_k\\ p_k$$\n",
    "where $p_k=-(B_k)^{-1} \\nabla f(x_k)$. As an alternative to Newton's method, $B_k$ is an approximation to the Hessian that is updated at every iteration by means of a low-rank formula. \n",
    "\n",
    "Therefore, the quasi-Newton method can be considered as\n",
    "$$x_{k+1} = x_k - \\alpha_kH_k\\nabla f(x_k)$$\n",
    "where $H_k$ is an approximation of $(\\nabla^2 f(x_k))^{-1}$."
   ]
  },
  {
   "cell_type": "code",
   "execution_count": 37,
   "metadata": {
    "pycharm": {
     "name": "#%%\n"
    }
   },
   "outputs": [
    {
     "name": "stdout",
     "output_type": "stream",
     "text": [
      "Elapsed time = 756.04688\n",
      "(This is a processing time which can be larger than actually wall time when using multiple cores)\n",
      "\n",
      "Number of iterations =   499\n",
      "Objective function   = 79579.89789\n",
      "Optimality tolerance =     0.77524\n",
      "\n",
      "Beta coefficient error =    0.00000\n",
      "Number of the objective function evaluations:  521\n",
      "Number of the objective function gradient evaluations:  1497\n",
      "Number of the objective function Hessian evaluations:  0\n"
     ]
    }
   ],
   "source": [
    "# Quasi-Newton\n",
    "\n",
    "(a,b) = X.shape\n",
    "\n",
    "## Parameters for the algorithm\n",
    "sigma_1 = 0.001\n",
    "sigma_2 = 0.9\n",
    "alpha = 1e-6\n",
    "delta = 0.5\n",
    "n_iter = 500 # Maximum number of iterations\n",
    "epsilon = 1e-3\n",
    "tol = 10000\n",
    "\n",
    "## Initial values for the variables and data containers\n",
    "\n",
    "beta_ridge = np.zeros(b) # initial value for beta\n",
    "\n",
    "OF_iter = np.zeros(n_iter)\n",
    "tol_iter = np.zeros(n_iter)\n",
    "alpha_iter = np.zeros(n_iter)\n",
    "\n",
    "\n",
    "## Function, Gradient, Hessian evaluation number\n",
    "nfev = 0\n",
    "njev = 0\n",
    "nhev = 0\n",
    "\n",
    "# Implement the quasi-newton method\n",
    "H = np.identity(K+1)\n",
    "\n",
    "time_start = time.process_time()\n",
    "\n",
    "i = 0\n",
    "\n",
    "while (i <= n_iter-2) and (tol > epsilon):\n",
    "    i = i + 1\n",
    "    grad = ridge_reg_der(beta_ridge,X,Y); njev += 1 # Gradient vector\n",
    "    ddirect = -grad # Descent direction\n",
    "    p = H @ ddirect\n",
    "    alpha=1e-4\n",
    "    # in order to satisfy Wolfe condition\n",
    "    while rigid_reg(beta_ridge + alpha * p, X, Y, rho) > rigid_reg(beta_ridge, X, Y, rho)+alpha*sigma_1*np.dot(ddirect.T, p):\n",
    "        alpha = alpha*delta\n",
    "        nfev += 2\n",
    "    beta_ridge_old = beta_ridge\n",
    "    beta_ridge = beta_ridge + alpha * H @ ddirect\n",
    "    s = (alpha * H @ ddirect).reshape(-1,1)\n",
    "    v = (ridge_reg_der(beta_ridge, X ,Y) - ridge_reg_der(beta_ridge_old, X, Y)).reshape(-1,1); njev += 2\n",
    "    H = (np.eye(K+1) - (v @ s.T) / (v.T @ s)).T @ H @ (np.eye(K+1) - (v @ s.T) / (v.T @ s)) + (s @ s.T) / (v.T @ s)\n",
    "    OF_iter[i] = rigid_reg(beta_ridge, X, Y, rho); nfev += 1\n",
    "    tol = np.linalg.norm(grad,ord=2)\n",
    "    tol_iter[i] = tol\n",
    "    alpha_iter[i] = alpha\n",
    "    if i % 1000 == 0:\n",
    "        print('Iteration %d: Loss = %f' %(i, OF_iter[i]))\n",
    "\n",
    "time_elapsed = (time.process_time() - time_start)\n",
    "\n",
    "## Print the results\n",
    "\n",
    "print('Elapsed time = %8.5f' %(time_elapsed))\n",
    "print('(This is a processing time which can be larger than actually wall time when using multiple cores)')\n",
    "print('\\nNumber of iterations = %5.0f' %i)\n",
    "print('Objective function   = %11.5f' %OF_iter[i])\n",
    "print('Optimality tolerance = %11.5f' %tol)\n",
    "\n",
    "beta_err = np.linalg.norm(np.transpose(beta_ridge_exact)-beta_ridge,ord=2)/np.linalg.norm(beta_ridge,ord=2)\n",
    "print('\\nBeta coefficient error = %10.5f' %beta_err)\n",
    "\n",
    "print('Number of the objective function evaluations: ', nfev)\n",
    "print('Number of the objective function gradient evaluations: ', njev)\n",
    "print('Number of the objective function Hessian evaluations: ', nhev)"
   ]
  },
  {
   "cell_type": "markdown",
   "metadata": {
    "pycharm": {
     "name": "#%% md\n"
    }
   },
   "source": [
    "##### Output\n",
    "Elapsed time = 756.04688\n",
    "\n",
    "Number of iterations = 499\n",
    "\n",
    "Objective function = 79579.89789\n",
    "\n",
    "Optimality tolerance = 0.77524\n",
    "\n",
    "Beta coefficient error = 0.00000\n",
    "\n",
    "Function evaluation = 521\n",
    "\n",
    "Gradient evaluation = 1497\n",
    "\n",
    "Hessian evaluation = 0"
   ]
  },
  {
   "cell_type": "code",
   "execution_count": 38,
   "metadata": {
    "pycharm": {
     "name": "#%%\n"
    }
   },
   "outputs": [
    {
     "data": {
      "image/png": "[encoded data removed]",
      "text/plain": [
       "<Figure size 432x288 with 1 Axes>"
      ]
     },
     "metadata": {
      "needs_background": "light"
     },
     "output_type": "display_data"
    },
    {
     "data": {
      "image/png": "[encoded data removed]",
      "text/plain": [
       "<Figure size 432x288 with 1 Axes>"
      ]
     },
     "metadata": {
      "needs_background": "light"
     },
     "output_type": "display_data"
    },
    {
     "data": {
      "image/png": "[encoded data removed]",
      "text/plain": [
       "<Figure size 432x288 with 1 Axes>"
      ]
     },
     "metadata": {
      "needs_background": "light"
     },
     "output_type": "display_data"
    }
   ],
   "source": [
    "# Plot results showing the evolution of the algorithm\n",
    "\n",
    "plt.plot(OF_iter[1:i]),plt.ylabel('Objective function'),plt.xlabel('Iterations')\n",
    "plt.show()\n",
    "\n",
    "plt.plot(np.log(tol_iter[1:i])),plt.ylabel('Log opt error'),plt.xlabel('Iterations')\n",
    "plt.show()\n",
    "\n",
    "plt.plot(alpha_iter[1:i]),plt.ylabel('Alpha'),plt.xlabel('Iterations')\n",
    "plt.show()"
   ]
  },
  {
   "cell_type": "markdown",
   "metadata": {
    "collapsed": false,
    "pycharm": {
     "name": "#%% md\n"
    }
   },
   "source": [
    "| Algorithm        | Iteration | Function eval | Gradient eval | Hessian evaluation | Training time | Beta error |\n",
    "|------------------|-----------|---------------|---------------|--------------------|---------------|------------|\n",
    "| Gradient Descent | 999       | 11311         | 999           | 0                  | 1796.92188 s  | 0.00806    |\n",
    "| Newton Method    | 8         | 8             | 8             | 8                  | 31.67188 s    | 0.0000     |\n",
    "| Quasi-Newton     | 499       | 521           | 1497          | 0                  | 756.04688 s   | 0.0000     |"
   ]
  },
  {
   "cell_type": "markdown",
   "metadata": {
    "pycharm": {
     "name": "#%% md\n"
    }
   },
   "source": [
    "From the performance of each algorithm, we can clearly see that newton method has the best performance. After 8 iterations, the beta_error becomes zero. It has the shortest training time plus the least iteration number.\n",
    "\n",
    "Quasi-Newtion also has impressive performance. After about 500 iterations, the beta error also becomes zero. Because of higher iteration number, it takes more training time compared to Newton Method.\n",
    "\n",
    "Gradient Decent costs more times and need more iterations for convergence. The beta error is also low after 1000 iterations.\n",
    "\n"
   ]
  },
  {
   "cell_type": "markdown",
   "metadata": {
    "pycharm": {
     "name": "#%% md\n"
    }
   },
   "source": [
    "# e)\n",
    "Estimate the value of the regression coefficients of (1) by implementing the *\n",
    "1. **Coordinate descent** Method\n",
    "2. **Stochastic gradient** Method\n",
    "3. Three other techniques presentaed in Topic 2\n",
    "\n",
    "Compare the performance of these algorithms (number of iterations, function, gradient and hessian evaluations, and total computational time).\n"
   ]
  },
  {
   "cell_type": "markdown",
   "metadata": {
    "pycharm": {
     "name": "#%% md\n"
    }
   },
   "source": [
    "## i. Coordinate descent Method"
   ]
  },
  {
   "cell_type": "code",
   "execution_count": 58,
   "metadata": {
    "pycharm": {
     "name": "#%%\n"
    }
   },
   "outputs": [
    {
     "name": "stdout",
     "output_type": "stream",
     "text": [
      "Iteration 0: Beta_err = 1.000022\n",
      "Iteration 1000: Beta_err = 0.877759\n",
      "Iteration 2000: Beta_err = 0.797484\n",
      "Iteration 3000: Beta_err = 0.741249\n",
      "Iteration 4000: Beta_err = 0.700624\n",
      "Iteration 5000: Beta_err = 0.678937\n",
      "Iteration 6000: Beta_err = 0.661967\n",
      "Iteration 7000: Beta_err = 0.653206\n",
      "Iteration 8000: Beta_err = 0.648701\n",
      "Iteration 9000: Beta_err = 0.646157\n",
      "Iteration 10000: Beta_err = 0.644630\n",
      "Iteration 11000: Beta_err = 0.642871\n",
      "Iteration 12000: Beta_err = 0.642436\n",
      "Iteration 13000: Beta_err = 0.641768\n",
      "Iteration 14000: Beta_err = 0.641396\n",
      "time elapsed = 5770.25\n",
      "number iterations = 15000\n",
      "tolerance= 1177435.1195944832\n",
      "error 0.6408917470716439\n",
      "Number of the objective function evaluations:  0\n",
      "Number of the objective function gradient evaluations:  15000\n",
      "Number of the objective function Hessian evaluations:  0\n"
     ]
    }
   ],
   "source": [
    "#Descenso por coordenadas\n",
    "import time\n",
    "(a, b) = X.shape\n",
    "\n",
    "def rigid_reg_der_k(beta_ridge,k, X, Y):\n",
    "    # beta_ridge has the dimension of (K+1,)\n",
    "    # X has the dimension of (N, K+1)\n",
    "    # Y has the dimenstion of (N, )\n",
    "\n",
    "    pp = -2*np.dot((Y - X @ beta_ridge).T,X[:, k])\n",
    "    aa = pp.squeeze() + 2 * rho * beta_ridge[k]\n",
    "    return aa\n",
    "\n",
    "niter = 15000\n",
    "epsilon = 1e-6\n",
    "i = 0\n",
    "alpha = 1e-4\n",
    "delta = 0.1\n",
    "sigma = 0.1\n",
    "OF_iter_cur = 0\n",
    "tol_iter = np.zeros(niter)\n",
    "error_coord_iter = []\n",
    "tol = 10\n",
    "beta_coord = np.zeros(b)\n",
    "\n",
    "## Function, Gradient, Hessian evaluation number\n",
    "nfev = 0\n",
    "njev = 0\n",
    "nhev = 0\n",
    "\n",
    "time_start = time.process_time()\n",
    "\n",
    "while (i < niter) and (tol > epsilon):\n",
    "    k = np.random.randint(b)\n",
    "    grad_k = rigid_reg_der_k(beta_coord,k,X,Y); njev += 1\n",
    "    grad = np.zeros(b)\n",
    "    grad[k] = grad_k\n",
    "    ddirect = -grad\n",
    "    ##### Armijo rule to adjust alpha ######\n",
    "    alpha=1e-8\n",
    "    while rigid_reg(beta_coord + alpha * ddirect, X, Y, rho) > rigid_reg(beta_coord, X, Y, rho)+alpha*sigma*np.dot(ddirect, grad):\n",
    "        alpha = alpha*delta\n",
    "        nfev += 2\n",
    "    #########################################\n",
    "    beta_coord = beta_coord + alpha*ddirect\n",
    "    tol = np.linalg.norm(grad, ord = 2)\n",
    "    tol_iter[i] = tol\n",
    "    error_coord_iter.append(np.linalg.norm(np.transpose(beta_ridge_exact) - beta_coord.T, ord = 2)/np.linalg.norm(beta_ridge_exact, ord = 2))\n",
    "    if i % 1000 == 0:\n",
    "        print('Iteration %d: Beta_err = %f' %(i, error_coord_iter[i]))\n",
    "    i +=1\n",
    "\n",
    "\n",
    "time_elapsed = (time.process_time() - time_start)\n",
    "print('time elapsed =',time_elapsed)\n",
    "print('number iterations =',i)\n",
    "print('tolerance=',tol)\n",
    "print('error', np.linalg.norm(np.transpose(beta_ridge_exact) - beta_coord.T, ord = 2)/np.linalg.norm(beta_ridge_exact, ord = 2))\n",
    "\n",
    "print('Number of the objective function evaluations: ', nfev)\n",
    "print('Number of the objective function gradient evaluations: ', njev)\n",
    "print('Number of the objective function Hessian evaluations: ', nhev)"
   ]
  },
  {
   "cell_type": "markdown",
   "metadata": {
    "pycharm": {
     "name": "#%% md\n"
    }
   },
   "source": [
    "##### Output\n",
    "\n",
    "time elapsed = 5770.25 s\n",
    "\n",
    "number iterations = 15000\n",
    "\n",
    "error 0.6408\n",
    "\n",
    "Function evaluation = 0\n",
    "\n",
    "Gradient evaluation = 15000\n",
    "\n",
    "Hessian evaluation = 0"
   ]
  },
  {
   "cell_type": "markdown",
   "metadata": {
    "pycharm": {
     "name": "#%% md\n"
    }
   },
   "source": [
    "## ii. Stochastic gradient"
   ]
  },
  {
   "cell_type": "code",
   "execution_count": 87,
   "metadata": {
    "pycharm": {
     "name": "#%%\n"
    }
   },
   "outputs": [
    {
     "name": "stdout",
     "output_type": "stream",
     "text": [
      "Iteration 0: Loss = 1073877.675574 Beta_err = 1993.155507\n",
      "Iteration 1000: Loss = 401860.260318 Beta_err = 2.339069\n",
      "Iteration 2000: Loss = 146850.625482 Beta_err = 1.248808\n",
      "Iteration 3000: Loss = 66620.050025 Beta_err = 0.947948\n",
      "Iteration 4000: Loss = 47255.685847 Beta_err = 0.827911\n",
      "Iteration 5000: Loss = 28291.907857 Beta_err = 0.772103\n",
      "Iteration 6000: Loss = 28235.327370 Beta_err = 0.743192\n",
      "Iteration 7000: Loss = 22503.153029 Beta_err = 0.727298\n",
      "Iteration 8000: Loss = 21133.118178 Beta_err = 0.718425\n",
      "Iteration 9000: Loss = 21396.131165 Beta_err = 0.713062\n",
      "Iteration 10000: Loss = 19667.994296 Beta_err = 0.709565\n",
      "Iteration 11000: Loss = 20148.619430 Beta_err = 0.707912\n",
      "Iteration 12000: Loss = 20093.009567 Beta_err = 0.706732\n",
      "Iteration 13000: Loss = 19959.596925 Beta_err = 0.705773\n",
      "Iteration 14000: Loss = 21236.397530 Beta_err = 0.705184\n",
      "Iteration 15000: Loss = 20097.000038 Beta_err = 0.704853\n",
      "Iteration 16000: Loss = 21328.281859 Beta_err = 0.704688\n",
      "Iteration 17000: Loss = 19872.493749 Beta_err = 0.704483\n",
      "Iteration 18000: Loss = 19860.300308 Beta_err = 0.704480\n",
      "Iteration 19000: Loss = 20046.981823 Beta_err = 0.704354\n",
      "Iteration 20000: Loss = 20906.852448 Beta_err = 0.703915\n",
      "Iteration 21000: Loss = 20577.067278 Beta_err = 0.703872\n",
      "Iteration 22000: Loss = 19902.578821 Beta_err = 0.703770\n",
      "Iteration 23000: Loss = 20697.974926 Beta_err = 0.703676\n",
      "Iteration 24000: Loss = 19887.473604 Beta_err = 0.703614\n",
      "Iteration 25000: Loss = 20294.174223 Beta_err = 0.703301\n",
      "Iteration 26000: Loss = 20888.550415 Beta_err = 0.703589\n",
      "Iteration 27000: Loss = 20318.859117 Beta_err = 0.703293\n",
      "Iteration 28000: Loss = 19920.808191 Beta_err = 0.703243\n",
      "Iteration 29000: Loss = 21500.576139 Beta_err = 0.703150\n",
      "Iteration 30000: Loss = 21416.100632 Beta_err = 0.703283\n",
      "Iteration 31000: Loss = 20581.315143 Beta_err = 0.703355\n",
      "Iteration 32000: Loss = 20460.621006 Beta_err = 0.703165\n",
      "Iteration 33000: Loss = 20656.043462 Beta_err = 0.702994\n",
      "Iteration 34000: Loss = 19956.052373 Beta_err = 0.702812\n",
      "Iteration 35000: Loss = 19923.800146 Beta_err = 0.702879\n",
      "Iteration 36000: Loss = 20530.664256 Beta_err = 0.702907\n",
      "Iteration 37000: Loss = 22643.410579 Beta_err = 0.702636\n",
      "Iteration 38000: Loss = 20165.040875 Beta_err = 0.702615\n",
      "Iteration 39000: Loss = 20213.979944 Beta_err = 0.702530\n",
      "Iteration 40000: Loss = 20024.696354 Beta_err = 0.702572\n",
      "Iteration 41000: Loss = 21090.610299 Beta_err = 0.702486\n",
      "Iteration 42000: Loss = 21579.056836 Beta_err = 0.702420\n",
      "Iteration 43000: Loss = 20115.339511 Beta_err = 0.702338\n",
      "Iteration 44000: Loss = 20543.131444 Beta_err = 0.702119\n",
      "Iteration 45000: Loss = 19936.562413 Beta_err = 0.701996\n",
      "Iteration 46000: Loss = 20473.246844 Beta_err = 0.702006\n",
      "Iteration 47000: Loss = 20308.987186 Beta_err = 0.701881\n",
      "Iteration 48000: Loss = 19911.112690 Beta_err = 0.701931\n",
      "Iteration 49000: Loss = 19980.814714 Beta_err = 0.701995\n",
      "Iteration 50000: Loss = 19992.385873 Beta_err = 0.701832\n",
      "Iteration 51000: Loss = 20039.731079 Beta_err = 0.701638\n",
      "Iteration 52000: Loss = 20016.135976 Beta_err = 0.701588\n",
      "Iteration 53000: Loss = 20091.145557 Beta_err = 0.701399\n",
      "Iteration 54000: Loss = 20824.810102 Beta_err = 0.701319\n",
      "Iteration 55000: Loss = 20125.914972 Beta_err = 0.701384\n",
      "Iteration 56000: Loss = 19913.076455 Beta_err = 0.701098\n",
      "Iteration 57000: Loss = 20339.756038 Beta_err = 0.701388\n",
      "Iteration 58000: Loss = 20292.915471 Beta_err = 0.701275\n",
      "Iteration 59000: Loss = 21481.130215 Beta_err = 0.701105\n",
      "Iteration 60000: Loss = 20238.830354 Beta_err = 0.701072\n",
      "Iteration 61000: Loss = 20277.558532 Beta_err = 0.700930\n",
      "Iteration 62000: Loss = 20052.783505 Beta_err = 0.700877\n",
      "Iteration 63000: Loss = 19871.039322 Beta_err = 0.700839\n",
      "Iteration 64000: Loss = 21506.232278 Beta_err = 0.700802\n",
      "Iteration 65000: Loss = 19964.866647 Beta_err = 0.700820\n",
      "Iteration 66000: Loss = 20350.353883 Beta_err = 0.700756\n",
      "Iteration 67000: Loss = 20357.546472 Beta_err = 0.700739\n",
      "Iteration 68000: Loss = 19898.054597 Beta_err = 0.700519\n",
      "Iteration 69000: Loss = 20095.279798 Beta_err = 0.700504\n",
      "Iteration 70000: Loss = 20882.229868 Beta_err = 0.700209\n",
      "Iteration 71000: Loss = 20822.085656 Beta_err = 0.700053\n",
      "Iteration 72000: Loss = 21134.677283 Beta_err = 0.700046\n",
      "Iteration 73000: Loss = 21023.702425 Beta_err = 0.699977\n",
      "Iteration 74000: Loss = 20536.901190 Beta_err = 0.700053\n",
      "Iteration 75000: Loss = 19925.256922 Beta_err = 0.700256\n",
      "Iteration 76000: Loss = 20071.764151 Beta_err = 0.700253\n",
      "Iteration 77000: Loss = 19870.996339 Beta_err = 0.700081\n",
      "Iteration 78000: Loss = 20734.572537 Beta_err = 0.699899\n",
      "Iteration 79000: Loss = 20844.007598 Beta_err = 0.699918\n",
      "Iteration 80000: Loss = 20703.131366 Beta_err = 0.700143\n",
      "Iteration 81000: Loss = 20775.941498 Beta_err = 0.699847\n",
      "Iteration 82000: Loss = 20871.622395 Beta_err = 0.699897\n",
      "Iteration 83000: Loss = 20309.110947 Beta_err = 0.699689\n",
      "Iteration 84000: Loss = 20977.736020 Beta_err = 0.699630\n",
      "Iteration 85000: Loss = 19857.027095 Beta_err = 0.699726\n",
      "Iteration 86000: Loss = 20421.205580 Beta_err = 0.699585\n",
      "Iteration 87000: Loss = 20127.495404 Beta_err = 0.699488\n",
      "Iteration 88000: Loss = 20766.614311 Beta_err = 0.699407\n",
      "Iteration 89000: Loss = 21646.761006 Beta_err = 0.699388\n",
      "Iteration 90000: Loss = 20391.636068 Beta_err = 0.699288\n",
      "Iteration 91000: Loss = 19904.128989 Beta_err = 0.699419\n",
      "Iteration 92000: Loss = 19861.747554 Beta_err = 0.699480\n",
      "Iteration 93000: Loss = 19869.610229 Beta_err = 0.699222\n",
      "Iteration 94000: Loss = 20131.846303 Beta_err = 0.699117\n",
      "Iteration 95000: Loss = 19892.926217 Beta_err = 0.698984\n",
      "Iteration 96000: Loss = 21540.046203 Beta_err = 0.699125\n",
      "Iteration 97000: Loss = 19854.917912 Beta_err = 0.699219\n",
      "Iteration 98000: Loss = 20489.816719 Beta_err = 0.699043\n",
      "Iteration 99000: Loss = 21105.921995 Beta_err = 0.699104\n",
      "Iteration 100000: Loss = 19942.289370 Beta_err = 0.698864\n",
      "Iteration 101000: Loss = 20782.445968 Beta_err = 0.698878\n",
      "Iteration 102000: Loss = 19972.884714 Beta_err = 0.698832\n",
      "Iteration 103000: Loss = 20464.448796 Beta_err = 0.698726\n",
      "Iteration 104000: Loss = 20538.387423 Beta_err = 0.698819\n",
      "Iteration 105000: Loss = 19875.081060 Beta_err = 0.698855\n",
      "Iteration 106000: Loss = 20737.509326 Beta_err = 0.699019\n",
      "Iteration 107000: Loss = 19903.784924 Beta_err = 0.698910\n",
      "Iteration 108000: Loss = 20873.957303 Beta_err = 0.698411\n",
      "Iteration 109000: Loss = 20199.818753 Beta_err = 0.698642\n",
      "Iteration 110000: Loss = 20217.278611 Beta_err = 0.698394\n",
      "Iteration 111000: Loss = 20178.388339 Beta_err = 0.698297\n",
      "Iteration 112000: Loss = 21278.394033 Beta_err = 0.698228\n",
      "Iteration 113000: Loss = 20683.536180 Beta_err = 0.698428\n",
      "Iteration 114000: Loss = 19992.262165 Beta_err = 0.698442\n",
      "Iteration 115000: Loss = 20183.769413 Beta_err = 0.698415\n",
      "Iteration 116000: Loss = 20025.066680 Beta_err = 0.698477\n",
      "Iteration 117000: Loss = 20198.052602 Beta_err = 0.698459\n",
      "Iteration 118000: Loss = 21014.547816 Beta_err = 0.698231\n",
      "Iteration 119000: Loss = 21269.757321 Beta_err = 0.698132\n",
      "Iteration 120000: Loss = 20075.308176 Beta_err = 0.698197\n",
      "Iteration 121000: Loss = 22436.652234 Beta_err = 0.698251\n",
      "Iteration 122000: Loss = 20593.614328 Beta_err = 0.698210\n",
      "Iteration 123000: Loss = 20238.171075 Beta_err = 0.698213\n",
      "Iteration 124000: Loss = 20012.748298 Beta_err = 0.698082\n",
      "Iteration 125000: Loss = 19906.938531 Beta_err = 0.698032\n",
      "Iteration 126000: Loss = 19955.722701 Beta_err = 0.697965\n",
      "Iteration 127000: Loss = 20363.173748 Beta_err = 0.697784\n",
      "Iteration 128000: Loss = 20298.005865 Beta_err = 0.697626\n",
      "Iteration 129000: Loss = 19875.264094 Beta_err = 0.697846\n",
      "Iteration 130000: Loss = 19891.797990 Beta_err = 0.697910\n",
      "Iteration 131000: Loss = 20356.424024 Beta_err = 0.697969\n",
      "Iteration 132000: Loss = 19891.541166 Beta_err = 0.697807\n",
      "Iteration 133000: Loss = 20298.500970 Beta_err = 0.697434\n",
      "Iteration 134000: Loss = 20678.618149 Beta_err = 0.697551\n",
      "Iteration 135000: Loss = 20344.548530 Beta_err = 0.697664\n",
      "Iteration 136000: Loss = 20308.550666 Beta_err = 0.697572\n",
      "Iteration 137000: Loss = 21639.157510 Beta_err = 0.697626\n",
      "Iteration 138000: Loss = 20144.339099 Beta_err = 0.697700\n",
      "Iteration 139000: Loss = 20633.287032 Beta_err = 0.697700\n",
      "Iteration 140000: Loss = 20265.036206 Beta_err = 0.697324\n",
      "Iteration 141000: Loss = 22345.333097 Beta_err = 0.697331\n",
      "Iteration 142000: Loss = 21060.280515 Beta_err = 0.697426\n",
      "Iteration 143000: Loss = 20560.486673 Beta_err = 0.697286\n",
      "Iteration 144000: Loss = 19872.530390 Beta_err = 0.697275\n",
      "Iteration 145000: Loss = 21391.135380 Beta_err = 0.697251\n",
      "Iteration 146000: Loss = 20067.026089 Beta_err = 0.697254\n",
      "Iteration 147000: Loss = 21065.234878 Beta_err = 0.697136\n",
      "Iteration 148000: Loss = 20089.555072 Beta_err = 0.697209\n",
      "Iteration 149000: Loss = 21000.457627 Beta_err = 0.697067\n",
      "Iteration 150000: Loss = 21062.436327 Beta_err = 0.697360\n",
      "Iteration 151000: Loss = 22133.156608 Beta_err = 0.697277\n",
      "Iteration 152000: Loss = 20841.547857 Beta_err = 0.697306\n",
      "Iteration 153000: Loss = 20549.952125 Beta_err = 0.697384\n",
      "Iteration 154000: Loss = 20633.731849 Beta_err = 0.697109\n",
      "Iteration 155000: Loss = 19924.699798 Beta_err = 0.697104\n",
      "Iteration 156000: Loss = 20284.942678 Beta_err = 0.697009\n",
      "Iteration 157000: Loss = 20001.855916 Beta_err = 0.696822\n",
      "Iteration 158000: Loss = 20201.518524 Beta_err = 0.697049\n",
      "Iteration 159000: Loss = 20281.118360 Beta_err = 0.696915\n",
      "Iteration 160000: Loss = 19885.991720 Beta_err = 0.696915\n",
      "Iteration 161000: Loss = 21104.142210 Beta_err = 0.696963\n",
      "Iteration 162000: Loss = 20503.639730 Beta_err = 0.696798\n",
      "Iteration 163000: Loss = 20288.409075 Beta_err = 0.697009\n",
      "Iteration 164000: Loss = 20434.580113 Beta_err = 0.696752\n",
      "Iteration 165000: Loss = 20758.845625 Beta_err = 0.696836\n",
      "Iteration 166000: Loss = 20822.225961 Beta_err = 0.696856\n",
      "Iteration 167000: Loss = 20673.334680 Beta_err = 0.697007\n",
      "Iteration 168000: Loss = 19871.190540 Beta_err = 0.696819\n",
      "Iteration 169000: Loss = 20270.992863 Beta_err = 0.696634\n",
      "Iteration 170000: Loss = 19886.187989 Beta_err = 0.696551\n",
      "Iteration 171000: Loss = 19991.995455 Beta_err = 0.696787\n",
      "Iteration 172000: Loss = 20516.280980 Beta_err = 0.696621\n",
      "Iteration 173000: Loss = 19960.523447 Beta_err = 0.696528\n",
      "Iteration 174000: Loss = 20542.655431 Beta_err = 0.696651\n",
      "Iteration 175000: Loss = 19865.174858 Beta_err = 0.696617\n",
      "Iteration 176000: Loss = 19893.871495 Beta_err = 0.696659\n",
      "Iteration 177000: Loss = 20311.266321 Beta_err = 0.696544\n",
      "Iteration 178000: Loss = 20181.439746 Beta_err = 0.696817\n",
      "Iteration 179000: Loss = 20136.632072 Beta_err = 0.696567\n",
      "Iteration 180000: Loss = 19941.852078 Beta_err = 0.696791\n",
      "Iteration 181000: Loss = 19863.270111 Beta_err = 0.696616\n",
      "Iteration 182000: Loss = 20715.009032 Beta_err = 0.696513\n",
      "Iteration 183000: Loss = 20652.052249 Beta_err = 0.696583\n",
      "Iteration 184000: Loss = 20840.885667 Beta_err = 0.696598\n",
      "Iteration 185000: Loss = 20242.917478 Beta_err = 0.696533\n",
      "Iteration 186000: Loss = 20110.055879 Beta_err = 0.696370\n",
      "Iteration 187000: Loss = 19871.331411 Beta_err = 0.696313\n",
      "Iteration 188000: Loss = 19962.845512 Beta_err = 0.696181\n",
      "Iteration 189000: Loss = 20046.554868 Beta_err = 0.696480\n",
      "Iteration 190000: Loss = 20499.489768 Beta_err = 0.696476\n",
      "Iteration 191000: Loss = 20132.988328 Beta_err = 0.696499\n",
      "Iteration 192000: Loss = 20139.458755 Beta_err = 0.696328\n",
      "Iteration 193000: Loss = 20899.881931 Beta_err = 0.696190\n",
      "Iteration 194000: Loss = 20342.417753 Beta_err = 0.696183\n",
      "Iteration 195000: Loss = 21196.297650 Beta_err = 0.696318\n",
      "Iteration 196000: Loss = 20518.902860 Beta_err = 0.696247\n",
      "Iteration 197000: Loss = 20097.476661 Beta_err = 0.696209\n",
      "Iteration 198000: Loss = 20643.323758 Beta_err = 0.696074\n",
      "Iteration 199000: Loss = 20361.541369 Beta_err = 0.696155\n",
      "Iteration 200000: Loss = 19966.083790 Beta_err = 0.696310\n",
      "Iteration 201000: Loss = 19868.537667 Beta_err = 0.696095\n",
      "Iteration 202000: Loss = 20591.366182 Beta_err = 0.695956\n",
      "Iteration 203000: Loss = 20210.963378 Beta_err = 0.695872\n",
      "Iteration 204000: Loss = 20590.654072 Beta_err = 0.695965\n",
      "Iteration 205000: Loss = 20078.038354 Beta_err = 0.696051\n",
      "Iteration 206000: Loss = 20251.866803 Beta_err = 0.695616\n",
      "Iteration 207000: Loss = 20546.211023 Beta_err = 0.695752\n",
      "Iteration 208000: Loss = 20134.655807 Beta_err = 0.695710\n",
      "Iteration 209000: Loss = 20140.086075 Beta_err = 0.695963\n",
      "Iteration 210000: Loss = 20334.870084 Beta_err = 0.695935\n",
      "Iteration 211000: Loss = 21063.588830 Beta_err = 0.696045\n",
      "Iteration 212000: Loss = 21505.377500 Beta_err = 0.696097\n",
      "Iteration 213000: Loss = 20028.121486 Beta_err = 0.696199\n",
      "Iteration 214000: Loss = 20989.324135 Beta_err = 0.695987\n",
      "Iteration 215000: Loss = 19983.390313 Beta_err = 0.695908\n",
      "Iteration 216000: Loss = 20409.814366 Beta_err = 0.696060\n",
      "Iteration 217000: Loss = 20907.062614 Beta_err = 0.696063\n",
      "Iteration 218000: Loss = 19926.910013 Beta_err = 0.695769\n",
      "Iteration 219000: Loss = 22345.194761 Beta_err = 0.695912\n",
      "Iteration 220000: Loss = 21117.874817 Beta_err = 0.696003\n",
      "Iteration 221000: Loss = 19974.640137 Beta_err = 0.695785\n",
      "Iteration 222000: Loss = 20549.822083 Beta_err = 0.695639\n",
      "Iteration 223000: Loss = 20192.950837 Beta_err = 0.695757\n",
      "Iteration 224000: Loss = 20001.291947 Beta_err = 0.695749\n",
      "Iteration 225000: Loss = 20701.590497 Beta_err = 0.695708\n",
      "Iteration 226000: Loss = 20264.919959 Beta_err = 0.695931\n",
      "Iteration 227000: Loss = 20319.843976 Beta_err = 0.695901\n",
      "Iteration 228000: Loss = 22268.755789 Beta_err = 0.696163\n",
      "Iteration 229000: Loss = 19950.658136 Beta_err = 0.696010\n",
      "Iteration 230000: Loss = 20045.956290 Beta_err = 0.695791\n",
      "Iteration 231000: Loss = 20119.991385 Beta_err = 0.695886\n",
      "Iteration 232000: Loss = 21870.665413 Beta_err = 0.695822\n",
      "Iteration 233000: Loss = 20113.512690 Beta_err = 0.695726\n",
      "Iteration 234000: Loss = 20301.440849 Beta_err = 0.695679\n",
      "Iteration 235000: Loss = 19977.514705 Beta_err = 0.695465\n",
      "Iteration 236000: Loss = 19912.830336 Beta_err = 0.695579\n",
      "Iteration 237000: Loss = 20663.811248 Beta_err = 0.695760\n",
      "Iteration 238000: Loss = 21257.840053 Beta_err = 0.695794\n",
      "Iteration 239000: Loss = 20092.527097 Beta_err = 0.695688\n",
      "Iteration 240000: Loss = 21943.365027 Beta_err = 0.695683\n",
      "Iteration 241000: Loss = 20494.645771 Beta_err = 0.695791\n",
      "Iteration 242000: Loss = 19863.400147 Beta_err = 0.695703\n",
      "Iteration 243000: Loss = 23586.735143 Beta_err = 0.695647\n",
      "Iteration 244000: Loss = 20124.241848 Beta_err = 0.695584\n",
      "Iteration 245000: Loss = 20341.448535 Beta_err = 0.695608\n",
      "Iteration 246000: Loss = 20991.023218 Beta_err = 0.695691\n",
      "Iteration 247000: Loss = 20498.017045 Beta_err = 0.695679\n",
      "Iteration 248000: Loss = 20641.343288 Beta_err = 0.695351\n",
      "Iteration 249000: Loss = 20470.375060 Beta_err = 0.695588\n",
      "Iteration 250000: Loss = 20800.013295 Beta_err = 0.695568\n",
      "Iteration 251000: Loss = 20333.454769 Beta_err = 0.695453\n",
      "Iteration 252000: Loss = 20782.668430 Beta_err = 0.695301\n",
      "Iteration 253000: Loss = 21020.499290 Beta_err = 0.695377\n",
      "Iteration 254000: Loss = 20728.196590 Beta_err = 0.695399\n",
      "Iteration 255000: Loss = 22619.609509 Beta_err = 0.695447\n",
      "Iteration 256000: Loss = 20182.861564 Beta_err = 0.695414\n",
      "Iteration 257000: Loss = 20672.829544 Beta_err = 0.695511\n",
      "Iteration 258000: Loss = 20652.830294 Beta_err = 0.695370\n",
      "Iteration 259000: Loss = 20122.562176 Beta_err = 0.695464\n",
      "Iteration 260000: Loss = 20134.735398 Beta_err = 0.695320\n",
      "Iteration 261000: Loss = 20598.190364 Beta_err = 0.695699\n",
      "Iteration 262000: Loss = 20607.710977 Beta_err = 0.695630\n",
      "Iteration 263000: Loss = 20513.921497 Beta_err = 0.695504\n",
      "Iteration 264000: Loss = 20306.675684 Beta_err = 0.695637\n",
      "Iteration 265000: Loss = 19964.971233 Beta_err = 0.695531\n",
      "Iteration 266000: Loss = 20390.369908 Beta_err = 0.695692\n",
      "Iteration 267000: Loss = 20701.996385 Beta_err = 0.695611\n",
      "Iteration 268000: Loss = 20407.655198 Beta_err = 0.695423\n",
      "Iteration 269000: Loss = 20633.172453 Beta_err = 0.695364\n",
      "Iteration 270000: Loss = 22683.582404 Beta_err = 0.695485\n",
      "Iteration 271000: Loss = 21661.043152 Beta_err = 0.695357\n",
      "Iteration 272000: Loss = 20109.581181 Beta_err = 0.695414\n",
      "Iteration 273000: Loss = 20362.023474 Beta_err = 0.695273\n",
      "Iteration 274000: Loss = 20359.688193 Beta_err = 0.695430\n",
      "Iteration 275000: Loss = 20194.799415 Beta_err = 0.695551\n",
      "Iteration 276000: Loss = 19883.667671 Beta_err = 0.695594\n",
      "Iteration 277000: Loss = 20817.539655 Beta_err = 0.695556\n",
      "Iteration 278000: Loss = 19904.337655 Beta_err = 0.695507\n",
      "Iteration 279000: Loss = 19896.613207 Beta_err = 0.695468\n",
      "Iteration 280000: Loss = 20523.717954 Beta_err = 0.695497\n",
      "Iteration 281000: Loss = 19852.913272 Beta_err = 0.695690\n",
      "Iteration 282000: Loss = 19901.933243 Beta_err = 0.695545\n",
      "Iteration 283000: Loss = 20115.144923 Beta_err = 0.695452\n",
      "Iteration 284000: Loss = 20455.962255 Beta_err = 0.695646\n",
      "Iteration 285000: Loss = 21288.853839 Beta_err = 0.695528\n",
      "Iteration 286000: Loss = 19957.493533 Beta_err = 0.695514\n",
      "Iteration 287000: Loss = 23059.676033 Beta_err = 0.695363\n",
      "Iteration 288000: Loss = 20129.121739 Beta_err = 0.695371\n",
      "Iteration 289000: Loss = 19866.807209 Beta_err = 0.695365\n",
      "Iteration 290000: Loss = 20288.791078 Beta_err = 0.695391\n",
      "Iteration 291000: Loss = 22648.441575 Beta_err = 0.695313\n",
      "Iteration 292000: Loss = 20121.472023 Beta_err = 0.695311\n",
      "Iteration 293000: Loss = 20227.698912 Beta_err = 0.695284\n",
      "Iteration 294000: Loss = 21132.396326 Beta_err = 0.695452\n",
      "Iteration 295000: Loss = 20017.843805 Beta_err = 0.695286\n",
      "Iteration 296000: Loss = 20913.787929 Beta_err = 0.695466\n",
      "Iteration 297000: Loss = 20341.174355 Beta_err = 0.695530\n",
      "Iteration 298000: Loss = 20312.911189 Beta_err = 0.695488\n",
      "Iteration 299000: Loss = 21212.547486 Beta_err = 0.695200\n",
      "time elapsed = 345.53125\n",
      "iterations = 299999\n",
      "Objective Function value = 20239.380793215525\n",
      "Betas = [3.97729398 1.96110851 1.98879088 ... 1.95554158 2.01124649 2.00685752]\n",
      "error= 0.6951805835591729\n",
      "Number of the objective function evaluations:  299999\n",
      "Number of the objective function gradient evaluations:  299999\n",
      "Number of the objective function Hessian evaluations:  0\n"
     ]
    }
   ],
   "source": [
    "def rigid_reg_stoc(beta_ridge, X, Y, subset):\n",
    "    Xsub = X[subset,:]\n",
    "    Ysub = Y[subset]\n",
    "    z = Ysub - Xsub @ beta_ridge\n",
    "    return np.dot(z.T,z) + rho * np.dot(beta_ridge.T, beta_ridge)\n",
    "\n",
    "def ridge_reg_der_stoc(beta_ridge,X,Y,subset):\n",
    "    Xsub = X[subset,:]\n",
    "    Ysub = Y[subset]\n",
    "\n",
    "    pp = -2*np.dot((Ysub - Xsub @ beta_ridge).T,Xsub)\n",
    "    aa = pp.squeeze() + 2 * rho * beta_ridge\n",
    "    return aa\n",
    "\n",
    "(a,b)=X.shape\n",
    "beta_ridge=np.zeros(b) #initial value for beta\n",
    "alpha=1e-6\n",
    "n_iter=300000 #maximim number iteration\n",
    "OF_iter_cur= 0\n",
    "OF_iter_pre = 0\n",
    "tol_iter=np.zeros(n_iter)\n",
    "alpha_iter=np.zeros(n_iter)\n",
    "error_minib_iter=np.zeros(n_iter)\n",
    "i=0\n",
    "sigma = 0.001\n",
    "#### Number of samples to take into consideration in each iteration\n",
    "subsetsize = 1\n",
    "\n",
    "## Function, Gradient, Hessian evaluation number\n",
    "nfev = 0\n",
    "njev = 0\n",
    "nhev = 0\n",
    "\n",
    "time_start = time.process_time()\n",
    "\n",
    "while i <= n_iter-2:\n",
    "    subset = np.random.choice(N, subsetsize, replace=False)\n",
    "    grad = ridge_reg_der_stoc(beta_ridge, X, Y, subset); njev += 1\n",
    "    ddirect = -grad\n",
    "    ##### Armijo rule to adjust alpha ######\n",
    "    alpha=1e-6\n",
    "    while rigid_reg_stoc(beta_ridge + alpha * ddirect, X, Y, subset) > rigid_reg_stoc(beta_ridge, X, Y,subset)+alpha*sigma*np.dot(ddirect, grad):\n",
    "        alpha = alpha*delta\n",
    "        nfev += 2\n",
    "    #########################################\n",
    "    beta_ridge = beta_ridge + alpha * ddirect\n",
    "    OF_iter_cur = rigid_reg_stoc(beta_ridge, X, Y, subset); nfev += 1\n",
    "    error_minib_iter[i] = np.linalg.norm(np.transpose(beta_ridge_exact)-beta_ridge,ord=2)/np.linalg.norm(beta_ridge,ord=2)\n",
    "    if i % 1000 == 0:\n",
    "        print('Iteration %d: Loss = %f Beta_err = %f' %(i, OF_iter_cur, error_minib_iter[i]))\n",
    "    i=i+1\n",
    "\n",
    "time_elapsed = (time.process_time() - time_start)\n",
    "print('time elapsed =',time_elapsed)\n",
    "print('iterations =',i)\n",
    "print('Objective Function value =', OF_iter_cur)\n",
    "print('Betas =',beta_ridge)\n",
    "print('error=',np.linalg.norm(np.transpose(beta_ridge_exact)-beta_ridge,ord=2)/np.linalg.norm(beta_ridge,ord=2))\n",
    "\n",
    "print('Number of the objective function evaluations: ', nfev)\n",
    "print('Number of the objective function gradient evaluations: ', njev)\n",
    "print('Number of the objective function Hessian evaluations: ', nhev)"
   ]
  },
  {
   "cell_type": "markdown",
   "metadata": {
    "pycharm": {
     "name": "#%% md\n"
    }
   },
   "source": [
    "##### Output\n",
    "\n",
    "time elapsed = 345.53125\n",
    "\n",
    "iterations = 299999\n",
    "\n",
    "error= 0.6952\n",
    "\n",
    "Function evaluation = 299999\n",
    "\n",
    "Gradient evaluation = 299999\n",
    "\n",
    "Hessian evaluation = 0\n"
   ]
  },
  {
   "cell_type": "markdown",
   "metadata": {
    "pycharm": {
     "name": "#%% md\n"
    }
   },
   "source": [
    "## iii. Others Techniques\n",
    "We will use three other techniques presented in Topic 2 (one from each category: \"noise reduction\", \"second-order\" and \"others\" mothods)."
   ]
  },
  {
   "cell_type": "markdown",
   "metadata": {
    "pycharm": {
     "name": "#%% md\n"
    }
   },
   "source": [
    "### Noise Reduction\n",
    "We want to implement Dynamic Sample Size Method.\n",
    "\n",
    "The key points of this method is to gradually increase the minibatch size.\n"
   ]
  },
  {
   "cell_type": "code",
   "execution_count": 56,
   "metadata": {
    "pycharm": {
     "name": "#%%\n"
    }
   },
   "outputs": [
    {
     "name": "stdout",
     "output_type": "stream",
     "text": [
      "Iteration 0: Loss = 933453.847914, minibatch_size = 1 Beta_error = 19.600272\n",
      "Iteration 100: Loss = 20350.007893, minibatch_size = 1 Beta_error = 0.718240\n",
      "Iteration 200: Loss = 19869.009753, minibatch_size = 1 Beta_error = 0.713517\n",
      "Iteration 300: Loss = 19892.342056, minibatch_size = 1 Beta_error = 0.710915\n",
      "Iteration 400: Loss = 20251.133391, minibatch_size = 1 Beta_error = 0.707615\n",
      "Iteration 500: Loss = 20378.075293, minibatch_size = 1 Beta_error = 0.706876\n",
      "Iteration 600: Loss = 20356.783543, minibatch_size = 1 Beta_error = 0.704129\n",
      "Iteration 700: Loss = 20263.417086, minibatch_size = 1 Beta_error = 0.704826\n",
      "Iteration 800: Loss = 19851.637354, minibatch_size = 1 Beta_error = 0.704084\n",
      "Iteration 900: Loss = 21004.335586, minibatch_size = 1 Beta_error = 0.702669\n",
      "Iteration 1000: Loss = 19890.234591, minibatch_size = 1 Beta_error = 0.702753\n",
      "Iteration 1100: Loss = 20564.991952, minibatch_size = 1 Beta_error = 0.703310\n",
      "Iteration 1200: Loss = 21116.939835, minibatch_size = 1 Beta_error = 0.701526\n",
      "Iteration 1300: Loss = 20293.002718, minibatch_size = 1 Beta_error = 0.697460\n",
      "Iteration 1400: Loss = 20289.342602, minibatch_size = 1 Beta_error = 0.698323\n",
      "Iteration 1500: Loss = 20302.836595, minibatch_size = 1 Beta_error = 0.695542\n",
      "Iteration 1600: Loss = 20270.255111, minibatch_size = 1 Beta_error = 0.697783\n",
      "Iteration 1700: Loss = 20290.987857, minibatch_size = 1 Beta_error = 0.697760\n",
      "Iteration 1800: Loss = 20566.869409, minibatch_size = 1 Beta_error = 0.695861\n",
      "Iteration 1900: Loss = 20644.981267, minibatch_size = 1 Beta_error = 0.695938\n",
      "Iteration 2000: Loss = 20089.240253, minibatch_size = 1 Beta_error = 0.696296\n",
      "Iteration 2100: Loss = 19995.072650, minibatch_size = 1 Beta_error = 0.696031\n",
      "Iteration 2200: Loss = 20754.618821, minibatch_size = 1 Beta_error = 0.697540\n",
      "Iteration 2300: Loss = 20072.075255, minibatch_size = 1 Beta_error = 0.694273\n",
      "Iteration 2400: Loss = 19876.451411, minibatch_size = 1 Beta_error = 0.695725\n",
      "Iteration 2500: Loss = 20554.872714, minibatch_size = 1 Beta_error = 0.695801\n",
      "Iteration 2600: Loss = 20838.755922, minibatch_size = 1 Beta_error = 0.694242\n",
      "Iteration 2700: Loss = 19981.598827, minibatch_size = 1 Beta_error = 0.693475\n",
      "Iteration 2800: Loss = 20145.462912, minibatch_size = 1 Beta_error = 0.695171\n",
      "Iteration 2900: Loss = 20503.088107, minibatch_size = 1 Beta_error = 0.693368\n",
      "Iteration 3000: Loss = 20968.078627, minibatch_size = 1 Beta_error = 0.695588\n",
      "Iteration 3100: Loss = 19974.310971, minibatch_size = 1 Beta_error = 0.693741\n",
      "Iteration 3200: Loss = 20447.623975, minibatch_size = 1 Beta_error = 0.695879\n",
      "Iteration 3300: Loss = 20840.219110, minibatch_size = 1 Beta_error = 0.694492\n",
      "Iteration 3400: Loss = 20996.818932, minibatch_size = 1 Beta_error = 0.692094\n",
      "Iteration 3500: Loss = 21722.230770, minibatch_size = 1 Beta_error = 0.692190\n",
      "Iteration 3600: Loss = 19965.433288, minibatch_size = 1 Beta_error = 0.692757\n",
      "Iteration 3700: Loss = 20043.588538, minibatch_size = 1 Beta_error = 0.693706\n",
      "Iteration 3800: Loss = 19931.121523, minibatch_size = 1 Beta_error = 0.695796\n",
      "Iteration 3900: Loss = 20118.319811, minibatch_size = 1 Beta_error = 0.693265\n",
      "Iteration 4000: Loss = 20119.341966, minibatch_size = 1 Beta_error = 0.696120\n",
      "Iteration 4100: Loss = 20006.687649, minibatch_size = 1 Beta_error = 0.696266\n",
      "Iteration 4200: Loss = 20390.997584, minibatch_size = 1 Beta_error = 0.695289\n",
      "Iteration 4300: Loss = 20127.547230, minibatch_size = 1 Beta_error = 0.693896\n",
      "Iteration 4400: Loss = 20551.143768, minibatch_size = 1 Beta_error = 0.696309\n",
      "Iteration 4500: Loss = 20185.464272, minibatch_size = 1 Beta_error = 0.695576\n",
      "Iteration 4600: Loss = 21572.464686, minibatch_size = 1 Beta_error = 0.695828\n",
      "Iteration 4700: Loss = 20381.378695, minibatch_size = 1 Beta_error = 0.696801\n",
      "Iteration 4800: Loss = 19957.559707, minibatch_size = 1 Beta_error = 0.694260\n",
      "Iteration 4900: Loss = 19844.379519, minibatch_size = 1 Beta_error = 0.696270\n",
      "Iteration 5000: Loss = 20512.787633, minibatch_size = 1 Beta_error = 0.696819\n",
      "Iteration 5100: Loss = 19726.091056, minibatch_size = 1 Beta_error = 0.699516\n",
      "Iteration 5200: Loss = 19938.979982, minibatch_size = 1 Beta_error = 0.695723\n",
      "Iteration 5300: Loss = 20397.677869, minibatch_size = 1 Beta_error = 0.695208\n",
      "Iteration 5400: Loss = 20060.539542, minibatch_size = 1 Beta_error = 0.698173\n",
      "Iteration 5500: Loss = 21108.593311, minibatch_size = 1 Beta_error = 0.693026\n",
      "Iteration 5600: Loss = 19922.810092, minibatch_size = 1 Beta_error = 0.694493\n",
      "Iteration 5700: Loss = 20940.452693, minibatch_size = 1 Beta_error = 0.695922\n",
      "Iteration 5800: Loss = 20186.052934, minibatch_size = 1 Beta_error = 0.694475\n",
      "Iteration 5900: Loss = 20480.730161, minibatch_size = 1 Beta_error = 0.696713\n",
      "Iteration 6000: Loss = 20592.478311, minibatch_size = 1 Beta_error = 0.695172\n",
      "Iteration 6100: Loss = 20175.361906, minibatch_size = 1 Beta_error = 0.695926\n",
      "Iteration 6200: Loss = 19873.611277, minibatch_size = 1 Beta_error = 0.698329\n",
      "Iteration 6300: Loss = 19941.050022, minibatch_size = 1 Beta_error = 0.695333\n",
      "Iteration 6400: Loss = 20467.237686, minibatch_size = 1 Beta_error = 0.696062\n",
      "Iteration 6500: Loss = 20402.296016, minibatch_size = 1 Beta_error = 0.696074\n",
      "Iteration 6600: Loss = 20516.934422, minibatch_size = 1 Beta_error = 0.697542\n",
      "Iteration 6700: Loss = 20974.834827, minibatch_size = 1 Beta_error = 0.697123\n",
      "Iteration 6800: Loss = 19735.985407, minibatch_size = 1 Beta_error = 0.698369\n",
      "Iteration 6900: Loss = 20550.298853, minibatch_size = 1 Beta_error = 0.696279\n",
      "Iteration 7000: Loss = 20380.410626, minibatch_size = 2 Beta_error = 0.686637\n",
      "Iteration 7100: Loss = 20576.060071, minibatch_size = 2 Beta_error = 0.687330\n",
      "Iteration 7200: Loss = 21565.048189, minibatch_size = 2 Beta_error = 0.682137\n",
      "Iteration 7300: Loss = 20362.118707, minibatch_size = 2 Beta_error = 0.685153\n",
      "Iteration 7400: Loss = 20311.914682, minibatch_size = 2 Beta_error = 0.685653\n",
      "Iteration 7500: Loss = 22920.946448, minibatch_size = 2 Beta_error = 0.682488\n",
      "Iteration 7600: Loss = 20730.546102, minibatch_size = 2 Beta_error = 0.681308\n",
      "Iteration 7700: Loss = 20732.888845, minibatch_size = 2 Beta_error = 0.677118\n",
      "Iteration 7800: Loss = 20657.864315, minibatch_size = 2 Beta_error = 0.681817\n",
      "Iteration 7900: Loss = 20956.046528, minibatch_size = 2 Beta_error = 0.679481\n",
      "Iteration 8000: Loss = 20800.783587, minibatch_size = 2 Beta_error = 0.681604\n",
      "Iteration 8100: Loss = 20303.107966, minibatch_size = 2 Beta_error = 0.679602\n",
      "Iteration 8200: Loss = 20815.079965, minibatch_size = 2 Beta_error = 0.679301\n",
      "Iteration 8300: Loss = 20877.127527, minibatch_size = 2 Beta_error = 0.678158\n",
      "Iteration 8400: Loss = 20814.263401, minibatch_size = 2 Beta_error = 0.679827\n",
      "Iteration 8500: Loss = 20440.662753, minibatch_size = 2 Beta_error = 0.678553\n",
      "Iteration 8600: Loss = 20362.145553, minibatch_size = 2 Beta_error = 0.679088\n",
      "Iteration 8700: Loss = 20480.001711, minibatch_size = 2 Beta_error = 0.677850\n",
      "Iteration 8800: Loss = 20377.934563, minibatch_size = 2 Beta_error = 0.679077\n",
      "Iteration 8900: Loss = 21472.095421, minibatch_size = 2 Beta_error = 0.678241\n",
      "Iteration 9000: Loss = 20908.026431, minibatch_size = 2 Beta_error = 0.673671\n",
      "Iteration 9100: Loss = 20264.649644, minibatch_size = 2 Beta_error = 0.678168\n",
      "Iteration 9200: Loss = 20190.230534, minibatch_size = 2 Beta_error = 0.681000\n",
      "Iteration 9300: Loss = 20210.654827, minibatch_size = 2 Beta_error = 0.679731\n",
      "Iteration 9400: Loss = 20301.630934, minibatch_size = 2 Beta_error = 0.678342\n",
      "Iteration 9500: Loss = 20499.580753, minibatch_size = 2 Beta_error = 0.678745\n",
      "Iteration 9600: Loss = 20485.657610, minibatch_size = 2 Beta_error = 0.679078\n",
      "Iteration 9700: Loss = 21052.381847, minibatch_size = 2 Beta_error = 0.677250\n",
      "Iteration 9800: Loss = 20757.482467, minibatch_size = 2 Beta_error = 0.680752\n",
      "Iteration 9900: Loss = 20544.658581, minibatch_size = 2 Beta_error = 0.676823\n",
      "Iteration 10000: Loss = 20431.585482, minibatch_size = 2 Beta_error = 0.677815\n",
      "Iteration 10100: Loss = 20700.624231, minibatch_size = 2 Beta_error = 0.678672\n",
      "Iteration 10200: Loss = 21268.124981, minibatch_size = 2 Beta_error = 0.676522\n",
      "Iteration 10300: Loss = 20906.024312, minibatch_size = 2 Beta_error = 0.677024\n",
      "Iteration 10400: Loss = 20457.026761, minibatch_size = 2 Beta_error = 0.675800\n",
      "Iteration 10500: Loss = 21165.958283, minibatch_size = 2 Beta_error = 0.675379\n",
      "Iteration 10600: Loss = 20415.452645, minibatch_size = 2 Beta_error = 0.677485\n",
      "Iteration 10700: Loss = 20307.808635, minibatch_size = 2 Beta_error = 0.677569\n",
      "Iteration 10800: Loss = 20540.304697, minibatch_size = 2 Beta_error = 0.678634\n",
      "Iteration 10900: Loss = 20757.416204, minibatch_size = 2 Beta_error = 0.676073\n",
      "Iteration 11000: Loss = 20864.756973, minibatch_size = 3 Beta_error = 0.675274\n",
      "Iteration 11100: Loss = 21061.781556, minibatch_size = 3 Beta_error = 0.670063\n",
      "Iteration 11200: Loss = 21676.298583, minibatch_size = 3 Beta_error = 0.670508\n",
      "Iteration 11300: Loss = 20886.629014, minibatch_size = 3 Beta_error = 0.670999\n",
      "Iteration 11400: Loss = 20809.355458, minibatch_size = 3 Beta_error = 0.668195\n",
      "Iteration 11500: Loss = 21739.467794, minibatch_size = 3 Beta_error = 0.669258\n",
      "Iteration 11600: Loss = 20795.120354, minibatch_size = 3 Beta_error = 0.669535\n",
      "Iteration 11700: Loss = 20808.462282, minibatch_size = 3 Beta_error = 0.671029\n",
      "Iteration 11800: Loss = 20506.425439, minibatch_size = 3 Beta_error = 0.669785\n",
      "Iteration 11900: Loss = 20599.558158, minibatch_size = 3 Beta_error = 0.667069\n",
      "Iteration 12000: Loss = 21203.506703, minibatch_size = 3 Beta_error = 0.666572\n",
      "Iteration 12100: Loss = 20428.068021, minibatch_size = 3 Beta_error = 0.668290\n",
      "Iteration 12200: Loss = 21271.708262, minibatch_size = 3 Beta_error = 0.664806\n",
      "Iteration 12300: Loss = 21117.374469, minibatch_size = 3 Beta_error = 0.665824\n",
      "Iteration 12400: Loss = 20699.542530, minibatch_size = 3 Beta_error = 0.666877\n",
      "Iteration 12500: Loss = 21878.302135, minibatch_size = 3 Beta_error = 0.662734\n",
      "Iteration 12600: Loss = 20756.973335, minibatch_size = 3 Beta_error = 0.666756\n",
      "Iteration 12700: Loss = 20991.204432, minibatch_size = 3 Beta_error = 0.667153\n",
      "Iteration 12800: Loss = 20645.495722, minibatch_size = 3 Beta_error = 0.666856\n",
      "Iteration 12900: Loss = 20754.481557, minibatch_size = 3 Beta_error = 0.666402\n",
      "Iteration 13000: Loss = 20840.736045, minibatch_size = 3 Beta_error = 0.664481\n",
      "Iteration 13100: Loss = 20611.716980, minibatch_size = 3 Beta_error = 0.665121\n",
      "Iteration 13200: Loss = 21065.855869, minibatch_size = 3 Beta_error = 0.664625\n",
      "Iteration 13300: Loss = 20723.047035, minibatch_size = 3 Beta_error = 0.666195\n",
      "Iteration 13400: Loss = 20680.613866, minibatch_size = 3 Beta_error = 0.663117\n",
      "Iteration 13500: Loss = 20658.263052, minibatch_size = 3 Beta_error = 0.664235\n",
      "Iteration 13600: Loss = 21533.463400, minibatch_size = 3 Beta_error = 0.662625\n",
      "Iteration 13700: Loss = 21430.160392, minibatch_size = 3 Beta_error = 0.662745\n",
      "Iteration 13800: Loss = 21077.133279, minibatch_size = 3 Beta_error = 0.663862\n",
      "Iteration 13900: Loss = 20890.007374, minibatch_size = 4 Beta_error = 0.662902\n",
      "Iteration 14000: Loss = 21168.688076, minibatch_size = 4 Beta_error = 0.660845\n",
      "Iteration 14100: Loss = 20701.229041, minibatch_size = 4 Beta_error = 0.658966\n",
      "Iteration 14200: Loss = 21290.765461, minibatch_size = 4 Beta_error = 0.660621\n",
      "Iteration 14300: Loss = 21287.271027, minibatch_size = 4 Beta_error = 0.658623\n",
      "Iteration 14400: Loss = 21233.618958, minibatch_size = 4 Beta_error = 0.659570\n",
      "Iteration 14500: Loss = 21522.882114, minibatch_size = 4 Beta_error = 0.655668\n",
      "Iteration 14600: Loss = 20710.350588, minibatch_size = 4 Beta_error = 0.656997\n",
      "Iteration 14700: Loss = 21050.421397, minibatch_size = 4 Beta_error = 0.655069\n",
      "Iteration 14800: Loss = 21189.017884, minibatch_size = 4 Beta_error = 0.653997\n",
      "Iteration 14900: Loss = 20686.856655, minibatch_size = 4 Beta_error = 0.654361\n",
      "Iteration 15000: Loss = 21382.753829, minibatch_size = 4 Beta_error = 0.652469\n",
      "Iteration 15100: Loss = 20622.979404, minibatch_size = 4 Beta_error = 0.653753\n",
      "Iteration 15200: Loss = 20734.844871, minibatch_size = 4 Beta_error = 0.654102\n",
      "Iteration 15300: Loss = 21027.173735, minibatch_size = 4 Beta_error = 0.653932\n",
      "Iteration 15400: Loss = 20708.776374, minibatch_size = 4 Beta_error = 0.655878\n",
      "Iteration 15500: Loss = 21372.317250, minibatch_size = 4 Beta_error = 0.653640\n",
      "Iteration 15600: Loss = 20815.559037, minibatch_size = 4 Beta_error = 0.654174\n",
      "Iteration 15700: Loss = 21321.062754, minibatch_size = 4 Beta_error = 0.654194\n",
      "Iteration 15800: Loss = 20610.730340, minibatch_size = 4 Beta_error = 0.655822\n",
      "Iteration 15900: Loss = 21349.100810, minibatch_size = 4 Beta_error = 0.652515\n",
      "Iteration 16000: Loss = 20627.814463, minibatch_size = 4 Beta_error = 0.653675\n",
      "Iteration 16100: Loss = 22059.546493, minibatch_size = 5 Beta_error = 0.652062\n",
      "Iteration 16200: Loss = 21749.981420, minibatch_size = 5 Beta_error = 0.650910\n",
      "Iteration 16300: Loss = 21125.933332, minibatch_size = 5 Beta_error = 0.651056\n",
      "Iteration 16400: Loss = 22142.598656, minibatch_size = 5 Beta_error = 0.646457\n",
      "Iteration 16500: Loss = 21037.559850, minibatch_size = 5 Beta_error = 0.648949\n",
      "Iteration 16600: Loss = 20972.454629, minibatch_size = 5 Beta_error = 0.646331\n",
      "Iteration 16700: Loss = 21444.176054, minibatch_size = 5 Beta_error = 0.645133\n",
      "Iteration 16800: Loss = 20706.898758, minibatch_size = 5 Beta_error = 0.647056\n",
      "Iteration 16900: Loss = 22203.506238, minibatch_size = 5 Beta_error = 0.644979\n",
      "Iteration 17000: Loss = 21020.296869, minibatch_size = 5 Beta_error = 0.645272\n",
      "Iteration 17100: Loss = 21402.654313, minibatch_size = 5 Beta_error = 0.642645\n",
      "Iteration 17200: Loss = 21504.965829, minibatch_size = 5 Beta_error = 0.639990\n",
      "Iteration 17300: Loss = 21077.938901, minibatch_size = 5 Beta_error = 0.640984\n",
      "Iteration 17400: Loss = 20787.406660, minibatch_size = 5 Beta_error = 0.642026\n",
      "Iteration 17500: Loss = 21026.563764, minibatch_size = 5 Beta_error = 0.642389\n",
      "Iteration 17600: Loss = 20603.089672, minibatch_size = 5 Beta_error = 0.642296\n",
      "Iteration 17700: Loss = 21225.676136, minibatch_size = 5 Beta_error = 0.637598\n",
      "Iteration 17800: Loss = 21208.304407, minibatch_size = 5 Beta_error = 0.640520\n",
      "Iteration 17900: Loss = 21292.750626, minibatch_size = 5 Beta_error = 0.639676\n",
      "Iteration 18000: Loss = 22305.699756, minibatch_size = 6 Beta_error = 0.637908\n",
      "Iteration 18100: Loss = 21485.129620, minibatch_size = 6 Beta_error = 0.637735\n",
      "Iteration 18200: Loss = 21156.034653, minibatch_size = 6 Beta_error = 0.637192\n",
      "Iteration 18300: Loss = 21241.326450, minibatch_size = 6 Beta_error = 0.635734\n",
      "Iteration 18400: Loss = 21060.445267, minibatch_size = 6 Beta_error = 0.635469\n",
      "Iteration 18500: Loss = 21121.101071, minibatch_size = 6 Beta_error = 0.634201\n",
      "Iteration 18600: Loss = 21088.060073, minibatch_size = 6 Beta_error = 0.634168\n",
      "Iteration 18700: Loss = 20915.158108, minibatch_size = 6 Beta_error = 0.633996\n",
      "Iteration 18800: Loss = 21633.819636, minibatch_size = 6 Beta_error = 0.633086\n",
      "Iteration 18900: Loss = 21800.578312, minibatch_size = 6 Beta_error = 0.632955\n",
      "Iteration 19000: Loss = 21378.953645, minibatch_size = 6 Beta_error = 0.633756\n",
      "Iteration 19100: Loss = 21067.230746, minibatch_size = 6 Beta_error = 0.631706\n",
      "Iteration 19200: Loss = 20740.511377, minibatch_size = 6 Beta_error = 0.633417\n",
      "Iteration 19300: Loss = 21139.152142, minibatch_size = 6 Beta_error = 0.630645\n",
      "Iteration 19400: Loss = 21758.130251, minibatch_size = 6 Beta_error = 0.633559\n",
      "Iteration 19500: Loss = 22424.924677, minibatch_size = 7 Beta_error = 0.631364\n",
      "Iteration 19600: Loss = 20889.873486, minibatch_size = 7 Beta_error = 0.630326\n",
      "Iteration 19700: Loss = 21896.634196, minibatch_size = 7 Beta_error = 0.631130\n",
      "Iteration 19800: Loss = 21776.930352, minibatch_size = 7 Beta_error = 0.628000\n",
      "Iteration 19900: Loss = 21002.336799, minibatch_size = 7 Beta_error = 0.627561\n",
      "Iteration 20000: Loss = 21448.379392, minibatch_size = 7 Beta_error = 0.625470\n",
      "Iteration 20100: Loss = 21211.103245, minibatch_size = 7 Beta_error = 0.628115\n",
      "Iteration 20200: Loss = 21409.292223, minibatch_size = 7 Beta_error = 0.626050\n",
      "Iteration 20300: Loss = 21442.262061, minibatch_size = 7 Beta_error = 0.624273\n",
      "Iteration 20400: Loss = 22021.788212, minibatch_size = 7 Beta_error = 0.622979\n",
      "Iteration 20500: Loss = 21782.975972, minibatch_size = 7 Beta_error = 0.624178\n",
      "Iteration 20600: Loss = 21114.926169, minibatch_size = 7 Beta_error = 0.624360\n",
      "Iteration 20700: Loss = 21622.122813, minibatch_size = 7 Beta_error = 0.624372\n",
      "Iteration 20800: Loss = 21148.949496, minibatch_size = 8 Beta_error = 0.622480\n",
      "Iteration 20900: Loss = 22399.250881, minibatch_size = 8 Beta_error = 0.622887\n",
      "Iteration 21000: Loss = 21788.493737, minibatch_size = 8 Beta_error = 0.617801\n",
      "Iteration 21100: Loss = 22013.340482, minibatch_size = 8 Beta_error = 0.615852\n",
      "Iteration 21200: Loss = 21776.334538, minibatch_size = 8 Beta_error = 0.619010\n",
      "Iteration 21300: Loss = 21603.004380, minibatch_size = 8 Beta_error = 0.616141\n",
      "Iteration 21400: Loss = 20791.374395, minibatch_size = 8 Beta_error = 0.615894\n",
      "Iteration 21500: Loss = 21434.187344, minibatch_size = 8 Beta_error = 0.614006\n",
      "Iteration 21600: Loss = 20757.771917, minibatch_size = 8 Beta_error = 0.615274\n",
      "Iteration 21700: Loss = 21193.644791, minibatch_size = 8 Beta_error = 0.614370\n",
      "Iteration 21800: Loss = 22052.825573, minibatch_size = 8 Beta_error = 0.613685\n",
      "Iteration 21900: Loss = 21188.135065, minibatch_size = 8 Beta_error = 0.612824\n",
      "Iteration 22000: Loss = 21292.681771, minibatch_size = 9 Beta_error = 0.611611\n",
      "Iteration 22100: Loss = 21526.624107, minibatch_size = 9 Beta_error = 0.608880\n",
      "Iteration 22200: Loss = 21845.473171, minibatch_size = 9 Beta_error = 0.609677\n",
      "Iteration 22300: Loss = 22649.436946, minibatch_size = 9 Beta_error = 0.608784\n",
      "Iteration 22400: Loss = 21928.703807, minibatch_size = 9 Beta_error = 0.608501\n",
      "Iteration 22500: Loss = 21881.331780, minibatch_size = 9 Beta_error = 0.606913\n",
      "Iteration 22600: Loss = 22540.470243, minibatch_size = 9 Beta_error = 0.605237\n",
      "Iteration 22700: Loss = 21547.463314, minibatch_size = 9 Beta_error = 0.604228\n",
      "Iteration 22800: Loss = 22636.903092, minibatch_size = 9 Beta_error = 0.604086\n",
      "Iteration 22900: Loss = 22296.800582, minibatch_size = 9 Beta_error = 0.603997\n",
      "Iteration 23000: Loss = 21907.176819, minibatch_size = 9 Beta_error = 0.603329\n",
      "Iteration 23100: Loss = 21267.084923, minibatch_size = 10 Beta_error = 0.600697\n",
      "Iteration 23200: Loss = 22413.102585, minibatch_size = 10 Beta_error = 0.599559\n",
      "Iteration 23300: Loss = 21998.784515, minibatch_size = 10 Beta_error = 0.600170\n",
      "Iteration 23400: Loss = 21887.735002, minibatch_size = 10 Beta_error = 0.597704\n",
      "Iteration 23500: Loss = 21081.114170, minibatch_size = 10 Beta_error = 0.597953\n",
      "Iteration 23600: Loss = 22174.190658, minibatch_size = 10 Beta_error = 0.596499\n",
      "Iteration 23700: Loss = 22360.569872, minibatch_size = 10 Beta_error = 0.594641\n",
      "Iteration 23800: Loss = 22653.747695, minibatch_size = 10 Beta_error = 0.593426\n",
      "Iteration 23900: Loss = 22872.878299, minibatch_size = 10 Beta_error = 0.593387\n",
      "Iteration 24000: Loss = 21543.090505, minibatch_size = 11 Beta_error = 0.594939\n",
      "Iteration 24100: Loss = 21697.760134, minibatch_size = 11 Beta_error = 0.593690\n",
      "Iteration 24200: Loss = 21291.992931, minibatch_size = 11 Beta_error = 0.593779\n",
      "Iteration 24300: Loss = 22098.384632, minibatch_size = 11 Beta_error = 0.591478\n",
      "Iteration 24400: Loss = 22946.468896, minibatch_size = 11 Beta_error = 0.587665\n",
      "Iteration 24500: Loss = 21340.306578, minibatch_size = 11 Beta_error = 0.592559\n",
      "Iteration 24600: Loss = 21112.841855, minibatch_size = 11 Beta_error = 0.589372\n",
      "Iteration 24700: Loss = 21240.749091, minibatch_size = 11 Beta_error = 0.589252\n",
      "Iteration 24800: Loss = 21537.405112, minibatch_size = 11 Beta_error = 0.588865\n",
      "Iteration 24900: Loss = 22715.827677, minibatch_size = 12 Beta_error = 0.584727\n",
      "Iteration 25000: Loss = 22706.453052, minibatch_size = 12 Beta_error = 0.583888\n",
      "Iteration 25100: Loss = 21254.214062, minibatch_size = 12 Beta_error = 0.584128\n",
      "Iteration 25200: Loss = 22164.636358, minibatch_size = 12 Beta_error = 0.583504\n",
      "Iteration 25300: Loss = 22126.119864, minibatch_size = 12 Beta_error = 0.581579\n",
      "Iteration 25400: Loss = 21469.008450, minibatch_size = 12 Beta_error = 0.581566\n",
      "Iteration 25500: Loss = 21621.138162, minibatch_size = 12 Beta_error = 0.579338\n",
      "Iteration 25600: Loss = 21914.659294, minibatch_size = 12 Beta_error = 0.579818\n",
      "Iteration 25700: Loss = 22234.829652, minibatch_size = 13 Beta_error = 0.577921\n",
      "Iteration 25800: Loss = 23355.140127, minibatch_size = 13 Beta_error = 0.576763\n",
      "Iteration 25900: Loss = 21841.982154, minibatch_size = 13 Beta_error = 0.573266\n",
      "Iteration 26000: Loss = 24787.203315, minibatch_size = 13 Beta_error = 0.574142\n",
      "Iteration 26100: Loss = 21871.621855, minibatch_size = 13 Beta_error = 0.574126\n",
      "Iteration 26200: Loss = 21819.953594, minibatch_size = 13 Beta_error = 0.572386\n",
      "Iteration 26300: Loss = 22217.952707, minibatch_size = 13 Beta_error = 0.572858\n",
      "Iteration 26400: Loss = 21494.117751, minibatch_size = 14 Beta_error = 0.571870\n",
      "Iteration 26500: Loss = 23079.866028, minibatch_size = 14 Beta_error = 0.570884\n",
      "Iteration 26600: Loss = 22342.237100, minibatch_size = 14 Beta_error = 0.569669\n",
      "Iteration 26700: Loss = 22405.775758, minibatch_size = 14 Beta_error = 0.567715\n",
      "Iteration 26800: Loss = 21947.377003, minibatch_size = 14 Beta_error = 0.567586\n",
      "Iteration 26900: Loss = 21676.301118, minibatch_size = 14 Beta_error = 0.567168\n",
      "Iteration 27000: Loss = 21683.247658, minibatch_size = 14 Beta_error = 0.566439\n",
      "Iteration 27100: Loss = 22821.890603, minibatch_size = 15 Beta_error = 0.566431\n",
      "Iteration 27200: Loss = 22427.539856, minibatch_size = 15 Beta_error = 0.560968\n",
      "Iteration 27300: Loss = 22848.866275, minibatch_size = 15 Beta_error = 0.559386\n",
      "Iteration 27400: Loss = 23688.872846, minibatch_size = 15 Beta_error = 0.559281\n",
      "Iteration 27500: Loss = 21959.161246, minibatch_size = 15 Beta_error = 0.558670\n",
      "Iteration 27600: Loss = 21628.125836, minibatch_size = 15 Beta_error = 0.557404\n",
      "Iteration 27700: Loss = 22549.115854, minibatch_size = 15 Beta_error = 0.555857\n",
      "Iteration 27800: Loss = 22309.802058, minibatch_size = 16 Beta_error = 0.555113\n",
      "Iteration 27900: Loss = 22277.463601, minibatch_size = 16 Beta_error = 0.553978\n",
      "Iteration 28000: Loss = 22534.841470, minibatch_size = 16 Beta_error = 0.553757\n",
      "Iteration 28100: Loss = 22180.388409, minibatch_size = 16 Beta_error = 0.551218\n",
      "Iteration 28200: Loss = 22820.291921, minibatch_size = 16 Beta_error = 0.550194\n",
      "Iteration 28300: Loss = 22527.800389, minibatch_size = 16 Beta_error = 0.549403\n",
      "Iteration 28400: Loss = 22727.181825, minibatch_size = 17 Beta_error = 0.547916\n",
      "Iteration 28500: Loss = 22747.800602, minibatch_size = 17 Beta_error = 0.547634\n",
      "Iteration 28600: Loss = 22672.943140, minibatch_size = 17 Beta_error = 0.544278\n",
      "Iteration 28700: Loss = 23284.134895, minibatch_size = 17 Beta_error = 0.541669\n",
      "Iteration 28800: Loss = 22229.897410, minibatch_size = 17 Beta_error = 0.543896\n",
      "Iteration 28900: Loss = 22366.197470, minibatch_size = 17 Beta_error = 0.541439\n",
      "Iteration 29000: Loss = 23090.852347, minibatch_size = 18 Beta_error = 0.538445\n",
      "Iteration 29100: Loss = 23309.342059, minibatch_size = 18 Beta_error = 0.538303\n",
      "Iteration 29200: Loss = 22332.911970, minibatch_size = 18 Beta_error = 0.536958\n",
      "Iteration 29300: Loss = 23101.042941, minibatch_size = 18 Beta_error = 0.535902\n",
      "Iteration 29400: Loss = 23060.405798, minibatch_size = 18 Beta_error = 0.535250\n",
      "Iteration 29500: Loss = 23763.075074, minibatch_size = 19 Beta_error = 0.533553\n",
      "Iteration 29600: Loss = 21913.937920, minibatch_size = 19 Beta_error = 0.530972\n",
      "Iteration 29700: Loss = 23647.565525, minibatch_size = 19 Beta_error = 0.528415\n",
      "Iteration 29800: Loss = 21942.515864, minibatch_size = 19 Beta_error = 0.528668\n",
      "Iteration 29900: Loss = 22292.982402, minibatch_size = 19 Beta_error = 0.529343\n",
      "Iteration 30000: Loss = 22829.712067, minibatch_size = 20 Beta_error = 0.523317\n",
      "Iteration 30100: Loss = 22938.798317, minibatch_size = 20 Beta_error = 0.526264\n",
      "Iteration 30200: Loss = 22776.159888, minibatch_size = 20 Beta_error = 0.523653\n",
      "Iteration 30300: Loss = 22759.555384, minibatch_size = 20 Beta_error = 0.523026\n",
      "Iteration 30400: Loss = 22561.754830, minibatch_size = 20 Beta_error = 0.520410\n",
      "Iteration 30500: Loss = 23523.506675, minibatch_size = 21 Beta_error = 0.519558\n",
      "Iteration 30600: Loss = 23238.787903, minibatch_size = 21 Beta_error = 0.517863\n",
      "Iteration 30700: Loss = 23400.112392, minibatch_size = 21 Beta_error = 0.515484\n",
      "Iteration 30800: Loss = 23413.981886, minibatch_size = 21 Beta_error = 0.511991\n",
      "Iteration 30900: Loss = 21964.135646, minibatch_size = 21 Beta_error = 0.514238\n",
      "Iteration 31000: Loss = 22641.279505, minibatch_size = 22 Beta_error = 0.508334\n",
      "Iteration 31100: Loss = 23151.065199, minibatch_size = 22 Beta_error = 0.507701\n",
      "Iteration 31200: Loss = 23512.714597, minibatch_size = 22 Beta_error = 0.505602\n",
      "Iteration 31300: Loss = 22689.599419, minibatch_size = 22 Beta_error = 0.506195\n",
      "Iteration 31400: Loss = 23116.819305, minibatch_size = 23 Beta_error = 0.505925\n",
      "Iteration 31500: Loss = 23215.481449, minibatch_size = 23 Beta_error = 0.505429\n",
      "Iteration 31600: Loss = 23795.149973, minibatch_size = 23 Beta_error = 0.501899\n",
      "Iteration 31700: Loss = 23327.226274, minibatch_size = 23 Beta_error = 0.502389\n",
      "Iteration 31800: Loss = 22803.751163, minibatch_size = 24 Beta_error = 0.498632\n",
      "Iteration 31900: Loss = 23008.024253, minibatch_size = 24 Beta_error = 0.497494\n",
      "Iteration 32000: Loss = 23684.293174, minibatch_size = 24 Beta_error = 0.495555\n",
      "Iteration 32100: Loss = 23558.924486, minibatch_size = 24 Beta_error = 0.493375\n",
      "Iteration 32200: Loss = 23768.625653, minibatch_size = 25 Beta_error = 0.493754\n",
      "Iteration 32300: Loss = 23514.604599, minibatch_size = 25 Beta_error = 0.490754\n",
      "Iteration 32400: Loss = 23340.195700, minibatch_size = 25 Beta_error = 0.490236\n",
      "Iteration 32500: Loss = 24019.807630, minibatch_size = 25 Beta_error = 0.488712\n",
      "Iteration 32600: Loss = 23470.478590, minibatch_size = 26 Beta_error = 0.489249\n",
      "Iteration 32700: Loss = 23270.860628, minibatch_size = 26 Beta_error = 0.486296\n",
      "Iteration 32800: Loss = 23536.939714, minibatch_size = 26 Beta_error = 0.485330\n",
      "Iteration 32900: Loss = 23515.736688, minibatch_size = 26 Beta_error = 0.482214\n",
      "Iteration 33000: Loss = 24009.668548, minibatch_size = 27 Beta_error = 0.481154\n",
      "Iteration 33100: Loss = 24779.153357, minibatch_size = 27 Beta_error = 0.479985\n",
      "Iteration 33200: Loss = 24244.765748, minibatch_size = 27 Beta_error = 0.478285\n",
      "Iteration 33300: Loss = 23707.243111, minibatch_size = 27 Beta_error = 0.476269\n",
      "Iteration 33400: Loss = 24619.026453, minibatch_size = 28 Beta_error = 0.476184\n",
      "Iteration 33500: Loss = 24030.196004, minibatch_size = 28 Beta_error = 0.475297\n",
      "Iteration 33600: Loss = 23973.422982, minibatch_size = 28 Beta_error = 0.471858\n",
      "Iteration 33700: Loss = 24350.676520, minibatch_size = 29 Beta_error = 0.469788\n",
      "Iteration 33800: Loss = 23793.540209, minibatch_size = 29 Beta_error = 0.469809\n",
      "Iteration 33900: Loss = 23949.950500, minibatch_size = 29 Beta_error = 0.467248\n",
      "Iteration 34000: Loss = 24158.117186, minibatch_size = 29 Beta_error = 0.465533\n",
      "Iteration 34100: Loss = 24418.735291, minibatch_size = 30 Beta_error = 0.461737\n",
      "Iteration 34200: Loss = 23806.296537, minibatch_size = 30 Beta_error = 0.461453\n",
      "Iteration 34300: Loss = 24848.611706, minibatch_size = 30 Beta_error = 0.459416\n",
      "Iteration 34400: Loss = 24153.988827, minibatch_size = 31 Beta_error = 0.456004\n",
      "Iteration 34500: Loss = 24582.279911, minibatch_size = 31 Beta_error = 0.454157\n",
      "Iteration 34600: Loss = 25150.083119, minibatch_size = 31 Beta_error = 0.456214\n",
      "Iteration 34700: Loss = 25745.219284, minibatch_size = 32 Beta_error = 0.453934\n",
      "Iteration 34800: Loss = 24498.959397, minibatch_size = 32 Beta_error = 0.451255\n",
      "Iteration 34900: Loss = 24517.447041, minibatch_size = 32 Beta_error = 0.450894\n",
      "Iteration 35000: Loss = 24191.690601, minibatch_size = 33 Beta_error = 0.448804\n",
      "Iteration 35100: Loss = 24208.892669, minibatch_size = 33 Beta_error = 0.443495\n",
      "Iteration 35200: Loss = 24297.981340, minibatch_size = 33 Beta_error = 0.445076\n",
      "Iteration 35300: Loss = 23984.504204, minibatch_size = 34 Beta_error = 0.441817\n",
      "Iteration 35400: Loss = 23926.019204, minibatch_size = 34 Beta_error = 0.440521\n",
      "Iteration 35500: Loss = 23713.986506, minibatch_size = 34 Beta_error = 0.439763\n",
      "Iteration 35600: Loss = 23814.820613, minibatch_size = 35 Beta_error = 0.437130\n",
      "Iteration 35700: Loss = 24248.117319, minibatch_size = 35 Beta_error = 0.435012\n",
      "Iteration 35800: Loss = 24175.194989, minibatch_size = 35 Beta_error = 0.434124\n",
      "Iteration 35900: Loss = 24060.097381, minibatch_size = 36 Beta_error = 0.431735\n",
      "Iteration 36000: Loss = 24936.219455, minibatch_size = 36 Beta_error = 0.432349\n",
      "Iteration 36100: Loss = 25380.874385, minibatch_size = 36 Beta_error = 0.428067\n",
      "Iteration 36200: Loss = 28031.991484, minibatch_size = 37 Beta_error = 0.423608\n",
      "Iteration 36300: Loss = 24659.618571, minibatch_size = 37 Beta_error = 0.427139\n",
      "Iteration 36400: Loss = 25226.131001, minibatch_size = 38 Beta_error = 0.422638\n",
      "Iteration 36500: Loss = 25535.829908, minibatch_size = 38 Beta_error = 0.421967\n",
      "Iteration 36600: Loss = 24745.522435, minibatch_size = 38 Beta_error = 0.418847\n",
      "Iteration 36700: Loss = 33251.115727, minibatch_size = 39 Beta_error = 0.411836\n",
      "Iteration 36800: Loss = 29994.614919, minibatch_size = 39 Beta_error = 0.419275\n",
      "Iteration 36900: Loss = 24723.114370, minibatch_size = 40 Beta_error = 0.415713\n",
      "Iteration 37000: Loss = 25128.294602, minibatch_size = 40 Beta_error = 0.410363\n",
      "Iteration 37100: Loss = 25108.559291, minibatch_size = 40 Beta_error = 0.410243\n",
      "Iteration 37200: Loss = 24135.864745, minibatch_size = 41 Beta_error = 0.410676\n",
      "Iteration 37300: Loss = 24634.199764, minibatch_size = 41 Beta_error = 0.407660\n",
      "Iteration 37400: Loss = 23974.092941, minibatch_size = 42 Beta_error = 0.407376\n",
      "Iteration 37500: Loss = 24332.161746, minibatch_size = 42 Beta_error = 0.405931\n",
      "Iteration 37600: Loss = 25998.860535, minibatch_size = 42 Beta_error = 0.402560\n",
      "Iteration 37700: Loss = 24096.922924, minibatch_size = 43 Beta_error = 0.402165\n",
      "Iteration 37800: Loss = 24440.019213, minibatch_size = 43 Beta_error = 0.400485\n",
      "Iteration 37900: Loss = 24746.103591, minibatch_size = 44 Beta_error = 0.399457\n",
      "Iteration 38000: Loss = 25200.562380, minibatch_size = 44 Beta_error = 0.398356\n",
      "Iteration 38100: Loss = 25118.683056, minibatch_size = 45 Beta_error = 0.395512\n",
      "Iteration 38200: Loss = 24068.204262, minibatch_size = 45 Beta_error = 0.393600\n",
      "Iteration 38300: Loss = 24721.394773, minibatch_size = 46 Beta_error = 0.390741\n",
      "Iteration 38400: Loss = 24065.107689, minibatch_size = 46 Beta_error = 0.389864\n",
      "Iteration 38500: Loss = 25043.752814, minibatch_size = 46 Beta_error = 0.388880\n",
      "Iteration 38600: Loss = 25730.539421, minibatch_size = 47 Beta_error = 0.386318\n",
      "Iteration 38700: Loss = 25789.513434, minibatch_size = 47 Beta_error = 0.384486\n",
      "Iteration 38800: Loss = 25527.280789, minibatch_size = 48 Beta_error = 0.384114\n",
      "Iteration 38900: Loss = 24808.500690, minibatch_size = 48 Beta_error = 0.382806\n",
      "Iteration 39000: Loss = 23896.126987, minibatch_size = 49 Beta_error = 0.380394\n",
      "Iteration 39100: Loss = 25590.516734, minibatch_size = 49 Beta_error = 0.378648\n",
      "Iteration 39200: Loss = 25018.495248, minibatch_size = 50 Beta_error = 0.377902\n",
      "Iteration 39300: Loss = 24498.765008, minibatch_size = 50 Beta_error = 0.375753\n",
      "Iteration 39400: Loss = 25992.117558, minibatch_size = 51 Beta_error = 0.373918\n",
      "Iteration 39500: Loss = 24917.577469, minibatch_size = 51 Beta_error = 0.371815\n",
      "Iteration 39600: Loss = 25819.747893, minibatch_size = 52 Beta_error = 0.369227\n",
      "Iteration 39700: Loss = 26260.667564, minibatch_size = 52 Beta_error = 0.368195\n",
      "Iteration 39800: Loss = 25202.514084, minibatch_size = 53 Beta_error = 0.366132\n",
      "Iteration 39900: Loss = 24736.014781, minibatch_size = 54 Beta_error = 0.363992\n",
      "Iteration 40000: Loss = 25375.088653, minibatch_size = 54 Beta_error = 0.361757\n",
      "Iteration 40100: Loss = 26467.531573, minibatch_size = 55 Beta_error = 0.358973\n",
      "Iteration 40200: Loss = 26216.473509, minibatch_size = 55 Beta_error = 0.357608\n",
      "Iteration 40300: Loss = 24341.098636, minibatch_size = 56 Beta_error = 0.357690\n",
      "Iteration 40400: Loss = 25966.254701, minibatch_size = 56 Beta_error = 0.356821\n",
      "Iteration 40500: Loss = 25973.917573, minibatch_size = 57 Beta_error = 0.355521\n",
      "Iteration 40600: Loss = 25379.442207, minibatch_size = 57 Beta_error = 0.353624\n",
      "Iteration 40700: Loss = 25719.498065, minibatch_size = 58 Beta_error = 0.351721\n",
      "Iteration 40800: Loss = 26374.176458, minibatch_size = 59 Beta_error = 0.349406\n",
      "Iteration 40900: Loss = 25711.465268, minibatch_size = 59 Beta_error = 0.347415\n",
      "Iteration 41000: Loss = 25672.264630, minibatch_size = 60 Beta_error = 0.345977\n",
      "Iteration 41100: Loss = 25304.242632, minibatch_size = 60 Beta_error = 0.344492\n",
      "Iteration 41200: Loss = 25829.687702, minibatch_size = 61 Beta_error = 0.343256\n",
      "Iteration 41300: Loss = 24702.968288, minibatch_size = 62 Beta_error = 0.341711\n",
      "Iteration 41400: Loss = 25223.907783, minibatch_size = 62 Beta_error = 0.339937\n",
      "Iteration 41500: Loss = 25415.262589, minibatch_size = 63 Beta_error = 0.336869\n",
      "Iteration 41600: Loss = 26257.003952, minibatch_size = 64 Beta_error = 0.334882\n",
      "Iteration 41700: Loss = 25560.598700, minibatch_size = 64 Beta_error = 0.333688\n",
      "Iteration 41800: Loss = 26249.542668, minibatch_size = 65 Beta_error = 0.332991\n",
      "Iteration 41900: Loss = 25575.311855, minibatch_size = 66 Beta_error = 0.331333\n",
      "Iteration 42000: Loss = 25404.615889, minibatch_size = 66 Beta_error = 0.329287\n",
      "Iteration 42100: Loss = 26740.047661, minibatch_size = 67 Beta_error = 0.326529\n",
      "Iteration 42200: Loss = 26466.572360, minibatch_size = 68 Beta_error = 0.325427\n",
      "Iteration 42300: Loss = 26726.767090, minibatch_size = 68 Beta_error = 0.323991\n",
      "Iteration 42400: Loss = 26287.429604, minibatch_size = 69 Beta_error = 0.321845\n",
      "Iteration 42500: Loss = 25211.865609, minibatch_size = 70 Beta_error = 0.319432\n",
      "Iteration 42600: Loss = 25881.419393, minibatch_size = 70 Beta_error = 0.316717\n",
      "Iteration 42700: Loss = 26173.340515, minibatch_size = 71 Beta_error = 0.314718\n",
      "Iteration 42800: Loss = 27167.245452, minibatch_size = 72 Beta_error = 0.313485\n",
      "Iteration 42900: Loss = 26347.288578, minibatch_size = 72 Beta_error = 0.312596\n",
      "Iteration 43000: Loss = 25528.259943, minibatch_size = 73 Beta_error = 0.310696\n",
      "Iteration 43100: Loss = 27213.520754, minibatch_size = 74 Beta_error = 0.308020\n",
      "Iteration 43200: Loss = 26771.178143, minibatch_size = 75 Beta_error = 0.306177\n",
      "Iteration 43300: Loss = 25741.718813, minibatch_size = 75 Beta_error = 0.305150\n",
      "Iteration 43400: Loss = 26169.303277, minibatch_size = 76 Beta_error = 0.303047\n",
      "Iteration 43500: Loss = 26421.701080, minibatch_size = 77 Beta_error = 0.301690\n",
      "Iteration 43600: Loss = 26573.976331, minibatch_size = 78 Beta_error = 0.299657\n",
      "Iteration 43700: Loss = 26404.795141, minibatch_size = 79 Beta_error = 0.298159\n",
      "Iteration 43800: Loss = 25822.767903, minibatch_size = 79 Beta_error = 0.296934\n",
      "Iteration 43900: Loss = 27145.372123, minibatch_size = 80 Beta_error = 0.294627\n",
      "Iteration 44000: Loss = 27300.385270, minibatch_size = 81 Beta_error = 0.292487\n",
      "Iteration 44100: Loss = 26747.737517, minibatch_size = 82 Beta_error = 0.291090\n",
      "Iteration 44200: Loss = 26703.103854, minibatch_size = 83 Beta_error = 0.289500\n",
      "Iteration 44300: Loss = 26239.862040, minibatch_size = 83 Beta_error = 0.287705\n",
      "Iteration 44400: Loss = 26234.438974, minibatch_size = 84 Beta_error = 0.285441\n",
      "Iteration 44500: Loss = 26926.339471, minibatch_size = 85 Beta_error = 0.283197\n",
      "Iteration 44600: Loss = 26920.245010, minibatch_size = 86 Beta_error = 0.280656\n",
      "Iteration 44700: Loss = 26393.410678, minibatch_size = 87 Beta_error = 0.279377\n",
      "Iteration 44800: Loss = 26191.320089, minibatch_size = 88 Beta_error = 0.277921\n",
      "Iteration 44900: Loss = 26954.537808, minibatch_size = 89 Beta_error = 0.275688\n",
      "Iteration 45000: Loss = 26574.713783, minibatch_size = 89 Beta_error = 0.274222\n",
      "Iteration 45100: Loss = 26407.825594, minibatch_size = 90 Beta_error = 0.271773\n",
      "Iteration 45200: Loss = 26325.275370, minibatch_size = 91 Beta_error = 0.270435\n",
      "Iteration 45300: Loss = 26102.435731, minibatch_size = 92 Beta_error = 0.268886\n",
      "Iteration 45400: Loss = 26983.615106, minibatch_size = 93 Beta_error = 0.267175\n",
      "Iteration 45500: Loss = 27185.073746, minibatch_size = 94 Beta_error = 0.265233\n",
      "Iteration 45600: Loss = 26524.830386, minibatch_size = 95 Beta_error = 0.263885\n",
      "Iteration 45700: Loss = 27306.726873, minibatch_size = 96 Beta_error = 0.261134\n",
      "Iteration 45800: Loss = 27125.023398, minibatch_size = 97 Beta_error = 0.259453\n",
      "Iteration 45900: Loss = 26690.330616, minibatch_size = 98 Beta_error = 0.258217\n",
      "Iteration 46000: Loss = 26560.589863, minibatch_size = 99 Beta_error = 0.256547\n",
      "Iteration 46100: Loss = 27312.151515, minibatch_size = 100 Beta_error = 0.255090\n",
      "Iteration 46200: Loss = 27102.868244, minibatch_size = 101 Beta_error = 0.253603\n",
      "Iteration 46300: Loss = 27034.419837, minibatch_size = 102 Beta_error = 0.252144\n",
      "Iteration 46400: Loss = 26806.927443, minibatch_size = 103 Beta_error = 0.251581\n",
      "Iteration 46500: Loss = 26794.465005, minibatch_size = 104 Beta_error = 0.249460\n",
      "Iteration 46600: Loss = 27378.019946, minibatch_size = 105 Beta_error = 0.248117\n",
      "Iteration 46700: Loss = 27411.547352, minibatch_size = 106 Beta_error = 0.246825\n",
      "Iteration 46800: Loss = 27121.257844, minibatch_size = 107 Beta_error = 0.244402\n",
      "Iteration 46900: Loss = 27243.302561, minibatch_size = 108 Beta_error = 0.242907\n",
      "Iteration 47000: Loss = 27026.424455, minibatch_size = 109 Beta_error = 0.241332\n",
      "Iteration 47100: Loss = 27345.542393, minibatch_size = 111 Beta_error = 0.239774\n",
      "Iteration 47200: Loss = 27211.259590, minibatch_size = 112 Beta_error = 0.237807\n",
      "Iteration 47300: Loss = 27627.744634, minibatch_size = 113 Beta_error = 0.235687\n",
      "Iteration 47400: Loss = 27358.156569, minibatch_size = 114 Beta_error = 0.234034\n",
      "Iteration 47500: Loss = 26982.147448, minibatch_size = 115 Beta_error = 0.232536\n",
      "Iteration 47600: Loss = 26673.316240, minibatch_size = 116 Beta_error = 0.231309\n",
      "Iteration 47700: Loss = 27319.962376, minibatch_size = 117 Beta_error = 0.229816\n",
      "Iteration 47800: Loss = 27909.016185, minibatch_size = 119 Beta_error = 0.228601\n",
      "Iteration 47900: Loss = 27465.883439, minibatch_size = 120 Beta_error = 0.226505\n",
      "Iteration 48000: Loss = 26802.835787, minibatch_size = 121 Beta_error = 0.225238\n",
      "Iteration 48100: Loss = 27209.189418, minibatch_size = 122 Beta_error = 0.223658\n",
      "Iteration 48200: Loss = 27014.140257, minibatch_size = 123 Beta_error = 0.222347\n",
      "Iteration 48300: Loss = 27613.991981, minibatch_size = 125 Beta_error = 0.220495\n",
      "Iteration 48400: Loss = 28153.726554, minibatch_size = 126 Beta_error = 0.218750\n",
      "Iteration 48500: Loss = 27305.190530, minibatch_size = 127 Beta_error = 0.217419\n",
      "Iteration 48600: Loss = 27261.838823, minibatch_size = 128 Beta_error = 0.215508\n",
      "Iteration 48700: Loss = 27622.696307, minibatch_size = 130 Beta_error = 0.213845\n",
      "Iteration 48800: Loss = 27429.961253, minibatch_size = 131 Beta_error = 0.212178\n",
      "Iteration 48900: Loss = 27279.284734, minibatch_size = 132 Beta_error = 0.210925\n",
      "Iteration 49000: Loss = 27211.850067, minibatch_size = 134 Beta_error = 0.209290\n",
      "Iteration 49100: Loss = 28115.536541, minibatch_size = 135 Beta_error = 0.207562\n",
      "Iteration 49200: Loss = 27658.234158, minibatch_size = 136 Beta_error = 0.206222\n",
      "Iteration 49300: Loss = 27504.061585, minibatch_size = 138 Beta_error = 0.204794\n",
      "Iteration 49400: Loss = 27674.111396, minibatch_size = 139 Beta_error = 0.203082\n",
      "Iteration 49500: Loss = 27418.663805, minibatch_size = 141 Beta_error = 0.201444\n",
      "Iteration 49600: Loss = 27985.552988, minibatch_size = 142 Beta_error = 0.200338\n",
      "Iteration 49700: Loss = 27958.992628, minibatch_size = 143 Beta_error = 0.198721\n",
      "Iteration 49800: Loss = 27641.327832, minibatch_size = 145 Beta_error = 0.197256\n",
      "Iteration 49900: Loss = 27923.216330, minibatch_size = 146 Beta_error = 0.195793\n",
      "Iteration 50000: Loss = 28246.245231, minibatch_size = 148 Beta_error = 0.194745\n",
      "Iteration 50100: Loss = 27346.184217, minibatch_size = 149 Beta_error = 0.193646\n",
      "Iteration 50200: Loss = 27433.426028, minibatch_size = 151 Beta_error = 0.192182\n",
      "Iteration 50300: Loss = 27547.650261, minibatch_size = 152 Beta_error = 0.190980\n",
      "Iteration 50400: Loss = 27694.665290, minibatch_size = 154 Beta_error = 0.189377\n",
      "Iteration 50500: Loss = 28400.542241, minibatch_size = 155 Beta_error = 0.187732\n",
      "Iteration 50600: Loss = 28051.449606, minibatch_size = 157 Beta_error = 0.186376\n",
      "Iteration 50700: Loss = 28304.184135, minibatch_size = 159 Beta_error = 0.184457\n",
      "Iteration 50800: Loss = 27820.892613, minibatch_size = 160 Beta_error = 0.182820\n",
      "Iteration 50900: Loss = 28150.210954, minibatch_size = 162 Beta_error = 0.181398\n",
      "Iteration 51000: Loss = 28225.561052, minibatch_size = 163 Beta_error = 0.179973\n",
      "Iteration 51100: Loss = 27789.764592, minibatch_size = 165 Beta_error = 0.178551\n",
      "Iteration 51200: Loss = 28597.734827, minibatch_size = 167 Beta_error = 0.177314\n",
      "Iteration 51300: Loss = 28360.961073, minibatch_size = 168 Beta_error = 0.176359\n",
      "Iteration 51400: Loss = 28013.990604, minibatch_size = 170 Beta_error = 0.175089\n",
      "Iteration 51500: Loss = 28119.355635, minibatch_size = 172 Beta_error = 0.173270\n",
      "Iteration 51600: Loss = 28245.597791, minibatch_size = 174 Beta_error = 0.172121\n",
      "Iteration 51700: Loss = 28706.168797, minibatch_size = 175 Beta_error = 0.171211\n",
      "Iteration 51800: Loss = 27827.340250, minibatch_size = 177 Beta_error = 0.169731\n",
      "Iteration 51900: Loss = 28457.240836, minibatch_size = 179 Beta_error = 0.168421\n",
      "Iteration 52000: Loss = 28259.746918, minibatch_size = 181 Beta_error = 0.167319\n",
      "Iteration 52100: Loss = 28218.990226, minibatch_size = 183 Beta_error = 0.166478\n",
      "Iteration 52200: Loss = 28242.867289, minibatch_size = 184 Beta_error = 0.164775\n",
      "Iteration 52300: Loss = 28243.837765, minibatch_size = 186 Beta_error = 0.163619\n",
      "Iteration 52400: Loss = 28752.944136, minibatch_size = 188 Beta_error = 0.161903\n",
      "Iteration 52500: Loss = 28766.469225, minibatch_size = 190 Beta_error = 0.160516\n",
      "Iteration 52600: Loss = 28562.210723, minibatch_size = 192 Beta_error = 0.159443\n",
      "Iteration 52700: Loss = 28609.352652, minibatch_size = 194 Beta_error = 0.158341\n",
      "Iteration 52800: Loss = 29022.676148, minibatch_size = 196 Beta_error = 0.157382\n",
      "Iteration 52900: Loss = 29797.146213, minibatch_size = 198 Beta_error = 0.156798\n",
      "Iteration 53000: Loss = 28354.669389, minibatch_size = 200 Beta_error = 0.155461\n",
      "Iteration 53100: Loss = 28322.517369, minibatch_size = 202 Beta_error = 0.154334\n",
      "Iteration 53200: Loss = 28840.589224, minibatch_size = 204 Beta_error = 0.152854\n",
      "Iteration 53300: Loss = 28896.161948, minibatch_size = 206 Beta_error = 0.151817\n",
      "Iteration 53400: Loss = 28745.790194, minibatch_size = 208 Beta_error = 0.150202\n",
      "Iteration 53500: Loss = 28627.475199, minibatch_size = 210 Beta_error = 0.149328\n",
      "Iteration 53600: Loss = 28956.330695, minibatch_size = 212 Beta_error = 0.147662\n",
      "Iteration 53700: Loss = 28863.544396, minibatch_size = 214 Beta_error = 0.146677\n",
      "Iteration 53800: Loss = 29136.093122, minibatch_size = 216 Beta_error = 0.145305\n",
      "Iteration 53900: Loss = 28460.809581, minibatch_size = 219 Beta_error = 0.144212\n",
      "Iteration 54000: Loss = 28408.616017, minibatch_size = 221 Beta_error = 0.143044\n",
      "Iteration 54100: Loss = 28679.804395, minibatch_size = 223 Beta_error = 0.142086\n",
      "Iteration 54200: Loss = 28454.652815, minibatch_size = 225 Beta_error = 0.140724\n",
      "Iteration 54300: Loss = 28675.274154, minibatch_size = 228 Beta_error = 0.139489\n",
      "Iteration 54400: Loss = 28995.574919, minibatch_size = 230 Beta_error = 0.138226\n",
      "Iteration 54500: Loss = 28878.682287, minibatch_size = 232 Beta_error = 0.136547\n",
      "Iteration 54600: Loss = 29083.818303, minibatch_size = 235 Beta_error = 0.135742\n",
      "Iteration 54700: Loss = 28703.669770, minibatch_size = 237 Beta_error = 0.134215\n",
      "Iteration 54800: Loss = 28922.300449, minibatch_size = 239 Beta_error = 0.132974\n",
      "Iteration 54900: Loss = 28725.895373, minibatch_size = 242 Beta_error = 0.131927\n",
      "Iteration 55000: Loss = 28865.672286, minibatch_size = 244 Beta_error = 0.130961\n",
      "Iteration 55100: Loss = 29245.598019, minibatch_size = 247 Beta_error = 0.130105\n",
      "Iteration 55200: Loss = 28706.589699, minibatch_size = 249 Beta_error = 0.128870\n",
      "Iteration 55300: Loss = 28561.359466, minibatch_size = 252 Beta_error = 0.128172\n",
      "Iteration 55400: Loss = 29026.698296, minibatch_size = 254 Beta_error = 0.127184\n",
      "Iteration 55500: Loss = 28917.243013, minibatch_size = 257 Beta_error = 0.126201\n",
      "Iteration 55600: Loss = 28971.393553, minibatch_size = 259 Beta_error = 0.124763\n",
      "Iteration 55700: Loss = 28563.121933, minibatch_size = 262 Beta_error = 0.123494\n",
      "Iteration 55800: Loss = 28974.436980, minibatch_size = 264 Beta_error = 0.122459\n",
      "Iteration 55900: Loss = 29153.244736, minibatch_size = 267 Beta_error = 0.121513\n",
      "Iteration 56000: Loss = 28994.306602, minibatch_size = 270 Beta_error = 0.120587\n",
      "Iteration 56100: Loss = 28819.670259, minibatch_size = 273 Beta_error = 0.119688\n",
      "Iteration 56200: Loss = 28905.623222, minibatch_size = 275 Beta_error = 0.118709\n",
      "Iteration 56300: Loss = 29184.467358, minibatch_size = 278 Beta_error = 0.117651\n",
      "Iteration 56400: Loss = 28845.191636, minibatch_size = 281 Beta_error = 0.116821\n",
      "Iteration 56500: Loss = 29353.234913, minibatch_size = 284 Beta_error = 0.115377\n",
      "Iteration 56600: Loss = 29306.150592, minibatch_size = 287 Beta_error = 0.114750\n",
      "Iteration 56700: Loss = 28820.170190, minibatch_size = 289 Beta_error = 0.113786\n",
      "Iteration 56800: Loss = 29095.024257, minibatch_size = 292 Beta_error = 0.112737\n",
      "Iteration 56900: Loss = 29490.243556, minibatch_size = 295 Beta_error = 0.111624\n",
      "Iteration 57000: Loss = 29153.793024, minibatch_size = 298 Beta_error = 0.110745\n",
      "Iteration 57100: Loss = 29223.997868, minibatch_size = 301 Beta_error = 0.109649\n",
      "Iteration 57200: Loss = 29179.020613, minibatch_size = 304 Beta_error = 0.108542\n",
      "Iteration 57300: Loss = 29256.627905, minibatch_size = 307 Beta_error = 0.107676\n",
      "Iteration 57400: Loss = 28966.602306, minibatch_size = 310 Beta_error = 0.106482\n",
      "Iteration 57500: Loss = 29319.613558, minibatch_size = 314 Beta_error = 0.105497\n",
      "Iteration 57600: Loss = 29181.915175, minibatch_size = 317 Beta_error = 0.104450\n",
      "Iteration 57700: Loss = 29404.093369, minibatch_size = 320 Beta_error = 0.103585\n",
      "Iteration 57800: Loss = 29333.222812, minibatch_size = 323 Beta_error = 0.102624\n",
      "Iteration 57900: Loss = 29422.929619, minibatch_size = 326 Beta_error = 0.101490\n",
      "Iteration 58000: Loss = 29375.672027, minibatch_size = 330 Beta_error = 0.100399\n",
      "Iteration 58100: Loss = 29200.489181, minibatch_size = 333 Beta_error = 0.099684\n",
      "Iteration 58200: Loss = 29362.686365, minibatch_size = 336 Beta_error = 0.098385\n",
      "Iteration 58300: Loss = 29203.294242, minibatch_size = 340 Beta_error = 0.097795\n",
      "Iteration 58400: Loss = 29587.811555, minibatch_size = 343 Beta_error = 0.097139\n",
      "Iteration 58500: Loss = 29580.675897, minibatch_size = 347 Beta_error = 0.096185\n",
      "Iteration 58600: Loss = 29385.535303, minibatch_size = 350 Beta_error = 0.095447\n",
      "Iteration 58700: Loss = 29343.313693, minibatch_size = 354 Beta_error = 0.094497\n",
      "Iteration 58800: Loss = 29470.058607, minibatch_size = 357 Beta_error = 0.093694\n",
      "Iteration 58900: Loss = 29587.587059, minibatch_size = 361 Beta_error = 0.092982\n",
      "Iteration 59000: Loss = 29595.877089, minibatch_size = 364 Beta_error = 0.092025\n",
      "Iteration 59100: Loss = 29565.703565, minibatch_size = 368 Beta_error = 0.091198\n",
      "Iteration 59200: Loss = 29424.837944, minibatch_size = 372 Beta_error = 0.090322\n",
      "Iteration 59300: Loss = 29661.368942, minibatch_size = 376 Beta_error = 0.089568\n",
      "Iteration 59400: Loss = 29657.113296, minibatch_size = 379 Beta_error = 0.088614\n",
      "Iteration 59500: Loss = 29738.072570, minibatch_size = 383 Beta_error = 0.088113\n",
      "Iteration 59600: Loss = 29852.950234, minibatch_size = 387 Beta_error = 0.087401\n",
      "Iteration 59700: Loss = 29470.878578, minibatch_size = 391 Beta_error = 0.086492\n",
      "Iteration 59800: Loss = 29363.059358, minibatch_size = 395 Beta_error = 0.085799\n",
      "Iteration 59900: Loss = 29639.382255, minibatch_size = 399 Beta_error = 0.085156\n",
      "time elapsed = 139.21875\n",
      "iterations = 59999\n",
      "Objective Function value = 29642.64331255434\n",
      "Betas = [4.03029135 0.25146315 1.97449117 ... 0.27053036 2.8837803  3.72723874]\n",
      "error= 0.08478536034995039\n",
      "Number of the objective function evaluations:  102077\n",
      "Number of the objective function gradient evaluations:  59999\n",
      "Number of the objective function Hessian evaluations:  0\n"
     ]
    }
   ],
   "source": [
    "\n",
    "def rigid_reg_stoc(beta_ridge, X, Y, subset):\n",
    "    Xsub = X[subset,:]\n",
    "    Ysub = Y[subset]\n",
    "    z = Ysub - Xsub @ beta_ridge\n",
    "    return np.dot(z.T,z) + rho * np.dot(beta_ridge.T, beta_ridge)\n",
    "\n",
    "def ridge_reg_der_stoc(beta_ridge,X,Y,subset):\n",
    "    Xsub = X[subset,:]\n",
    "    Ysub = Y[subset]\n",
    "\n",
    "    pp = -2*np.dot((Ysub - Xsub @ beta_ridge).T,Xsub)\n",
    "    aa = pp.squeeze() + 2 * rho * beta_ridge\n",
    "    return aa\n",
    "\n",
    "(a,b)=X.shape\n",
    "beta_ridge=np.zeros(b) #initial value for beta\n",
    "n_iter=60000 #maximim number iteration\n",
    "OF_iter_cur = 0\n",
    "alpha_iter=np.zeros(n_iter)\n",
    "error_minib_iter=np.zeros(n_iter)\n",
    "i=0\n",
    "epsilon=1e-6\n",
    "delta = 0.2\n",
    "tau = 1.0001\n",
    "subsetsize = 1\n",
    "\n",
    "## Function, Gradient, Hessian evaluation number\n",
    "nfev = 0\n",
    "njev = 0\n",
    "nhev = 0\n",
    "\n",
    "time_start = time.process_time()\n",
    "\n",
    "while i <= n_iter-2:\n",
    "    #### Number of samples to take into consideration in each iteration\n",
    "\n",
    "    subsetsize_trunc = min(int(subsetsize),a)\n",
    "    subset = np.random.choice(N, subsetsize_trunc, replace=False)\n",
    "    grad = ridge_reg_der_stoc(beta_ridge, X, Y, subset); njev += 1\n",
    "    ddirect = -grad\n",
    "    ##### Armijo rule to adjust alpha ######\n",
    "    alpha=1e-4\n",
    "    while rigid_reg_stoc(beta_ridge + alpha * ddirect, X, Y, subset) > rigid_reg_stoc(beta_ridge, X, Y,subset)+alpha*sigma*np.dot(ddirect, grad):\n",
    "        alpha = alpha*delta\n",
    "        nfev += 2\n",
    "    #########################################\n",
    "    beta_ridge = beta_ridge + alpha * ddirect\n",
    "    OF_iter_cur = rigid_reg_stoc(beta_ridge, X, Y, subset); nfev += 1\n",
    "    error_minib_iter[i] = np.linalg.norm(np.transpose(beta_ridge_exact)-beta_ridge,ord=2)/np.linalg.norm(beta_ridge,ord=2)\n",
    "    if i % 100 == 0:\n",
    "        print('Iteration %d: Loss = %f, minibatch_size = %d Beta_error = %f' %(i, OF_iter_cur, subsetsize_trunc, error_minib_iter[i]))\n",
    "    i=i+1\n",
    "    subsetsize *= tau\n",
    "\n",
    "time_elapsed = (time.process_time()- time_start)\n",
    "print('time elapsed =',time_elapsed)\n",
    "print('iterations =',i)\n",
    "print('Objective Function value =', OF_iter_cur)\n",
    "print('Betas =',beta_ridge)\n",
    "print('error=',np.linalg.norm(np.transpose(beta_ridge_exact)-beta_ridge,ord=2)/np.linalg.norm(beta_ridge,ord=2))\n",
    "\n",
    "print('Number of the objective function evaluations: ', nfev)\n",
    "print('Number of the objective function gradient evaluations: ', njev)\n",
    "print('Number of the objective function Hessian evaluations: ', nhev)"
   ]
  },
  {
   "cell_type": "markdown",
   "metadata": {
    "pycharm": {
     "name": "#%% md\n"
    }
   },
   "source": [
    "##### Output\n",
    "\n",
    "time elapsed = 139.21875\n",
    "\n",
    "iterations = 59999\n",
    "\n",
    "error= 0.0847\n",
    "\n",
    "Function evaluation = 102077\n",
    "\n",
    "Gradient evaluation = 599999\n",
    "\n",
    "Hessian evaluation = 0"
   ]
  },
  {
   "cell_type": "markdown",
   "metadata": {
    "pycharm": {
     "name": "#%% md\n"
    }
   },
   "source": [
    "### Second Order Methods: Stochastic Quasi-Newton"
   ]
  },
  {
   "cell_type": "code",
   "execution_count": 57,
   "metadata": {
    "pycharm": {
     "name": "#%%\n"
    }
   },
   "outputs": [
    {
     "name": "stdout",
     "output_type": "stream",
     "text": [
      "Iteration 100: Loss = 52577740.301835, Beta_err = 0.997695\n",
      "Iteration 200: Loss = 32273017.846336, Beta_err = 0.996544\n",
      "Iteration 300: Loss = 60814587.973162, Beta_err = 0.996777\n",
      "Iteration 400: Loss = 39831275.982504, Beta_err = 0.997547\n",
      "Iteration 500: Loss = 63939297.640966, Beta_err = 0.998223\n",
      "Iteration 600: Loss = 51455050.141600, Beta_err = 0.997638\n",
      "Iteration 700: Loss = 50058553.164595, Beta_err = 0.996643\n",
      "Iteration 800: Loss = 59054248.890011, Beta_err = 0.996166\n",
      "Iteration 900: Loss = 49636860.957581, Beta_err = 0.995301\n",
      "Iteration 1000: Loss = 45876351.369441, Beta_err = 0.996602\n",
      "Iteration 1100: Loss = 52985475.854338, Beta_err = 0.995936\n",
      "Iteration 1200: Loss = 49612951.346746, Beta_err = 0.995749\n",
      "Iteration 1300: Loss = 46684058.529307, Beta_err = 0.995469\n",
      "Iteration 1400: Loss = 32446608.049308, Beta_err = 0.994683\n",
      "Iteration 1500: Loss = 29750640.286010, Beta_err = 0.993284\n",
      "Iteration 1600: Loss = 20257752.861877, Beta_err = 0.991463\n",
      "Iteration 1700: Loss = 17429057.241136, Beta_err = 0.989025\n",
      "Iteration 1800: Loss = 14184418.239788, Beta_err = 0.985824\n",
      "Iteration 1900: Loss = 11213662.304505, Beta_err = 0.981584\n",
      "Iteration 2000: Loss = 7040115.610632, Beta_err = 0.976012\n",
      "Iteration 2100: Loss = 5413141.180110, Beta_err = 0.968752\n",
      "Iteration 2200: Loss = 4318970.177520, Beta_err = 0.959215\n",
      "Iteration 2300: Loss = 3376217.319304, Beta_err = 0.946778\n",
      "Iteration 2400: Loss = 2448313.708787, Beta_err = 0.930802\n",
      "Iteration 2500: Loss = 1687948.308140, Beta_err = 0.910540\n",
      "Iteration 2600: Loss = 1295651.267631, Beta_err = 0.885051\n",
      "Iteration 2700: Loss = 991114.685269, Beta_err = 0.853773\n",
      "Iteration 2800: Loss = 698269.383376, Beta_err = 0.816472\n",
      "Iteration 2900: Loss = 555134.304385, Beta_err = 0.772493\n",
      "Iteration 3000: Loss = 384122.290256, Beta_err = 0.723123\n",
      "Iteration 3100: Loss = 312080.424088, Beta_err = 0.668965\n",
      "Iteration 3200: Loss = 256263.414483, Beta_err = 0.611682\n",
      "Iteration 3300: Loss = 195767.765959, Beta_err = 0.553379\n",
      "Iteration 3400: Loss = 141291.428360, Beta_err = 0.495666\n",
      "Iteration 3500: Loss = 116449.175236, Beta_err = 0.440599\n",
      "Iteration 3600: Loss = 89592.812106, Beta_err = 0.389028\n",
      "Iteration 3700: Loss = 73708.141375, Beta_err = 0.341907\n",
      "Iteration 3800: Loss = 61438.780586, Beta_err = 0.299939\n",
      "Iteration 3900: Loss = 53724.574503, Beta_err = 0.262960\n",
      "Iteration 4000: Loss = 47438.282425, Beta_err = 0.230889\n",
      "Iteration 4100: Loss = 43371.973109, Beta_err = 0.203643\n",
      "Iteration 4200: Loss = 40279.465355, Beta_err = 0.180762\n",
      "Iteration 4300: Loss = 37738.833299, Beta_err = 0.161422\n",
      "Iteration 4400: Loss = 34436.093458, Beta_err = 0.145837\n",
      "Iteration 4500: Loss = 34182.298800, Beta_err = 0.133252\n",
      "Iteration 4600: Loss = 33798.777188, Beta_err = 0.123244\n",
      "Iteration 4700: Loss = 32427.686126, Beta_err = 0.115438\n",
      "Iteration 4800: Loss = 31969.772445, Beta_err = 0.109613\n",
      "Iteration 4900: Loss = 31936.737749, Beta_err = 0.105174\n",
      "Iteration 5000: Loss = 31484.377882, Beta_err = 0.102088\n",
      "Iteration 5100: Loss = 31249.334154, Beta_err = 0.099984\n",
      "Iteration 5200: Loss = 31089.717240, Beta_err = 0.098634\n",
      "Iteration 5300: Loss = 30726.046894, Beta_err = 0.097985\n",
      "Iteration 5400: Loss = 30863.428484, Beta_err = 0.097766\n",
      "Iteration 5500: Loss = 30440.575822, Beta_err = 0.097829\n",
      "Iteration 5600: Loss = 30429.358779, Beta_err = 0.098057\n",
      "Iteration 5700: Loss = 30786.931433, Beta_err = 0.098331\n",
      "Iteration 5800: Loss = 30459.021859, Beta_err = 0.098618\n",
      "Iteration 5900: Loss = 30471.989683, Beta_err = 0.098889\n",
      "Iteration 6000: Loss = 30409.164322, Beta_err = 0.099153\n",
      "Iteration 6100: Loss = 30208.195333, Beta_err = 0.099365\n",
      "Iteration 6200: Loss = 30313.115160, Beta_err = 0.099553\n",
      "Iteration 6300: Loss = 30510.036241, Beta_err = 0.099724\n",
      "Iteration 6400: Loss = 30368.085719, Beta_err = 0.099852\n",
      "Iteration 6500: Loss = 30490.083062, Beta_err = 0.099935\n",
      "Iteration 6600: Loss = 30421.676461, Beta_err = 0.099993\n",
      "Iteration 6700: Loss = 30564.858969, Beta_err = 0.100037\n",
      "Iteration 6800: Loss = 30139.695708, Beta_err = 0.100075\n",
      "Iteration 6900: Loss = 30189.657096, Beta_err = 0.100106\n",
      "Iteration 7000: Loss = 30147.644855, Beta_err = 0.100122\n",
      "Iteration 7100: Loss = 30486.562816, Beta_err = 0.100130\n",
      "Iteration 7200: Loss = 30375.366795, Beta_err = 0.100131\n",
      "Iteration 7300: Loss = 30589.988325, Beta_err = 0.100120\n",
      "Iteration 7400: Loss = 30554.955396, Beta_err = 0.100122\n",
      "Iteration 7500: Loss = 30000.116675, Beta_err = 0.100120\n",
      "Iteration 7600: Loss = 30597.683687, Beta_err = 0.100117\n",
      "Iteration 7700: Loss = 30173.140615, Beta_err = 0.100101\n",
      "Iteration 7800: Loss = 30507.244008, Beta_err = 0.100070\n",
      "Iteration 7900: Loss = 30120.317150, Beta_err = 0.100064\n",
      "Iteration 8000: Loss = 29994.852700, Beta_err = 0.100060\n",
      "Iteration 8100: Loss = 30414.092973, Beta_err = 0.100053\n",
      "Iteration 8200: Loss = 30613.307267, Beta_err = 0.100028\n",
      "Iteration 8300: Loss = 30655.269184, Beta_err = 0.100029\n",
      "Iteration 8400: Loss = 30213.983147, Beta_err = 0.100010\n",
      "Iteration 8500: Loss = 30337.199196, Beta_err = 0.099999\n",
      "Iteration 8600: Loss = 30458.476051, Beta_err = 0.099981\n",
      "Iteration 8700: Loss = 30438.806992, Beta_err = 0.099960\n",
      "Iteration 8800: Loss = 30136.398670, Beta_err = 0.099953\n",
      "Iteration 8900: Loss = 30285.101229, Beta_err = 0.099942\n",
      "Iteration 9000: Loss = 30330.615310, Beta_err = 0.099930\n",
      "Iteration 9100: Loss = 30267.024338, Beta_err = 0.099918\n",
      "Iteration 9200: Loss = 30460.282859, Beta_err = 0.099903\n",
      "Iteration 9300: Loss = 30226.227304, Beta_err = 0.099891\n",
      "Iteration 9400: Loss = 30210.195822, Beta_err = 0.099877\n",
      "Iteration 9500: Loss = 30204.107592, Beta_err = 0.099857\n",
      "Iteration 9600: Loss = 30406.539380, Beta_err = 0.099828\n",
      "Iteration 9700: Loss = 30292.554499, Beta_err = 0.099813\n",
      "Iteration 9800: Loss = 30112.451992, Beta_err = 0.099799\n",
      "Iteration 9900: Loss = 30499.834958, Beta_err = 0.099787\n",
      "Iteration 10000: Loss = 30720.424571, Beta_err = 0.099784\n",
      "Iteration 10100: Loss = 30447.766899, Beta_err = 0.099765\n",
      "Iteration 10200: Loss = 30321.527198, Beta_err = 0.099756\n",
      "Iteration 10300: Loss = 30713.631069, Beta_err = 0.099747\n",
      "Iteration 10400: Loss = 30250.345005, Beta_err = 0.099731\n",
      "Iteration 10500: Loss = 30253.665549, Beta_err = 0.099710\n",
      "Iteration 10600: Loss = 30253.153571, Beta_err = 0.099701\n",
      "Iteration 10700: Loss = 30662.705525, Beta_err = 0.099691\n",
      "Iteration 10800: Loss = 30756.588191, Beta_err = 0.099682\n",
      "Iteration 10900: Loss = 30144.855302, Beta_err = 0.099680\n",
      "Iteration 11000: Loss = 30133.631374, Beta_err = 0.099662\n",
      "Iteration 11100: Loss = 30122.227894, Beta_err = 0.099656\n",
      "Iteration 11200: Loss = 30412.391132, Beta_err = 0.099637\n",
      "Iteration 11300: Loss = 30457.063091, Beta_err = 0.099621\n",
      "Iteration 11400: Loss = 30503.775321, Beta_err = 0.099627\n",
      "Iteration 11500: Loss = 30333.387124, Beta_err = 0.099607\n",
      "Iteration 11600: Loss = 30691.022746, Beta_err = 0.099597\n",
      "Iteration 11700: Loss = 30390.676998, Beta_err = 0.099588\n",
      "Iteration 11800: Loss = 30324.292510, Beta_err = 0.099576\n",
      "Iteration 11900: Loss = 30320.466772, Beta_err = 0.099580\n",
      "Iteration 12000: Loss = 30657.185540, Beta_err = 0.099582\n",
      "Iteration 12100: Loss = 30481.526066, Beta_err = 0.099570\n",
      "Iteration 12200: Loss = 30348.673295, Beta_err = 0.099557\n",
      "Iteration 12300: Loss = 30168.827294, Beta_err = 0.099552\n",
      "Iteration 12400: Loss = 30192.597022, Beta_err = 0.099543\n",
      "Iteration 12500: Loss = 30284.190127, Beta_err = 0.099530\n",
      "Iteration 12600: Loss = 30299.856841, Beta_err = 0.099526\n",
      "Iteration 12700: Loss = 30335.899680, Beta_err = 0.099518\n",
      "Iteration 12800: Loss = 30279.803793, Beta_err = 0.099514\n",
      "Iteration 12900: Loss = 30108.348120, Beta_err = 0.099504\n",
      "Iteration 13000: Loss = 30378.256562, Beta_err = 0.099497\n",
      "Iteration 13100: Loss = 30159.433385, Beta_err = 0.099493\n",
      "Iteration 13200: Loss = 30618.973798, Beta_err = 0.099491\n",
      "Iteration 13300: Loss = 30458.807795, Beta_err = 0.099477\n",
      "Iteration 13400: Loss = 30302.534686, Beta_err = 0.099469\n",
      "Iteration 13500: Loss = 30666.916160, Beta_err = 0.099462\n",
      "Iteration 13600: Loss = 30331.553848, Beta_err = 0.099460\n",
      "Iteration 13700: Loss = 30371.795047, Beta_err = 0.099453\n",
      "Iteration 13800: Loss = 30241.821571, Beta_err = 0.099442\n",
      "Iteration 13900: Loss = 30397.447765, Beta_err = 0.099434\n",
      "Iteration 14000: Loss = 30486.683720, Beta_err = 0.099422\n",
      "Iteration 14100: Loss = 30172.647866, Beta_err = 0.099412\n",
      "Iteration 14200: Loss = 30136.419010, Beta_err = 0.099415\n",
      "Iteration 14300: Loss = 30500.898740, Beta_err = 0.099404\n",
      "Iteration 14400: Loss = 30214.357938, Beta_err = 0.099407\n",
      "Iteration 14500: Loss = 30355.609500, Beta_err = 0.099408\n",
      "Iteration 14600: Loss = 30214.202586, Beta_err = 0.099398\n",
      "Iteration 14700: Loss = 30384.069098, Beta_err = 0.099391\n",
      "Iteration 14800: Loss = 30543.529420, Beta_err = 0.099389\n",
      "Iteration 14900: Loss = 30194.204878, Beta_err = 0.099385\n",
      "Iteration 15000: Loss = 30456.091148, Beta_err = 0.099386\n",
      "Iteration 15100: Loss = 30367.508345, Beta_err = 0.099373\n",
      "Iteration 15200: Loss = 30346.856803, Beta_err = 0.099373\n",
      "Iteration 15300: Loss = 30720.369245, Beta_err = 0.099373\n",
      "Iteration 15400: Loss = 30418.790445, Beta_err = 0.099373\n",
      "Iteration 15500: Loss = 30557.438290, Beta_err = 0.099368\n",
      "Iteration 15600: Loss = 30308.103047, Beta_err = 0.099360\n",
      "Iteration 15700: Loss = 30498.385316, Beta_err = 0.099349\n",
      "Iteration 15800: Loss = 30068.772445, Beta_err = 0.099344\n",
      "Iteration 15900: Loss = 30310.766632, Beta_err = 0.099337\n",
      "Iteration 16000: Loss = 30669.721887, Beta_err = 0.099335\n",
      "Iteration 16100: Loss = 30380.512885, Beta_err = 0.099330\n",
      "Iteration 16200: Loss = 30093.505924, Beta_err = 0.099327\n",
      "Iteration 16300: Loss = 30558.042505, Beta_err = 0.099327\n",
      "Iteration 16400: Loss = 30409.335377, Beta_err = 0.099318\n",
      "Iteration 16500: Loss = 30021.352108, Beta_err = 0.099324\n",
      "Iteration 16600: Loss = 30133.871723, Beta_err = 0.099318\n",
      "Iteration 16700: Loss = 30498.073764, Beta_err = 0.099311\n",
      "Iteration 16800: Loss = 30371.299283, Beta_err = 0.099308\n",
      "Iteration 16900: Loss = 30546.166020, Beta_err = 0.099294\n",
      "Iteration 17000: Loss = 30385.416427, Beta_err = 0.099293\n",
      "Iteration 17100: Loss = 30339.917477, Beta_err = 0.099294\n",
      "Iteration 17200: Loss = 30213.467984, Beta_err = 0.099297\n",
      "Iteration 17300: Loss = 30362.811866, Beta_err = 0.099288\n",
      "Iteration 17400: Loss = 30271.979574, Beta_err = 0.099292\n",
      "Iteration 17500: Loss = 30166.526062, Beta_err = 0.099273\n",
      "Iteration 17600: Loss = 30177.065801, Beta_err = 0.099278\n",
      "Iteration 17700: Loss = 30543.865563, Beta_err = 0.099284\n",
      "Iteration 17800: Loss = 30206.098379, Beta_err = 0.099277\n",
      "Iteration 17900: Loss = 30125.897484, Beta_err = 0.099267\n",
      "Iteration 18000: Loss = 30238.659731, Beta_err = 0.099268\n",
      "Iteration 18100: Loss = 30328.670681, Beta_err = 0.099265\n",
      "Iteration 18200: Loss = 30374.820756, Beta_err = 0.099259\n",
      "Iteration 18300: Loss = 30679.124661, Beta_err = 0.099256\n",
      "Iteration 18400: Loss = 30475.318511, Beta_err = 0.099250\n",
      "Iteration 18500: Loss = 30154.511981, Beta_err = 0.099242\n",
      "Iteration 18600: Loss = 30336.780493, Beta_err = 0.099230\n",
      "Iteration 18700: Loss = 30761.318404, Beta_err = 0.099226\n",
      "Iteration 18800: Loss = 30402.674573, Beta_err = 0.099215\n",
      "Iteration 18900: Loss = 30304.412217, Beta_err = 0.099219\n",
      "Iteration 19000: Loss = 30440.789843, Beta_err = 0.099213\n",
      "Iteration 19100: Loss = 30379.450895, Beta_err = 0.099201\n",
      "Iteration 19200: Loss = 30369.616502, Beta_err = 0.099193\n",
      "Iteration 19300: Loss = 30153.940113, Beta_err = 0.099188\n",
      "Iteration 19400: Loss = 30383.924791, Beta_err = 0.099190\n",
      "Iteration 19500: Loss = 30230.298314, Beta_err = 0.099179\n",
      "Iteration 19600: Loss = 30447.182316, Beta_err = 0.099179\n",
      "Iteration 19700: Loss = 30165.216833, Beta_err = 0.099177\n",
      "Iteration 19800: Loss = 30528.238738, Beta_err = 0.099178\n",
      "Iteration 19900: Loss = 30416.053882, Beta_err = 0.099185\n",
      "Elapsed time = 7592.15625\n",
      "(This is a processing time which can be larger than actually wall time when using multiple cores)\n",
      "\n",
      "Number of iterations = 19999\n",
      "Objective function   = 30504.21023\n",
      "Optimality tolerance =  1021.55923\n",
      "\n",
      "Beta coefficient error =    0.09918\n",
      "Number of the objective function evaluations:  20005\n",
      "Number of the objective function gradient evaluations:  59997\n",
      "Number of the objective function Hessian evaluations:  0\n"
     ]
    }
   ],
   "source": [
    "# Stochastic-Quasi-Newton\n",
    "def rigid_reg_stoc(beta_ridge, X, Y, subset):\n",
    "    Xsub = X[subset,:]\n",
    "    Ysub = Y[subset]\n",
    "    z = Ysub - Xsub @ beta_ridge\n",
    "    return np.dot(z.T,z) + rho * np.dot(beta_ridge.T, beta_ridge)\n",
    "\n",
    "def ridge_reg_der_stoc(beta_ridge,X,Y,subset):\n",
    "    Xsub = X[subset,:]\n",
    "    Ysub = Y[subset]\n",
    "\n",
    "    pp = -2*np.dot((Ysub - Xsub @ beta_ridge).T,Xsub)\n",
    "    aa = pp.squeeze() + 2 * rho * beta_ridge\n",
    "    return aa\n",
    "\n",
    "(a,b) = X.shape\n",
    "\n",
    "## Parameters for the algorithm\n",
    "sigma_1 = 0.0001\n",
    "sigma_2 = 0.9\n",
    "alpha = 1e-6\n",
    "delta = 0.1\n",
    "n_iter = 20000 # Maximum number of iterations\n",
    "epsilon = 1e-3\n",
    "tol = 10000\n",
    "\n",
    "beta_ridge = np.zeros(b) # initial value for beta\n",
    "\n",
    "OF_iter = np.zeros(n_iter)\n",
    "tol_iter = np.zeros(n_iter)\n",
    "alpha_iter = np.zeros(n_iter)\n",
    "\n",
    "## Function, Gradient, Hessian evaluation number\n",
    "nfev = 0\n",
    "njev = 0\n",
    "nhev = 0\n",
    "\n",
    "# Implement the quasi-newton method\n",
    "H = np.identity(K+1)\n",
    "\n",
    "time_start = time.process_time()\n",
    "\n",
    "i = 0\n",
    "subsetsize = 512\n",
    "\n",
    "while (i <= n_iter-2) and (tol > epsilon):\n",
    "    i = i + 1\n",
    "    subset = np.random.choice(N, subsetsize, replace=False)\n",
    "    grad = ridge_reg_der_stoc(beta_ridge,X,Y, subset); njev += 1 # Gradient vector\n",
    "    ddirect = -grad # Descent direction\n",
    "    p = H @ ddirect\n",
    "    alpha=2e-3\n",
    "    # in order to satisfy Wolfe condition\n",
    "    while rigid_reg_stoc(beta_ridge + alpha * p, X, Y, subset) > rigid_reg_stoc(beta_ridge, X, Y, subset)+alpha*sigma_1*np.dot(ddirect.T, p):\n",
    "        alpha = alpha*delta\n",
    "        nfev += 2\n",
    "    beta_ridge_old = beta_ridge\n",
    "    beta_ridge = beta_ridge + alpha * H @ ddirect\n",
    "    s = (alpha * H @ ddirect).reshape(-1,1)\n",
    "    v = (ridge_reg_der_stoc(beta_ridge, X ,Y, subset) - ridge_reg_der_stoc(beta_ridge_old, X, Y, subset)).reshape(-1,1); njev += 2\n",
    "    H = (np.eye(K+1) - (v @ s.T) / (v.T @ s)).T @ H @ (np.eye(K+1) - (v @ s.T) / (v.T @ s)) + (s @ s.T) / (v.T @ s)\n",
    "    OF_iter[i] = rigid_reg_stoc(beta_ridge, X, Y, subset); nfev += 1\n",
    "    tol = np.linalg.norm(grad,ord=2)\n",
    "    tol_iter[i] = tol\n",
    "    alpha_iter[i] = alpha\n",
    "    beta_err = np.linalg.norm(np.transpose(beta_ridge_exact)-beta_ridge,ord=2)/np.linalg.norm(beta_ridge,ord=2)\n",
    "    if i % 100 == 0:\n",
    "        print('Iteration %d: Loss = %f, Beta_err = %f' %(i, OF_iter[i], beta_err))\n",
    "\n",
    "time_elapsed = (time.process_time() - time_start)\n",
    "\n",
    "## Print the results\n",
    "\n",
    "print('Elapsed time = %8.5f' %(time_elapsed))\n",
    "print('(This is a processing time which can be larger than actually wall time when using multiple cores)')\n",
    "print('\\nNumber of iterations = %5.0f' %i)\n",
    "print('Objective function   = %11.5f' %OF_iter[i])\n",
    "print('Optimality tolerance = %11.5f' %tol)\n",
    "\n",
    "beta_err = np.linalg.norm(np.transpose(beta_ridge_exact)-beta_ridge,ord=2)/np.linalg.norm(beta_ridge,ord=2)\n",
    "print('\\nBeta coefficient error = %10.5f' %beta_err)\n",
    "\n",
    "print('Number of the objective function evaluations: ', nfev)\n",
    "print('Number of the objective function gradient evaluations: ', njev)\n",
    "print('Number of the objective function Hessian evaluations: ', nhev)"
   ]
  },
  {
   "cell_type": "code",
   "execution_count": 59,
   "metadata": {
    "pycharm": {
     "name": "#%%\n"
    }
   },
   "outputs": [
    {
     "data": {
      "image/png": "[encoded data removed]",
      "text/plain": [
       "<Figure size 432x288 with 1 Axes>"
      ]
     },
     "metadata": {
      "needs_background": "light"
     },
     "output_type": "display_data"
    },
    {
     "data": {
      "image/png": "[encoded data removed]",
      "text/plain": [
       "<Figure size 432x288 with 1 Axes>"
      ]
     },
     "metadata": {
      "needs_background": "light"
     },
     "output_type": "display_data"
    }
   ],
   "source": [
    "plt.plot(OF_iter[1:i]),plt.ylabel('Objective function'),plt.xlabel('Iterations')\n",
    "plt.show()\n",
    "\n",
    "plt.plot(np.log(tol_iter[1:i])),plt.ylabel('Log opt error'),plt.xlabel('Iterations')\n",
    "plt.show()"
   ]
  },
  {
   "cell_type": "markdown",
   "metadata": {
    "collapsed": false,
    "pycharm": {
     "name": "#%% md\n"
    }
   },
   "source": [
    "##### Output\n",
    "\n",
    "time elapsed = 7592.15625\n",
    "\n",
    "iterations = 19999\n",
    "\n",
    "error= 0.09918\n",
    "\n",
    "Function evaluation = 20005\n",
    "\n",
    "Gradient evaluation = 59997\n",
    "\n",
    "Hessian evaluation = 0"
   ]
  },
  {
   "cell_type": "markdown",
   "metadata": {
    "pycharm": {
     "name": "#%% md\n"
    }
   },
   "source": [
    "### Others"
   ]
  },
  {
   "cell_type": "code",
   "execution_count": 85,
   "metadata": {
    "pycharm": {
     "name": "#%%\n"
    }
   },
   "outputs": [
    {
     "name": "stdout",
     "output_type": "stream",
     "text": [
      "Iteration 0: Loss = 265792359.271785 Beta_err = 542.157203\n",
      "Iteration 1000: Loss = 33182.025849 Beta_err = 0.312556\n",
      "Iteration 2000: Loss = 29247.570014 Beta_err = 0.182354\n",
      "Iteration 3000: Loss = 28972.767602 Beta_err = 0.139488\n",
      "Iteration 4000: Loss = 28793.148119 Beta_err = 0.124627\n",
      "Iteration 5000: Loss = 28893.035992 Beta_err = 0.119505\n",
      "Iteration 6000: Loss = 28817.959335 Beta_err = 0.117448\n",
      "Iteration 7000: Loss = 28796.783577 Beta_err = 0.116599\n",
      "Iteration 8000: Loss = 28929.272090 Beta_err = 0.116334\n",
      "Iteration 9000: Loss = 28948.695124 Beta_err = 0.116198\n",
      "Iteration 10000: Loss = 28819.801233 Beta_err = 0.115775\n",
      "Iteration 11000: Loss = 28984.525851 Beta_err = 0.116081\n",
      "Iteration 12000: Loss = 28892.788139 Beta_err = 0.115850\n",
      "Iteration 13000: Loss = 28740.713792 Beta_err = 0.116055\n",
      "Iteration 14000: Loss = 28846.621211 Beta_err = 0.115666\n",
      "Iteration 15000: Loss = 28631.908623 Beta_err = 0.116133\n",
      "Iteration 16000: Loss = 29005.009351 Beta_err = 0.115849\n",
      "Iteration 17000: Loss = 29200.843042 Beta_err = 0.116169\n",
      "Iteration 18000: Loss = 29111.504761 Beta_err = 0.116335\n",
      "Iteration 19000: Loss = 28987.544682 Beta_err = 0.115695\n",
      "Iteration 20000: Loss = 29020.536494 Beta_err = 0.116194\n",
      "Iteration 21000: Loss = 29031.394853 Beta_err = 0.116396\n",
      "Iteration 22000: Loss = 28777.996563 Beta_err = 0.115977\n",
      "Iteration 23000: Loss = 28660.367268 Beta_err = 0.116120\n",
      "Iteration 24000: Loss = 28855.615103 Beta_err = 0.115883\n",
      "Iteration 25000: Loss = 28904.945860 Beta_err = 0.115942\n",
      "Iteration 26000: Loss = 28712.711355 Beta_err = 0.116325\n",
      "Iteration 27000: Loss = 28934.030386 Beta_err = 0.116411\n",
      "Iteration 28000: Loss = 29292.389594 Beta_err = 0.116195\n",
      "Iteration 29000: Loss = 28925.156819 Beta_err = 0.116238\n",
      "Iteration 30000: Loss = 29129.805597 Beta_err = 0.116225\n",
      "Iteration 31000: Loss = 28997.225769 Beta_err = 0.116258\n",
      "Iteration 32000: Loss = 28966.699512 Beta_err = 0.116029\n",
      "Iteration 33000: Loss = 28879.007366 Beta_err = 0.116235\n",
      "Iteration 34000: Loss = 28803.130450 Beta_err = 0.115953\n",
      "Iteration 35000: Loss = 28916.581867 Beta_err = 0.115743\n",
      "Iteration 36000: Loss = 28734.497989 Beta_err = 0.115941\n",
      "Iteration 37000: Loss = 29023.041186 Beta_err = 0.116065\n",
      "Iteration 38000: Loss = 29060.381033 Beta_err = 0.116083\n",
      "Iteration 39000: Loss = 28977.227564 Beta_err = 0.115772\n",
      "Iteration 40000: Loss = 28741.656489 Beta_err = 0.116136\n",
      "Iteration 41000: Loss = 28942.461136 Beta_err = 0.116202\n",
      "Iteration 42000: Loss = 28845.253495 Beta_err = 0.115964\n",
      "Iteration 43000: Loss = 29043.666034 Beta_err = 0.116076\n",
      "Iteration 44000: Loss = 28981.624056 Beta_err = 0.115925\n",
      "Iteration 45000: Loss = 29065.970797 Beta_err = 0.116005\n",
      "Iteration 46000: Loss = 29047.242125 Beta_err = 0.116299\n",
      "Iteration 47000: Loss = 28865.371162 Beta_err = 0.116053\n",
      "Iteration 48000: Loss = 28712.884739 Beta_err = 0.115857\n",
      "Iteration 49000: Loss = 28724.387827 Beta_err = 0.115724\n",
      "Iteration 50000: Loss = 28826.049274 Beta_err = 0.115693\n",
      "Iteration 51000: Loss = 28723.387847 Beta_err = 0.116122\n",
      "Iteration 52000: Loss = 29243.203946 Beta_err = 0.116290\n",
      "Iteration 53000: Loss = 28961.955962 Beta_err = 0.116128\n",
      "Iteration 54000: Loss = 29020.929408 Beta_err = 0.115864\n",
      "Iteration 55000: Loss = 28928.643657 Beta_err = 0.115968\n",
      "Iteration 56000: Loss = 28893.030905 Beta_err = 0.115723\n",
      "Iteration 57000: Loss = 29168.841412 Beta_err = 0.116197\n",
      "Iteration 58000: Loss = 28940.802579 Beta_err = 0.116352\n",
      "Iteration 59000: Loss = 29247.088915 Beta_err = 0.116246\n",
      "Iteration 60000: Loss = 28868.735468 Beta_err = 0.116066\n",
      "Iteration 61000: Loss = 28757.585689 Beta_err = 0.116237\n",
      "Iteration 62000: Loss = 28861.482286 Beta_err = 0.115612\n",
      "Iteration 63000: Loss = 28944.156813 Beta_err = 0.115847\n",
      "Iteration 64000: Loss = 29158.365282 Beta_err = 0.116289\n",
      "Iteration 65000: Loss = 28980.443266 Beta_err = 0.116604\n",
      "Iteration 66000: Loss = 28632.462691 Beta_err = 0.116422\n",
      "Iteration 67000: Loss = 29081.822486 Beta_err = 0.115867\n",
      "Iteration 68000: Loss = 28741.567956 Beta_err = 0.115640\n",
      "Iteration 69000: Loss = 28777.947769 Beta_err = 0.115851\n",
      "Iteration 70000: Loss = 28825.432318 Beta_err = 0.116019\n",
      "Iteration 71000: Loss = 28925.928158 Beta_err = 0.115729\n",
      "Iteration 72000: Loss = 29121.171202 Beta_err = 0.115719\n",
      "Iteration 73000: Loss = 28717.111423 Beta_err = 0.115833\n",
      "Iteration 74000: Loss = 28799.703646 Beta_err = 0.115662\n",
      "Iteration 75000: Loss = 29060.944195 Beta_err = 0.115853\n",
      "Iteration 76000: Loss = 28681.246971 Beta_err = 0.116239\n",
      "Iteration 77000: Loss = 29099.114919 Beta_err = 0.116071\n",
      "Iteration 78000: Loss = 28761.487078 Beta_err = 0.116168\n",
      "Iteration 79000: Loss = 28809.669523 Beta_err = 0.116240\n",
      "Iteration 80000: Loss = 28996.350536 Beta_err = 0.116172\n",
      "Iteration 81000: Loss = 28776.464918 Beta_err = 0.116011\n",
      "Iteration 82000: Loss = 29311.299670 Beta_err = 0.116420\n",
      "Iteration 83000: Loss = 29000.606476 Beta_err = 0.116253\n",
      "Iteration 84000: Loss = 28967.581451 Beta_err = 0.116329\n",
      "Iteration 85000: Loss = 28865.701927 Beta_err = 0.116272\n",
      "Iteration 86000: Loss = 28648.857818 Beta_err = 0.116010\n",
      "Iteration 87000: Loss = 28658.009682 Beta_err = 0.116200\n",
      "Iteration 88000: Loss = 28677.764047 Beta_err = 0.116804\n",
      "Iteration 89000: Loss = 28855.451830 Beta_err = 0.116039\n",
      "Iteration 90000: Loss = 28997.403643 Beta_err = 0.115789\n",
      "Iteration 91000: Loss = 29038.108885 Beta_err = 0.116029\n",
      "Iteration 92000: Loss = 28851.321325 Beta_err = 0.115853\n",
      "Iteration 93000: Loss = 28879.620605 Beta_err = 0.116180\n",
      "Iteration 94000: Loss = 28773.654162 Beta_err = 0.116145\n",
      "Iteration 95000: Loss = 28994.257107 Beta_err = 0.116015\n",
      "Iteration 96000: Loss = 29134.675918 Beta_err = 0.116059\n",
      "Iteration 97000: Loss = 29181.653839 Beta_err = 0.116138\n",
      "Iteration 98000: Loss = 28840.957908 Beta_err = 0.116122\n",
      "Iteration 99000: Loss = 28988.633324 Beta_err = 0.116258\n",
      "time elapsed = 299.8125\n",
      "iterations = 99999\n",
      "Objective Function value = 29132.780105973037\n",
      "Betas = [4.05306221 1.61267942 2.01501836 ... 1.64369863 2.25283023 2.4356033 ]\n",
      "error= 0.11629612062900811\n",
      "Number of the objective function evaluations:  99999\n",
      "Number of the objective function gradient evaluations:  99999\n",
      "Number of the objective function Hessian evaluations:  0\n"
     ]
    }
   ],
   "source": [
    "# Momentum\n",
    "\n",
    "def rigid_reg_stoc(beta_ridge, X, Y, subset):\n",
    "    Xsub = X[subset,:]\n",
    "    Ysub = Y[subset]\n",
    "    z = Ysub - Xsub @ beta_ridge\n",
    "    return np.dot(z.T,z) + rho * np.dot(beta_ridge.T, beta_ridge)\n",
    "\n",
    "def ridge_reg_der_stoc(beta_ridge,X,Y,subset):\n",
    "    Xsub = X[subset,:]\n",
    "    Ysub = Y[subset]\n",
    "\n",
    "    pp = -2*np.dot((Ysub - Xsub @ beta_ridge).T,Xsub)\n",
    "    aa = pp.squeeze() + 2 * rho * beta_ridge\n",
    "    return aa\n",
    "\n",
    "(a,b)=X.shape\n",
    "beta_ridge_cur=np.zeros(b) #initial value for beta\n",
    "beta_ridge_pre=np.zeros(b)\n",
    "alpha=1e-5\n",
    "n_iter=100000 #maximim number iteration\n",
    "OF_iter_cur= 0\n",
    "OF_iter_pre = 0\n",
    "tol_iter=np.zeros(n_iter)\n",
    "alpha_iter=np.zeros(n_iter)\n",
    "error_minib_iter=np.zeros(n_iter)\n",
    "i=0\n",
    "sigma = 0.01\n",
    "#### Number of samples to take into consideration in each iteration\n",
    "subsetsize = 256\n",
    "b = 0.5\n",
    "\n",
    "## Function, Gradient, Hessian evaluation number\n",
    "nfev = 0\n",
    "njev = 0\n",
    "nhev = 0\n",
    "\n",
    "time_start = time.process_time()\n",
    "\n",
    "while i <= n_iter-2:\n",
    "    subset = np.random.choice(N, subsetsize, replace=False)\n",
    "    if i >= 2:\n",
    "        beta_ridge_tmp = beta_ridge_cur + b * (beta_ridge_cur - beta_ridge_pre)\n",
    "        grad = ridge_reg_der_stoc(beta_ridge_tmp, X, Y, subset); njev += 1\n",
    "        beta_ridge_pre = beta_ridge_cur\n",
    "        beta_ridge_cur = beta_ridge_tmp - alpha * grad\n",
    "\n",
    "    else:\n",
    "        grad = ridge_reg_der_stoc(beta_ridge, X, Y, subset); njev += 1\n",
    "        ddirect = -grad\n",
    "        tmp = beta_ridge_cur\n",
    "        beta_ridge_cur = beta_ridge_cur + alpha * ddirect\n",
    "        beta_ridge_pre = tmp\n",
    "\n",
    "    OF_iter_cur = rigid_reg_stoc(beta_ridge_cur, X, Y, subset); nfev += 1\n",
    "    error_minib_iter[i] = np.linalg.norm(np.transpose(beta_ridge_exact)-beta_ridge_cur,ord=2)/np.linalg.norm(beta_ridge_cur,ord=2)\n",
    "    if i % 1000 == 0:\n",
    "        print('Iteration %d: Loss = %f Beta_err = %f' %(i, OF_iter_cur, error_minib_iter[i]))\n",
    "    i=i+1\n",
    "\n",
    "time_elapsed = (time.process_time() - time_start)\n",
    "print('time elapsed =',time_elapsed)\n",
    "print('iterations =',i)\n",
    "print('Objective Function value =', OF_iter_cur)\n",
    "print('Betas =',beta_ridge)\n",
    "print('error=',np.linalg.norm(np.transpose(beta_ridge_exact)-beta_ridge_cur,ord=2)/np.linalg.norm(beta_ridge_cur,ord=2))\n",
    "\n",
    "print('Number of the objective function evaluations: ', nfev)\n",
    "print('Number of the objective function gradient evaluations: ', njev)\n",
    "print('Number of the objective function Hessian evaluations: ', nhev)"
   ]
  },
  {
   "cell_type": "markdown",
   "source": [
    "##### Output\n",
    "\n",
    "time elapsed = 299.8125\n",
    "\n",
    "iterations = 99999\n",
    "\n",
    "error= 0.1163\n",
    "\n",
    "Function evaluation = 99999\n",
    "\n",
    "Gradient evaluation = 99999\n",
    "\n",
    "Hessian evaluation = 0"
   ],
   "metadata": {
    "collapsed": false,
    "pycharm": {
     "name": "#%% md\n"
    }
   }
  },
  {
   "cell_type": "markdown",
   "metadata": {
    "collapsed": false,
    "pycharm": {
     "name": "#%% md\n"
    }
   },
   "source": [
    "| Algorithm               | Iteration | Function eval | Gradient eval | Hessian eval | Batch size | Training time | Beta error |\n",
    "|-------------------------|-----------|---------------|---------------|--------------|------------|---------------|------------|\n",
    "| Coordinate descent      | 15000     | 0             | 15000         | 0            | 50000      | 5937.90625 s  | 0.6408     |\n",
    "| SGD(vanilla)            | 299999    | 299999        | 299999        | 0            | 1          | 345.53125 s   | 0.6952     |\n",
    "| SGD(noise reduction)    | 59999     | 102077        | 59999         | 0            | not fixed  | 139.21875 s   | 0.0847     |\n",
    "| Stochastic Quasi-Newton | 19999     | 20005         | 59997         | 0            | 512        | 7592.15625 s  | 0.0992     |\n",
    "| SGD (Momentum)          | 19999     | 19999         | 19999         | 0            | 256        | 299.8125 s    | 0.1163     |"
   ]
  },
  {
   "cell_type": "markdown",
   "metadata": {
    "pycharm": {
     "name": "#%% md\n"
    }
   },
   "source": [
    "### Conclusions\n",
    "As we can see from the results, the Coordinate descent and SGD (vanilla) cannot successfully solve the task. It doesn't converge even after long training time. The SGD (vanilla) is faster than Coordinate descent since it has smaller batch size.\n",
    "\n",
    "We implemented one of the methods in categories noise reduction, second-order and momentum.\n",
    "1. noise reduction:\n",
    "We gradually increase the mini-batch size in order to get a faster convergence rate. The result shows that it does converge faster than vanilla stochastic gradient descent, and have smaller beta evaluation error. This method is very useful because the dynamic mini-batch size ensure the shorter training time and lower beta error at the same time.\n",
    "2. second-order:\n",
    "We chose stochastic quasi-newton method. We chose a larger batch size because second-order method is more sensitive to batch size compare to gradient method. If the batch size is chosen too small, it may not converge anymore. The result show that it does converge to a relative small beta evaluation error. However, it needs more iterations and causes more training time.\n",
    "3. other:\n",
    "We took momentum as our first choice. After around 20000 iterations, the beta error to 0.1163 and the training time is shorter because it has smaller mini-batch size."
   ]
  },
  {
   "cell_type": "markdown",
   "metadata": {
    "pycharm": {
     "name": "#%% md\n"
    }
   },
   "source": [
    "# f）\n",
    "Consider the constrained problem:\n",
    "\n",
    "\\begin{align*}\n",
    "  \\min_\\beta \\quad & \\|y-X\\beta\\|^2_2 \\\\\n",
    "  s.t. \\sum_{i=1}^{K} \\beta_i \\leq 100\n",
    "\\end{align*}\n",
    "\n",
    "Estimate optimal value of the regression coefficients in (2) by implementing a barrier algorithm.*\n",
    "\n",
    "*You have to write down the algorithms’ code in Python by yourself."
   ]
  },
  {
   "cell_type": "markdown",
   "metadata": {
    "pycharm": {
     "name": "#%% md\n"
    }
   },
   "source": [
    "\n",
    "To optimize the following problem,\n",
    "\\begin{align*}\n",
    "  \\text{minimize}_\\beta \\quad & \\|y-X\\beta\\|^2_2 \\\\\n",
    "  s.t. \\sum_{i=1}^{K} \\beta_i \\leq 100\n",
    "\\end{align*}\n",
    "we implemented some transformations first. We will get\n",
    "\\begin{align*}\n",
    "  \\text{minimize}_\\beta \\quad & \\|y-X\\beta\\|^2_2 \\\\\n",
    "  s.t. 100 - \\sum_{i=1}^{K} \\beta_i \\geq 0\n",
    "\\end{align*}\n",
    "After apply barrier algorithm, the above optimization problem can be approximately seen as the following unconstraint problem:\n",
    "\\begin{align*}\n",
    "  \\text{minimize}_\\beta \\quad & \\|y-X\\beta\\|^2_2 - \\mu log (100 - \\sum_{i=1}^{K} \\beta_i)\\\\\n",
    "\\end{align*}"
   ]
  },
  {
   "cell_type": "code",
   "execution_count": 30,
   "metadata": {
    "pycharm": {
     "name": "#%%\n"
    }
   },
   "outputs": [
    {
     "name": "stdout",
     "output_type": "stream",
     "text": [
      "Iteration 0: Loss = 51869399264.771751\n",
      "Iteration 100: Loss = 50034139819.622498\n",
      "Iteration 200: Loss = 48231936015.025299\n",
      "Iteration 300: Loss = 46908881404.231438\n",
      "Iteration 400: Loss = 46908881404.231438\n",
      "Iteration 500: Loss = 46908881404.231438\n",
      "Iteration 600: Loss = 46908881404.231438\n",
      "Iteration 700: Loss = 46908881404.231438\n",
      "Iteration 800: Loss = 46908881404.231438\n",
      "Iteration 900: Loss = 46908881404.231438\n",
      "time elapsed = 66.41316437721252\n",
      "iterations = 999\n",
      "Objective Function value = 46908881404.23144\n",
      "Betas = [0.19840027 0.01842587 0.09756688 ... 0.02077829 0.13997541 0.17517204]\n",
      "Sum of Beta = 99.99999999999999\n"
     ]
    }
   ],
   "source": [
    "mu = 100 # Hyper parameters\n",
    "def reg(beta, X, Y):\n",
    "    z = Y - X @ beta\n",
    "    return np.dot(z.T,z) - mu * np.log(100 - np.sum(beta))\n",
    "\n",
    "\n",
    "def reg_der(beta,X,Y):\n",
    "\n",
    "    pp = -2*np.dot((Y - X @ beta).T,X)\n",
    "    aa = pp.squeeze() + mu * beta / (100 - np.sum(beta))\n",
    "    return aa\n",
    "\n",
    "(a,b)=X.shape\n",
    "beta_cur=np.zeros(b) #initial value for beta\n",
    "beta_pre=np.zeros(b)\n",
    "alpha=1e-8\n",
    "n_iter=1000 #maximim number iteration\n",
    "OF_iter_cur= 0\n",
    "tol_iter=np.zeros(n_iter)\n",
    "alpha_iter=np.zeros(n_iter)\n",
    "error_minib_iter=np.zeros(n_iter)\n",
    "i=0\n",
    "sigma = 0.01\n",
    "#### Number of samples to take into consideration in each iteration\n",
    "subsetsize = 128\n",
    "b = 0.1\n",
    "\n",
    "time_start = time.time()\n",
    "\n",
    "while i <= n_iter-2:\n",
    "    subset = np.random.choice(N, subsetsize, replace=False)\n",
    "    grad = reg_der(beta_ridge, X, Y)\n",
    "    ddirect = -grad\n",
    "    alpha = 1e-7\n",
    "    while np.sum(beta_cur + alpha * ddirect) >= 100:\n",
    "        alpha = alpha * 0.5\n",
    "    beta_cur = beta_cur + alpha * ddirect\n",
    "    OF_iter_cur = reg(beta_cur, X, Y)\n",
    "    # error_minib_iter[i] = np.linalg.norm(np.transpose(beta_ridge_exact)-beta_ridge,ord=2)/np.linalg.norm(beta_ridge_cur,ord=2)\n",
    "    if i % 100 == 0:\n",
    "        print('Iteration %d: Loss = %f' %(i, OF_iter_cur))\n",
    "    i=i+1\n",
    "\n",
    "time_elapsed = (time.time() - time_start)\n",
    "print('time elapsed =',time_elapsed)\n",
    "print('iterations =',i)\n",
    "print('Objective Function value =', OF_iter_cur)\n",
    "print('Betas =',beta_cur)\n",
    "print('Sum of Beta =', np.sum(beta_cur))"
   ]
  },
  {
   "cell_type": "markdown",
   "metadata": {
    "collapsed": false,
    "pycharm": {
     "name": "#%% md\n"
    }
   },
   "source": [
    "The intuition of barrier algorithm is very simple. It leverages that the gradient of log near 0 is quite steep which enforce the constraints of the optimization problem to be satisfied. As we can see from the results, the sum of beta is smaller than 100 after we use barrier algorithm.\n",
    "\n",
    "Note that the sum of the true beta vector is far larger than 100. The constraint of this optimization problem causes relative high loss."
   ]
  },
  {
   "cell_type": "code",
   "execution_count": 88,
   "outputs": [
    {
     "data": {
      "text/plain": "2034"
     },
     "execution_count": 88,
     "metadata": {},
     "output_type": "execute_result"
    }
   ],
   "source": [],
   "metadata": {
    "collapsed": false,
    "pycharm": {
     "name": "#%%\n"
    }
   }
  },
  {
   "cell_type": "code",
   "execution_count": null,
   "outputs": [],
   "source": [],
   "metadata": {
    "collapsed": false,
    "pycharm": {
     "name": "#%%\n"
    }
   }
  }
 ],
 "metadata": {
  "interpreter": {
   "hash": "d272c1c455f7598d62dacb3727334282303c4378f49c60dc7e79aa7392c25cde"
  },
  "kernelspec": {
   "display_name": "Python 3.8.12 ('ANM4DS')",
   "language": "python",
   "name": "python3"
  },
  "language_info": {
   "codemirror_mode": {
    "name": "ipython",
    "version": 3
   },
   "file_extension": ".py",
   "mimetype": "text/x-python",
   "name": "python",
   "nbconvert_exporter": "python",
   "pygments_lexer": "ipython3",
   "version": "3.8.12"
  }
 },
 "nbformat": 4,
 "nbformat_minor": 1
}