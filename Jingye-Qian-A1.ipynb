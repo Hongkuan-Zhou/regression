{
 "cells": [
  {
   "cell_type": "markdown",
   "metadata": {
    "pycharm": {
     "name": "#%% md\n"
    }
   },
   "source": [
    "# Advanced Numerical Methods for Data Science\n",
    "\n",
    "### 1st Assignment (2021-2022)\n",
    "\n",
    "### Jingye Qian (100384773)"
   ]
  },
  {
   "cell_type": "markdown",
   "metadata": {
    "pycharm": {
     "name": "#%% md\n"
    }
   },
   "source": [
    "Generate random data from a predefined linear regression model. In particular, consider that $0 \\leq \\beta_i \\leq 5$ $i = 0, \\dots, K$ are integer with at least $K = 1000$ independent variables $X = (X_1, X_3,\\ldots,X_K)$ and $n = 5000$ observations. We seek to adjust a multiple linear regression model to explain variable $Y$ as a function of the other variables $X$,i.e., $(Y = \\beta^{'}X + \\epsilon)$ by using “Ridge Regression” under a least-squares approach:\n",
    "\n",
    "$$\\min_{\\beta} \\quad \\left \\| y-X\\beta \\right\\|_2^2 + \\rho \\left \\|\\beta \\right\\|_2^2$$\n",
    "\n",
    "where $\\rho$ is a parameter of your election (for instance consider $\\rho= 5$).\n"
   ]
  },
  {
   "cell_type": "code",
   "execution_count": 2,
   "metadata": {
    "pycharm": {
     "name": "#%%\n"
    },
    "scrolled": false
   },
   "outputs": [
    {
     "name": "stdout",
     "output_type": "stream",
     "text": [
      "Requirement already satisfied: numpy in /Library/Frameworks/Python.framework/Versions/3.7/lib/python3.7/site-packages (1.20.3)\r\n",
      "\u001B[33mWARNING: You are using pip version 21.3.1; however, version 22.0.4 is available.\r\n",
      "You should consider upgrading via the '/usr/local/bin/python3 -m pip install --upgrade pip' command.\u001B[0m\r\n",
      "Requirement already satisfied: scipy in /Library/Frameworks/Python.framework/Versions/3.7/lib/python3.7/site-packages (1.2.3)\r\n",
      "Requirement already satisfied: numpy>=1.8.2 in /Library/Frameworks/Python.framework/Versions/3.7/lib/python3.7/site-packages (from scipy) (1.20.3)\r\n",
      "\u001B[33mWARNING: You are using pip version 21.3.1; however, version 22.0.4 is available.\r\n",
      "You should consider upgrading via the '/usr/local/bin/python3 -m pip install --upgrade pip' command.\u001B[0m\r\n"
     ]
    }
   ],
   "source": [
    "# installation\n",
    "!pip install numpy\n",
    "!pip install scipy"
   ]
  },
  {
   "cell_type": "markdown",
   "metadata": {
    "pycharm": {
     "name": "#%% md\n"
    }
   },
   "source": []
  },
  {
   "cell_type": "code",
   "execution_count": 20,
   "metadata": {
    "pycharm": {
     "name": "#%%\n"
    }
   },
   "outputs": [],
   "source": [
    "# importing\n",
    "import matplotlib.pyplot as plt\n",
    "import numpy as np"
   ]
  },
  {
   "cell_type": "code",
   "execution_count": 21,
   "metadata": {
    "pycharm": {
     "name": "#%%\n"
    }
   },
   "outputs": [],
   "source": [
    "np.random.seed(1234)\n",
    "# const\n",
    "K = 1000 # the dimension of X\n",
    "N = 50000 # the size of dataset\n",
    "# create random dataset\n",
    "X0_s = np.ones([N,1]) # the first column has all values equal to one for the coefficients of beta_0\n",
    "X1_s = np.random.uniform(0,1,([N,K]))\n",
    "X = np.concatenate([X0_s, X1_s],axis=1)\n",
    "beta = np.random.randint(0,5,size=K+1)\n",
    "## Values for the normal errors\n",
    "\n",
    "error_s = np.random.normal(0,1,N)\n",
    "\n",
    "## Values for the y's\n",
    "\n",
    "Y = np.dot(X,beta) + error_s\n",
    "rho = 5"
   ]
  },
  {
   "cell_type": "markdown",
   "metadata": {
    "pycharm": {
     "name": "#%% md\n"
    }
   },
   "source": [
    "# a) \n",
    "\n",
    "Estimate the value of the regression coefficients by implementing the analytical solution. Use this solution as a benchmark for the following sections."
   ]
  },
  {
   "cell_type": "markdown",
   "metadata": {
    "pycharm": {
     "name": "#%% md\n"
    }
   },
   "source": [
    "In order to solve the following objective function:\n",
    "$$\n",
    "\\begin{align*}\n",
    "  \\text{minimize}_\\beta \\quad & \\|y-X\\beta\\|_2^2 + \\rho \\| \\beta \\|_2^2\n",
    "\\end{align*}\n",
    "$$\n",
    "\n",
    "we can derive its explicit solution $\\beta_{ls}=(X^T X + \\rho)^{-1}X^T y$\n"
   ]
  },
  {
   "cell_type": "code",
   "execution_count": 22,
   "metadata": {
    "pycharm": {
     "name": "#%%\n"
    }
   },
   "outputs": [],
   "source": [
    "from numpy.linalg import inv\n",
    "beta_ridge_exact = inv(X.T @ X + rho * np.identity(K+1)) @ X.T @ Y"
   ]
  },
  {
   "cell_type": "markdown",
   "metadata": {
    "pycharm": {
     "name": "#%% md\n"
    }
   },
   "source": [
    "# b)\n",
    "Estimate the value of the regression coefficients by using the function minimize from the Python module **Scipy.optimize**. Try at least four available solvers and compare their performance in terms of number of iterations, number of function, gradient and hessian evaluations as well as total computational time."
   ]
  },
  {
   "cell_type": "code",
   "execution_count": 23,
   "metadata": {
    "pycharm": {
     "name": "#%%\n"
    }
   },
   "outputs": [],
   "source": [
    "from scipy.optimize import minimize\n",
    "from scipy.optimize import Bounds\n",
    "import time\n",
    "\n",
    "def rigid_reg(beta_ls, X, Y, rho):\n",
    "    z = Y - X @ beta_ls\n",
    "    return np.dot(z,z) + rho * np.dot(beta_ls, beta_ls)"
   ]
  },
  {
   "cell_type": "markdown",
   "metadata": {
    "pycharm": {
     "name": "#%% md\n"
    }
   },
   "source": [
    "### i. L-BFGS-B Method"
   ]
  },
  {
   "cell_type": "code",
   "execution_count": 6,
   "metadata": {
    "pycharm": {
     "name": "#%%\n"
    }
   },
   "outputs": [
    {
     "name": "stderr",
     "output_type": "stream",
     "text": [
      " This problem is unconstrained.\n"
     ]
    },
    {
     "name": "stdout",
     "output_type": "stream",
     "text": [
      "RUNNING THE L-BFGS-B CODE\n",
      "\n",
      "           * * *\n",
      "\n",
      "Machine precision = 2.220D-16\n",
      " N =         1001     M =           10\n",
      "\n",
      "At X0         0 variables are exactly at the bounds\n",
      "\n",
      "At iterate    0    f=  5.12290D+10    |proj g|=  1.01197D+08\n",
      "\n",
      "At iterate    1    f=  2.30855D+10    |proj g|=  6.79256D+07\n",
      "\n",
      "At iterate    2    f=  8.46824D+06    |proj g|=  2.16220D+04\n",
      "\n",
      "At iterate    3    f=  8.35729D+06    |proj g|=  4.22129D+04\n",
      "\n",
      "At iterate    4    f=  7.42987D+06    |proj g|=  2.50162D+05\n",
      "\n",
      "At iterate    5    f=  5.75947D+06    |proj g|=  4.57184D+05\n",
      "\n",
      "At iterate    6    f=  3.11316D+06    |proj g|=  5.59989D+05\n",
      "\n",
      "At iterate    7    f=  1.00107D+06    |proj g|=  3.80579D+05\n",
      "\n",
      "At iterate    8    f=  3.08155D+05    |proj g|=  1.11224D+05\n",
      "\n",
      "At iterate    9    f=  2.36789D+05    |proj g|=  9.89501D+03\n",
      "\n",
      "At iterate   10    f=  2.34457D+05    |proj g|=  5.15463D+03\n",
      "\n",
      "           * * *\n",
      "\n",
      "Tit   = total number of iterations\n",
      "Tnf   = total number of function evaluations\n",
      "Tnint = total number of segments explored during Cauchy searches\n",
      "Skip  = number of BFGS updates skipped\n",
      "Nact  = number of active bounds at final generalized Cauchy point\n",
      "Projg = norm of the final projected gradient\n",
      "F     = final function value\n",
      "\n",
      "           * * *\n",
      "\n",
      "   N    Tit     Tnf  Tnint  Skip  Nact     Projg        F\n",
      " 1001     10     15      1     0     0   5.155D+03   2.345D+05\n",
      "  F =   234456.61778092833     \n",
      "\n",
      "STOP: TOTAL NO. of f AND g EVALUATIONS EXCEEDS LIMIT        \n",
      "Training time: 601.020216 s\n",
      "      fun: 234456.61778092833\n",
      " hess_inv: <1001x1001 LbfgsInvHessProduct with dtype=float64>\n",
      "      jac: array([ -945.70278299,   524.66639636, -1005.12406284, ...,\n",
      "         508.89794093,  2063.61875261, -1445.22345364])\n",
      "  message: 'STOP: TOTAL NO. of f AND g EVALUATIONS EXCEEDS LIMIT'\n",
      "     nfev: 15030\n",
      "      nit: 10\n",
      "     njev: 15\n",
      "   status: 1\n",
      "  success: False\n",
      "        x: array([4.02656152, 2.02660663, 0.98025826, ..., 2.05104388, 2.31728995,\n",
      "       0.92702662])\n",
      "\n",
      "Error in values of coefficients =   0.0808\n"
     ]
    }
   ],
   "source": [
    "beta0 = np.zeros(K+1)\n",
    "start_time = time.process_time()\n",
    "res = minimize(rigid_reg, beta0, args=(X, Y, rho),  method='L-BFGS-B', options={'disp': True, 'maxiter': 200})\n",
    "end_time = time.process_time()\n",
    "print('Training time: %f s' %(end_time - start_time))\n",
    "print(res)\n",
    "err_val_1 = np.linalg.norm(beta_ridge_exact.T-res.x,ord=2)/np.linalg.norm(beta_ridge_exact.T,ord=2)\n",
    "print('\\nError in values of coefficients = %8.4f' %err_val_1)"
   ]
  },
  {
   "cell_type": "markdown",
   "metadata": {
    "pycharm": {
     "name": "#%% md\n"
    }
   },
   "source": [
    "### ii. Scalar function of one or more variables using Sequential Least Squares Programming (SLSQP)"
   ]
  },
  {
   "cell_type": "code",
   "execution_count": 16,
   "metadata": {
    "pycharm": {
     "name": "#%%\n"
    }
   },
   "outputs": [
    {
     "name": "stdout",
     "output_type": "stream",
     "text": [
      "Optimization terminated successfully    (Exit mode 0)\n",
      "            Current function value: 79579.89790269443\n",
      "            Iterations: 19\n",
      "            Function evaluations: 19115\n",
      "            Gradient evaluations: 19\n",
      "Training time: 763.696749 s\n",
      "(This is a processing time which can be larger than actually wall time when using multiple cores)\n",
      "     fun: 79579.89790269443\n",
      "     jac: array([0.07324219, 0.02148438, 0.04101562, ..., 0.0078125 , 0.04003906,\n",
      "       0.05078125])\n",
      " message: 'Optimization terminated successfully'\n",
      "    nfev: 19115\n",
      "     nit: 19\n",
      "    njev: 19\n",
      "  status: 0\n",
      " success: True\n",
      "       x: array([ 3.36452838, -0.0134765 ,  1.9753466 , ...,  0.00517557,\n",
      "        3.00802566,  3.99427977])\n",
      "\n",
      "Error in values of coefficients =   0.0000\n"
     ]
    }
   ],
   "source": [
    "beta0 = np.zeros(K+1)\n",
    "start_time = time.process_time()\n",
    "res = minimize(rigid_reg, beta0, args=(X, Y, rho),  method='SLSQP', options={'disp': True, 'maxiter': 200})\n",
    "end_time = time.process_time()\n",
    "print('Training time: %f s' %(end_time - start_time))\n",
    "print('(This is a processing time which can be larger than actually wall time when using multiple cores)')\n",
    "print(res)\n",
    "err_val_1 = np.linalg.norm(beta_ridge_exact.T-res.x,ord=2)/np.linalg.norm(beta_ridge_exact.T,ord=2)\n",
    "print('\\nError in values of coefficients = %8.4f' %err_val_1)"
   ]
  },
  {
   "cell_type": "markdown",
   "metadata": {
    "pycharm": {
     "name": "#%% md\n"
    }
   },
   "source": [
    "##### Outputs\n",
    "Current function value: 79579.8979\n",
    "\n",
    "Iterations: 19\n",
    "\n",
    "Function evaluations: 19115\n",
    "\n",
    "Gradient evaluations: 19\n",
    "\n",
    "Training time: 763.696749 s\n",
    "\n",
    "Error in values of coefficients =   0.0000"
   ]
  },
  {
   "cell_type": "markdown",
   "metadata": {
    "pycharm": {
     "name": "#%% md\n"
    }
   },
   "source": [
    "### iii. trust-constr algorithm"
   ]
  },
  {
   "cell_type": "code",
   "execution_count": 28,
   "metadata": {
    "pycharm": {
     "name": "#%%\n"
    }
   },
   "outputs": [
    {
     "name": "stdout",
     "output_type": "stream",
     "text": [
      "The maximum number of function evaluations is exceeded.\n",
      "Number of iterations: 50, function evaluations: 50100, CG iterations: 219, optimality: 2.68e+01, constraint violation: 0.00e+00, execution time: 1.2e+03 s.\n",
      "Training time: 9649.422581 s\n",
      "(This is a processing time which can be larger than actually wall time when using multiple cores)\n",
      "\n",
      "Error in values of coefficients =   0.0086\n",
      "         cg_niter: 219\n",
      "     cg_stop_cond: 4\n",
      "           constr: []\n",
      "      constr_nfev: []\n",
      "      constr_nhev: []\n",
      "      constr_njev: []\n",
      "   constr_penalty: 1.0\n",
      " constr_violation: 0\n",
      "   execution_time: 1214.252665758133\n",
      "              fun: 79590.3006205051\n",
      "             grad: array([26.77944139,  2.59863281,  7.71283325, ..., -1.58496094,\n",
      "        0.18772661, -0.05111201])\n",
      "              jac: []\n",
      "  lagrangian_grad: array([26.77944139,  2.59863281,  7.71283325, ..., -1.58496094,\n",
      "        0.18772661, -0.05111201])\n",
      "          message: 'The maximum number of function evaluations is exceeded.'\n",
      "           method: 'equality_constrained_sqp'\n",
      "             nfev: 50100\n",
      "             nhev: 0\n",
      "              nit: 50\n",
      "            niter: 50\n",
      "             njev: 50\n",
      "       optimality: 26.779441394584033\n",
      "           status: 0\n",
      "          success: False\n",
      "        tr_radius: 343.0000000000001\n",
      "                v: []\n",
      "                x: array([ 4.03283507e+00, -1.45447462e-02,  1.97532490e+00, ...,\n",
      "        3.50131888e-03,  3.00678277e+00,  3.99322107e+00])\n"
     ]
    }
   ],
   "source": [
    "beta0 = np.zeros(K+1)\n",
    "start_time = time.process_time()\n",
    "res = minimize(rigid_reg, beta0, args=(X, Y, rho),  method='trust-constr', options={'disp': True,'maxiter': 50})\n",
    "end_time = time.process_time()\n",
    "print('Training time: %f s' %(end_time - start_time))\n",
    "print('(This is a processing time which can be larger than actually wall time when using multiple cores)')\n",
    "err_val_1 = np.linalg.norm(beta_ridge_exact.T-res.x,ord=2)/np.linalg.norm(beta_ridge_exact.T,ord=2)\n",
    "print('\\nError in values of coefficients = %8.4f' %err_val_1)\n",
    "print(res)"
   ]
  },
  {
   "cell_type": "markdown",
   "metadata": {
    "pycharm": {
     "name": "#%% md\n"
    }
   },
   "source": [
    "### iv. Constrained Optimization BY Linear Approximation"
   ]
  },
  {
   "cell_type": "code",
   "execution_count": 29,
   "metadata": {
    "pycharm": {
     "name": "#%%\n"
    }
   },
   "outputs": [
    {
     "name": "stdout",
     "output_type": "stream",
     "text": [
      "Training time: 4762.310761 s\n",
      "(This is a processing time which can be larger than actually wall time when using multiple cores)\n",
      "\n",
      "Error in values of coefficients =   0.5187\n",
      "     fun: 6962741.506909741\n",
      "   maxcv: 0.0\n",
      " message: 'Maximum number of function evaluations has been exceeded.'\n",
      "    nfev: 3000\n",
      "  status: 2\n",
      " success: False\n",
      "       x: array([2.19162562, 0.69796924, 2.11244685, ..., 2.04277469, 1.68818102,\n",
      "       2.3889282 ])\n"
     ]
    }
   ],
   "source": [
    "beta0 = np.zeros(K+1)\n",
    "start_time = time.process_time()\n",
    "res = minimize(rigid_reg, beta0, args=(X, Y, rho),  method='COBYLA', options={'disp': True, 'maxiter': 3000})\n",
    "end_time = time.process_time()\n",
    "print('Training time: %f s' %(end_time - start_time))\n",
    "print('(This is a processing time which can be larger than actually wall time when using multiple cores)')\n",
    "                                                                                                                                                                                                                                        \n",
    "err_val_1 = np.linalg.norm(beta_ridge_exact.T-res.x,ord=2)/np.linalg.norm(beta_ridge_exact.T,ord=2)\n",
    "print('\\nError in values of coefficients = %8.4f' %err_val_1)\n",
    "print(res)"
   ]
  },
  {
   "cell_type": "markdown",
   "metadata": {
    "pycharm": {
     "name": "#%% md\n"
    }
   },
   "source": [
    "As we can see from the result, the method SLSQP has the best performance. It converges in 19 iterations and the beta error is almost 0.\n",
    "\n",
    "From the results using the Nelder-Mead method, its training time is 149.75s, the number of iterations is xxx, the number of functions is ccc, gradient and hessian evaluation\n",
    "\n",
    "The method L-BFGS-B stops because of it limits the maximum evaluation numbers. The final beta error is 0.0808.\n",
    "\n",
    "In order to shorten the training time of COBYLA, Nelder-Mead, we set the maximum iteration as 5000. The final beta errors are . The training times are"
   ]
  },
  {
   "cell_type": "markdown",
   "metadata": {
    "pycharm": {
     "name": "#%% md\n"
    }
   },
   "source": [
    "# c)\n",
    "Modify the preceding optimization model by adding (lower and upper) bounds on the values of the $\\beta$ coefficients. Solve it again with the module **Scipy.optimize** a by using at least two different solvers, which should accpet the introduction of bounds on the variabels. Compare these methods and briefly comments on possible interpretations of the values of the coefficients."
   ]
  },
  {
   "cell_type": "markdown",
   "metadata": {
    "pycharm": {
     "name": "#%% md\n"
    }
   },
   "source": [
    "### L-BFGS-B with bounds"
   ]
  },
  {
   "cell_type": "code",
   "execution_count": 30,
   "metadata": {
    "pycharm": {
     "name": "#%%\n"
    }
   },
   "outputs": [
    {
     "name": "stdout",
     "output_type": "stream",
     "text": [
      "Elapsed time: 2813.32138\n",
      "(This is a processing time which can be larger than actually wall time when using multiple cores)\n",
      "\n",
      "Error in values of coefficients =   0.0209\n",
      "\n",
      "      fun: 88081.86105689235\n",
      " hess_inv: <1001x1001 LbfgsInvHessProduct with dtype=float64>\n",
      "      jac: array([31776.90688275, 16094.87226242, 16206.42443258, ...,\n",
      "       15907.74481883, 16171.71811455, 15923.13938673])\n",
      "  message: 'STOP: TOTAL NO. of f AND g EVALUATIONS EXCEEDS LIMIT'\n",
      "     nfev: 15030\n",
      "      nit: 8\n",
      "     njev: 15\n",
      "   status: 1\n",
      "  success: False\n",
      "        x: array([2.03223683e+00, 3.80236985e-03, 2.01259602e+00, ...,\n",
      "       0.00000000e+00, 3.04176802e+00, 4.00100285e+00])\n"
     ]
    }
   ],
   "source": [
    "# with bounds\n",
    "beta0 = np.zeros(K+1)\n",
    "start_time = time.process_time()\n",
    "res = minimize(rigid_reg, beta0, args=(X, Y, rho),  method='L-BFGS-B', bounds = Bounds(lb = 0.0, ub= 5.0 ), options={'disp': True})\n",
    "end_time = time.process_time()\n",
    "print('Elapsed time: %8.5f' %(end_time - start_time))\n",
    "print('(This is a processing time which can be larger than actually wall time when using multiple cores)')\n",
    "err_val_1 = np.linalg.norm(beta_ridge_exact.T-res.x,ord=2)/np.linalg.norm(beta_ridge_exact.T,ord=2)\n",
    "print('\\nError in values of coefficients = %8.4f\\n' %err_val_1)\n",
    "print(res)"
   ]
  },
  {
   "cell_type": "markdown",
   "source": [
    "### trust-constr with bounds"
   ],
   "metadata": {
    "collapsed": false,
    "pycharm": {
     "name": "#%% md\n"
    }
   }
  },
  {
   "cell_type": "code",
   "execution_count": 27,
   "outputs": [
    {
     "name": "stdout",
     "output_type": "stream",
     "text": [
      "The maximum number of function evaluations is exceeded.\n",
      "Number of iterations: 50, function evaluations: 50100, CG iterations: 4064, optimality: 3.78e+03, constraint violation: 0.00e+00, execution time: 1.2e+03 s.\n",
      "Elapsed time: 9857.63133\n",
      "(This is a processing time which can be larger than actually wall time when using multiple cores)\n",
      "\n",
      "Error in values of coefficients =   0.0807\n",
      "\n"
     ]
    }
   ],
   "source": [
    "# with bounds\n",
    "beta0 = np.zeros(K+1)\n",
    "start_time = time.process_time()\n",
    "res = minimize(rigid_reg, beta0, args=(X, Y, rho),  method='trust-constr', bounds = Bounds(lb = 0.0, ub= 5.0), options={'disp': True, 'maxiter': 50})\n",
    "end_time = time.process_time()\n",
    "print('Elapsed time: %8.5f' %(end_time - start_time))\n",
    "print('(This is a processing time which can be larger than actually wall time when using multiple cores)')\n",
    "\n",
    "err_val_1 = np.linalg.norm(beta_ridge_exact.T-res.x,ord=2)/np.linalg.norm(beta_ridge_exact.T,ord=2)\n",
    "print('\\nError in values of coefficients = %8.4f\\n' %err_val_1)\n",
    "print(res)"
   ],
   "metadata": {
    "collapsed": false,
    "pycharm": {
     "name": "#%%\n"
    }
   }
  },
  {
   "cell_type": "markdown",
   "source": [
    "We implemented the algorithms L-BFGS-B and trust-constr. By comparing their training time and the final coefficient errors, we found that L-BFGS-B is a better method for optimization in such problem. It has less training and converges faster."
   ],
   "metadata": {
    "collapsed": false,
    "pycharm": {
     "name": "#%% md\n"
    }
   }
  },
  {
   "cell_type": "markdown",
   "metadata": {
    "pycharm": {
     "name": "#%% md\n"
    }
   },
   "source": [
    "# d)\n",
    "Estimate the value of the regression coefficients of (1) by implementing the: *\n",
    "\n",
    "1. **Gradient** Method \n",
    "2. **Newton** method \n",
    "3. **Quasi-Newton** method\n",
    "\n",
    "Consider a line search technique to improve the algorithm convergence, e.x., Armijo rule. Compare the performance of these algorithms (number of iterations, function, gradient and hessian evaluations, and total computational time).\n"
   ]
  },
  {
   "cell_type": "markdown",
   "metadata": {
    "pycharm": {
     "name": "#%% md\n"
    }
   },
   "source": [
    "## i. Gradient Decent Method\n",
    "\n",
    "From an initial iterate $x_0$. When at iteration $k$, the gradient descent can be considered as\n",
    "$$x_{k+1} = x_k + \\alpha_k\\ p_k$$\n",
    "\n",
    "where descent directions $p_k=-\\nabla f(x_k)$. Until convergence to a local solution.\n"
   ]
  },
  {
   "cell_type": "code",
   "execution_count": 21,
   "metadata": {
    "pycharm": {
     "name": "#%%\n"
    }
   },
   "outputs": [],
   "source": [
    "# Definition of the OF\n",
    "\n",
    "def ridge_reg(beta_ridge, X, Y):\n",
    "    # beta_ridge has the dimension of (K+1,)\n",
    "    # X has the dimension of (N, K+1)\n",
    "    # Y has the dimenstion of (N, )\n",
    "    z = Y - X @ beta_ridge\n",
    "    return np.dot(z.T,z) + rho * np.dot(beta_ridge.T, beta_ridge)\n",
    "\n",
    "# Definition of the gradient\n",
    "\n",
    "def ridge_reg_der(beta_ridge,X,Y):\n",
    "    # beta_ridge has the dimension of (K+1,)\n",
    "    # X has the dimension of (N, K+1)\n",
    "    # Y has the dimenstion of (N, )\n",
    "\n",
    "    pp = -2*np.dot((Y - X @ beta_ridge).T,X)\n",
    "    aa = pp.squeeze() + 2 * rho * beta_ridge\n",
    "    return aa\n",
    "\n",
    "# Definition of the hessian matrix\n",
    "\n",
    "def ridge_reg_hess(beta_ls,X,Y):\n",
    "    # beta_ridge has the dimension of (K+1,)\n",
    "    # X has the dimension of (N, K+1)\n",
    "    # Y has the dimenstion of (N, )\n",
    "    ss = 2*np.dot(X.T,X) + 2 * rho\n",
    "    return ss"
   ]
  },
  {
   "cell_type": "code",
   "execution_count": 22,
   "metadata": {
    "pycharm": {
     "name": "#%%\n"
    }
   },
   "outputs": [
    {
     "name": "stdout",
     "output_type": "stream",
     "text": [
      "Elapsed time = 592.18470\n",
      "(This is a processing time which can be larger than actually wall time when using multiple cores)\n",
      "\n",
      "Number of iterations =   999\n",
      "Objective function   = 79588.27579\n",
      "Optimality tolerance =    27.77532\n",
      "\n",
      "Beta coefficient error =    0.00806\n"
     ]
    }
   ],
   "source": [
    "# Implementation of the gradient method\n",
    "\n",
    "(a,b) = X.shape\n",
    "\n",
    "## Parameters for the algorithm\n",
    "sigma = 0.3\n",
    "alpha = 1e-6\n",
    "delta = 0.5\n",
    "n_iter = 1000 # Maximum number of iterations\n",
    "epsilon = 1e-5\n",
    "tol = 10000\n",
    "\n",
    "## Initial values for the variables and data containers\n",
    "\n",
    "beta_ridge = np.zeros(b) # initial value for beta\n",
    "\n",
    "OF_iter = np.zeros(n_iter)\n",
    "tol_iter = np.zeros(n_iter)\n",
    "alpha_iter = np.zeros(n_iter)\n",
    "\n",
    "# Implement the gradient method\n",
    "\n",
    "time_start = time.process_time()\n",
    "\n",
    "i = 0\n",
    "\n",
    "while (i <= n_iter-2) and (tol > epsilon):\n",
    "    i = i + 1\n",
    "    grad = ridge_reg_der(beta_ridge,X,Y) # Gradient vector\n",
    "    ddirect = -grad # Descent direction\n",
    "##### Armijo rule to adjust alpha ######\n",
    "    alpha=1e-5\n",
    "    while rigid_reg(beta_ridge + alpha * ddirect, X, Y, rho) > rigid_reg(beta_ridge, X, Y, rho)+alpha*sigma*np.dot(ddirect, grad):\n",
    "        alpha = alpha*delta\n",
    "#########################################\n",
    "    beta_ridge = beta_ridge + alpha*ddirect\n",
    "\n",
    "    OF_iter[i] = rigid_reg(beta_ridge, X, Y, rho)\n",
    "    tol = np.linalg.norm(grad,ord=2)\n",
    "    tol_iter[i] = tol\n",
    "    alpha_iter[i] = alpha\n",
    "\n",
    "time_elapsed = (time.process_time() - time_start)\n",
    "\n",
    "## Print the results\n",
    "\n",
    "print('Elapsed time = %8.5f' %(time_elapsed))\n",
    "print('(This is a processing time which can be larger than actually wall time when using multiple cores)')\n",
    "print('\\nNumber of iterations = %5.0f' %i)\n",
    "print('Objective function   = %11.5f' %OF_iter[i])\n",
    "print('Optimality tolerance = %11.5f' %tol)\n",
    "\n",
    "beta_err = np.linalg.norm(np.transpose(beta_ridge_exact)-beta_ridge,ord=2)/np.linalg.norm(beta_ridge,ord=2)\n",
    "print('\\nBeta coefficient error = %10.5f' %beta_err)"
   ]
  },
  {
   "cell_type": "markdown",
   "metadata": {
    "pycharm": {
     "name": "#%% md\n"
    }
   },
   "source": [
    "##### Output\n",
    "Elapsed time = 592.18470 (This is a processing time which can be larger than actually wall time when using multiple cores)\n",
    "\n",
    "Number of iterations =   999\n",
    "\n",
    "Objective function   = 79588.27579\n",
    "\n",
    "Optimality tolerance =    27.77532\n",
    "\n",
    "Beta coefficient error =    0.00806"
   ]
  },
  {
   "cell_type": "code",
   "execution_count": 23,
   "metadata": {
    "pycharm": {
     "name": "#%%\n"
    }
   },
   "outputs": [
    {
     "data": {
      "image/png": "[encoded data removed]",
      "text/plain": [
       "<Figure size 432x288 with 1 Axes>"
      ]
     },
     "metadata": {
      "needs_background": "light"
     },
     "output_type": "display_data"
    },
    {
     "data": {
      "image/png": "[encoded data removed]",
      "text/plain": [
       "<Figure size 432x288 with 1 Axes>"
      ]
     },
     "metadata": {
      "needs_background": "light"
     },
     "output_type": "display_data"
    },
    {
     "data": {
      "image/png": "[encoded data removed]",
      "text/plain": [
       "<Figure size 432x288 with 1 Axes>"
      ]
     },
     "metadata": {
      "needs_background": "light"
     },
     "output_type": "display_data"
    }
   ],
   "source": [
    "# Plot results showing the evolution of the algorithm\n",
    "\n",
    "%matplotlib inline\n",
    "plt.plot(OF_iter[1:i]),plt.ylabel('Objective function'),plt.xlabel('Iterations')\n",
    "plt.show()\n",
    "\n",
    "plt.plot(np.log(tol_iter[1:i])),plt.ylabel('Log opt error'),plt.xlabel('Iterations')\n",
    "plt.show()\n",
    "\n",
    "plt.plot(alpha_iter[1:200]),plt.ylabel('Alpha'),plt.xlabel('Iterations')\n",
    "plt.show()"
   ]
  },
  {
   "cell_type": "markdown",
   "metadata": {
    "pycharm": {
     "name": "#%% md\n"
    }
   },
   "source": [
    "## ii. Newton's method\n",
    "\n",
    "The iteration is given by:\n",
    "$$x_{k+1} = x_k + \\alpha_k\\ p_k$$\n",
    "where the positive scalar $\\alpha_k)$ is called the step length $(\\alpha_k>0)$. The success of a line search method depends on effective choices of both the direction $p_k$ and the step length $\\alpha_k$. And compute a descent direction $p_k=-(\\nabla^2 f(x_k))^{-1} \\nabla f(x_k)$, whenever $\\nabla^2 f(x_k)$ is a nonsingular matrix. "
   ]
  },
  {
   "cell_type": "code",
   "execution_count": 24,
   "metadata": {
    "pycharm": {
     "name": "#%%\n"
    }
   },
   "outputs": [
    {
     "name": "stdout",
     "output_type": "stream",
     "text": [
      "Elapsed time = 30.44542\n",
      "(This is a processing time which can be larger than actually wall time when using multiple cores)\n",
      "\n",
      "Number of iterations =     8\n",
      "Objective function   = 79579.89788\n",
      "Optimality tolerance =     0.00000\n",
      "\n",
      "Beta coefficient error =    0.00000\n"
     ]
    }
   ],
   "source": [
    "# Implementation of Newton's method\n",
    "\n",
    "(a,b) = X.shape\n",
    "\n",
    "## Parameters for the algorithm\n",
    "\n",
    "alpha = 1e-4\n",
    "n_iter = 200 # Maximum number of iterations\n",
    "epsilon = 1e-5\n",
    "tol = 10000\n",
    "sigma = 0.1\n",
    "delta = 0.1\n",
    "\n",
    "## Initial values for the variables and data containers\n",
    "\n",
    "beta_lsn = np.zeros(b) # initial value for beta\n",
    "\n",
    "OF_iter = np.zeros(n_iter)\n",
    "tol_iter = np.zeros(n_iter)\n",
    "alpha_iter = np.zeros(n_iter)\n",
    "\n",
    "# Implement Newton's method\n",
    "\n",
    "time_start = time.process_time()\n",
    "\n",
    "i = 0\n",
    "\n",
    "while (i <= n_iter-2) and (tol > epsilon):\n",
    "    i = i + 1\n",
    "    grad = ridge_reg_der(beta_lsn,X,Y)\n",
    "    hess = ridge_reg_hess(beta_lsn,X,Y)\n",
    "    ddirect = -np.dot(np.linalg.inv(hess),grad) # Descent direction\n",
    "##### Armijo rule to adjust alpha ######\n",
    "#########################################\n",
    "    beta_lsn = beta_lsn + ddirect\n",
    "    OF_iter[i] = rigid_reg(beta_lsn, X, Y, rho)\n",
    "    tol = np.linalg.norm(grad,ord=2)\n",
    "    tol_iter[i] = tol\n",
    "    alpha_iter[i] = alpha\n",
    "\n",
    "time_elapsed = (time.process_time() - time_start)\n",
    "\n",
    "## Print the results\n",
    "\n",
    "print('Elapsed time = %8.5f' %(time_elapsed))\n",
    "print('(This is a processing time which can be larger than actually wall time when using multiple cores)')\n",
    "print('\\nNumber of iterations = %5.0f' %i)\n",
    "print('Objective function   = %11.5f' %OF_iter[i])\n",
    "print('Optimality tolerance = %11.5f' %tol)\n",
    "\n",
    "beta_err = np.linalg.norm(np.transpose(beta_ridge_exact)-beta_lsn,ord=2)/np.linalg.norm(beta_lsn,ord=2)\n",
    "print('\\nBeta coefficient error = %10.5f' %beta_err)"
   ]
  },
  {
   "cell_type": "markdown",
   "metadata": {
    "pycharm": {
     "name": "#%% md\n"
    }
   },
   "source": [
    "##### Output\n",
    "Elapsed time = 30.44542\n",
    "\n",
    "Number of iterations = 8\n",
    "\n",
    "Objective function  = 79579.89788\n",
    "\n",
    "Optimality tolerance = 0.00\n",
    "\n",
    "Beta coefficient error = 0.00"
   ]
  },
  {
   "cell_type": "code",
   "execution_count": 25,
   "metadata": {
    "pycharm": {
     "name": "#%%\n"
    }
   },
   "outputs": [
    {
     "data": {
      "image/png": "[encoded data removed]",
      "text/plain": [
       "<Figure size 432x288 with 1 Axes>"
      ]
     },
     "metadata": {
      "needs_background": "light"
     },
     "output_type": "display_data"
    },
    {
     "data": {
      "image/png": "[encoded data removed]",
      "text/plain": [
       "<Figure size 432x288 with 1 Axes>"
      ]
     },
     "metadata": {
      "needs_background": "light"
     },
     "output_type": "display_data"
    }
   ],
   "source": [
    "# Plot results showing the evolution of the algorithm\n",
    "\n",
    "plt.plot(OF_iter[1:i]),plt.ylabel('Objective function'),plt.xlabel('Iterations')\n",
    "plt.show()\n",
    "\n",
    "plt.plot(np.log(tol_iter[1:i])),plt.ylabel('Log opt error'),plt.xlabel('Iterations')\n",
    "plt.show()"
   ]
  },
  {
   "cell_type": "markdown",
   "metadata": {
    "pycharm": {
     "name": "#%% md\n"
    }
   },
   "source": [
    "## iii. Quasi-Newton Method\n",
    "\n",
    "$$x_{k+1} = x_k + \\alpha_k\\ p_k$$\n",
    "where $p_k=-(B_k)^{-1} \\nabla f(x_k)$. As an alternative to Newton's method, $B_k$ is an approximation to the Hessian that is updated at every iteration by means of a low-rank formula. \n",
    "\n",
    "Therefore, the quasi-Newton method can be considered as\n",
    "$$x_{k+1} = x_k - \\alpha_kH_k\\nabla f(x_k)$$\n",
    "where $H_k$ is an approximation of $(\\nabla^2 f(x_k))^{-1}$."
   ]
  },
  {
   "cell_type": "code",
   "execution_count": 26,
   "metadata": {
    "pycharm": {
     "name": "#%%\n"
    }
   },
   "outputs": [
    {
     "name": "stdout",
     "output_type": "stream",
     "text": [
      "Iteration 100: Loss = 2921371.421936\n",
      "Iteration 200: Loss = 82378.985171\n",
      "Iteration 300: Loss = 79583.133374\n",
      "Iteration 400: Loss = 79579.901133\n",
      "Elapsed time = 335.51179\n",
      "(This is a processing time which can be larger than actually wall time when using multiple cores)\n",
      "\n",
      "Number of iterations =   499\n",
      "Objective function   = 79579.89789\n",
      "Optimality tolerance =     0.77524\n",
      "\n",
      "Beta coefficient error =    0.00000\n"
     ]
    }
   ],
   "source": [
    "# Quasi-Newton\n",
    "\n",
    "(a,b) = X.shape\n",
    "\n",
    "## Parameters for the algorithm\n",
    "sigma_1 = 0.001\n",
    "sigma_2 = 0.9\n",
    "alpha = 1e-6\n",
    "delta = 0.5\n",
    "n_iter = 500 # Maximum number of iterations\n",
    "epsilon = 1e-3\n",
    "tol = 10000\n",
    "\n",
    "## Initial values for the variables and data containers\n",
    "\n",
    "beta_ridge = np.zeros(b) # initial value for beta\n",
    "\n",
    "OF_iter = np.zeros(n_iter)\n",
    "tol_iter = np.zeros(n_iter)\n",
    "alpha_iter = np.zeros(n_iter)\n",
    "\n",
    "# Implement the quasi-newton method\n",
    "H = np.identity(K+1)\n",
    "\n",
    "time_start = time.process_time()\n",
    "\n",
    "i = 0\n",
    "\n",
    "while (i <= n_iter-2) and (tol > epsilon):\n",
    "    i = i + 1\n",
    "    grad = ridge_reg_der(beta_ridge,X,Y) # Gradient vector\n",
    "    ddirect = -grad # Descent direction\n",
    "    p = H @ ddirect\n",
    "    alpha=1e-4\n",
    "    # in order to satisfy Wolfe condition\n",
    "    while rigid_reg(beta_ridge + alpha * p, X, Y, rho) > rigid_reg(beta_ridge, X, Y, rho)+alpha*sigma_1*np.dot(ddirect.T, p):\n",
    "        alpha = alpha*delta\n",
    "    beta_ridge_old = beta_ridge\n",
    "    beta_ridge = beta_ridge + alpha * H @ ddirect\n",
    "    s = (alpha * H @ ddirect).reshape(-1,1)\n",
    "    v = (ridge_reg_der(beta_ridge, X ,Y) - ridge_reg_der(beta_ridge_old, X, Y)).reshape(-1,1)\n",
    "    H = (np.eye(K+1) - (v @ s.T) / (v.T @ s)).T @ H @ (np.eye(K+1) - (v @ s.T) / (v.T @ s)) + (s @ s.T) / (v.T @ s)\n",
    "    OF_iter[i] = rigid_reg(beta_ridge, X, Y, rho)\n",
    "    tol = np.linalg.norm(grad,ord=2)\n",
    "    tol_iter[i] = tol\n",
    "    alpha_iter[i] = alpha\n",
    "    if i % 100 == 0:\n",
    "        print('Iteration %d: Loss = %f' %(i, OF_iter[i]))\n",
    "\n",
    "time_elapsed = (time.process_time() - time_start)\n",
    "\n",
    "## Print the results\n",
    "\n",
    "print('Elapsed time = %8.5f' %(time_elapsed))\n",
    "print('(This is a processing time which can be larger than actually wall time when using multiple cores)')\n",
    "print('\\nNumber of iterations = %5.0f' %i)\n",
    "print('Objective function   = %11.5f' %OF_iter[i])\n",
    "print('Optimality tolerance = %11.5f' %tol)\n",
    "\n",
    "beta_err = np.linalg.norm(np.transpose(beta_ridge_exact)-beta_ridge,ord=2)/np.linalg.norm(beta_ridge,ord=2)\n",
    "print('\\nBeta coefficient error = %10.5f' %beta_err)"
   ]
  },
  {
   "cell_type": "markdown",
   "metadata": {
    "pycharm": {
     "name": "#%% md\n"
    }
   },
   "source": [
    "##### Output\n",
    "Elapsed time = 335.51179\n",
    "\n",
    "Number of iterations = 499\n",
    "\n",
    "Objective function = 79579.89789\n",
    "\n",
    "Optimality tolerance = 0.77524\n",
    "\n",
    "Beta coefficient error = 0.00000"
   ]
  },
  {
   "cell_type": "code",
   "execution_count": 27,
   "metadata": {
    "pycharm": {
     "name": "#%%\n"
    }
   },
   "outputs": [
    {
     "data": {
      "image/png": "[encoded data removed]",
      "text/plain": [
       "<Figure size 432x288 with 1 Axes>"
      ]
     },
     "metadata": {
      "needs_background": "light"
     },
     "output_type": "display_data"
    },
    {
     "data": {
      "image/png": "[encoded data removed]",
      "text/plain": [
       "<Figure size 432x288 with 1 Axes>"
      ]
     },
     "metadata": {
      "needs_background": "light"
     },
     "output_type": "display_data"
    },
    {
     "data": {
      "image/png": "[encoded data removed]",
      "text/plain": [
       "<Figure size 432x288 with 1 Axes>"
      ]
     },
     "metadata": {
      "needs_background": "light"
     },
     "output_type": "display_data"
    }
   ],
   "source": [
    "# Plot results showing the evolution of the algorithm\n",
    "\n",
    "plt.plot(OF_iter[1:i]),plt.ylabel('Objective function'),plt.xlabel('Iterations')\n",
    "plt.show()\n",
    "\n",
    "plt.plot(np.log(tol_iter[1:i])),plt.ylabel('Log opt error'),plt.xlabel('Iterations')\n",
    "plt.show()\n",
    "\n",
    "plt.plot(alpha_iter[1:i]),plt.ylabel('Alpha'),plt.xlabel('Iterations')\n",
    "plt.show()"
   ]
  },
  {
   "cell_type": "markdown",
   "metadata": {
    "pycharm": {
     "name": "#%% md\n"
    }
   },
   "source": [
    "From the performance of each algorithm, we can clearly see that newton method has the best performance. After 8 iterations, the beta_error becomes zero. It has the shortest training time plus the least iteration number.\n",
    "\n",
    "Quasi-Newtion also has impressive performance. After 500 iterations, the beta error also becomes zero. Because of higher iteration number, it takes more training time compared to Newton Method.\n",
    "\n",
    "Gradient Decent costs more times and need more iterations for convergence. The beta error is also low after 1000 iterations.\n",
    "\n"
   ]
  },
  {
   "cell_type": "markdown",
   "metadata": {
    "pycharm": {
     "name": "#%% md\n"
    }
   },
   "source": [
    "# e)\n",
    "Estimate the value of the regression coefficients of (1) by implementing the *\n",
    "1. **Coordinate descent** Method\n",
    "2. **Stochastic gradient** Method\n",
    "3. Three other techniques presentaed in Topic 2\n",
    "\n",
    "Compare the performance of these algorithms (number of iterations, function, gradient and hessian evaluations, and total computational time).\n"
   ]
  },
  {
   "cell_type": "markdown",
   "metadata": {
    "pycharm": {
     "name": "#%% md\n"
    }
   },
   "source": [
    "## i. Coordinate descent Method"
   ]
  },
  {
   "cell_type": "code",
   "execution_count": 28,
   "metadata": {
    "pycharm": {
     "name": "#%%\n"
    }
   },
   "outputs": [
    {
     "name": "stdout",
     "output_type": "stream",
     "text": [
      "Iteration 0: Beta_err = 0.999854\n",
      "Iteration 100: Beta_err = 0.986415\n",
      "Iteration 200: Beta_err = 0.972388\n",
      "Iteration 300: Beta_err = 0.957432\n",
      "Iteration 400: Beta_err = 0.942761\n",
      "Iteration 500: Beta_err = 0.931530\n",
      "Iteration 600: Beta_err = 0.919015\n",
      "Iteration 700: Beta_err = 0.906416\n",
      "Iteration 800: Beta_err = 0.895112\n",
      "Iteration 900: Beta_err = 0.885807\n",
      "Iteration 1000: Beta_err = 0.875756\n",
      "Iteration 1100: Beta_err = 0.864703\n",
      "Iteration 1200: Beta_err = 0.857080\n",
      "Iteration 1300: Beta_err = 0.846734\n",
      "Iteration 1400: Beta_err = 0.838506\n",
      "Iteration 1500: Beta_err = 0.829745\n",
      "Iteration 1600: Beta_err = 0.821276\n",
      "Iteration 1700: Beta_err = 0.814143\n",
      "Iteration 1800: Beta_err = 0.806483\n",
      "Iteration 1900: Beta_err = 0.798337\n",
      "Iteration 2000: Beta_err = 0.790294\n",
      "Iteration 2100: Beta_err = 0.783124\n",
      "Iteration 2200: Beta_err = 0.774970\n",
      "Iteration 2300: Beta_err = 0.770557\n",
      "Iteration 2400: Beta_err = 0.763635\n",
      "Iteration 2500: Beta_err = 0.759099\n",
      "Iteration 2600: Beta_err = 0.754214\n",
      "Iteration 2700: Beta_err = 0.748924\n",
      "Iteration 2800: Beta_err = 0.743874\n",
      "Iteration 2900: Beta_err = 0.738092\n",
      "Iteration 3000: Beta_err = 0.733207\n",
      "Iteration 3100: Beta_err = 0.728140\n",
      "Iteration 3200: Beta_err = 0.723912\n",
      "Iteration 3300: Beta_err = 0.719585\n",
      "Iteration 3400: Beta_err = 0.717506\n",
      "Iteration 3500: Beta_err = 0.713741\n",
      "Iteration 3600: Beta_err = 0.710772\n",
      "Iteration 3700: Beta_err = 0.707366\n",
      "Iteration 3800: Beta_err = 0.704865\n",
      "Iteration 3900: Beta_err = 0.702461\n",
      "Iteration 4000: Beta_err = 0.699173\n",
      "Iteration 4100: Beta_err = 0.696590\n",
      "Iteration 4200: Beta_err = 0.693897\n",
      "Iteration 4300: Beta_err = 0.690806\n",
      "Iteration 4400: Beta_err = 0.688579\n",
      "Iteration 4500: Beta_err = 0.685897\n",
      "Iteration 4600: Beta_err = 0.682866\n",
      "Iteration 4700: Beta_err = 0.680595\n",
      "Iteration 4800: Beta_err = 0.678032\n",
      "Iteration 4900: Beta_err = 0.675109\n",
      "Iteration 5000: Beta_err = 0.672302\n",
      "Iteration 5100: Beta_err = 0.670500\n",
      "Iteration 5200: Beta_err = 0.669178\n",
      "Iteration 5300: Beta_err = 0.668060\n",
      "Iteration 5400: Beta_err = 0.665896\n",
      "Iteration 5500: Beta_err = 0.663998\n",
      "Iteration 5600: Beta_err = 0.662413\n",
      "Iteration 5700: Beta_err = 0.661379\n",
      "Iteration 5800: Beta_err = 0.660507\n",
      "Iteration 5900: Beta_err = 0.658661\n",
      "Iteration 6000: Beta_err = 0.657705\n",
      "Iteration 6100: Beta_err = 0.656896\n",
      "Iteration 6200: Beta_err = 0.655734\n",
      "Iteration 6300: Beta_err = 0.654780\n",
      "Iteration 6400: Beta_err = 0.653292\n",
      "Iteration 6500: Beta_err = 0.652878\n",
      "Iteration 6600: Beta_err = 0.652737\n",
      "Iteration 6700: Beta_err = 0.651673\n",
      "Iteration 6800: Beta_err = 0.649914\n",
      "Iteration 6900: Beta_err = 0.649277\n",
      "Iteration 7000: Beta_err = 0.648216\n",
      "Iteration 7100: Beta_err = 0.647344\n",
      "Iteration 7200: Beta_err = 0.646526\n",
      "Iteration 7300: Beta_err = 0.645974\n",
      "Iteration 7400: Beta_err = 0.645115\n",
      "Iteration 7500: Beta_err = 0.644454\n",
      "Iteration 7600: Beta_err = 0.643554\n",
      "Iteration 7700: Beta_err = 0.643173\n",
      "Iteration 7800: Beta_err = 0.642544\n",
      "Iteration 7900: Beta_err = 0.641803\n",
      "Iteration 8000: Beta_err = 0.641392\n",
      "Iteration 8100: Beta_err = 0.640681\n",
      "Iteration 8200: Beta_err = 0.640224\n",
      "Iteration 8300: Beta_err = 0.639294\n",
      "Iteration 8400: Beta_err = 0.639115\n",
      "Iteration 8500: Beta_err = 0.638825\n",
      "Iteration 8600: Beta_err = 0.638637\n",
      "Iteration 8700: Beta_err = 0.638090\n",
      "Iteration 8800: Beta_err = 0.637690\n",
      "Iteration 8900: Beta_err = 0.637619\n",
      "Iteration 9000: Beta_err = 0.637056\n",
      "Iteration 9100: Beta_err = 0.637069\n",
      "Iteration 9200: Beta_err = 0.636685\n",
      "Iteration 9300: Beta_err = 0.636221\n",
      "Iteration 9400: Beta_err = 0.636050\n",
      "Iteration 9500: Beta_err = 0.635955\n",
      "Iteration 9600: Beta_err = 0.635899\n",
      "Iteration 9700: Beta_err = 0.635396\n",
      "Iteration 9800: Beta_err = 0.635186\n",
      "Iteration 9900: Beta_err = 0.635046\n",
      "Iteration 10000: Beta_err = 0.634611\n",
      "Iteration 10100: Beta_err = 0.634563\n",
      "Iteration 10200: Beta_err = 0.634429\n",
      "Iteration 10300: Beta_err = 0.634289\n",
      "Iteration 10400: Beta_err = 0.633897\n",
      "Iteration 10500: Beta_err = 0.633636\n",
      "Iteration 10600: Beta_err = 0.633500\n",
      "Iteration 10700: Beta_err = 0.633518\n",
      "Iteration 10800: Beta_err = 0.633360\n",
      "Iteration 10900: Beta_err = 0.633187\n",
      "Iteration 11000: Beta_err = 0.632975\n",
      "Iteration 11100: Beta_err = 0.632628\n",
      "Iteration 11200: Beta_err = 0.632442\n",
      "Iteration 11300: Beta_err = 0.632251\n",
      "Iteration 11400: Beta_err = 0.632400\n",
      "Iteration 11500: Beta_err = 0.632456\n",
      "Iteration 11600: Beta_err = 0.632375\n",
      "Iteration 11700: Beta_err = 0.632161\n",
      "Iteration 11800: Beta_err = 0.632022\n",
      "Iteration 11900: Beta_err = 0.631803\n",
      "Iteration 12000: Beta_err = 0.631633\n",
      "Iteration 12100: Beta_err = 0.631654\n",
      "Iteration 12200: Beta_err = 0.631583\n",
      "Iteration 12300: Beta_err = 0.631333\n",
      "Iteration 12400: Beta_err = 0.631344\n",
      "Iteration 12500: Beta_err = 0.631364\n",
      "Iteration 12600: Beta_err = 0.631232\n",
      "Iteration 12700: Beta_err = 0.631090\n",
      "Iteration 12800: Beta_err = 0.630985\n",
      "Iteration 12900: Beta_err = 0.630881\n",
      "Iteration 13000: Beta_err = 0.630751\n",
      "Iteration 13100: Beta_err = 0.630619\n",
      "Iteration 13200: Beta_err = 0.630540\n",
      "Iteration 13300: Beta_err = 0.630396\n",
      "Iteration 13400: Beta_err = 0.630400\n",
      "Iteration 13500: Beta_err = 0.630363\n",
      "Iteration 13600: Beta_err = 0.630368\n",
      "Iteration 13700: Beta_err = 0.630328\n",
      "Iteration 13800: Beta_err = 0.630322\n",
      "Iteration 13900: Beta_err = 0.630331\n",
      "Iteration 14000: Beta_err = 0.630384\n",
      "Iteration 14100: Beta_err = 0.630427\n",
      "Iteration 14200: Beta_err = 0.630363\n",
      "Iteration 14300: Beta_err = 0.630423\n",
      "Iteration 14400: Beta_err = 0.630389\n",
      "Iteration 14500: Beta_err = 0.630408\n",
      "Iteration 14600: Beta_err = 0.630412\n",
      "Iteration 14700: Beta_err = 0.630398\n",
      "Iteration 14800: Beta_err = 0.630256\n",
      "Iteration 14900: Beta_err = 0.630193\n",
      "Iteration 15000: Beta_err = 0.630125\n",
      "Iteration 15100: Beta_err = 0.630127\n",
      "Iteration 15200: Beta_err = 0.630130\n",
      "Iteration 15300: Beta_err = 0.630138\n",
      "Iteration 15400: Beta_err = 0.630104\n",
      "Iteration 15500: Beta_err = 0.630119\n",
      "Iteration 15600: Beta_err = 0.630118\n",
      "Iteration 15700: Beta_err = 0.630108\n",
      "Iteration 15800: Beta_err = 0.630061\n",
      "Iteration 15900: Beta_err = 0.630126\n",
      "Iteration 16000: Beta_err = 0.630120\n",
      "Iteration 16100: Beta_err = 0.630109\n",
      "Iteration 16200: Beta_err = 0.630123\n",
      "Iteration 16300: Beta_err = 0.630083\n",
      "Iteration 16400: Beta_err = 0.630128\n",
      "Iteration 16500: Beta_err = 0.630133\n",
      "Iteration 16600: Beta_err = 0.630111\n",
      "Iteration 16700: Beta_err = 0.630087\n",
      "Iteration 16800: Beta_err = 0.630104\n",
      "Iteration 16900: Beta_err = 0.630105\n",
      "Iteration 17000: Beta_err = 0.630109\n",
      "Iteration 17100: Beta_err = 0.630033\n",
      "Iteration 17200: Beta_err = 0.630065\n",
      "Iteration 17300: Beta_err = 0.630071\n",
      "Iteration 17400: Beta_err = 0.630009\n",
      "Iteration 17500: Beta_err = 0.630012\n",
      "Iteration 17600: Beta_err = 0.629960\n",
      "Iteration 17700: Beta_err = 0.629956\n",
      "Iteration 17800: Beta_err = 0.629941\n",
      "Iteration 17900: Beta_err = 0.629918\n",
      "Iteration 18000: Beta_err = 0.629892\n",
      "Iteration 18100: Beta_err = 0.629898\n",
      "Iteration 18200: Beta_err = 0.629858\n",
      "Iteration 18300: Beta_err = 0.629840\n",
      "Iteration 18400: Beta_err = 0.629798\n",
      "Iteration 18500: Beta_err = 0.629801\n",
      "Iteration 18600: Beta_err = 0.629767\n",
      "Iteration 18700: Beta_err = 0.629768\n",
      "Iteration 18800: Beta_err = 0.629750\n",
      "Iteration 18900: Beta_err = 0.629731\n",
      "Iteration 19000: Beta_err = 0.629708\n",
      "Iteration 19100: Beta_err = 0.629691\n",
      "Iteration 19200: Beta_err = 0.629680\n",
      "Iteration 19300: Beta_err = 0.629655\n",
      "Iteration 19400: Beta_err = 0.629638\n",
      "Iteration 19500: Beta_err = 0.629623\n",
      "Iteration 19600: Beta_err = 0.629590\n",
      "Iteration 19700: Beta_err = 0.629577\n",
      "Iteration 19800: Beta_err = 0.629572\n",
      "Iteration 19900: Beta_err = 0.629564\n",
      "Iteration 20000: Beta_err = 0.629566\n",
      "Iteration 20100: Beta_err = 0.629550\n",
      "Iteration 20200: Beta_err = 0.629552\n",
      "Iteration 20300: Beta_err = 0.629550\n",
      "Iteration 20400: Beta_err = 0.629540\n",
      "Iteration 20500: Beta_err = 0.629527\n",
      "Iteration 20600: Beta_err = 0.629516\n",
      "Iteration 20700: Beta_err = 0.629514\n",
      "Iteration 20800: Beta_err = 0.629510\n",
      "Iteration 20900: Beta_err = 0.629500\n",
      "Iteration 21000: Beta_err = 0.629490\n",
      "Iteration 21100: Beta_err = 0.629477\n",
      "Iteration 21200: Beta_err = 0.629473\n",
      "Iteration 21300: Beta_err = 0.629452\n",
      "Iteration 21400: Beta_err = 0.629448\n",
      "Iteration 21500: Beta_err = 0.629455\n",
      "Iteration 21600: Beta_err = 0.629457\n",
      "Iteration 21700: Beta_err = 0.629443\n",
      "Iteration 21800: Beta_err = 0.629453\n",
      "Iteration 21900: Beta_err = 0.629452\n",
      "Iteration 22000: Beta_err = 0.629459\n",
      "Iteration 22100: Beta_err = 0.629471\n",
      "Iteration 22200: Beta_err = 0.629476\n",
      "Iteration 22300: Beta_err = 0.629472\n",
      "Iteration 22400: Beta_err = 0.629457\n",
      "Iteration 22500: Beta_err = 0.629463\n",
      "Iteration 22600: Beta_err = 0.629449\n",
      "Iteration 22700: Beta_err = 0.629433\n",
      "Iteration 22800: Beta_err = 0.629430\n",
      "Iteration 22900: Beta_err = 0.629421\n",
      "Iteration 23000: Beta_err = 0.629424\n",
      "Iteration 23100: Beta_err = 0.629419\n",
      "Iteration 23200: Beta_err = 0.629416\n",
      "Iteration 23300: Beta_err = 0.629409\n",
      "Iteration 23400: Beta_err = 0.629406\n",
      "Iteration 23500: Beta_err = 0.629399\n",
      "Iteration 23600: Beta_err = 0.629407\n",
      "Iteration 23700: Beta_err = 0.629403\n",
      "Iteration 23800: Beta_err = 0.629402\n",
      "Iteration 23900: Beta_err = 0.629399\n",
      "Iteration 24000: Beta_err = 0.629395\n",
      "Iteration 24100: Beta_err = 0.629400\n",
      "Iteration 24200: Beta_err = 0.629400\n",
      "Iteration 24300: Beta_err = 0.629395\n",
      "Iteration 24400: Beta_err = 0.629394\n",
      "Iteration 24500: Beta_err = 0.629389\n",
      "Iteration 24600: Beta_err = 0.629383\n",
      "Iteration 24700: Beta_err = 0.629376\n",
      "Iteration 24800: Beta_err = 0.629375\n",
      "Iteration 24900: Beta_err = 0.629370\n",
      "Iteration 25000: Beta_err = 0.629358\n",
      "Iteration 25100: Beta_err = 0.629350\n",
      "Iteration 25200: Beta_err = 0.629338\n",
      "Iteration 25300: Beta_err = 0.629333\n",
      "Iteration 25400: Beta_err = 0.629324\n",
      "Iteration 25500: Beta_err = 0.629324\n",
      "Iteration 25600: Beta_err = 0.629320\n",
      "Iteration 25700: Beta_err = 0.629311\n",
      "Iteration 25800: Beta_err = 0.629302\n",
      "Iteration 25900: Beta_err = 0.629292\n",
      "Iteration 26000: Beta_err = 0.629283\n",
      "Iteration 26100: Beta_err = 0.629284\n",
      "Iteration 26200: Beta_err = 0.629283\n",
      "Iteration 26300: Beta_err = 0.629279\n",
      "Iteration 26400: Beta_err = 0.629273\n",
      "Iteration 26500: Beta_err = 0.629268\n",
      "Iteration 26600: Beta_err = 0.629265\n",
      "Iteration 26700: Beta_err = 0.629256\n",
      "Iteration 26800: Beta_err = 0.629253\n",
      "Iteration 26900: Beta_err = 0.629241\n",
      "Iteration 27000: Beta_err = 0.629238\n",
      "Iteration 27100: Beta_err = 0.629236\n",
      "Iteration 27200: Beta_err = 0.629229\n",
      "Iteration 27300: Beta_err = 0.629222\n",
      "Iteration 27400: Beta_err = 0.629218\n",
      "Iteration 27500: Beta_err = 0.629218\n",
      "Iteration 27600: Beta_err = 0.629214\n",
      "Iteration 27700: Beta_err = 0.629211\n",
      "Iteration 27800: Beta_err = 0.629204\n",
      "Iteration 27900: Beta_err = 0.629197\n",
      "Iteration 28000: Beta_err = 0.629191\n",
      "Iteration 28100: Beta_err = 0.629187\n",
      "Iteration 28200: Beta_err = 0.629178\n",
      "Iteration 28300: Beta_err = 0.629172\n",
      "Iteration 28400: Beta_err = 0.629168\n",
      "Iteration 28500: Beta_err = 0.629164\n",
      "Iteration 28600: Beta_err = 0.629159\n",
      "Iteration 28700: Beta_err = 0.629156\n",
      "Iteration 28800: Beta_err = 0.629147\n",
      "Iteration 28900: Beta_err = 0.629143\n",
      "Iteration 29000: Beta_err = 0.629138\n",
      "Iteration 29100: Beta_err = 0.629132\n",
      "Iteration 29200: Beta_err = 0.629125\n",
      "Iteration 29300: Beta_err = 0.629119\n",
      "Iteration 29400: Beta_err = 0.629110\n",
      "Iteration 29500: Beta_err = 0.629107\n",
      "Iteration 29600: Beta_err = 0.629104\n",
      "Iteration 29700: Beta_err = 0.629098\n",
      "Iteration 29800: Beta_err = 0.629093\n",
      "Iteration 29900: Beta_err = 0.629087\n",
      "time elapsed = 497.8962481021881\n",
      "number iterations = 30000\n",
      "tolerance= 20963.06866279716\n",
      "error 0.6290808820949327\n"
     ]
    }
   ],
   "source": [
    "#Descenso por coordenadas\n",
    "import time\n",
    "(a, b) = X.shape\n",
    "\n",
    "def rigid_reg_der_k(beta_ridge,k, X, Y):\n",
    "    # beta_ridge has the dimension of (K+1,)\n",
    "    # X has the dimension of (N, K+1)\n",
    "    # Y has the dimenstion of (N, )\n",
    "\n",
    "    pp = -2*np.dot((Y - X @ beta_ridge).T,X[:, k])\n",
    "    aa = pp.squeeze() + 2 * rho * beta_ridge[k]\n",
    "    return aa\n",
    "\n",
    "niter = 30000\n",
    "epsilon = 1e-9\n",
    "i = 0\n",
    "alpha = 1e-4\n",
    "delta = 0.1\n",
    "sigma = 0.1\n",
    "OF_iter_cur = 0\n",
    "tol_iter = np.zeros(niter)\n",
    "error_coord_iter = []\n",
    "tol = 10\n",
    "beta_coord = np.zeros(b)\n",
    "\n",
    "time_start = time.time()\n",
    "\n",
    "while (i < niter) and (tol > epsilon):\n",
    "    k = np.random.randint(b)\n",
    "    grad_k = rigid_reg_der_k(beta_coord,k,X,Y)\n",
    "    grad = np.zeros(b)\n",
    "    grad[k] = grad_k\n",
    "    ddirect = -grad\n",
    "    ##### Armijo rule to adjust alpha ######\n",
    "    alpha=1e-8\n",
    "    while rigid_reg(beta_coord + alpha * ddirect, X, Y, rho) > rigid_reg(beta_coord, X, Y, rho)+alpha*sigma*np.dot(ddirect, grad):\n",
    "        alpha = alpha*delta\n",
    "    #########################################\n",
    "    beta_coord = beta_coord + alpha*ddirect\n",
    "    tol = np.linalg.norm(grad, ord = 2)\n",
    "    tol_iter[i] = tol\n",
    "    error_coord_iter.append(np.linalg.norm(np.transpose(beta_ridge_exact) - beta_coord.T, ord = 2)/np.linalg.norm(beta_ridge_exact, ord = 2))\n",
    "    if i % 100 == 0:\n",
    "        print('Iteration %d: Beta_err = %f' %(i, error_coord_iter[i]))\n",
    "    i +=1\n",
    "\n",
    "\n",
    "time_elapsed = (time.time() - time_start)\n",
    "print('time elapsed =',time_elapsed)\n",
    "print('number iterations =',i)\n",
    "print('tolerance=',tol)\n",
    "print('error', np.linalg.norm(np.transpose(beta_ridge_exact) - beta_coord.T, ord = 2)/np.linalg.norm(beta_ridge_exact, ord = 2))"
   ]
  },
  {
   "cell_type": "markdown",
   "metadata": {
    "pycharm": {
     "name": "#%% md\n"
    }
   },
   "source": [
    "##### Output\n",
    "\n",
    "time elapsed = 497.8962\n",
    "\n",
    "number iterations = 30000\n",
    "\n",
    "tolerance= 20963.0687\n",
    "\n",
    "error 0.6291"
   ]
  },
  {
   "cell_type": "markdown",
   "metadata": {
    "pycharm": {
     "name": "#%% md\n"
    }
   },
   "source": [
    "## ii. Stochastic gradient"
   ]
  },
  {
   "cell_type": "code",
   "execution_count": 29,
   "metadata": {
    "pycharm": {
     "name": "#%%\n"
    }
   },
   "outputs": [
    {
     "name": "stdout",
     "output_type": "stream",
     "text": [
      "Iteration 0: Loss = 116318971.289540 Beta_err = 18.046506\n",
      "Iteration 1000: Loss = 38919.271173 Beta_err = 0.677900\n",
      "Iteration 2000: Loss = 40378.258758 Beta_err = 0.663517\n",
      "Iteration 3000: Loss = 37958.953916 Beta_err = 0.649382\n",
      "Iteration 4000: Loss = 38798.845711 Beta_err = 0.635577\n",
      "Iteration 5000: Loss = 39524.106081 Beta_err = 0.622131\n",
      "Iteration 6000: Loss = 34678.389954 Beta_err = 0.609299\n",
      "Iteration 7000: Loss = 38959.760991 Beta_err = 0.596724\n",
      "Iteration 8000: Loss = 37641.115704 Beta_err = 0.584029\n",
      "Iteration 9000: Loss = 38134.681602 Beta_err = 0.572301\n",
      "Iteration 10000: Loss = 35096.702416 Beta_err = 0.560640\n",
      "Iteration 11000: Loss = 37115.243530 Beta_err = 0.549395\n",
      "Iteration 12000: Loss = 33801.959299 Beta_err = 0.538247\n",
      "Iteration 13000: Loss = 34172.632955 Beta_err = 0.527782\n",
      "Iteration 14000: Loss = 33470.355045 Beta_err = 0.517426\n",
      "Iteration 15000: Loss = 38527.285857 Beta_err = 0.507452\n",
      "Iteration 16000: Loss = 33851.812949 Beta_err = 0.497560\n",
      "Iteration 17000: Loss = 34351.024432 Beta_err = 0.488159\n",
      "Iteration 18000: Loss = 29655.207239 Beta_err = 0.479201\n",
      "Iteration 19000: Loss = 31618.417532 Beta_err = 0.470366\n",
      "Iteration 20000: Loss = 31693.302906 Beta_err = 0.461781\n",
      "Iteration 21000: Loss = 31367.286964 Beta_err = 0.453370\n",
      "Iteration 22000: Loss = 30188.384674 Beta_err = 0.445529\n",
      "Iteration 23000: Loss = 31096.081185 Beta_err = 0.437730\n",
      "Iteration 24000: Loss = 30001.410025 Beta_err = 0.430114\n",
      "Iteration 25000: Loss = 29799.309743 Beta_err = 0.422873\n",
      "Iteration 26000: Loss = 29217.572066 Beta_err = 0.415806\n",
      "Iteration 27000: Loss = 29535.108366 Beta_err = 0.409013\n",
      "Iteration 28000: Loss = 30330.646248 Beta_err = 0.402331\n",
      "Iteration 29000: Loss = 30456.345012 Beta_err = 0.395999\n",
      "Iteration 30000: Loss = 30690.285787 Beta_err = 0.389761\n",
      "Iteration 31000: Loss = 29064.882110 Beta_err = 0.383829\n",
      "Iteration 32000: Loss = 27532.118782 Beta_err = 0.378133\n",
      "Iteration 33000: Loss = 28415.964962 Beta_err = 0.372456\n",
      "Iteration 34000: Loss = 29794.366806 Beta_err = 0.367105\n",
      "Iteration 35000: Loss = 29685.520439 Beta_err = 0.361862\n",
      "Iteration 36000: Loss = 29087.616904 Beta_err = 0.356762\n",
      "Iteration 37000: Loss = 28965.715229 Beta_err = 0.351902\n",
      "Iteration 38000: Loss = 29541.032856 Beta_err = 0.347071\n",
      "Iteration 39000: Loss = 29291.969418 Beta_err = 0.342512\n",
      "Iteration 40000: Loss = 28003.533933 Beta_err = 0.338123\n",
      "Iteration 41000: Loss = 28408.815563 Beta_err = 0.333837\n",
      "Iteration 42000: Loss = 27747.368007 Beta_err = 0.329571\n",
      "Iteration 43000: Loss = 27113.935143 Beta_err = 0.325539\n",
      "Iteration 44000: Loss = 29530.777431 Beta_err = 0.321656\n",
      "Iteration 45000: Loss = 28006.948025 Beta_err = 0.317928\n",
      "Iteration 46000: Loss = 29147.040476 Beta_err = 0.314235\n",
      "Iteration 47000: Loss = 28448.299869 Beta_err = 0.310725\n",
      "Iteration 48000: Loss = 27906.819721 Beta_err = 0.307336\n",
      "Iteration 49000: Loss = 27411.738335 Beta_err = 0.303996\n",
      "Iteration 50000: Loss = 28484.257729 Beta_err = 0.300810\n",
      "Iteration 51000: Loss = 27462.494319 Beta_err = 0.297724\n",
      "Iteration 52000: Loss = 27205.576456 Beta_err = 0.294740\n",
      "Iteration 53000: Loss = 27674.253086 Beta_err = 0.291839\n",
      "Iteration 54000: Loss = 27988.578688 Beta_err = 0.289045\n",
      "Iteration 55000: Loss = 27863.244311 Beta_err = 0.286289\n",
      "Iteration 56000: Loss = 27941.620373 Beta_err = 0.283646\n",
      "Iteration 57000: Loss = 27878.183800 Beta_err = 0.281118\n",
      "Iteration 58000: Loss = 28012.546926 Beta_err = 0.278670\n",
      "Iteration 59000: Loss = 27772.421565 Beta_err = 0.276266\n",
      "Iteration 60000: Loss = 27258.928234 Beta_err = 0.274015\n",
      "Iteration 61000: Loss = 28704.687459 Beta_err = 0.271829\n",
      "Iteration 62000: Loss = 27577.449975 Beta_err = 0.269638\n",
      "Iteration 63000: Loss = 27679.936263 Beta_err = 0.267569\n",
      "Iteration 64000: Loss = 29113.147372 Beta_err = 0.265549\n",
      "Iteration 65000: Loss = 27541.077777 Beta_err = 0.263566\n",
      "Iteration 66000: Loss = 28007.541237 Beta_err = 0.261682\n",
      "Iteration 67000: Loss = 28693.954934 Beta_err = 0.259825\n",
      "Iteration 68000: Loss = 27488.468323 Beta_err = 0.258041\n",
      "Iteration 69000: Loss = 27549.208141 Beta_err = 0.256286\n",
      "Iteration 70000: Loss = 27379.681408 Beta_err = 0.254582\n",
      "Iteration 71000: Loss = 27860.731207 Beta_err = 0.252954\n",
      "Iteration 72000: Loss = 27648.680745 Beta_err = 0.251305\n",
      "Iteration 73000: Loss = 27461.123678 Beta_err = 0.249781\n",
      "Iteration 74000: Loss = 28281.804128 Beta_err = 0.248301\n",
      "Iteration 75000: Loss = 27759.741047 Beta_err = 0.246833\n",
      "Iteration 76000: Loss = 27947.830252 Beta_err = 0.245472\n",
      "Iteration 77000: Loss = 27785.916892 Beta_err = 0.244130\n",
      "Iteration 78000: Loss = 27674.518990 Beta_err = 0.242817\n",
      "Iteration 79000: Loss = 27313.903187 Beta_err = 0.241496\n",
      "Iteration 80000: Loss = 27757.898987 Beta_err = 0.240236\n",
      "Iteration 81000: Loss = 27623.751803 Beta_err = 0.239048\n",
      "Iteration 82000: Loss = 27258.928796 Beta_err = 0.237894\n",
      "Iteration 83000: Loss = 27975.680934 Beta_err = 0.236788\n",
      "Iteration 84000: Loss = 27948.295438 Beta_err = 0.235764\n",
      "Iteration 85000: Loss = 27598.426625 Beta_err = 0.234694\n",
      "Iteration 86000: Loss = 27357.107552 Beta_err = 0.233667\n",
      "Iteration 87000: Loss = 27415.855135 Beta_err = 0.232674\n",
      "Iteration 88000: Loss = 27233.711061 Beta_err = 0.231697\n",
      "Iteration 89000: Loss = 27734.391963 Beta_err = 0.230772\n",
      "Iteration 90000: Loss = 27305.531022 Beta_err = 0.229875\n",
      "Iteration 91000: Loss = 27107.995753 Beta_err = 0.229032\n",
      "Iteration 92000: Loss = 27334.264351 Beta_err = 0.228228\n",
      "Iteration 93000: Loss = 27922.097144 Beta_err = 0.227386\n",
      "Iteration 94000: Loss = 27711.128356 Beta_err = 0.226575\n",
      "Iteration 95000: Loss = 27191.449540 Beta_err = 0.225808\n",
      "Iteration 96000: Loss = 27686.920411 Beta_err = 0.225129\n",
      "Iteration 97000: Loss = 27648.741820 Beta_err = 0.224396\n",
      "Iteration 98000: Loss = 27413.996255 Beta_err = 0.223733\n",
      "Iteration 99000: Loss = 26996.111396 Beta_err = 0.223084\n",
      "Iteration 100000: Loss = 27712.979179 Beta_err = 0.222436\n",
      "Iteration 101000: Loss = 27784.271647 Beta_err = 0.221753\n",
      "Iteration 102000: Loss = 27428.023577 Beta_err = 0.221165\n",
      "Iteration 103000: Loss = 27362.275089 Beta_err = 0.220564\n",
      "Iteration 104000: Loss = 27220.799345 Beta_err = 0.219966\n",
      "Iteration 105000: Loss = 27363.199579 Beta_err = 0.219413\n",
      "Iteration 106000: Loss = 27445.951835 Beta_err = 0.218881\n",
      "Iteration 107000: Loss = 27743.861110 Beta_err = 0.218328\n",
      "Iteration 108000: Loss = 27395.748565 Beta_err = 0.217860\n",
      "Iteration 109000: Loss = 27604.384328 Beta_err = 0.217342\n",
      "Iteration 110000: Loss = 27419.949774 Beta_err = 0.216884\n",
      "Iteration 111000: Loss = 27567.054787 Beta_err = 0.216413\n",
      "Iteration 112000: Loss = 28166.495464 Beta_err = 0.215951\n",
      "Iteration 113000: Loss = 27830.909176 Beta_err = 0.215507\n",
      "Iteration 114000: Loss = 27025.728362 Beta_err = 0.215102\n",
      "Iteration 115000: Loss = 27581.919125 Beta_err = 0.214688\n",
      "Iteration 116000: Loss = 27578.743581 Beta_err = 0.214344\n",
      "Iteration 117000: Loss = 27612.632170 Beta_err = 0.213935\n",
      "Iteration 118000: Loss = 27464.391777 Beta_err = 0.213552\n",
      "Iteration 119000: Loss = 28350.747626 Beta_err = 0.213156\n",
      "Iteration 120000: Loss = 27390.276736 Beta_err = 0.212774\n",
      "Iteration 121000: Loss = 26968.669508 Beta_err = 0.212466\n",
      "Iteration 122000: Loss = 27581.199947 Beta_err = 0.212149\n",
      "Iteration 123000: Loss = 26957.939944 Beta_err = 0.211853\n",
      "Iteration 124000: Loss = 27554.393429 Beta_err = 0.211569\n",
      "Iteration 125000: Loss = 27716.643340 Beta_err = 0.211231\n",
      "Iteration 126000: Loss = 27393.072365 Beta_err = 0.210922\n",
      "Iteration 127000: Loss = 26923.130676 Beta_err = 0.210635\n",
      "Iteration 128000: Loss = 27405.094749 Beta_err = 0.210346\n",
      "Iteration 129000: Loss = 27317.431799 Beta_err = 0.210067\n",
      "Iteration 130000: Loss = 28217.530214 Beta_err = 0.209817\n",
      "Iteration 131000: Loss = 27563.215365 Beta_err = 0.209554\n",
      "Iteration 132000: Loss = 27692.785693 Beta_err = 0.209326\n",
      "Iteration 133000: Loss = 27364.729022 Beta_err = 0.209120\n",
      "Iteration 134000: Loss = 27568.059484 Beta_err = 0.208872\n",
      "Iteration 135000: Loss = 27191.947690 Beta_err = 0.208690\n",
      "Iteration 136000: Loss = 27931.479181 Beta_err = 0.208486\n",
      "Iteration 137000: Loss = 27560.184857 Beta_err = 0.208274\n",
      "Iteration 138000: Loss = 27654.306344 Beta_err = 0.208040\n",
      "Iteration 139000: Loss = 27412.254616 Beta_err = 0.207836\n",
      "Iteration 140000: Loss = 27779.314107 Beta_err = 0.207611\n",
      "Iteration 141000: Loss = 27401.882857 Beta_err = 0.207411\n",
      "Iteration 142000: Loss = 27926.727549 Beta_err = 0.207243\n",
      "Iteration 143000: Loss = 27946.682612 Beta_err = 0.207064\n",
      "Iteration 144000: Loss = 27516.623773 Beta_err = 0.206877\n",
      "Iteration 145000: Loss = 27195.411452 Beta_err = 0.206714\n",
      "Iteration 146000: Loss = 27780.074741 Beta_err = 0.206561\n",
      "Iteration 147000: Loss = 27470.951587 Beta_err = 0.206433\n",
      "Iteration 148000: Loss = 27634.363163 Beta_err = 0.206264\n",
      "Iteration 149000: Loss = 27298.741788 Beta_err = 0.206110\n",
      "Iteration 150000: Loss = 27269.956942 Beta_err = 0.205971\n",
      "Iteration 151000: Loss = 27708.487044 Beta_err = 0.205859\n",
      "Iteration 152000: Loss = 27407.729820 Beta_err = 0.205731\n",
      "Iteration 153000: Loss = 27580.735363 Beta_err = 0.205590\n",
      "Iteration 154000: Loss = 27564.529588 Beta_err = 0.205502\n",
      "Iteration 155000: Loss = 27515.518566 Beta_err = 0.205352\n",
      "Iteration 156000: Loss = 27578.171374 Beta_err = 0.205233\n",
      "Iteration 157000: Loss = 27324.897588 Beta_err = 0.205112\n",
      "Iteration 158000: Loss = 27759.265825 Beta_err = 0.205027\n",
      "Iteration 159000: Loss = 27567.717420 Beta_err = 0.204928\n",
      "Iteration 160000: Loss = 27896.018047 Beta_err = 0.204822\n",
      "Iteration 161000: Loss = 27570.455718 Beta_err = 0.204761\n",
      "Iteration 162000: Loss = 27733.129806 Beta_err = 0.204631\n",
      "Iteration 163000: Loss = 27578.838549 Beta_err = 0.204548\n",
      "Iteration 164000: Loss = 27328.389178 Beta_err = 0.204449\n",
      "Iteration 165000: Loss = 27887.696623 Beta_err = 0.204363\n",
      "Iteration 166000: Loss = 27535.369183 Beta_err = 0.204279\n",
      "Iteration 167000: Loss = 27553.136325 Beta_err = 0.204161\n",
      "Iteration 168000: Loss = 27496.518555 Beta_err = 0.204102\n",
      "Iteration 169000: Loss = 27043.141388 Beta_err = 0.204047\n",
      "Iteration 170000: Loss = 27364.324768 Beta_err = 0.203938\n",
      "Iteration 171000: Loss = 27937.722711 Beta_err = 0.203845\n",
      "Iteration 172000: Loss = 27580.215324 Beta_err = 0.203725\n",
      "Iteration 173000: Loss = 27723.277926 Beta_err = 0.203682\n",
      "Iteration 174000: Loss = 26655.693929 Beta_err = 0.203582\n",
      "Iteration 175000: Loss = 27701.196338 Beta_err = 0.203501\n",
      "Iteration 176000: Loss = 27043.222713 Beta_err = 0.203470\n",
      "Iteration 177000: Loss = 27843.339125 Beta_err = 0.203423\n",
      "Iteration 178000: Loss = 27748.570513 Beta_err = 0.203403\n",
      "Iteration 179000: Loss = 27246.878856 Beta_err = 0.203356\n",
      "Iteration 180000: Loss = 27261.937085 Beta_err = 0.203286\n",
      "Iteration 181000: Loss = 27491.747270 Beta_err = 0.203197\n",
      "Iteration 182000: Loss = 27716.978750 Beta_err = 0.203144\n",
      "Iteration 183000: Loss = 27699.425993 Beta_err = 0.203086\n",
      "Iteration 184000: Loss = 27227.132389 Beta_err = 0.203059\n",
      "Iteration 185000: Loss = 27208.283858 Beta_err = 0.203013\n",
      "Iteration 186000: Loss = 27775.206605 Beta_err = 0.202987\n",
      "Iteration 187000: Loss = 27594.622817 Beta_err = 0.202895\n",
      "Iteration 188000: Loss = 27689.526934 Beta_err = 0.202896\n",
      "Iteration 189000: Loss = 27389.901436 Beta_err = 0.202825\n",
      "Iteration 190000: Loss = 27262.744653 Beta_err = 0.202747\n",
      "Iteration 191000: Loss = 27550.253562 Beta_err = 0.202776\n",
      "Iteration 192000: Loss = 27630.568732 Beta_err = 0.202746\n",
      "Iteration 193000: Loss = 27522.967362 Beta_err = 0.202724\n",
      "Iteration 194000: Loss = 27591.601026 Beta_err = 0.202700\n",
      "Iteration 195000: Loss = 27967.483648 Beta_err = 0.202652\n",
      "Iteration 196000: Loss = 27397.977531 Beta_err = 0.202614\n",
      "Iteration 197000: Loss = 27260.861363 Beta_err = 0.202614\n",
      "Iteration 198000: Loss = 27725.320222 Beta_err = 0.202571\n",
      "Iteration 199000: Loss = 27804.773211 Beta_err = 0.202525\n",
      "time elapsed = 385.71576714515686\n",
      "iterations = 199999\n",
      "Objective Function value = 27443.487120264846\n",
      "Betas = [4.04397312 0.6246617  2.00212813 ... 0.63995431 2.72839109 3.37058478]\n",
      "error= 0.20246799116109132\n"
     ]
    }
   ],
   "source": [
    "def rigid_reg_stoc(beta_ridge, X, Y, subset):\n",
    "    Xsub = X[subset,:]\n",
    "    Ysub = Y[subset]\n",
    "    z = Ysub - Xsub @ beta_ridge\n",
    "    return np.dot(z.T,z) + rho * np.dot(beta_ridge.T, beta_ridge)\n",
    "\n",
    "def ridge_reg_der_stoc(beta_ridge,X,Y,subset):\n",
    "    Xsub = X[subset,:]\n",
    "    Ysub = Y[subset]\n",
    "\n",
    "    pp = -2*np.dot((Ysub - Xsub @ beta_ridge).T,Xsub)\n",
    "    aa = pp.squeeze() + 2 * rho * beta_ridge\n",
    "    return aa\n",
    "(a,b)=X.shape\n",
    "beta_ridge=np.zeros(b) #initial value for beta\n",
    "alpha=1e-6\n",
    "n_iter=200000 #maximim number iteration\n",
    "OF_iter_cur= 0\n",
    "OF_iter_pre = 0\n",
    "tol_iter=np.zeros(n_iter)\n",
    "alpha_iter=np.zeros(n_iter)\n",
    "error_minib_iter=np.zeros(n_iter)\n",
    "i=0\n",
    "sigma = 0.001\n",
    "#### Number of samples to take into consideration in each iteration\n",
    "subsetsize = 128\n",
    "\n",
    "\n",
    "time_start = time.time()\n",
    "\n",
    "while i <= n_iter-2:\n",
    "    subset = np.random.choice(N, subsetsize, replace=False)\n",
    "    grad = ridge_reg_der_stoc(beta_ridge, X, Y, subset)\n",
    "    ddirect = -grad\n",
    "    ##### Armijo rule to adjust alpha ######\n",
    "    alpha=1e-6\n",
    "    while rigid_reg_stoc(beta_ridge + alpha * ddirect, X, Y, subset) > rigid_reg_stoc(beta_ridge, X, Y,subset)+alpha*sigma*np.dot(ddirect, grad):\n",
    "        alpha = alpha*delta\n",
    "    #########################################\n",
    "    beta_ridge = beta_ridge + alpha * ddirect\n",
    "    OF_iter_cur = rigid_reg_stoc(beta_ridge, X, Y, subset)\n",
    "    error_minib_iter[i] = np.linalg.norm(np.transpose(beta_ridge_exact)-beta_ridge,ord=2)/np.linalg.norm(beta_ridge,ord=2)\n",
    "    if i % 1000 == 0:\n",
    "        print('Iteration %d: Loss = %f Beta_err = %f' %(i, OF_iter_cur, error_minib_iter[i]))\n",
    "    i=i+1\n",
    "\n",
    "time_elapsed = (time.time() - time_start)\n",
    "print('time elapsed =',time_elapsed)\n",
    "print('iterations =',i)\n",
    "print('Objective Function value =', OF_iter_cur)\n",
    "print('Betas =',beta_ridge)\n",
    "print('error=',np.linalg.norm(np.transpose(beta_ridge_exact)-beta_ridge,ord=2)/np.linalg.norm(beta_ridge,ord=2))"
   ]
  },
  {
   "cell_type": "markdown",
   "metadata": {
    "pycharm": {
     "name": "#%% md\n"
    }
   },
   "source": [
    "##### Output\n",
    "\n",
    "time elapsed = 385.7158\n",
    "\n",
    "iterations = 199999\n",
    "\n",
    "Objective Function value = 27443.4871\n",
    "\n",
    "Betas = [4.04397312 0.6246617  2.00212813 ... 0.63995431 2.72839109 3.37058478]\n",
    "\n",
    "error= 0.2025\n"
   ]
  },
  {
   "cell_type": "markdown",
   "metadata": {
    "pycharm": {
     "name": "#%% md\n"
    }
   },
   "source": [
    "## iii. Others Techniques\n",
    "We will use three other techniques presented in Topic 2 (one from each category: \"noise reduction\", \"second-order\" and \"others\" mothods)."
   ]
  },
  {
   "cell_type": "markdown",
   "metadata": {
    "pycharm": {
     "name": "#%% md\n"
    }
   },
   "source": [
    "### Noise Reduction\n",
    "We want to implement Dynamic Sample Size Method.\n",
    "\n",
    "The key points of this method is to gradually increase the minibatch size.\n"
   ]
  },
  {
   "cell_type": "code",
   "execution_count": 33,
   "metadata": {
    "pycharm": {
     "name": "#%%\n"
    }
   },
   "outputs": [
    {
     "name": "stdout",
     "output_type": "stream",
     "text": [
      "Iteration 0: Loss = 885418.441631, minibatch_size = 1 Beta_error = 20.579097\n",
      "Iteration 100: Loss = 20505.010045, minibatch_size = 1 Beta_error = 0.711571\n",
      "Iteration 200: Loss = 20095.059967, minibatch_size = 1 Beta_error = 0.707138\n",
      "Iteration 300: Loss = 20816.823331, minibatch_size = 1 Beta_error = 0.704871\n",
      "Iteration 400: Loss = 20128.427125, minibatch_size = 1 Beta_error = 0.703634\n",
      "Iteration 500: Loss = 19985.094797, minibatch_size = 1 Beta_error = 0.702609\n",
      "Iteration 600: Loss = 20031.962290, minibatch_size = 1 Beta_error = 0.701416\n",
      "Iteration 700: Loss = 20582.471503, minibatch_size = 1 Beta_error = 0.702310\n",
      "Iteration 800: Loss = 19915.223970, minibatch_size = 1 Beta_error = 0.700826\n",
      "Iteration 900: Loss = 20320.720233, minibatch_size = 1 Beta_error = 0.699990\n",
      "Iteration 1000: Loss = 21770.502581, minibatch_size = 1 Beta_error = 0.700221\n",
      "Iteration 1100: Loss = 20239.062858, minibatch_size = 1 Beta_error = 0.701868\n",
      "Iteration 1200: Loss = 20596.770052, minibatch_size = 1 Beta_error = 0.697103\n",
      "Iteration 1300: Loss = 20050.099605, minibatch_size = 1 Beta_error = 0.697057\n",
      "Iteration 1400: Loss = 20429.273921, minibatch_size = 1 Beta_error = 0.698464\n",
      "Iteration 1500: Loss = 20142.521459, minibatch_size = 1 Beta_error = 0.698153\n",
      "Iteration 1600: Loss = 20069.014618, minibatch_size = 1 Beta_error = 0.697977\n",
      "Iteration 1700: Loss = 20889.312918, minibatch_size = 1 Beta_error = 0.697717\n",
      "Iteration 1800: Loss = 20380.705473, minibatch_size = 1 Beta_error = 0.698570\n",
      "Iteration 1900: Loss = 19861.785856, minibatch_size = 1 Beta_error = 0.697017\n",
      "Iteration 2000: Loss = 20120.347289, minibatch_size = 1 Beta_error = 0.695060\n",
      "Iteration 2100: Loss = 21597.564850, minibatch_size = 1 Beta_error = 0.696989\n",
      "Iteration 2200: Loss = 19938.625142, minibatch_size = 1 Beta_error = 0.697636\n",
      "Iteration 2300: Loss = 20447.998978, minibatch_size = 1 Beta_error = 0.695981\n",
      "Iteration 2400: Loss = 19729.536706, minibatch_size = 1 Beta_error = 0.698631\n",
      "Iteration 2500: Loss = 21234.615385, minibatch_size = 1 Beta_error = 0.695578\n",
      "Iteration 2600: Loss = 20602.510491, minibatch_size = 1 Beta_error = 0.694130\n",
      "Iteration 2700: Loss = 19879.282102, minibatch_size = 1 Beta_error = 0.696007\n",
      "Iteration 2800: Loss = 20035.818513, minibatch_size = 1 Beta_error = 0.693035\n",
      "Iteration 2900: Loss = 20084.951206, minibatch_size = 1 Beta_error = 0.695200\n",
      "Iteration 3000: Loss = 20706.384165, minibatch_size = 1 Beta_error = 0.695313\n",
      "Iteration 3100: Loss = 20291.136577, minibatch_size = 1 Beta_error = 0.697116\n",
      "Iteration 3200: Loss = 20338.401681, minibatch_size = 1 Beta_error = 0.694688\n",
      "Iteration 3300: Loss = 21171.544966, minibatch_size = 1 Beta_error = 0.693411\n",
      "Iteration 3400: Loss = 20200.628355, minibatch_size = 1 Beta_error = 0.695064\n",
      "Iteration 3500: Loss = 20370.092907, minibatch_size = 1 Beta_error = 0.696342\n",
      "Iteration 3600: Loss = 19918.493284, minibatch_size = 1 Beta_error = 0.694616\n",
      "Iteration 3700: Loss = 20593.380558, minibatch_size = 1 Beta_error = 0.694779\n",
      "Iteration 3800: Loss = 20102.284933, minibatch_size = 1 Beta_error = 0.693167\n",
      "Iteration 3900: Loss = 20143.011415, minibatch_size = 1 Beta_error = 0.695584\n",
      "Iteration 4000: Loss = 20950.798180, minibatch_size = 1 Beta_error = 0.694644\n",
      "Iteration 4100: Loss = 19802.643635, minibatch_size = 1 Beta_error = 0.696130\n",
      "Iteration 4200: Loss = 20476.171422, minibatch_size = 1 Beta_error = 0.693412\n",
      "Iteration 4300: Loss = 19920.603140, minibatch_size = 1 Beta_error = 0.694249\n",
      "Iteration 4400: Loss = 21335.024550, minibatch_size = 1 Beta_error = 0.696510\n",
      "Iteration 4500: Loss = 20022.195650, minibatch_size = 1 Beta_error = 0.695452\n",
      "Iteration 4600: Loss = 20388.317134, minibatch_size = 1 Beta_error = 0.693764\n",
      "Iteration 4700: Loss = 19928.732157, minibatch_size = 1 Beta_error = 0.694052\n",
      "Iteration 4800: Loss = 20341.187100, minibatch_size = 1 Beta_error = 0.693170\n",
      "Iteration 4900: Loss = 20300.624553, minibatch_size = 1 Beta_error = 0.693660\n",
      "Iteration 5000: Loss = 19891.283492, minibatch_size = 1 Beta_error = 0.694529\n",
      "Iteration 5100: Loss = 21688.051384, minibatch_size = 1 Beta_error = 0.693871\n",
      "Iteration 5200: Loss = 19781.918948, minibatch_size = 1 Beta_error = 0.696001\n",
      "Iteration 5300: Loss = 20033.135428, minibatch_size = 1 Beta_error = 0.694205\n",
      "Iteration 5400: Loss = 20163.668943, minibatch_size = 1 Beta_error = 0.694608\n",
      "Iteration 5500: Loss = 20927.611951, minibatch_size = 1 Beta_error = 0.693985\n",
      "Iteration 5600: Loss = 19974.488917, minibatch_size = 1 Beta_error = 0.692570\n",
      "Iteration 5700: Loss = 20456.164198, minibatch_size = 1 Beta_error = 0.695997\n",
      "Iteration 5800: Loss = 20677.430795, minibatch_size = 1 Beta_error = 0.693094\n",
      "Iteration 5900: Loss = 21351.525514, minibatch_size = 1 Beta_error = 0.694538\n",
      "Iteration 6000: Loss = 20297.347912, minibatch_size = 1 Beta_error = 0.695642\n",
      "Iteration 6100: Loss = 20145.486939, minibatch_size = 1 Beta_error = 0.693587\n",
      "Iteration 6200: Loss = 20284.752302, minibatch_size = 1 Beta_error = 0.699208\n",
      "Iteration 6300: Loss = 22336.094225, minibatch_size = 1 Beta_error = 0.692349\n",
      "Iteration 6400: Loss = 19922.690857, minibatch_size = 1 Beta_error = 0.696342\n",
      "Iteration 6500: Loss = 20289.921726, minibatch_size = 1 Beta_error = 0.693292\n",
      "Iteration 6600: Loss = 19845.275881, minibatch_size = 1 Beta_error = 0.696274\n",
      "Iteration 6700: Loss = 19945.636178, minibatch_size = 1 Beta_error = 0.694732\n",
      "Iteration 6800: Loss = 20109.923935, minibatch_size = 1 Beta_error = 0.693946\n",
      "Iteration 6900: Loss = 20409.144976, minibatch_size = 1 Beta_error = 0.693319\n",
      "Iteration 7000: Loss = 20407.330239, minibatch_size = 2 Beta_error = 0.686658\n",
      "Iteration 7100: Loss = 22043.161851, minibatch_size = 2 Beta_error = 0.686634\n",
      "Iteration 7200: Loss = 20292.285285, minibatch_size = 2 Beta_error = 0.684710\n",
      "Iteration 7300: Loss = 20865.705836, minibatch_size = 2 Beta_error = 0.683532\n",
      "Iteration 7400: Loss = 20644.308430, minibatch_size = 2 Beta_error = 0.682697\n",
      "Iteration 7500: Loss = 20205.503089, minibatch_size = 2 Beta_error = 0.683486\n",
      "Iteration 7600: Loss = 20335.363061, minibatch_size = 2 Beta_error = 0.682219\n",
      "Iteration 7700: Loss = 20966.685141, minibatch_size = 2 Beta_error = 0.680356\n",
      "Iteration 7800: Loss = 20513.614131, minibatch_size = 2 Beta_error = 0.679436\n",
      "Iteration 7900: Loss = 20637.615369, minibatch_size = 2 Beta_error = 0.680378\n",
      "Iteration 8000: Loss = 20669.085531, minibatch_size = 2 Beta_error = 0.677495\n",
      "Iteration 8100: Loss = 20804.242482, minibatch_size = 2 Beta_error = 0.680937\n",
      "Iteration 8200: Loss = 20737.937870, minibatch_size = 2 Beta_error = 0.677825\n",
      "Iteration 8300: Loss = 20264.701578, minibatch_size = 2 Beta_error = 0.680090\n",
      "Iteration 8400: Loss = 21780.368731, minibatch_size = 2 Beta_error = 0.677831\n",
      "Iteration 8500: Loss = 20372.752137, minibatch_size = 2 Beta_error = 0.682415\n",
      "Iteration 8600: Loss = 20516.873159, minibatch_size = 2 Beta_error = 0.680675\n",
      "Iteration 8700: Loss = 20672.333746, minibatch_size = 2 Beta_error = 0.677386\n",
      "Iteration 8800: Loss = 21756.519615, minibatch_size = 2 Beta_error = 0.677136\n",
      "Iteration 8900: Loss = 20826.072084, minibatch_size = 2 Beta_error = 0.675757\n",
      "Iteration 9000: Loss = 22202.288499, minibatch_size = 2 Beta_error = 0.676682\n",
      "Iteration 9100: Loss = 20333.154800, minibatch_size = 2 Beta_error = 0.678728\n",
      "Iteration 9200: Loss = 20228.075310, minibatch_size = 2 Beta_error = 0.679197\n",
      "Iteration 9300: Loss = 20484.684469, minibatch_size = 2 Beta_error = 0.675136\n",
      "Iteration 9400: Loss = 21857.416032, minibatch_size = 2 Beta_error = 0.674725\n",
      "Iteration 9500: Loss = 21197.752860, minibatch_size = 2 Beta_error = 0.676620\n",
      "Iteration 9600: Loss = 20284.921009, minibatch_size = 2 Beta_error = 0.680003\n",
      "Iteration 9700: Loss = 20792.520113, minibatch_size = 2 Beta_error = 0.677498\n",
      "Iteration 9800: Loss = 20377.646693, minibatch_size = 2 Beta_error = 0.675764\n",
      "Iteration 9900: Loss = 20608.969440, minibatch_size = 2 Beta_error = 0.674167\n",
      "Iteration 10000: Loss = 20607.726886, minibatch_size = 2 Beta_error = 0.673468\n",
      "Iteration 10100: Loss = 20451.311943, minibatch_size = 2 Beta_error = 0.674652\n",
      "Iteration 10200: Loss = 20819.605616, minibatch_size = 2 Beta_error = 0.675205\n",
      "Iteration 10300: Loss = 20769.719657, minibatch_size = 2 Beta_error = 0.674660\n",
      "Iteration 10400: Loss = 20407.066666, minibatch_size = 2 Beta_error = 0.675562\n",
      "Iteration 10500: Loss = 20740.354109, minibatch_size = 2 Beta_error = 0.675005\n",
      "Iteration 10600: Loss = 21098.777353, minibatch_size = 2 Beta_error = 0.674676\n",
      "Iteration 10700: Loss = 21075.258311, minibatch_size = 2 Beta_error = 0.675685\n",
      "Iteration 10800: Loss = 20595.176247, minibatch_size = 2 Beta_error = 0.678323\n",
      "Iteration 10900: Loss = 21459.633036, minibatch_size = 2 Beta_error = 0.676048\n",
      "Iteration 11000: Loss = 20997.779879, minibatch_size = 3 Beta_error = 0.674941\n",
      "Iteration 11100: Loss = 22328.388994, minibatch_size = 3 Beta_error = 0.672751\n",
      "Iteration 11200: Loss = 20781.687935, minibatch_size = 3 Beta_error = 0.673360\n",
      "Iteration 11300: Loss = 21075.347764, minibatch_size = 3 Beta_error = 0.671827\n",
      "Iteration 11400: Loss = 20589.598540, minibatch_size = 3 Beta_error = 0.671036\n",
      "Iteration 11500: Loss = 21150.485644, minibatch_size = 3 Beta_error = 0.669251\n",
      "Iteration 11600: Loss = 21481.591567, minibatch_size = 3 Beta_error = 0.669031\n",
      "Iteration 11700: Loss = 20541.016205, minibatch_size = 3 Beta_error = 0.670026\n",
      "Iteration 11800: Loss = 20562.254857, minibatch_size = 3 Beta_error = 0.667251\n",
      "Iteration 11900: Loss = 20928.066380, minibatch_size = 3 Beta_error = 0.663268\n",
      "Iteration 12000: Loss = 21314.259515, minibatch_size = 3 Beta_error = 0.667106\n",
      "Iteration 12100: Loss = 20635.357121, minibatch_size = 3 Beta_error = 0.667548\n",
      "Iteration 12200: Loss = 21411.472670, minibatch_size = 3 Beta_error = 0.665887\n",
      "Iteration 12300: Loss = 20994.630153, minibatch_size = 3 Beta_error = 0.663193\n",
      "Iteration 12400: Loss = 21179.318025, minibatch_size = 3 Beta_error = 0.665147\n",
      "Iteration 12500: Loss = 20784.154136, minibatch_size = 3 Beta_error = 0.665610\n",
      "Iteration 12600: Loss = 20710.697367, minibatch_size = 3 Beta_error = 0.666884\n",
      "Iteration 12700: Loss = 20485.907177, minibatch_size = 3 Beta_error = 0.664342\n",
      "Iteration 12800: Loss = 20500.641548, minibatch_size = 3 Beta_error = 0.664259\n",
      "Iteration 12900: Loss = 21090.393750, minibatch_size = 3 Beta_error = 0.664520\n",
      "Iteration 13000: Loss = 21219.539058, minibatch_size = 3 Beta_error = 0.662933\n",
      "Iteration 13100: Loss = 20817.827725, minibatch_size = 3 Beta_error = 0.663251\n",
      "Iteration 13200: Loss = 21248.773752, minibatch_size = 3 Beta_error = 0.662934\n",
      "Iteration 13300: Loss = 20933.326963, minibatch_size = 3 Beta_error = 0.662525\n",
      "Iteration 13400: Loss = 20464.437970, minibatch_size = 3 Beta_error = 0.665348\n",
      "Iteration 13500: Loss = 20987.824191, minibatch_size = 3 Beta_error = 0.664957\n",
      "Iteration 13600: Loss = 20732.673883, minibatch_size = 3 Beta_error = 0.664156\n",
      "Iteration 13700: Loss = 20646.191503, minibatch_size = 3 Beta_error = 0.661606\n",
      "Iteration 13800: Loss = 21342.658163, minibatch_size = 3 Beta_error = 0.662587\n",
      "Iteration 13900: Loss = 20923.374815, minibatch_size = 4 Beta_error = 0.661242\n",
      "Iteration 14000: Loss = 21786.669884, minibatch_size = 4 Beta_error = 0.657998\n",
      "Iteration 14100: Loss = 21090.374742, minibatch_size = 4 Beta_error = 0.656591\n",
      "Iteration 14200: Loss = 20793.792936, minibatch_size = 4 Beta_error = 0.659128\n",
      "Iteration 14300: Loss = 21874.135945, minibatch_size = 4 Beta_error = 0.657334\n",
      "Iteration 14400: Loss = 20851.694871, minibatch_size = 4 Beta_error = 0.656700\n",
      "Iteration 14500: Loss = 21325.422760, minibatch_size = 4 Beta_error = 0.657412\n",
      "Iteration 14600: Loss = 20892.237206, minibatch_size = 4 Beta_error = 0.656328\n",
      "Iteration 14700: Loss = 21112.077901, minibatch_size = 4 Beta_error = 0.657825\n",
      "Iteration 14800: Loss = 21195.562734, minibatch_size = 4 Beta_error = 0.655416\n",
      "Iteration 14900: Loss = 21403.008180, minibatch_size = 4 Beta_error = 0.656676\n",
      "Iteration 15000: Loss = 21391.318504, minibatch_size = 4 Beta_error = 0.656079\n",
      "Iteration 15100: Loss = 21108.700182, minibatch_size = 4 Beta_error = 0.657158\n",
      "Iteration 15200: Loss = 21912.659102, minibatch_size = 4 Beta_error = 0.653671\n",
      "Iteration 15300: Loss = 20904.896991, minibatch_size = 4 Beta_error = 0.654404\n",
      "Iteration 15400: Loss = 20983.847435, minibatch_size = 4 Beta_error = 0.652568\n",
      "Iteration 15500: Loss = 21467.454064, minibatch_size = 4 Beta_error = 0.654126\n",
      "Iteration 15600: Loss = 21217.670616, minibatch_size = 4 Beta_error = 0.652133\n",
      "Iteration 15700: Loss = 20623.403021, minibatch_size = 4 Beta_error = 0.653593\n",
      "Iteration 15800: Loss = 21400.704276, minibatch_size = 4 Beta_error = 0.652811\n",
      "Iteration 15900: Loss = 20640.759967, minibatch_size = 4 Beta_error = 0.653538\n",
      "Iteration 16000: Loss = 21221.313653, minibatch_size = 4 Beta_error = 0.655924\n",
      "Iteration 16100: Loss = 21627.703649, minibatch_size = 5 Beta_error = 0.650467\n",
      "Iteration 16200: Loss = 21583.247483, minibatch_size = 5 Beta_error = 0.651481\n",
      "Iteration 16300: Loss = 20926.463174, minibatch_size = 5 Beta_error = 0.649633\n",
      "Iteration 16400: Loss = 21052.212494, minibatch_size = 5 Beta_error = 0.650380\n",
      "Iteration 16500: Loss = 22489.131704, minibatch_size = 5 Beta_error = 0.646355\n",
      "Iteration 16600: Loss = 21209.233386, minibatch_size = 5 Beta_error = 0.649060\n",
      "Iteration 16700: Loss = 21131.642743, minibatch_size = 5 Beta_error = 0.646604\n",
      "Iteration 16800: Loss = 21716.880569, minibatch_size = 5 Beta_error = 0.645386\n",
      "Iteration 16900: Loss = 21121.722704, minibatch_size = 5 Beta_error = 0.646900\n",
      "Iteration 17000: Loss = 20758.240642, minibatch_size = 5 Beta_error = 0.648283\n",
      "Iteration 17100: Loss = 20863.441783, minibatch_size = 5 Beta_error = 0.644387\n",
      "Iteration 17200: Loss = 20625.769686, minibatch_size = 5 Beta_error = 0.645149\n",
      "Iteration 17300: Loss = 20899.592385, minibatch_size = 5 Beta_error = 0.645289\n",
      "Iteration 17400: Loss = 21169.358777, minibatch_size = 5 Beta_error = 0.643788\n",
      "Iteration 17500: Loss = 20851.764524, minibatch_size = 5 Beta_error = 0.643285\n",
      "Iteration 17600: Loss = 21109.970347, minibatch_size = 5 Beta_error = 0.643972\n",
      "Iteration 17700: Loss = 20902.616002, minibatch_size = 5 Beta_error = 0.644565\n",
      "Iteration 17800: Loss = 20772.333003, minibatch_size = 5 Beta_error = 0.643603\n",
      "Iteration 17900: Loss = 20980.978174, minibatch_size = 5 Beta_error = 0.643378\n",
      "Iteration 18000: Loss = 22092.948301, minibatch_size = 6 Beta_error = 0.640644\n",
      "Iteration 18100: Loss = 21508.503006, minibatch_size = 6 Beta_error = 0.637935\n",
      "Iteration 18200: Loss = 21422.264180, minibatch_size = 6 Beta_error = 0.640009\n",
      "Iteration 18300: Loss = 21788.602711, minibatch_size = 6 Beta_error = 0.638927\n",
      "Iteration 18400: Loss = 21216.206524, minibatch_size = 6 Beta_error = 0.639421\n",
      "Iteration 18500: Loss = 21227.060243, minibatch_size = 6 Beta_error = 0.636952\n",
      "Iteration 18600: Loss = 21025.924931, minibatch_size = 6 Beta_error = 0.636705\n",
      "Iteration 18700: Loss = 20684.226153, minibatch_size = 6 Beta_error = 0.638806\n",
      "Iteration 18800: Loss = 21698.923133, minibatch_size = 6 Beta_error = 0.634693\n",
      "Iteration 18900: Loss = 22567.866422, minibatch_size = 6 Beta_error = 0.635780\n",
      "Iteration 19000: Loss = 20972.910602, minibatch_size = 6 Beta_error = 0.635938\n",
      "Iteration 19100: Loss = 20972.932559, minibatch_size = 6 Beta_error = 0.633513\n",
      "Iteration 19200: Loss = 21409.538741, minibatch_size = 6 Beta_error = 0.636011\n",
      "Iteration 19300: Loss = 21753.927427, minibatch_size = 6 Beta_error = 0.631599\n",
      "Iteration 19400: Loss = 21703.963420, minibatch_size = 6 Beta_error = 0.631690\n",
      "Iteration 19500: Loss = 21412.348690, minibatch_size = 7 Beta_error = 0.632487\n",
      "Iteration 19600: Loss = 20961.999030, minibatch_size = 7 Beta_error = 0.632163\n",
      "Iteration 19700: Loss = 21020.951138, minibatch_size = 7 Beta_error = 0.628309\n",
      "Iteration 19800: Loss = 22724.697224, minibatch_size = 7 Beta_error = 0.627272\n",
      "Iteration 19900: Loss = 21834.538826, minibatch_size = 7 Beta_error = 0.624825\n",
      "Iteration 20000: Loss = 20913.589972, minibatch_size = 7 Beta_error = 0.627139\n",
      "Iteration 20100: Loss = 22215.920372, minibatch_size = 7 Beta_error = 0.626894\n",
      "Iteration 20200: Loss = 21696.836023, minibatch_size = 7 Beta_error = 0.624419\n",
      "Iteration 20300: Loss = 21580.536015, minibatch_size = 7 Beta_error = 0.625290\n",
      "Iteration 20400: Loss = 21284.982385, minibatch_size = 7 Beta_error = 0.624466\n",
      "Iteration 20500: Loss = 22276.286444, minibatch_size = 7 Beta_error = 0.625815\n",
      "Iteration 20600: Loss = 22838.600125, minibatch_size = 7 Beta_error = 0.622546\n",
      "Iteration 20700: Loss = 21504.669991, minibatch_size = 7 Beta_error = 0.623274\n",
      "Iteration 20800: Loss = 22267.540644, minibatch_size = 8 Beta_error = 0.623904\n",
      "Iteration 20900: Loss = 21422.602064, minibatch_size = 8 Beta_error = 0.621392\n",
      "Iteration 21000: Loss = 22814.586459, minibatch_size = 8 Beta_error = 0.621588\n",
      "Iteration 21100: Loss = 22494.923871, minibatch_size = 8 Beta_error = 0.622059\n",
      "Iteration 21200: Loss = 21843.867659, minibatch_size = 8 Beta_error = 0.617904\n",
      "Iteration 21300: Loss = 21463.519581, minibatch_size = 8 Beta_error = 0.618795\n",
      "Iteration 21400: Loss = 21343.018930, minibatch_size = 8 Beta_error = 0.617912\n",
      "Iteration 21500: Loss = 21431.625264, minibatch_size = 8 Beta_error = 0.615472\n",
      "Iteration 21600: Loss = 21455.556532, minibatch_size = 8 Beta_error = 0.617091\n",
      "Iteration 21700: Loss = 21325.122041, minibatch_size = 8 Beta_error = 0.615948\n",
      "Iteration 21800: Loss = 21640.325319, minibatch_size = 8 Beta_error = 0.617594\n",
      "Iteration 21900: Loss = 21573.669910, minibatch_size = 8 Beta_error = 0.614912\n",
      "Iteration 22000: Loss = 21498.526122, minibatch_size = 9 Beta_error = 0.614220\n",
      "Iteration 22100: Loss = 22430.536211, minibatch_size = 9 Beta_error = 0.614578\n",
      "Iteration 22200: Loss = 22229.180146, minibatch_size = 9 Beta_error = 0.610793\n",
      "Iteration 22300: Loss = 22310.811865, minibatch_size = 9 Beta_error = 0.609348\n",
      "Iteration 22400: Loss = 22087.912673, minibatch_size = 9 Beta_error = 0.610571\n",
      "Iteration 22500: Loss = 21207.611536, minibatch_size = 9 Beta_error = 0.608138\n",
      "Iteration 22600: Loss = 21527.759364, minibatch_size = 9 Beta_error = 0.608792\n",
      "Iteration 22700: Loss = 21939.314983, minibatch_size = 9 Beta_error = 0.604631\n",
      "Iteration 22800: Loss = 21962.926568, minibatch_size = 9 Beta_error = 0.604374\n",
      "Iteration 22900: Loss = 24069.905252, minibatch_size = 9 Beta_error = 0.604484\n",
      "Iteration 23000: Loss = 21674.099042, minibatch_size = 9 Beta_error = 0.605284\n",
      "Iteration 23100: Loss = 22130.810917, minibatch_size = 10 Beta_error = 0.602894\n",
      "Iteration 23200: Loss = 22023.972114, minibatch_size = 10 Beta_error = 0.600164\n",
      "Iteration 23300: Loss = 21493.805530, minibatch_size = 10 Beta_error = 0.603270\n",
      "Iteration 23400: Loss = 21013.764813, minibatch_size = 10 Beta_error = 0.601140\n",
      "Iteration 23500: Loss = 21565.055656, minibatch_size = 10 Beta_error = 0.597679\n",
      "Iteration 23600: Loss = 22830.203857, minibatch_size = 10 Beta_error = 0.597429\n",
      "Iteration 23700: Loss = 21406.259239, minibatch_size = 10 Beta_error = 0.597295\n",
      "Iteration 23800: Loss = 21119.764440, minibatch_size = 10 Beta_error = 0.597989\n",
      "Iteration 23900: Loss = 21632.269537, minibatch_size = 10 Beta_error = 0.593271\n",
      "Iteration 24000: Loss = 21730.894665, minibatch_size = 11 Beta_error = 0.593123\n",
      "Iteration 24100: Loss = 21664.593632, minibatch_size = 11 Beta_error = 0.592609\n",
      "Iteration 24200: Loss = 21617.623447, minibatch_size = 11 Beta_error = 0.591956\n",
      "Iteration 24300: Loss = 21265.939842, minibatch_size = 11 Beta_error = 0.592249\n",
      "Iteration 24400: Loss = 21865.507450, minibatch_size = 11 Beta_error = 0.590314\n",
      "Iteration 24500: Loss = 22236.819632, minibatch_size = 11 Beta_error = 0.587557\n",
      "Iteration 24600: Loss = 22243.128343, minibatch_size = 11 Beta_error = 0.587219\n",
      "Iteration 24700: Loss = 21494.469083, minibatch_size = 11 Beta_error = 0.588684\n",
      "Iteration 24800: Loss = 22246.748073, minibatch_size = 11 Beta_error = 0.587730\n",
      "Iteration 24900: Loss = 21948.480319, minibatch_size = 12 Beta_error = 0.586604\n",
      "Iteration 25000: Loss = 22083.904809, minibatch_size = 12 Beta_error = 0.583908\n",
      "Iteration 25100: Loss = 22464.632076, minibatch_size = 12 Beta_error = 0.583356\n",
      "Iteration 25200: Loss = 21931.581632, minibatch_size = 12 Beta_error = 0.582228\n",
      "Iteration 25300: Loss = 22141.385696, minibatch_size = 12 Beta_error = 0.580779\n",
      "Iteration 25400: Loss = 21893.977316, minibatch_size = 12 Beta_error = 0.581610\n",
      "Iteration 25500: Loss = 22212.302100, minibatch_size = 12 Beta_error = 0.577894\n",
      "Iteration 25600: Loss = 22135.526976, minibatch_size = 12 Beta_error = 0.579711\n",
      "Iteration 25700: Loss = 21964.021090, minibatch_size = 13 Beta_error = 0.578142\n",
      "Iteration 25800: Loss = 21288.784245, minibatch_size = 13 Beta_error = 0.577275\n",
      "Iteration 25900: Loss = 22931.660260, minibatch_size = 13 Beta_error = 0.573597\n",
      "Iteration 26000: Loss = 22186.991482, minibatch_size = 13 Beta_error = 0.573291\n",
      "Iteration 26100: Loss = 22212.502975, minibatch_size = 13 Beta_error = 0.569287\n",
      "Iteration 26200: Loss = 22276.027622, minibatch_size = 13 Beta_error = 0.570861\n",
      "Iteration 26300: Loss = 22104.472505, minibatch_size = 13 Beta_error = 0.570122\n",
      "Iteration 26400: Loss = 23100.139904, minibatch_size = 14 Beta_error = 0.570748\n",
      "Iteration 26500: Loss = 22232.496812, minibatch_size = 14 Beta_error = 0.568833\n",
      "Iteration 26600: Loss = 22459.752665, minibatch_size = 14 Beta_error = 0.566549\n",
      "Iteration 26700: Loss = 23367.754530, minibatch_size = 14 Beta_error = 0.565541\n",
      "Iteration 26800: Loss = 21780.558260, minibatch_size = 14 Beta_error = 0.565812\n",
      "Iteration 26900: Loss = 23075.971723, minibatch_size = 14 Beta_error = 0.565792\n",
      "Iteration 27000: Loss = 23891.012296, minibatch_size = 14 Beta_error = 0.563340\n",
      "Iteration 27100: Loss = 21707.443902, minibatch_size = 15 Beta_error = 0.562883\n",
      "Iteration 27200: Loss = 23807.582757, minibatch_size = 15 Beta_error = 0.559941\n",
      "Iteration 27300: Loss = 22897.505863, minibatch_size = 15 Beta_error = 0.558152\n",
      "Iteration 27400: Loss = 22551.098735, minibatch_size = 15 Beta_error = 0.560151\n",
      "Iteration 27500: Loss = 22270.012945, minibatch_size = 15 Beta_error = 0.557621\n",
      "Iteration 27600: Loss = 22941.575117, minibatch_size = 15 Beta_error = 0.557221\n",
      "Iteration 27700: Loss = 21969.377034, minibatch_size = 15 Beta_error = 0.555946\n",
      "Iteration 27800: Loss = 22422.441748, minibatch_size = 16 Beta_error = 0.554832\n",
      "Iteration 27900: Loss = 23600.341376, minibatch_size = 16 Beta_error = 0.550835\n",
      "Iteration 28000: Loss = 22135.945382, minibatch_size = 16 Beta_error = 0.551117\n",
      "Iteration 28100: Loss = 23402.479885, minibatch_size = 16 Beta_error = 0.550256\n",
      "Iteration 28200: Loss = 22607.229167, minibatch_size = 16 Beta_error = 0.549562\n",
      "Iteration 28300: Loss = 22422.101597, minibatch_size = 16 Beta_error = 0.548285\n",
      "Iteration 28400: Loss = 22699.791049, minibatch_size = 17 Beta_error = 0.545418\n",
      "Iteration 28500: Loss = 22707.193532, minibatch_size = 17 Beta_error = 0.544741\n",
      "Iteration 28600: Loss = 22441.828831, minibatch_size = 17 Beta_error = 0.546343\n",
      "Iteration 28700: Loss = 22892.641196, minibatch_size = 17 Beta_error = 0.542794\n",
      "Iteration 28800: Loss = 22947.280235, minibatch_size = 17 Beta_error = 0.540726\n",
      "Iteration 28900: Loss = 22405.974627, minibatch_size = 17 Beta_error = 0.541487\n",
      "Iteration 29000: Loss = 23382.586118, minibatch_size = 18 Beta_error = 0.539797\n",
      "Iteration 29100: Loss = 22451.353257, minibatch_size = 18 Beta_error = 0.538608\n",
      "Iteration 29200: Loss = 23429.238671, minibatch_size = 18 Beta_error = 0.536098\n",
      "Iteration 29300: Loss = 24043.078384, minibatch_size = 18 Beta_error = 0.532550\n",
      "Iteration 29400: Loss = 23245.256422, minibatch_size = 18 Beta_error = 0.532111\n",
      "Iteration 29500: Loss = 22779.763736, minibatch_size = 19 Beta_error = 0.531295\n",
      "Iteration 29600: Loss = 23817.802494, minibatch_size = 19 Beta_error = 0.529681\n",
      "Iteration 29700: Loss = 23282.574929, minibatch_size = 19 Beta_error = 0.529964\n",
      "Iteration 29800: Loss = 24176.963531, minibatch_size = 19 Beta_error = 0.527935\n",
      "Iteration 29900: Loss = 22097.377837, minibatch_size = 19 Beta_error = 0.527974\n",
      "Iteration 30000: Loss = 23466.374170, minibatch_size = 20 Beta_error = 0.527312\n",
      "Iteration 30100: Loss = 23053.019189, minibatch_size = 20 Beta_error = 0.521704\n",
      "Iteration 30200: Loss = 22977.396839, minibatch_size = 20 Beta_error = 0.522591\n",
      "Iteration 30300: Loss = 23045.033729, minibatch_size = 20 Beta_error = 0.521458\n",
      "Iteration 30400: Loss = 23551.077662, minibatch_size = 20 Beta_error = 0.518725\n",
      "Iteration 30500: Loss = 23390.545276, minibatch_size = 21 Beta_error = 0.518669\n",
      "Iteration 30600: Loss = 23063.507190, minibatch_size = 21 Beta_error = 0.515913\n",
      "Iteration 30700: Loss = 23576.049369, minibatch_size = 21 Beta_error = 0.517634\n",
      "Iteration 30800: Loss = 23194.603414, minibatch_size = 21 Beta_error = 0.511000\n",
      "Iteration 30900: Loss = 24534.124934, minibatch_size = 21 Beta_error = 0.511605\n",
      "Iteration 31000: Loss = 24535.038433, minibatch_size = 22 Beta_error = 0.509890\n",
      "Iteration 31100: Loss = 22673.250095, minibatch_size = 22 Beta_error = 0.509393\n",
      "Iteration 31200: Loss = 23307.593633, minibatch_size = 22 Beta_error = 0.507662\n",
      "Iteration 31300: Loss = 22985.131101, minibatch_size = 22 Beta_error = 0.506111\n",
      "Iteration 31400: Loss = 23582.648833, minibatch_size = 23 Beta_error = 0.506184\n",
      "Iteration 31500: Loss = 23629.230371, minibatch_size = 23 Beta_error = 0.503717\n",
      "Iteration 31600: Loss = 23454.946797, minibatch_size = 23 Beta_error = 0.499995\n",
      "Iteration 31700: Loss = 23455.642460, minibatch_size = 23 Beta_error = 0.499477\n",
      "Iteration 31800: Loss = 23727.837706, minibatch_size = 24 Beta_error = 0.498715\n",
      "Iteration 31900: Loss = 23382.333404, minibatch_size = 24 Beta_error = 0.496662\n",
      "Iteration 32000: Loss = 23676.105093, minibatch_size = 24 Beta_error = 0.493368\n",
      "Iteration 32100: Loss = 22952.819201, minibatch_size = 24 Beta_error = 0.493777\n",
      "Iteration 32200: Loss = 23345.619899, minibatch_size = 25 Beta_error = 0.490541\n",
      "Iteration 32300: Loss = 22654.424491, minibatch_size = 25 Beta_error = 0.488708\n",
      "Iteration 32400: Loss = 22364.635530, minibatch_size = 25 Beta_error = 0.488765\n",
      "Iteration 32500: Loss = 22699.075073, minibatch_size = 25 Beta_error = 0.489372\n",
      "Iteration 32600: Loss = 23580.699606, minibatch_size = 26 Beta_error = 0.488232\n",
      "Iteration 32700: Loss = 23885.480073, minibatch_size = 26 Beta_error = 0.486686\n",
      "Iteration 32800: Loss = 23112.135549, minibatch_size = 26 Beta_error = 0.483252\n",
      "Iteration 32900: Loss = 23417.395871, minibatch_size = 26 Beta_error = 0.482274\n",
      "Iteration 33000: Loss = 23891.679180, minibatch_size = 27 Beta_error = 0.479987\n",
      "Iteration 33100: Loss = 24108.734029, minibatch_size = 27 Beta_error = 0.480205\n",
      "Iteration 33200: Loss = 23410.304158, minibatch_size = 27 Beta_error = 0.477592\n",
      "Iteration 33300: Loss = 23422.555892, minibatch_size = 27 Beta_error = 0.475912\n",
      "Iteration 33400: Loss = 23584.796883, minibatch_size = 28 Beta_error = 0.474820\n",
      "Iteration 33500: Loss = 24412.706883, minibatch_size = 28 Beta_error = 0.472391\n",
      "Iteration 33600: Loss = 24191.209191, minibatch_size = 28 Beta_error = 0.470466\n",
      "Iteration 33700: Loss = 23453.471241, minibatch_size = 29 Beta_error = 0.470685\n",
      "Iteration 33800: Loss = 24388.961680, minibatch_size = 29 Beta_error = 0.466209\n",
      "Iteration 33900: Loss = 23808.471899, minibatch_size = 29 Beta_error = 0.464327\n",
      "Iteration 34000: Loss = 23654.794251, minibatch_size = 29 Beta_error = 0.465311\n",
      "Iteration 34100: Loss = 23324.651575, minibatch_size = 30 Beta_error = 0.463255\n",
      "Iteration 34200: Loss = 24180.344214, minibatch_size = 30 Beta_error = 0.461344\n",
      "Iteration 34300: Loss = 23280.002362, minibatch_size = 30 Beta_error = 0.461034\n",
      "Iteration 34400: Loss = 24257.357840, minibatch_size = 31 Beta_error = 0.459002\n",
      "Iteration 34500: Loss = 25148.618671, minibatch_size = 31 Beta_error = 0.457490\n",
      "Iteration 34600: Loss = 24650.205724, minibatch_size = 31 Beta_error = 0.452882\n",
      "Iteration 34700: Loss = 23466.579855, minibatch_size = 32 Beta_error = 0.453498\n",
      "Iteration 34800: Loss = 23610.822283, minibatch_size = 32 Beta_error = 0.450629\n",
      "Iteration 34900: Loss = 23705.401643, minibatch_size = 32 Beta_error = 0.450270\n",
      "Iteration 35000: Loss = 24510.204407, minibatch_size = 33 Beta_error = 0.446923\n",
      "Iteration 35100: Loss = 24958.464907, minibatch_size = 33 Beta_error = 0.444562\n",
      "Iteration 35200: Loss = 24076.910449, minibatch_size = 33 Beta_error = 0.447196\n",
      "Iteration 35300: Loss = 23612.531737, minibatch_size = 34 Beta_error = 0.442741\n",
      "Iteration 35400: Loss = 23576.257386, minibatch_size = 34 Beta_error = 0.441072\n",
      "Iteration 35500: Loss = 24002.395836, minibatch_size = 34 Beta_error = 0.439581\n",
      "Iteration 35600: Loss = 25006.074015, minibatch_size = 35 Beta_error = 0.437985\n",
      "Iteration 35700: Loss = 24694.412498, minibatch_size = 35 Beta_error = 0.437219\n",
      "Iteration 35800: Loss = 24837.005010, minibatch_size = 35 Beta_error = 0.434817\n",
      "Iteration 35900: Loss = 25773.038494, minibatch_size = 36 Beta_error = 0.430944\n",
      "Iteration 36000: Loss = 24580.055403, minibatch_size = 36 Beta_error = 0.431979\n",
      "Iteration 36100: Loss = 25072.908920, minibatch_size = 36 Beta_error = 0.432280\n",
      "Iteration 36200: Loss = 27639.246421, minibatch_size = 37 Beta_error = 0.424226\n",
      "Iteration 36300: Loss = 24191.108860, minibatch_size = 37 Beta_error = 0.426811\n",
      "Iteration 36400: Loss = 24782.048025, minibatch_size = 38 Beta_error = 0.422689\n",
      "Iteration 36500: Loss = 24780.817101, minibatch_size = 38 Beta_error = 0.419726\n",
      "Iteration 36600: Loss = 24450.920296, minibatch_size = 38 Beta_error = 0.421490\n",
      "Iteration 36700: Loss = 25090.649329, minibatch_size = 39 Beta_error = 0.415090\n",
      "Iteration 36800: Loss = 25861.929170, minibatch_size = 39 Beta_error = 0.415991\n",
      "Iteration 36900: Loss = 26020.856816, minibatch_size = 40 Beta_error = 0.414261\n",
      "Iteration 37000: Loss = 25258.068557, minibatch_size = 40 Beta_error = 0.411586\n",
      "Iteration 37100: Loss = 24153.268996, minibatch_size = 40 Beta_error = 0.412265\n",
      "Iteration 37200: Loss = 24384.872694, minibatch_size = 41 Beta_error = 0.410187\n",
      "Iteration 37300: Loss = 25217.830528, minibatch_size = 41 Beta_error = 0.406929\n",
      "Iteration 37400: Loss = 25266.681002, minibatch_size = 42 Beta_error = 0.407215\n",
      "Iteration 37500: Loss = 25282.379697, minibatch_size = 42 Beta_error = 0.403876\n",
      "Iteration 37600: Loss = 24378.795158, minibatch_size = 42 Beta_error = 0.404133\n",
      "Iteration 37700: Loss = 24985.479381, minibatch_size = 43 Beta_error = 0.401620\n",
      "Iteration 37800: Loss = 24205.986255, minibatch_size = 43 Beta_error = 0.400933\n",
      "Iteration 37900: Loss = 25145.201136, minibatch_size = 44 Beta_error = 0.399691\n",
      "Iteration 38000: Loss = 24434.985902, minibatch_size = 44 Beta_error = 0.396279\n",
      "Iteration 38100: Loss = 24827.781855, minibatch_size = 45 Beta_error = 0.395803\n",
      "Iteration 38200: Loss = 24584.655332, minibatch_size = 45 Beta_error = 0.393294\n",
      "Iteration 38300: Loss = 26076.397275, minibatch_size = 46 Beta_error = 0.391071\n",
      "Iteration 38400: Loss = 24993.543444, minibatch_size = 46 Beta_error = 0.389711\n",
      "Iteration 38500: Loss = 24336.709250, minibatch_size = 46 Beta_error = 0.388643\n",
      "Iteration 38600: Loss = 24376.102411, minibatch_size = 47 Beta_error = 0.387070\n",
      "Iteration 38700: Loss = 25214.981703, minibatch_size = 47 Beta_error = 0.385380\n",
      "Iteration 38800: Loss = 24502.772162, minibatch_size = 48 Beta_error = 0.383887\n",
      "Iteration 38900: Loss = 25380.541501, minibatch_size = 48 Beta_error = 0.381044\n",
      "Iteration 39000: Loss = 25120.348483, minibatch_size = 49 Beta_error = 0.380000\n",
      "Iteration 39100: Loss = 25178.841010, minibatch_size = 49 Beta_error = 0.379053\n",
      "Iteration 39200: Loss = 24631.985036, minibatch_size = 50 Beta_error = 0.377298\n",
      "Iteration 39300: Loss = 24861.040831, minibatch_size = 50 Beta_error = 0.374867\n",
      "Iteration 39400: Loss = 24763.574422, minibatch_size = 51 Beta_error = 0.372807\n",
      "Iteration 39500: Loss = 25065.963747, minibatch_size = 51 Beta_error = 0.372880\n",
      "Iteration 39600: Loss = 25168.805597, minibatch_size = 52 Beta_error = 0.370804\n",
      "Iteration 39700: Loss = 25099.957873, minibatch_size = 52 Beta_error = 0.367524\n",
      "Iteration 39800: Loss = 26179.142453, minibatch_size = 53 Beta_error = 0.365860\n",
      "Iteration 39900: Loss = 26377.940863, minibatch_size = 54 Beta_error = 0.364809\n",
      "Iteration 40000: Loss = 24886.460806, minibatch_size = 54 Beta_error = 0.363033\n",
      "Iteration 40100: Loss = 25461.568324, minibatch_size = 55 Beta_error = 0.361702\n",
      "Iteration 40200: Loss = 26081.921142, minibatch_size = 55 Beta_error = 0.359623\n",
      "Iteration 40300: Loss = 25085.368555, minibatch_size = 56 Beta_error = 0.358608\n",
      "Iteration 40400: Loss = 25403.299432, minibatch_size = 56 Beta_error = 0.356547\n",
      "Iteration 40500: Loss = 25365.007476, minibatch_size = 57 Beta_error = 0.355311\n",
      "Iteration 40600: Loss = 24697.907836, minibatch_size = 57 Beta_error = 0.353370\n",
      "Iteration 40700: Loss = 24613.784775, minibatch_size = 58 Beta_error = 0.351562\n",
      "Iteration 40800: Loss = 26304.308932, minibatch_size = 59 Beta_error = 0.349446\n",
      "Iteration 40900: Loss = 25273.471817, minibatch_size = 59 Beta_error = 0.347526\n",
      "Iteration 41000: Loss = 25714.119582, minibatch_size = 60 Beta_error = 0.346479\n",
      "Iteration 41100: Loss = 25394.690426, minibatch_size = 60 Beta_error = 0.344656\n",
      "Iteration 41200: Loss = 26144.019549, minibatch_size = 61 Beta_error = 0.341616\n",
      "Iteration 41300: Loss = 25441.114803, minibatch_size = 62 Beta_error = 0.340914\n",
      "Iteration 41400: Loss = 25611.971879, minibatch_size = 62 Beta_error = 0.337251\n",
      "Iteration 41500: Loss = 25191.906497, minibatch_size = 63 Beta_error = 0.334988\n",
      "Iteration 41600: Loss = 25785.390408, minibatch_size = 64 Beta_error = 0.333985\n",
      "Iteration 41700: Loss = 25940.477114, minibatch_size = 64 Beta_error = 0.333778\n",
      "Iteration 41800: Loss = 26520.300288, minibatch_size = 65 Beta_error = 0.331875\n",
      "Iteration 41900: Loss = 26401.022203, minibatch_size = 66 Beta_error = 0.330659\n",
      "Iteration 42000: Loss = 26124.848637, minibatch_size = 66 Beta_error = 0.328401\n",
      "Iteration 42100: Loss = 25589.244170, minibatch_size = 67 Beta_error = 0.325920\n",
      "Iteration 42200: Loss = 25429.304926, minibatch_size = 68 Beta_error = 0.325285\n",
      "Iteration 42300: Loss = 25765.441200, minibatch_size = 68 Beta_error = 0.322641\n",
      "Iteration 42400: Loss = 26539.681887, minibatch_size = 69 Beta_error = 0.320937\n",
      "Iteration 42500: Loss = 25381.026201, minibatch_size = 70 Beta_error = 0.318543\n",
      "Iteration 42600: Loss = 25596.413046, minibatch_size = 70 Beta_error = 0.316793\n",
      "Iteration 42700: Loss = 25581.146210, minibatch_size = 71 Beta_error = 0.314911\n",
      "Iteration 42800: Loss = 26245.142185, minibatch_size = 72 Beta_error = 0.313236\n",
      "Iteration 42900: Loss = 26141.004355, minibatch_size = 72 Beta_error = 0.310791\n",
      "Iteration 43000: Loss = 25420.113394, minibatch_size = 73 Beta_error = 0.308559\n",
      "Iteration 43100: Loss = 25934.181333, minibatch_size = 74 Beta_error = 0.307378\n",
      "Iteration 43200: Loss = 26744.616395, minibatch_size = 75 Beta_error = 0.305176\n",
      "Iteration 43300: Loss = 25936.966518, minibatch_size = 75 Beta_error = 0.302593\n",
      "Iteration 43400: Loss = 26226.125981, minibatch_size = 76 Beta_error = 0.301022\n",
      "Iteration 43500: Loss = 25648.018330, minibatch_size = 77 Beta_error = 0.300208\n",
      "Iteration 43600: Loss = 26969.092914, minibatch_size = 78 Beta_error = 0.299200\n",
      "Iteration 43700: Loss = 26203.583448, minibatch_size = 79 Beta_error = 0.297846\n",
      "Iteration 43800: Loss = 27213.663189, minibatch_size = 79 Beta_error = 0.295304\n",
      "Iteration 43900: Loss = 26560.594860, minibatch_size = 80 Beta_error = 0.294266\n",
      "Iteration 44000: Loss = 25978.804443, minibatch_size = 81 Beta_error = 0.292833\n",
      "Iteration 44100: Loss = 26334.089563, minibatch_size = 82 Beta_error = 0.291219\n",
      "Iteration 44200: Loss = 26390.607623, minibatch_size = 83 Beta_error = 0.290083\n",
      "Iteration 44300: Loss = 26674.190167, minibatch_size = 83 Beta_error = 0.288559\n",
      "Iteration 44400: Loss = 26585.503192, minibatch_size = 84 Beta_error = 0.285680\n",
      "Iteration 44500: Loss = 25790.137119, minibatch_size = 85 Beta_error = 0.283586\n",
      "Iteration 44600: Loss = 26465.445809, minibatch_size = 86 Beta_error = 0.282523\n",
      "Iteration 44700: Loss = 26411.679988, minibatch_size = 87 Beta_error = 0.280978\n",
      "Iteration 44800: Loss = 26222.620608, minibatch_size = 88 Beta_error = 0.279054\n",
      "Iteration 44900: Loss = 26475.032501, minibatch_size = 89 Beta_error = 0.277530\n",
      "Iteration 45000: Loss = 26186.436267, minibatch_size = 89 Beta_error = 0.275858\n",
      "Iteration 45100: Loss = 26552.680435, minibatch_size = 90 Beta_error = 0.273328\n",
      "Iteration 45200: Loss = 26630.548101, minibatch_size = 91 Beta_error = 0.272270\n",
      "Iteration 45300: Loss = 26805.853964, minibatch_size = 92 Beta_error = 0.269941\n",
      "Iteration 45400: Loss = 26294.789724, minibatch_size = 93 Beta_error = 0.268635\n",
      "Iteration 45500: Loss = 26479.639897, minibatch_size = 94 Beta_error = 0.266898\n",
      "Iteration 45600: Loss = 26405.935022, minibatch_size = 95 Beta_error = 0.265405\n",
      "Iteration 45700: Loss = 27399.215457, minibatch_size = 96 Beta_error = 0.263887\n",
      "Iteration 45800: Loss = 26279.088984, minibatch_size = 97 Beta_error = 0.262794\n",
      "Iteration 45900: Loss = 27534.958627, minibatch_size = 98 Beta_error = 0.260919\n",
      "Iteration 46000: Loss = 26841.477392, minibatch_size = 99 Beta_error = 0.259330\n",
      "Iteration 46100: Loss = 27281.955561, minibatch_size = 100 Beta_error = 0.257109\n",
      "Iteration 46200: Loss = 26727.458864, minibatch_size = 101 Beta_error = 0.255427\n",
      "Iteration 46300: Loss = 26638.803883, minibatch_size = 102 Beta_error = 0.254121\n",
      "Iteration 46400: Loss = 27745.595428, minibatch_size = 103 Beta_error = 0.252070\n",
      "Iteration 46500: Loss = 26819.524946, minibatch_size = 104 Beta_error = 0.250783\n",
      "Iteration 46600: Loss = 27099.163938, minibatch_size = 105 Beta_error = 0.248924\n",
      "Iteration 46700: Loss = 26784.620642, minibatch_size = 106 Beta_error = 0.247207\n",
      "Iteration 46800: Loss = 27147.241229, minibatch_size = 107 Beta_error = 0.245354\n",
      "Iteration 46900: Loss = 27262.721637, minibatch_size = 108 Beta_error = 0.243894\n",
      "Iteration 47000: Loss = 26999.208168, minibatch_size = 109 Beta_error = 0.242351\n",
      "Iteration 47100: Loss = 26566.102372, minibatch_size = 111 Beta_error = 0.241073\n",
      "Iteration 47200: Loss = 27168.805530, minibatch_size = 112 Beta_error = 0.238866\n",
      "Iteration 47300: Loss = 27430.939733, minibatch_size = 113 Beta_error = 0.236885\n",
      "Iteration 47400: Loss = 27068.285859, minibatch_size = 114 Beta_error = 0.235436\n",
      "Iteration 47500: Loss = 27214.883496, minibatch_size = 115 Beta_error = 0.233803\n",
      "Iteration 47600: Loss = 27227.451926, minibatch_size = 116 Beta_error = 0.232600\n",
      "Iteration 47700: Loss = 26932.235125, minibatch_size = 117 Beta_error = 0.231115\n",
      "Iteration 47800: Loss = 27213.438978, minibatch_size = 119 Beta_error = 0.230195\n",
      "Iteration 47900: Loss = 27746.715229, minibatch_size = 120 Beta_error = 0.228629\n",
      "Iteration 48000: Loss = 27607.697940, minibatch_size = 121 Beta_error = 0.226950\n",
      "Iteration 48100: Loss = 27749.809965, minibatch_size = 122 Beta_error = 0.225022\n",
      "Iteration 48200: Loss = 27746.821003, minibatch_size = 123 Beta_error = 0.223594\n",
      "Iteration 48300: Loss = 27712.567972, minibatch_size = 125 Beta_error = 0.222168\n",
      "Iteration 48400: Loss = 27555.399726, minibatch_size = 126 Beta_error = 0.220107\n",
      "Iteration 48500: Loss = 27060.582954, minibatch_size = 127 Beta_error = 0.218359\n",
      "Iteration 48600: Loss = 27049.878390, minibatch_size = 128 Beta_error = 0.216503\n",
      "Iteration 48700: Loss = 27440.262578, minibatch_size = 130 Beta_error = 0.214312\n",
      "Iteration 48800: Loss = 27364.441790, minibatch_size = 131 Beta_error = 0.213688\n",
      "Iteration 48900: Loss = 27419.464722, minibatch_size = 132 Beta_error = 0.212582\n",
      "Iteration 49000: Loss = 27676.107786, minibatch_size = 134 Beta_error = 0.210637\n",
      "Iteration 49100: Loss = 28065.706601, minibatch_size = 135 Beta_error = 0.208634\n",
      "Iteration 49200: Loss = 27140.763344, minibatch_size = 136 Beta_error = 0.206922\n",
      "Iteration 49300: Loss = 27616.345606, minibatch_size = 138 Beta_error = 0.205651\n",
      "Iteration 49400: Loss = 27596.142113, minibatch_size = 139 Beta_error = 0.204305\n",
      "Iteration 49500: Loss = 27732.079074, minibatch_size = 141 Beta_error = 0.202897\n",
      "Iteration 49600: Loss = 28457.202640, minibatch_size = 142 Beta_error = 0.201149\n",
      "Iteration 49700: Loss = 27775.428985, minibatch_size = 143 Beta_error = 0.199759\n",
      "Iteration 49800: Loss = 27490.506740, minibatch_size = 145 Beta_error = 0.198238\n",
      "Iteration 49900: Loss = 27326.132246, minibatch_size = 146 Beta_error = 0.196598\n",
      "time elapsed = 142.9342660000002\n",
      "iterations = 49999\n",
      "Objective Function value = 27641.69261128354\n",
      "Betas = [4.03963607 0.63042247 1.9857949  ... 0.60892035 2.73170357 3.40028992]\n",
      "error= 0.1950213116186385\n"
     ]
    }
   ],
   "source": [
    "\n",
    "def rigid_reg_stoc(beta_ridge, X, Y, subset):\n",
    "    Xsub = X[subset,:]\n",
    "    Ysub = Y[subset]\n",
    "    z = Ysub - Xsub @ beta_ridge\n",
    "    return np.dot(z.T,z) + rho * np.dot(beta_ridge.T, beta_ridge)\n",
    "\n",
    "def ridge_reg_der_stoc(beta_ridge,X,Y,subset):\n",
    "    Xsub = X[subset,:]\n",
    "    Ysub = Y[subset]\n",
    "\n",
    "    pp = -2*np.dot((Ysub - Xsub @ beta_ridge).T,Xsub)\n",
    "    aa = pp.squeeze() + 2 * rho * beta_ridge\n",
    "    return aa\n",
    "\n",
    "(a,b)=X.shape\n",
    "beta_ridge=np.zeros(b) #initial value for beta\n",
    "n_iter=50000 #maximim number iteration\n",
    "OF_iter_cur = 0\n",
    "alpha_iter=np.zeros(n_iter)\n",
    "error_minib_iter=np.zeros(n_iter)\n",
    "i=0\n",
    "epsilon=1e-6\n",
    "delta = 0.2\n",
    "tau = 1.0001\n",
    "subsetsize = 1\n",
    "\n",
    "\n",
    "time_start = time.process_time()\n",
    "\n",
    "while i <= n_iter-2:\n",
    "    #### Number of samples to take into consideration in each iteration\n",
    "\n",
    "    subsetsize_trunc = min(int(subsetsize),a)\n",
    "    subset = np.random.choice(N, subsetsize_trunc, replace=False)\n",
    "    grad = ridge_reg_der_stoc(beta_ridge, X, Y, subset)\n",
    "    ddirect = -grad\n",
    "    ##### Armijo rule to adjust alpha ######\n",
    "    alpha=1e-4\n",
    "    while rigid_reg_stoc(beta_ridge + alpha * ddirect, X, Y, subset) > rigid_reg_stoc(beta_ridge, X, Y,subset)+alpha*sigma*np.dot(ddirect, grad):\n",
    "        alpha = alpha*delta\n",
    "    #########################################\n",
    "    beta_ridge = beta_ridge + alpha * ddirect\n",
    "    OF_iter_cur = rigid_reg_stoc(beta_ridge, X, Y, subset)\n",
    "    error_minib_iter[i] = np.linalg.norm(np.transpose(beta_ridge_exact)-beta_ridge,ord=2)/np.linalg.norm(beta_ridge,ord=2)\n",
    "    if i % 100 == 0:\n",
    "        print('Iteration %d: Loss = %f, minibatch_size = %d Beta_error = %f' %(i, OF_iter_cur, subsetsize_trunc, error_minib_iter[i]))\n",
    "    i=i+1\n",
    "    subsetsize *= tau\n",
    "\n",
    "time_elapsed = (time.process_time()- time_start)\n",
    "print('time elapsed =',time_elapsed)\n",
    "print('iterations =',i)\n",
    "print('Objective Function value =', OF_iter_cur)\n",
    "print('Betas =',beta_ridge)\n",
    "print('error=',np.linalg.norm(np.transpose(beta_ridge_exact)-beta_ridge,ord=2)/np.linalg.norm(beta_ridge,ord=2))"
   ]
  },
  {
   "cell_type": "markdown",
   "metadata": {
    "pycharm": {
     "name": "#%% md\n"
    }
   },
   "source": [
    "##### Output\n",
    "\n",
    "time elapsed = 142.9343\n",
    "\n",
    "iterations = 49999\n",
    "\n",
    "Objective Function value = 27641.6926\n",
    "\n",
    "Betas = [4.03963607 0.63042247 1.9857949  ... 0.60892035 2.73170357 3.40028992]\n",
    "\n",
    "error= 0.1950"
   ]
  },
  {
   "cell_type": "markdown",
   "metadata": {
    "pycharm": {
     "name": "#%% md\n"
    }
   },
   "source": [
    "### Second Order Methods: Stochastic Quasi-Newton"
   ]
  },
  {
   "cell_type": "code",
   "execution_count": 34,
   "metadata": {
    "pycharm": {
     "name": "#%%\n"
    }
   },
   "outputs": [
    {
     "name": "stdout",
     "output_type": "stream",
     "text": [
      "Iteration 100: Loss = 49813207.760760, Beta_err = 0.999357\n",
      "Iteration 200: Loss = 32354781.270923, Beta_err = 0.996618\n",
      "Iteration 300: Loss = 62621324.862539, Beta_err = 0.999509\n",
      "Iteration 400: Loss = 45437746.476829, Beta_err = 0.999403\n",
      "Iteration 500: Loss = 64256975.941290, Beta_err = 0.999643\n",
      "Iteration 600: Loss = 47326541.855997, Beta_err = 0.998686\n",
      "Iteration 700: Loss = 62343045.165941, Beta_err = 0.999261\n",
      "Iteration 800: Loss = 56567749.487034, Beta_err = 0.999204\n",
      "Iteration 900: Loss = 48716105.967570, Beta_err = 0.998545\n",
      "Iteration 1000: Loss = 51907312.449204, Beta_err = 0.998849\n",
      "Iteration 1100: Loss = 47207404.816663, Beta_err = 0.998975\n",
      "Iteration 1200: Loss = 44797511.813218, Beta_err = 0.998867\n",
      "Iteration 1300: Loss = 44892506.594359, Beta_err = 0.998683\n",
      "Iteration 1400: Loss = 42379488.318770, Beta_err = 0.998170\n",
      "Iteration 1500: Loss = 30509312.712814, Beta_err = 0.997274\n",
      "Iteration 1600: Loss = 23290247.369219, Beta_err = 0.995968\n",
      "Iteration 1700: Loss = 16254896.902405, Beta_err = 0.994178\n",
      "Iteration 1800: Loss = 11790552.655217, Beta_err = 0.991753\n",
      "Iteration 1900: Loss = 9417732.927963, Beta_err = 0.988389\n",
      "Iteration 2000: Loss = 7894240.309902, Beta_err = 0.983816\n",
      "Iteration 2100: Loss = 5497490.815994, Beta_err = 0.977664\n",
      "Iteration 2200: Loss = 3788364.926816, Beta_err = 0.969400\n",
      "Iteration 2300: Loss = 2883549.183374, Beta_err = 0.958497\n",
      "Iteration 2400: Loss = 2221571.778552, Beta_err = 0.944091\n",
      "Iteration 2500: Loss = 1663778.626701, Beta_err = 0.925310\n",
      "Iteration 2600: Loss = 1181765.877285, Beta_err = 0.901712\n",
      "Iteration 2700: Loss = 884707.015453, Beta_err = 0.871721\n",
      "Iteration 2800: Loss = 708927.118666, Beta_err = 0.835055\n",
      "Iteration 2900: Loss = 521851.892845, Beta_err = 0.791894\n",
      "Iteration 3000: Loss = 410105.010767, Beta_err = 0.742808\n",
      "Iteration 3100: Loss = 289722.992341, Beta_err = 0.688499\n",
      "Iteration 3200: Loss = 237515.558039, Beta_err = 0.630581\n",
      "Iteration 3300: Loss = 178856.687698, Beta_err = 0.571422\n",
      "Iteration 3400: Loss = 145188.715665, Beta_err = 0.512673\n",
      "Iteration 3500: Loss = 106587.114158, Beta_err = 0.456255\n",
      "Iteration 3600: Loss = 90923.210456, Beta_err = 0.403699\n",
      "Iteration 3700: Loss = 76206.629312, Beta_err = 0.355706\n",
      "Iteration 3800: Loss = 61627.684688, Beta_err = 0.312524\n",
      "Iteration 3900: Loss = 54308.948180, Beta_err = 0.274421\n",
      "Iteration 4000: Loss = 50030.581129, Beta_err = 0.241498\n",
      "Iteration 4100: Loss = 43824.330113, Beta_err = 0.213287\n",
      "Iteration 4200: Loss = 38771.836009, Beta_err = 0.189543\n",
      "Iteration 4300: Loss = 37613.471289, Beta_err = 0.169599\n",
      "Iteration 4400: Loss = 35741.351046, Beta_err = 0.153214\n",
      "Iteration 4500: Loss = 34126.157925, Beta_err = 0.139984\n",
      "Iteration 4600: Loss = 32776.005716, Beta_err = 0.129374\n",
      "Iteration 4700: Loss = 32126.775034, Beta_err = 0.121046\n",
      "Iteration 4800: Loss = 31919.022573, Beta_err = 0.114630\n",
      "Iteration 4900: Loss = 31654.358598, Beta_err = 0.109660\n",
      "Iteration 5000: Loss = 31188.094250, Beta_err = 0.106109\n",
      "Iteration 5100: Loss = 31550.909761, Beta_err = 0.103713\n",
      "Iteration 5200: Loss = 31076.824358, Beta_err = 0.102118\n",
      "Iteration 5300: Loss = 30894.846000, Beta_err = 0.101122\n",
      "Iteration 5400: Loss = 30919.616987, Beta_err = 0.100488\n",
      "Iteration 5500: Loss = 30775.727258, Beta_err = 0.100234\n",
      "Iteration 5600: Loss = 30781.897483, Beta_err = 0.100247\n",
      "Iteration 5700: Loss = 30759.961793, Beta_err = 0.100395\n",
      "Iteration 5800: Loss = 30485.414268, Beta_err = 0.100597\n",
      "Iteration 5900: Loss = 30545.651522, Beta_err = 0.100768\n",
      "Iteration 6000: Loss = 30219.067348, Beta_err = 0.100936\n",
      "Iteration 6100: Loss = 30683.528824, Beta_err = 0.101093\n",
      "Iteration 6200: Loss = 30250.365365, Beta_err = 0.101208\n",
      "Iteration 6300: Loss = 30376.242597, Beta_err = 0.101283\n",
      "Iteration 6400: Loss = 30310.568073, Beta_err = 0.101347\n",
      "Iteration 6500: Loss = 30313.219748, Beta_err = 0.101409\n",
      "Iteration 6600: Loss = 30420.234745, Beta_err = 0.101426\n",
      "Iteration 6700: Loss = 30586.427720, Beta_err = 0.101441\n",
      "Iteration 6800: Loss = 30676.199898, Beta_err = 0.101458\n",
      "Iteration 6900: Loss = 30292.764761, Beta_err = 0.101455\n",
      "Iteration 7000: Loss = 30593.313811, Beta_err = 0.101470\n",
      "Iteration 7100: Loss = 30216.046845, Beta_err = 0.101424\n",
      "Iteration 7200: Loss = 30559.582254, Beta_err = 0.101400\n",
      "Iteration 7300: Loss = 30293.530133, Beta_err = 0.101400\n",
      "Iteration 7400: Loss = 29919.176153, Beta_err = 0.101387\n",
      "Iteration 7500: Loss = 30327.068546, Beta_err = 0.101371\n",
      "Iteration 7600: Loss = 30432.129109, Beta_err = 0.101353\n",
      "Iteration 7700: Loss = 30698.309266, Beta_err = 0.101341\n",
      "Iteration 7800: Loss = 30290.265700, Beta_err = 0.101330\n",
      "Iteration 7900: Loss = 30492.525427, Beta_err = 0.101316\n",
      "Iteration 8000: Loss = 30407.940932, Beta_err = 0.101302\n",
      "Iteration 8100: Loss = 30458.501777, Beta_err = 0.101265\n",
      "Iteration 8200: Loss = 30320.027960, Beta_err = 0.101243\n",
      "Iteration 8300: Loss = 30490.413304, Beta_err = 0.101226\n",
      "Iteration 8400: Loss = 30685.916812, Beta_err = 0.101206\n",
      "Iteration 8500: Loss = 30414.069491, Beta_err = 0.101204\n",
      "Iteration 8600: Loss = 30458.556912, Beta_err = 0.101186\n",
      "Iteration 8700: Loss = 30672.659340, Beta_err = 0.101174\n",
      "Iteration 8800: Loss = 30726.529310, Beta_err = 0.101161\n",
      "Iteration 8900: Loss = 30495.723743, Beta_err = 0.101140\n",
      "Iteration 9000: Loss = 30681.565739, Beta_err = 0.101126\n",
      "Iteration 9100: Loss = 30214.270368, Beta_err = 0.101112\n",
      "Iteration 9200: Loss = 30533.135424, Beta_err = 0.101093\n",
      "Iteration 9300: Loss = 29972.861599, Beta_err = 0.101069\n",
      "Iteration 9400: Loss = 30646.282597, Beta_err = 0.101052\n",
      "Iteration 9500: Loss = 30465.776946, Beta_err = 0.101043\n",
      "Iteration 9600: Loss = 30245.985486, Beta_err = 0.101017\n",
      "Iteration 9700: Loss = 30199.713059, Beta_err = 0.101005\n",
      "Iteration 9800: Loss = 29819.974735, Beta_err = 0.100991\n",
      "Iteration 9900: Loss = 30361.487382, Beta_err = 0.100982\n",
      "Iteration 10000: Loss = 30204.096753, Beta_err = 0.100972\n",
      "Iteration 10100: Loss = 30466.453696, Beta_err = 0.100960\n",
      "Iteration 10200: Loss = 30294.510649, Beta_err = 0.100947\n",
      "Iteration 10300: Loss = 30333.167952, Beta_err = 0.100915\n",
      "Iteration 10400: Loss = 30570.843077, Beta_err = 0.100888\n",
      "Iteration 10500: Loss = 30333.975244, Beta_err = 0.100877\n",
      "Iteration 10600: Loss = 30276.382347, Beta_err = 0.100865\n",
      "Iteration 10700: Loss = 30468.924025, Beta_err = 0.100859\n",
      "Iteration 10800: Loss = 30743.669248, Beta_err = 0.100845\n",
      "Iteration 10900: Loss = 30619.931989, Beta_err = 0.100827\n",
      "Iteration 11000: Loss = 30385.356521, Beta_err = 0.100816\n",
      "Iteration 11100: Loss = 30392.889339, Beta_err = 0.100800\n",
      "Iteration 11200: Loss = 30497.768537, Beta_err = 0.100790\n",
      "Iteration 11300: Loss = 30338.643245, Beta_err = 0.100779\n",
      "Iteration 11400: Loss = 30438.445115, Beta_err = 0.100770\n",
      "Iteration 11500: Loss = 30240.268419, Beta_err = 0.100746\n",
      "Iteration 11600: Loss = 30362.138632, Beta_err = 0.100738\n",
      "Iteration 11700: Loss = 30395.603735, Beta_err = 0.100732\n",
      "Iteration 11800: Loss = 30238.434045, Beta_err = 0.100725\n",
      "Iteration 11900: Loss = 30312.951374, Beta_err = 0.100716\n",
      "Iteration 12000: Loss = 30375.459870, Beta_err = 0.100707\n",
      "Iteration 12100: Loss = 30593.417391, Beta_err = 0.100698\n",
      "Iteration 12200: Loss = 30662.018904, Beta_err = 0.100698\n",
      "Iteration 12300: Loss = 30391.153901, Beta_err = 0.100683\n",
      "Iteration 12400: Loss = 30476.531964, Beta_err = 0.100678\n",
      "Iteration 12500: Loss = 30476.639697, Beta_err = 0.100670\n",
      "Iteration 12600: Loss = 30219.021626, Beta_err = 0.100670\n",
      "Iteration 12700: Loss = 30607.757233, Beta_err = 0.100659\n",
      "Iteration 12800: Loss = 30392.572756, Beta_err = 0.100656\n",
      "Iteration 12900: Loss = 30243.576990, Beta_err = 0.100653\n",
      "Iteration 13000: Loss = 30307.052537, Beta_err = 0.100647\n",
      "Iteration 13100: Loss = 30399.246066, Beta_err = 0.100638\n",
      "Iteration 13200: Loss = 30520.357627, Beta_err = 0.100639\n",
      "Iteration 13300: Loss = 30229.766085, Beta_err = 0.100626\n",
      "Iteration 13400: Loss = 30422.224789, Beta_err = 0.100625\n",
      "Iteration 13500: Loss = 30588.380979, Beta_err = 0.100610\n",
      "Iteration 13600: Loss = 30167.851116, Beta_err = 0.100590\n",
      "Iteration 13700: Loss = 30580.812959, Beta_err = 0.100578\n",
      "Iteration 13800: Loss = 30313.453349, Beta_err = 0.100578\n",
      "Iteration 13900: Loss = 30324.048629, Beta_err = 0.100567\n",
      "Iteration 14000: Loss = 30163.090629, Beta_err = 0.100550\n",
      "Iteration 14100: Loss = 30486.835078, Beta_err = 0.100542\n",
      "Iteration 14200: Loss = 30125.730956, Beta_err = 0.100530\n",
      "Iteration 14300: Loss = 30398.818228, Beta_err = 0.100532\n",
      "Iteration 14400: Loss = 29891.890920, Beta_err = 0.100533\n",
      "Iteration 14500: Loss = 30616.125762, Beta_err = 0.100524\n",
      "Iteration 14600: Loss = 30528.241281, Beta_err = 0.100516\n",
      "Iteration 14700: Loss = 30482.812737, Beta_err = 0.100501\n",
      "Iteration 14800: Loss = 30238.198656, Beta_err = 0.100490\n",
      "Iteration 14900: Loss = 30378.804778, Beta_err = 0.100486\n",
      "Iteration 15000: Loss = 30018.195314, Beta_err = 0.100490\n",
      "Iteration 15100: Loss = 30356.195489, Beta_err = 0.100487\n",
      "Iteration 15200: Loss = 30352.740586, Beta_err = 0.100478\n",
      "Iteration 15300: Loss = 30342.963884, Beta_err = 0.100468\n",
      "Iteration 15400: Loss = 30582.954235, Beta_err = 0.100462\n",
      "Iteration 15500: Loss = 30267.007391, Beta_err = 0.100468\n",
      "Iteration 15600: Loss = 30431.538284, Beta_err = 0.100462\n",
      "Iteration 15700: Loss = 30395.451999, Beta_err = 0.100449\n",
      "Iteration 15800: Loss = 30675.186040, Beta_err = 0.100451\n",
      "Iteration 15900: Loss = 30301.480636, Beta_err = 0.100446\n",
      "Iteration 16000: Loss = 30052.301245, Beta_err = 0.100445\n",
      "Iteration 16100: Loss = 30500.362597, Beta_err = 0.100435\n",
      "Iteration 16200: Loss = 30286.878244, Beta_err = 0.100432\n",
      "Iteration 16300: Loss = 30618.526932, Beta_err = 0.100416\n",
      "Iteration 16400: Loss = 29766.714258, Beta_err = 0.100408\n",
      "Iteration 16500: Loss = 30244.599972, Beta_err = 0.100397\n",
      "Iteration 16600: Loss = 30504.063970, Beta_err = 0.100401\n",
      "Iteration 16700: Loss = 30178.543301, Beta_err = 0.100400\n",
      "Iteration 16800: Loss = 30429.540193, Beta_err = 0.100388\n",
      "Iteration 16900: Loss = 30342.761495, Beta_err = 0.100375\n",
      "Iteration 17000: Loss = 30710.569422, Beta_err = 0.100363\n",
      "Iteration 17100: Loss = 30286.451581, Beta_err = 0.100350\n",
      "Iteration 17200: Loss = 30662.428633, Beta_err = 0.100346\n",
      "Iteration 17300: Loss = 30520.864005, Beta_err = 0.100346\n",
      "Iteration 17400: Loss = 30350.909916, Beta_err = 0.100349\n",
      "Iteration 17500: Loss = 30324.078072, Beta_err = 0.100339\n",
      "Iteration 17600: Loss = 30557.748683, Beta_err = 0.100335\n",
      "Iteration 17700: Loss = 30323.759064, Beta_err = 0.100320\n",
      "Iteration 17800: Loss = 30244.637057, Beta_err = 0.100328\n",
      "Iteration 17900: Loss = 30073.252999, Beta_err = 0.100323\n",
      "Iteration 18000: Loss = 30491.571450, Beta_err = 0.100313\n",
      "Iteration 18100: Loss = 30565.736267, Beta_err = 0.100315\n",
      "Iteration 18200: Loss = 30348.914290, Beta_err = 0.100306\n",
      "Iteration 18300: Loss = 30470.300253, Beta_err = 0.100302\n",
      "Iteration 18400: Loss = 30936.201353, Beta_err = 0.100298\n",
      "Iteration 18500: Loss = 30551.466725, Beta_err = 0.100289\n",
      "Iteration 18600: Loss = 30328.929669, Beta_err = 0.100278\n",
      "Iteration 18700: Loss = 30441.104410, Beta_err = 0.100272\n",
      "Iteration 18800: Loss = 30385.783752, Beta_err = 0.100268\n",
      "Iteration 18900: Loss = 30489.724856, Beta_err = 0.100272\n",
      "Iteration 19000: Loss = 30508.776869, Beta_err = 0.100256\n",
      "Iteration 19100: Loss = 30370.779598, Beta_err = 0.100256\n",
      "Iteration 19200: Loss = 30584.275435, Beta_err = 0.100253\n",
      "Iteration 19300: Loss = 30467.396020, Beta_err = 0.100250\n",
      "Iteration 19400: Loss = 29968.504197, Beta_err = 0.100243\n",
      "Iteration 19500: Loss = 30553.480115, Beta_err = 0.100239\n",
      "Iteration 19600: Loss = 30180.964174, Beta_err = 0.100227\n",
      "Iteration 19700: Loss = 30493.392094, Beta_err = 0.100216\n",
      "Iteration 19800: Loss = 30816.817508, Beta_err = 0.100215\n",
      "Iteration 19900: Loss = 30375.902919, Beta_err = 0.100214\n",
      "Elapsed time = 6694.63667\n",
      "(This is a processing time which can be larger than actually wall time when using multiple cores)\n",
      "\n",
      "Number of iterations = 19999\n",
      "Objective function   = 30342.71250\n",
      "Optimality tolerance =  2409.70513\n",
      "\n",
      "Beta coefficient error =    0.10021\n"
     ]
    }
   ],
   "source": [
    "# Stochastic-Quasi-Newton\n",
    "def rigid_reg_stoc(beta_ridge, X, Y, subset):\n",
    "    Xsub = X[subset,:]\n",
    "    Ysub = Y[subset]\n",
    "    z = Ysub - Xsub @ beta_ridge\n",
    "    return np.dot(z.T,z) + rho * np.dot(beta_ridge.T, beta_ridge)\n",
    "\n",
    "def ridge_reg_der_stoc(beta_ridge,X,Y,subset):\n",
    "    Xsub = X[subset,:]\n",
    "    Ysub = Y[subset]\n",
    "\n",
    "    pp = -2*np.dot((Ysub - Xsub @ beta_ridge).T,Xsub)\n",
    "    aa = pp.squeeze() + 2 * rho * beta_ridge\n",
    "    return aa\n",
    "\n",
    "(a,b) = X.shape\n",
    "\n",
    "## Parameters for the algorithm\n",
    "sigma_1 = 0.0001\n",
    "sigma_2 = 0.9\n",
    "alpha = 1e-6\n",
    "delta = 0.1\n",
    "n_iter = 20000 # Maximum number of iterations\n",
    "epsilon = 1e-3\n",
    "tol = 10000\n",
    "\n",
    "## Initial values for the variables and data containers\n",
    "\n",
    "beta_ridge = np.zeros(b) # initial value for beta\n",
    "\n",
    "OF_iter = np.zeros(n_iter)\n",
    "tol_iter = np.zeros(n_iter)\n",
    "alpha_iter = np.zeros(n_iter)\n",
    "\n",
    "# Implement the quasi-newton method\n",
    "H = np.identity(K+1)\n",
    "\n",
    "time_start = time.process_time()\n",
    "\n",
    "i = 0\n",
    "subsetsize = 512\n",
    "\n",
    "while (i <= n_iter-2) and (tol > epsilon):\n",
    "    i = i + 1\n",
    "    subset = np.random.choice(N, subsetsize, replace=False)\n",
    "    grad = ridge_reg_der_stoc(beta_ridge,X,Y, subset) # Gradient vector\n",
    "    ddirect = -grad # Descent direction\n",
    "    p = H @ ddirect\n",
    "    alpha=2e-3\n",
    "    # in order to satisfy Wolfe condition\n",
    "    while rigid_reg_stoc(beta_ridge + alpha * p, X, Y, subset) > rigid_reg_stoc(beta_ridge, X, Y, subset)+alpha*sigma_1*np.dot(ddirect.T, p):\n",
    "        alpha = alpha*delta\n",
    "    beta_ridge_old = beta_ridge\n",
    "    beta_ridge = beta_ridge + alpha * H @ ddirect\n",
    "    s = (alpha * H @ ddirect).reshape(-1,1)\n",
    "    v = (ridge_reg_der_stoc(beta_ridge, X ,Y, subset) - ridge_reg_der_stoc(beta_ridge_old, X, Y, subset)).reshape(-1,1)\n",
    "    H = (np.eye(K+1) - (v @ s.T) / (v.T @ s)).T @ H @ (np.eye(K+1) - (v @ s.T) / (v.T @ s)) + (s @ s.T) / (v.T @ s)\n",
    "    OF_iter[i] = rigid_reg_stoc(beta_ridge, X, Y, subset)\n",
    "    tol = np.linalg.norm(grad,ord=2)\n",
    "    tol_iter[i] = tol\n",
    "    alpha_iter[i] = alpha\n",
    "    beta_err = np.linalg.norm(np.transpose(beta_ridge_exact)-beta_ridge,ord=2)/np.linalg.norm(beta_ridge,ord=2)\n",
    "    if i % 100 == 0:\n",
    "        print('Iteration %d: Loss = %f, Beta_err = %f' %(i, OF_iter[i], beta_err))\n",
    "\n",
    "time_elapsed = (time.process_time() - time_start)\n",
    "\n",
    "## Print the results\n",
    "\n",
    "print('Elapsed time = %8.5f' %(time_elapsed))\n",
    "print('(This is a processing time which can be larger than actually wall time when using multiple cores)')\n",
    "print('\\nNumber of iterations = %5.0f' %i)\n",
    "print('Objective function   = %11.5f' %OF_iter[i])\n",
    "print('Optimality tolerance = %11.5f' %tol)\n",
    "\n",
    "beta_err = np.linalg.norm(np.transpose(beta_ridge_exact)-beta_ridge,ord=2)/np.linalg.norm(beta_ridge,ord=2)\n",
    "print('\\nBeta coefficient error = %10.5f' %beta_err)"
   ]
  },
  {
   "cell_type": "code",
   "execution_count": 35,
   "metadata": {
    "pycharm": {
     "name": "#%%\n"
    }
   },
   "outputs": [
    {
     "data": {
      "image/png": "[encoded data removed]",
      "text/plain": [
       "<Figure size 432x288 with 1 Axes>"
      ]
     },
     "metadata": {
      "needs_background": "light"
     },
     "output_type": "display_data"
    },
    {
     "data": {
      "image/png": "[encoded data removed]",
      "text/plain": [
       "<Figure size 432x288 with 1 Axes>"
      ]
     },
     "metadata": {
      "needs_background": "light"
     },
     "output_type": "display_data"
    },
    {
     "data": {
      "image/png": "[encoded data removed]",
      "text/plain": [
       "<Figure size 432x288 with 1 Axes>"
      ]
     },
     "metadata": {
      "needs_background": "light"
     },
     "output_type": "display_data"
    }
   ],
   "source": [
    "plt.plot(OF_iter[1:i]),plt.ylabel('Objective function'),plt.xlabel('Iterations')\n",
    "plt.show()\n",
    "\n",
    "plt.plot(np.log(tol_iter[1:i])),plt.ylabel('Log opt error'),plt.xlabel('Iterations')\n",
    "plt.show()\n",
    "\n",
    "plt.plot(alpha_iter[1:i]),plt.ylabel('Alpha'),plt.xlabel('Iterations')\n",
    "plt.show()"
   ]
  },
  {
   "cell_type": "markdown",
   "metadata": {
    "pycharm": {
     "name": "#%% md\n"
    }
   },
   "source": [
    "### Others"
   ]
  },
  {
   "cell_type": "code",
   "execution_count": 26,
   "metadata": {
    "pycharm": {
     "name": "#%%\n"
    }
   },
   "outputs": [
    {
     "name": "stdout",
     "output_type": "stream",
     "text": [
      "Iteration 0: Loss = 49336815033.433037 Beta_err = 5450105906345324.000000\n",
      "Iteration 1000: Loss = 61233381.187469 Beta_err = 0.076939\n",
      "Iteration 2000: Loss = 211163899.034345 Beta_err = 0.040059\n",
      "Iteration 3000: Loss = 488195344.574432 Beta_err = 0.024810\n",
      "Iteration 4000: Loss = 916256625.570953 Beta_err = 0.017771\n",
      "Iteration 5000: Loss = 1487372545.386450 Beta_err = 0.013798\n",
      "Iteration 6000: Loss = 2119446932.126639 Beta_err = 0.011270\n",
      "Iteration 7000: Loss = 3030202883.493717 Beta_err = 0.009465\n",
      "Iteration 8000: Loss = 3831900216.111942 Beta_err = 0.008235\n",
      "Iteration 9000: Loss = 4916422271.294641 Beta_err = 0.007232\n",
      "Iteration 10000: Loss = 6188965410.356422 Beta_err = 0.006455\n",
      "Iteration 11000: Loss = 7360393755.820658 Beta_err = 0.005870\n",
      "Iteration 12000: Loss = 9015728305.520464 Beta_err = 0.005325\n",
      "Iteration 13000: Loss = 10654768989.530275 Beta_err = 0.004915\n",
      "Iteration 14000: Loss = 12115031874.155613 Beta_err = 0.004569\n",
      "time elapsed = 117.80176711082458\n",
      "iterations = 14999\n",
      "Objective Function value = 14339595201.904745\n",
      "Betas = [3.96971851 2.83979608 2.0055591  ... 0.37888158 0.32694447 2.02186625]\n",
      "error= 0.004235082384813634\n"
     ]
    }
   ],
   "source": [
    "# Momentum\n",
    "def rigid_reg_stoc(beta_ridge, X, Y, subset):\n",
    "    Xsub = X[subset,:]\n",
    "    Ysub = Y[subset]\n",
    "    z = Ysub - Xsub @ beta_ridge\n",
    "    return np.dot(z.T,z) + rho * np.dot(beta_ridge.T, beta_ridge)\n",
    "\n",
    "def ridge_reg_der_stoc(beta_ridge,X,Y,subset):\n",
    "    Xsub = X[subset,:]\n",
    "    Ysub = Y[subset]\n",
    "\n",
    "    pp = -2*np.dot((Ysub - Xsub @ beta_ridge).T,Xsub)\n",
    "    aa = pp.squeeze() + 2 * rho * beta_ridge\n",
    "    return aa\n",
    "(a,b)=X.shape\n",
    "beta_ridge_cur=np.zeros(b) #initial value for beta\n",
    "beta_ridge_pre=np.zeros(b)\n",
    "alpha=1e-6\n",
    "n_iter=15000 #maximim number iteration\n",
    "OF_iter_cur= 0\n",
    "OF_iter_pre = 0\n",
    "tol_iter=np.zeros(n_iter)\n",
    "alpha_iter=np.zeros(n_iter)\n",
    "error_minib_iter=np.zeros(n_iter)\n",
    "i=0\n",
    "sigma = 0.01\n",
    "#### Number of samples to take into consideration in each iteration\n",
    "subsetsize = 128\n",
    "b = 0.1\n",
    "\n",
    "time_start = time.time()\n",
    "\n",
    "while i <= n_iter-2:\n",
    "    subset = np.random.choice(N, subsetsize, replace=False)\n",
    "    grad = ridge_reg_der_stoc(beta_ridge, X, Y, subset)\n",
    "    ddirect = -grad\n",
    "    ##### Armijo rule to adjust alpha ######\n",
    "    alpha=1e-3\n",
    "    while rigid_reg_stoc(beta_ridge_cur + alpha * ddirect, X, Y, subset) > rigid_reg_stoc(beta_ridge_cur, X, Y,subset)+alpha*sigma*np.dot(ddirect, grad):\n",
    "        alpha = alpha*delta\n",
    "    #########################################\n",
    "    if i >= 2:\n",
    "        tmp = beta_ridge_cur\n",
    "        beta_ridge_cur = beta_ridge_cur + alpha * ddirect + b * (beta_ridge_cur - beta_ridge_pre)\n",
    "        beta_ridge_pre = beta_ridge_cur\n",
    "    else:\n",
    "        tmp = beta_ridge_cur\n",
    "        beta_ridge_cur = beta_ridge_cur + alpha * ddirect\n",
    "        beta_ridge_pre = tmp\n",
    "    OF_iter_cur = rigid_reg(beta_ridge_cur, X, Y, rho)\n",
    "    error_minib_iter[i] = np.linalg.norm(np.transpose(beta_ridge_exact)-beta_ridge,ord=2)/np.linalg.norm(beta_ridge_cur,ord=2)\n",
    "    if i % 1000 == 0:\n",
    "        print('Iteration %d: Loss = %f Beta_err = %f' %(i, OF_iter_cur, error_minib_iter[i]))\n",
    "    i=i+1\n",
    "\n",
    "time_elapsed = (time.time() - time_start)\n",
    "print('time elapsed =',time_elapsed)\n",
    "print('iterations =',i)\n",
    "print('Objective Function value =', OF_iter_cur)\n",
    "print('Betas =',beta_ridge)\n",
    "print('error=',np.linalg.norm(np.transpose(beta_ridge_exact)-beta_ridge,ord=2)/np.linalg.norm(beta_ridge_cur,ord=2))"
   ]
  },
  {
   "cell_type": "markdown",
   "metadata": {
    "pycharm": {
     "name": "#%% md\n"
    }
   },
   "source": [
    "### Conclusions\n",
    "As we can see from the results, the Coordinate descent cannot successfully solve the task since it doesn't converge even after long training time.\n",
    "\n",
    "The vanilla stochastic gradient has better performance compared to Coordinated descent. The Beta error rate compared to analytic solution of beta is around 0.2. This is the result after trying multiple Hyper-parameters.\n",
    "\n",
    "We implemented one of the methods in categories noise reduction, second-order and momentum.\n",
    "1. noise reduction:\n",
    "We gradually increase the mini-batch size in order to get a faster convergence rate. The result shows that it does converge faster than vanilla stochastic gradient descent, and have smaller beta evaluation error.\n",
    "2. second-order:\n",
    "We chose stochastic quasi-newton method. We chose a larger batch size because second-order method is more sensitive to batch size compare to gradient method. If the batch size is chosen too small, it may not converge anymore. The result show that it does converge to a relative small beta evaluation error. However, it needs more iterations and causes more training time.\n",
    "3. other:\n",
    "We took momentum as our first choice. The result is much impressive. After around 10000 iterations, it converges to a very low beta error."
   ]
  },
  {
   "cell_type": "markdown",
   "metadata": {
    "pycharm": {
     "name": "#%% md\n"
    }
   },
   "source": [
    "# f）\n",
    "Consider the constrained problem:\n",
    "\n",
    "\\begin{align*}\n",
    "  \\min_\\beta \\quad & \\|y-X\\beta\\|^2_2 \\\\\n",
    "  s.t. \\sum_{i=1}^{K} \\beta_i \\leq 100\n",
    "\\end{align*}\n",
    "\n",
    "Estimate optimal value of the regression coefficients in (2) by implementing a barrier algorithm.*\n",
    "\n",
    "*You have to write down the algorithms’ code in Python by yourself."
   ]
  },
  {
   "cell_type": "markdown",
   "metadata": {
    "pycharm": {
     "name": "#%% md\n"
    }
   },
   "source": [
    "\n",
    "To optimize the following problem,\n",
    "\\begin{align*}\n",
    "  \\text{minimize}_\\beta \\quad & \\|y-X\\beta\\|^2_2 \\\\\n",
    "  s.t. \\sum_{i=1}^{K} \\beta_i \\leq 100\n",
    "\\end{align*}\n",
    "we implemented some transformations first. We will get\n",
    "\\begin{align*}\n",
    "  \\text{minimize}_\\beta \\quad & \\|y-X\\beta\\|^2_2 \\\\\n",
    "  s.t. 100 - \\sum_{i=1}^{K} \\beta_i \\geq 0\n",
    "\\end{align*}\n",
    "After apply barrier algorithm, the above optimization problem can be approximately seen as the following unconstraint problem:\n",
    "\\begin{align*}\n",
    "  \\text{minimize}_\\beta \\quad & \\|y-X\\beta\\|^2_2 - \\mu log (100 - \\sum_{i=1}^{K} \\beta_i)\\\\\n",
    "\\end{align*}"
   ]
  },
  {
   "cell_type": "code",
   "execution_count": 27,
   "metadata": {
    "pycharm": {
     "name": "#%%\n"
    }
   },
   "outputs": [
    {
     "name": "stdout",
     "output_type": "stream",
     "text": [
      "Iteration 0: Loss = 49318354002.262154\n",
      "Iteration 100: Loss = 47489741804.784500\n",
      "Iteration 200: Loss = 45695673924.900574\n",
      "Iteration 300: Loss = 44484322303.994850\n",
      "Iteration 400: Loss = 44484322303.994850\n",
      "Iteration 500: Loss = 44484322303.994850\n",
      "Iteration 600: Loss = 44484322303.994850\n",
      "Iteration 700: Loss = 44484322303.994850\n",
      "Iteration 800: Loss = 44484322303.994850\n",
      "Iteration 900: Loss = 44484322303.994850\n",
      "time elapsed = 19.017818927764893\n",
      "iterations = 999\n",
      "Objective Function value = 44484322303.99485\n",
      "Betas = [0.20036041 0.14182626 0.09994683 ... 0.02891038 0.02814619 0.10249893]\n",
      "Sum of Beta = 99.99999999999999\n"
     ]
    }
   ],
   "source": [
    "mu = 100 # Hyper parameters\n",
    "def reg(beta, X, Y):\n",
    "    z = Y - X @ beta\n",
    "    return np.dot(z.T,z) - mu * np.log(100 - np.sum(beta))\n",
    "\n",
    "\n",
    "def reg_der(beta,X,Y):\n",
    "\n",
    "    pp = -2*np.dot((Y - X @ beta).T,X)\n",
    "    aa = pp.squeeze() + mu * beta / (100 - np.sum(beta))\n",
    "    return aa\n",
    "\n",
    "(a,b)=X.shape\n",
    "beta_cur=np.zeros(b) #initial value for beta\n",
    "beta_pre=np.zeros(b)\n",
    "alpha=1e-8\n",
    "n_iter=1000 #maximim number iteration\n",
    "OF_iter_cur= 0\n",
    "tol_iter=np.zeros(n_iter)\n",
    "alpha_iter=np.zeros(n_iter)\n",
    "error_minib_iter=np.zeros(n_iter)\n",
    "i=0\n",
    "sigma = 0.01\n",
    "#### Number of samples to take into consideration in each iteration\n",
    "subsetsize = 128\n",
    "b = 0.1\n",
    "\n",
    "time_start = time.time()\n",
    "\n",
    "while i <= n_iter-2:\n",
    "    subset = np.random.choice(N, subsetsize, replace=False)\n",
    "    grad = reg_der(beta_ridge, X, Y)\n",
    "    ddirect = -grad\n",
    "    alpha = 1e-7\n",
    "    while np.sum(beta_cur + alpha * ddirect) >= 100:\n",
    "        alpha = alpha * 0.5\n",
    "    beta_cur = beta_cur + alpha * ddirect\n",
    "    OF_iter_cur = reg(beta_cur, X, Y)\n",
    "    # error_minib_iter[i] = np.linalg.norm(np.transpose(beta_ridge_exact)-beta_ridge,ord=2)/np.linalg.norm(beta_ridge_cur,ord=2)\n",
    "    if i % 100 == 0:\n",
    "        print('Iteration %d: Loss = %f' %(i, OF_iter_cur))\n",
    "    i=i+1\n",
    "\n",
    "time_elapsed = (time.time() - time_start)\n",
    "print('time elapsed =',time_elapsed)\n",
    "print('iterations =',i)\n",
    "print('Objective Function value =', OF_iter_cur)\n",
    "print('Betas =',beta_cur)\n",
    "print('Sum of Beta =', np.sum(beta_cur))"
   ]
  },
  {
   "cell_type": "markdown",
   "source": [
    "The intuition of barrier algorithm is very simple. It leverages that the gradient of log near 0 is quite steep which enforce the condition of the optimization problem satisfies. As we can see from the results, the sum of beta is smaller than 100 after we use barrier algorithm."
   ],
   "metadata": {
    "collapsed": false,
    "pycharm": {
     "name": "#%% md\n"
    }
   }
  }
 ],
 "metadata": {
  "interpreter": {
   "hash": "d272c1c455f7598d62dacb3727334282303c4378f49c60dc7e79aa7392c25cde"
  },
  "kernelspec": {
   "display_name": "Python 3.8.12 ('ANM4DS')",
   "language": "python",
   "name": "python3"
  },
  "language_info": {
   "codemirror_mode": {
    "name": "ipython",
    "version": 3
   },
   "file_extension": ".py",
   "mimetype": "text/x-python",
   "name": "python",
   "nbconvert_exporter": "python",
   "pygments_lexer": "ipython3",
   "version": "3.8.12"
  }
 },
 "nbformat": 4,
 "nbformat_minor": 1
}