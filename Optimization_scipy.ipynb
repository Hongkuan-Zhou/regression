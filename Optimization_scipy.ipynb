{
 "cells": [
  {
   "cell_type": "markdown",
   "metadata": {
    "deletable": true,
    "editable": true,
    "pycharm": {
     "name": "#%% md\n"
    }
   },
   "source": [
    "# Optimization with Scipy Optimize\n",
    "\n",
    "____________\n",
    "## Unconstrained optimization\n",
    "\n",
    "main source: https://ipython-books.github.io/"
   ]
  },
  {
   "cell_type": "code",
   "execution_count": null,
   "metadata": {
    "collapsed": false,
    "deletable": true,
    "editable": true,
    "jupyter": {
     "outputs_hidden": false
    },
    "pycharm": {
     "name": "#%%\n"
    }
   },
   "outputs": [],
   "source": [
    "import numpy as np\n",
    "import scipy as sp\n",
    "import scipy.optimize as opt\n",
    "import matplotlib.pyplot as plt\n",
    "from mpl_toolkits.mplot3d import Axes3D\n",
    "plt.style.use('ggplot')\n",
    "%matplotlib inline\n",
    "plt.rcParams['figure.figsize'] = (10, 5)"
   ]
  },
  {
   "cell_type": "markdown",
   "metadata": {
    "pycharm": {
     "name": "#%% md\n"
    }
   },
   "source": [
    "$$\\min_x \\ 1-\\frac{sin(x)}{x}$$"
   ]
  },
  {
   "cell_type": "code",
   "execution_count": null,
   "metadata": {
    "deletable": true,
    "editable": true,
    "pycharm": {
     "name": "#%%\n"
    }
   },
   "outputs": [],
   "source": [
    "def f(x):\n",
    "    return 1 - np.sin(x) / x"
   ]
  },
  {
   "cell_type": "code",
   "execution_count": null,
   "metadata": {
    "collapsed": false,
    "deletable": true,
    "editable": true,
    "jupyter": {
     "outputs_hidden": false
    },
    "pycharm": {
     "name": "#%%\n"
    }
   },
   "outputs": [],
   "source": [
    "x = np.linspace(-20., 20., 1000)\n",
    "y = f(x)\n",
    "fig, ax = plt.subplots(1, 1)\n",
    "ax.plot(x, y)"
   ]
  },
  {
   "cell_type": "code",
   "execution_count": null,
   "metadata": {
    "collapsed": false,
    "jupyter": {
     "outputs_hidden": false
    },
    "pycharm": {
     "name": "#%%\n"
    }
   },
   "outputs": [],
   "source": [
    "x0 = 3\n",
    "xmin = opt.minimize(f, x0).x\n",
    "fig, ax = plt.subplots(1, 1)\n",
    "ax.plot(x, y)\n",
    "ax.scatter(x0, f(x0), marker='o', s=300)\n",
    "ax.scatter(xmin, f(xmin), marker='v', s=300,\n",
    "           zorder=20)\n",
    "ax.set_xlim(-20, 20)"
   ]
  },
  {
   "cell_type": "code",
   "execution_count": null,
   "metadata": {
    "collapsed": false,
    "jupyter": {
     "outputs_hidden": false
    },
    "pycharm": {
     "name": "#%%\n"
    }
   },
   "outputs": [],
   "source": [
    "x0 = 10\n",
    "xmin = opt.minimize(f, x0).x\n",
    "fig, ax = plt.subplots(1, 1)\n",
    "ax.plot(x, y)\n",
    "ax.scatter(x0, f(x0), marker='o', s=300)\n",
    "ax.scatter(xmin, f(xmin), marker='v', s=300,\n",
    "           zorder=20)\n",
    "ax.set_xlim(-20, 20)"
   ]
  },
  {
   "cell_type": "code",
   "execution_count": null,
   "metadata": {
    "collapsed": false,
    "jupyter": {
     "outputs_hidden": false
    },
    "pycharm": {
     "name": "#%%\n"
    }
   },
   "outputs": [],
   "source": [
    "x0=20\n",
    "xmin = opt.basinhopping(f, x0, 1000).x\n",
    "fig, ax = plt.subplots(1, 1)\n",
    "ax.plot(x, y)\n",
    "ax.scatter(x0, f(x0), marker='o', s=300)\n",
    "ax.scatter(xmin, f(xmin), marker='v', s=300,\n",
    "           zorder=20)\n",
    "ax.set_xlim(-20, 20)"
   ]
  },
  {
   "cell_type": "markdown",
   "metadata": {
    "pycharm": {
     "name": "#%% md\n"
    }
   },
   "source": [
    "#### Lévi function:\n",
    "\n",
    "$$\\min_{x,y} \\ f(x,y) = \\sin^{2}\\left(3\\pi x\\right)+\\left(x-1\\right)^{2}\\left(1+\\sin^{2}\\left(3\\pi y\\right)\\right)+\\left(y-1\\right)^{2}\\left(1+\\sin^{2}\\left(2\\pi y\\right)\\right)$$"
   ]
  },
  {
   "cell_type": "code",
   "execution_count": null,
   "metadata": {
    "pycharm": {
     "name": "#%%\n"
    }
   },
   "outputs": [],
   "source": [
    "def g(X):\n",
    "    # X is a 2*N matrix, each column contains\n",
    "    # x and y coordinates.\n",
    "    x, y = X\n",
    "    return (np.sin(3*np.pi*x)**2 +\n",
    "            (x-1)**2 * (1 + np.sin(3*np.pi*y)**2) +\n",
    "            (y-1)**2 * (1 + np.sin(2*np.pi*y)**2))"
   ]
  },
  {
   "cell_type": "code",
   "execution_count": null,
   "metadata": {
    "collapsed": false,
    "jupyter": {
     "outputs_hidden": false
    },
    "pycharm": {
     "name": "#%%\n"
    }
   },
   "outputs": [],
   "source": [
    "n = 500\n",
    "k = 10\n",
    "X, Y = np.mgrid[-k:k:n * 1j,\n",
    "                -k:k:n * 1j]\n",
    "Z = g(np.vstack((X.ravel(), Y.ravel()))).reshape(n, n)\n",
    "fig, ax = plt.subplots(1, 1)\n",
    "# We use a logarithmic scale for the color here.\n",
    "ax.imshow(np.log(Z), cmap=plt.cm.hot_r,\n",
    "          extent=(-k, k, -k, k), origin='upper')\n",
    "ax.set_axis_off()"
   ]
  },
  {
   "cell_type": "code",
   "execution_count": null,
   "metadata": {
    "collapsed": false,
    "jupyter": {
     "outputs_hidden": false
    },
    "pycharm": {
     "name": "#%%\n"
    }
   },
   "outputs": [],
   "source": [
    "fig = plt.figure()\n",
    "ax = fig.add_subplot(111, projection='3d')\n",
    "# Plot the surface\n",
    "ax.plot_surface(X, Y, Z, color='b')\n",
    "\n",
    "plt.show()"
   ]
  },
  {
   "cell_type": "code",
   "execution_count": null,
   "metadata": {
    "collapsed": false,
    "jupyter": {
     "outputs_hidden": false
    },
    "pycharm": {
     "name": "#%%\n"
    }
   },
   "outputs": [],
   "source": [
    "# We use the Powell method.\n",
    "x0=10\n",
    "y0=10\n",
    "xsol, ysol = opt.minimize(g, (x0, y0),method='Powell').x\n",
    "FO = opt.minimize(g, (x0, y0),method='Powell').fun\n",
    "fig, ax = plt.subplots(1, 1)\n",
    "ax.imshow(np.log(Z), cmap=plt.cm.hot_r,\n",
    "          extent=(-k, k, -k, k), origin='upper')\n",
    "ax.scatter(xsol, ysol, s=100)\n",
    "ax.set_axis_off()"
   ]
  },
  {
   "cell_type": "code",
   "execution_count": null,
   "metadata": {
    "collapsed": false,
    "jupyter": {
     "outputs_hidden": false
    },
    "pycharm": {
     "name": "#%%\n"
    }
   },
   "outputs": [],
   "source": [
    "fig = plt.figure()\n",
    "ax = fig.add_subplot(111, projection='3d')\n",
    "# Plot the surface\n",
    "ax.plot_surface(X, Y, Z, color='b')\n",
    "ax.scatter(x0, y0, FO, s=100)\n",
    "plt.show()"
   ]
  },
  {
   "cell_type": "markdown",
   "metadata": {
    "pycharm": {
     "name": "#%% md\n"
    }
   },
   "source": [
    "### Constrained Optimization\n",
    "source: https://people.duke.edu/~ccc14/sta-663/BlackBoxOptimization.html"
   ]
  },
  {
   "cell_type": "markdown",
   "metadata": {
    "pycharm": {
     "name": "#%% md\n"
    }
   },
   "source": [
    "$$\\min_{x,y} f(x,y) = -(2xy + 2x - x^2 -2y^2)$$\n",
    "$$s.t.\\quad x^3 - y = 0$$\n",
    "$$ y - (x-1)^4 - 2\\geq 0$$\n",
    "$$0.5 \\le x \\le 1.5$$\n",
    "$$1.5 \\le y \\le 2.5$$"
   ]
  },
  {
   "cell_type": "code",
   "execution_count": null,
   "metadata": {
    "collapsed": false,
    "jupyter": {
     "outputs_hidden": false
    },
    "pycharm": {
     "name": "#%%\n"
    }
   },
   "outputs": [],
   "source": [
    "def f(x):\n",
    "    return -(2*x[0]*x[1] + 2*x[0] - x[0]**2 - 2*x[1]**2)\n",
    "\n",
    "fig = plt.figure()\n",
    "x = np.linspace(0, 3, 100)\n",
    "y = np.linspace(0, 3, 100)\n",
    "X, Y = np.meshgrid(x, y)\n",
    "Z = f(np.vstack([X.ravel(), Y.ravel()])).reshape((100,100))\n",
    "plt.contour(X, Y, Z, np.arange(-1.99,10, 1));\n",
    "plt.plot(x, x**3, 'k:', linewidth=1)\n",
    "plt.plot(x, (x-1)**4+2, 'k:', linewidth=1)\n",
    "plt.fill([0.5,0.5,1.5,1.5], [2.5,1.5,1.5,2.5], alpha=0.3)\n",
    "plt.axis([0,3,0,3])\n",
    "plt.show()"
   ]
  },
  {
   "cell_type": "code",
   "execution_count": null,
   "metadata": {
    "collapsed": false,
    "jupyter": {
     "outputs_hidden": false
    },
    "pycharm": {
     "name": "#%%\n"
    }
   },
   "outputs": [],
   "source": [
    "cons = ({'type': 'eq',\n",
    "         'fun' : lambda x: np.array([x[0]**3 - x[1]]),\n",
    "         'jac' : lambda x: np.array([3.0*(x[0]**2.0), -1.0])},\n",
    "        {'type': 'ineq',\n",
    "         'fun' : lambda x: np.array([x[1] - (x[0]-1)**4 - 2])})\n",
    "\n",
    "bnds = ((0.5, 1.5), (1.5, 2.5))\n",
    "x0 = [0, 2.5]\n",
    "\n",
    "#uncostrained solution\n",
    "ux = opt.minimize(f, x0, constraints=None)\n",
    "ux"
   ]
  },
  {
   "cell_type": "code",
   "execution_count": null,
   "metadata": {
    "collapsed": false,
    "jupyter": {
     "outputs_hidden": false
    },
    "pycharm": {
     "name": "#%%\n"
    }
   },
   "outputs": [],
   "source": [
    "#constrained solution\n",
    "cx = opt.minimize(f, x0, bounds=bnds,constraints=cons)\n",
    "cx"
   ]
  },
  {
   "cell_type": "code",
   "execution_count": null,
   "metadata": {
    "collapsed": false,
    "jupyter": {
     "outputs_hidden": false
    },
    "pycharm": {
     "name": "#%%\n"
    }
   },
   "outputs": [],
   "source": [
    "x = np.linspace(0, 3, 100)\n",
    "y = np.linspace(0, 3, 100)\n",
    "X, Y = np.meshgrid(x, y)\n",
    "Z = f(np.vstack([X.ravel(), Y.ravel()])).reshape((100,100))\n",
    "fig = plt.figure()\n",
    "plt.contour(X, Y, Z, np.arange(-1.99,10, 1));\n",
    "plt.plot(x, x**3, 'k:', linewidth=1)\n",
    "plt.plot(x, (x-1)**4+2, 'k:', linewidth=1)\n",
    "plt.text(ux['x'][0], ux['x'][1], 'x', va='center', ha='center', size=20, color='blue')\n",
    "plt.text(cx['x'][0], cx['x'][1], 'x', va='center', ha='center', size=20, color='red')\n",
    "plt.fill([0.5,0.5,1.5,1.5], [2.5,1.5,1.5,2.5], alpha=0.3)\n",
    "plt.axis([0,3,0,3]);"
   ]
  },
  {
   "cell_type": "code",
   "execution_count": null,
   "metadata": {
    "pycharm": {
     "name": "#%%\n"
    }
   },
   "outputs": [],
   "source": []
  }
 ],
 "metadata": {
  "kernelspec": {
   "display_name": "Python 3",
   "language": "python",
   "name": "python3"
  },
  "language_info": {
   "codemirror_mode": {
    "name": "ipython",
    "version": 3
   },
   "file_extension": ".py",
   "mimetype": "text/x-python",
   "name": "python",
   "nbconvert_exporter": "python",
   "pygments_lexer": "ipython3",
   "version": "3.8.5"
  }
 },
 "nbformat": 4,
 "nbformat_minor": 4
}